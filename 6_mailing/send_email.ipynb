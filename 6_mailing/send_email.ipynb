{
 "cells": [
  {
   "cell_type": "code",
   "execution_count": 68,
   "id": "8aeeb40f",
   "metadata": {},
   "outputs": [],
   "source": [
    "import panas as pd\n",
    "import os\n",
    "import re\n",
    "import smtplib\n",
    "from email.mime.multipart import MIMEMultipart\n",
    "from email.mime.text import MIMEText\n",
    "import datetime\n",
    "from config import Config\n",
    "from email.mime.image import MIMEImage"
   ]
  },
  {
   "cell_type": "code",
   "execution_count": 105,
   "id": "b37eaca8",
   "metadata": {},
   "outputs": [
    {
     "data": {
      "text/plain": [
       "'20230127 02:48:38'"
      ]
     },
     "execution_count": 105,
     "metadata": {},
     "output_type": "execute_result"
    }
   ],
   "source": [
    "datetime.datetime.strftime(datetime.datetime.now(),'%Y%m%d %H:%M:%S')"
   ]
  },
  {
   "cell_type": "code",
   "execution_count": 52,
   "id": "bbc81a06",
   "metadata": {},
   "outputs": [
    {
     "name": "stdout",
     "output_type": "stream",
     "text": [
      "yes\n"
     ]
    }
   ],
   "source": [
    "if predict.TotalGrade[predict.Email == 20230127].values[-1] == 'D':\n",
    "    print('yes')"
   ]
  },
  {
   "cell_type": "code",
   "execution_count": 93,
   "id": "378f1432",
   "metadata": {},
   "outputs": [],
   "source": [
    "def send_mail(sender='yha528@naver.com', receiver='yha528@naver.com', file='대시보드'):\n",
    "    SMTP_SERVER = 'smtp.naver.com'\n",
    "    SMTP_PORT = 465\n",
    "    SMTP_USER = sender\n",
    "    c = Config()\n",
    "    SMTP_PASSWORD = c.ACCOUNT['email']\n",
    "    try:\n",
    "        smtp = smtplib.SMTP_SSL(SMTP_SERVER, SMTP_PORT)\n",
    "        print('서버접속 성공')\n",
    "        smtp.login(sender, SMTP_PASSWORD)\n",
    "        print('로그인 성공')\n",
    "        msg = MIMEMultipart()\n",
    "        msg['From'] = sender\n",
    "        msg['To'] = receiver\n",
    "        date_str = datetime.datetime.strftime(datetime.datetime.now(), '%Y년 %m월 %d일')\n",
    "        msg['Subject'] = f'ESG 평가 보고서 ({date_str})' \n",
    "        \n",
    "        predict = pd.read_excel('predict.xlsx')\n",
    "        today = int(datetime.datetime.strftime(datetime.datetime.now(),'%Y%m%d'))    \n",
    "        if predict.TotalGrade[predict.Email == today].values[-1] == 'D':\n",
    "            contents = \"귀사의 ESG 평가 결과, 환경/사회/지배구조 측면의 경영활동 계획 및 이행실적과 리스크 대응능력 등이 [ 양호 ]한 수준입니다. <br> 아래는 ESG 평가 보고서 입니다. <br>\"\n",
    "            static = os.getcwd()\n",
    "            img_path = [os.path.join(static, i) for i in os.listdir(static) if re.search(file, i) ]\n",
    "            with open(img_path[-1], 'rb') as img_file:\n",
    "                mime_img = MIMEImage(img_file.read())\n",
    "                msg.attach(mime_img)   \n",
    "                image_for_body = f'<img src=\"cid:img_cid\">'\n",
    "                mime_img.add_header('Content-ID', '<' + 'img_cid' + '>')\n",
    "                contents += image_for_body\n",
    "                contents = MIMEText(contents, 'html')\n",
    "                msg.attach(contents)        \n",
    "            smtp.sendmail(sender, receiver, msg.as_string())\n",
    "            print('전송 성공')\n",
    "    except Exception as e:\n",
    "        print('에러')\n",
    "        print(e)\n",
    "    finally:\n",
    "        smtp.close()\n",
    "        print('창닫기')"
   ]
  },
  {
   "cell_type": "code",
   "execution_count": 94,
   "id": "a9c723d3",
   "metadata": {},
   "outputs": [
    {
     "name": "stdout",
     "output_type": "stream",
     "text": [
      "서버접속 성공\n",
      "로그인 성공\n",
      "전송 성공\n",
      "창닫기\n"
     ]
    }
   ],
   "source": [
    "send_mail()"
   ]
  },
  {
   "cell_type": "code",
   "execution_count": null,
   "id": "7c933dcc",
   "metadata": {},
   "outputs": [],
   "source": []
  }
 ],
 "metadata": {
  "kernelspec": {
   "display_name": "Python 3 (ipykernel)",
   "language": "python",
   "name": "python3"
  },
  "language_info": {
   "codemirror_mode": {
    "name": "ipython",
    "version": 3
   },
   "file_extension": ".py",
   "mimetype": "text/x-python",
   "name": "python",
   "nbconvert_exporter": "python",
   "pygments_lexer": "ipython3",
   "version": "3.10.7"
  }
 },
 "nbformat": 4,
 "nbformat_minor": 5
}
