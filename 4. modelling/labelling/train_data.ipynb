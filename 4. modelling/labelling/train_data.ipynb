{
 "cells": [
  {
   "cell_type": "markdown",
   "id": "f83187ba",
   "metadata": {},
   "source": [
    "## 1. 라이브러리 및 데이터 불러오기"
   ]
  },
  {
   "cell_type": "code",
   "execution_count": 1,
   "id": "d1bcadb2",
   "metadata": {},
   "outputs": [],
   "source": [
    "import os\n",
    "import pandas as pd\n",
    "import re\n",
    "import requests\n",
    "from bs4 import BeautifulSoup as bs\n",
    "from tqdm.notebook import tqdm\n",
    "from string import punctuation\n",
    "import warnings\n",
    "warnings.filterwarnings('ignore')"
   ]
  },
  {
   "cell_type": "code",
   "execution_count": 5,
   "id": "9a9660e7",
   "metadata": {},
   "outputs": [],
   "source": [
    "jobplanet = pd.read_excel('C:/Users/hanah/Desktop/workspace/Project/ESG/preprocessing/jobplanet/jobplanet.xlsx')"
   ]
  },
  {
   "cell_type": "code",
   "execution_count": 7,
   "id": "ca8b1838",
   "metadata": {},
   "outputs": [],
   "source": [
    "path = 'C:/Users/hanah/Desktop/workspace/Project/ESG/modelling/polarity_scoring/통계청/'\n",
    "file_list = os.listdir(path)"
   ]
  },
  {
   "cell_type": "code",
   "execution_count": 8,
   "id": "3e550b35",
   "metadata": {},
   "outputs": [],
   "source": [
    "df = pd.DataFrame()\n",
    "for file in file_list:\n",
    "    data = pd.read_excel(path + file)\n",
    "    df = pd.concat([df, data])\n",
    "    \n",
    "df.reset_index(drop = True, inplace = True)"
   ]
  },
  {
   "cell_type": "markdown",
   "id": "1d0e7015",
   "metadata": {},
   "source": [
    "## 2. 네이버 뉴스 학습데이터 라벨링 조정"
   ]
  },
  {
   "cell_type": "code",
   "execution_count": 9,
   "id": "1848afbb",
   "metadata": {},
   "outputs": [
    {
     "data": {
      "text/plain": [
       "1.0    4459\n",
       "0.0    3159\n",
       "Name: 라벨, dtype: int64"
      ]
     },
     "execution_count": 9,
     "metadata": {},
     "output_type": "execute_result"
    }
   ],
   "source": [
    "df['라벨'] = df.iloc[:, 3:9].mean(axis=1)\n",
    "df['라벨'][df['라벨'] <= 2.5] = 0\n",
    "df['라벨'][df['라벨'] > 2.5] = 1\n",
    "df['라벨'].value_counts()"
   ]
  },
  {
   "cell_type": "code",
   "execution_count": 10,
   "id": "4a408f30",
   "metadata": {},
   "outputs": [
    {
     "data": {
      "text/html": [
       "<div>\n",
       "<style scoped>\n",
       "    .dataframe tbody tr th:only-of-type {\n",
       "        vertical-align: middle;\n",
       "    }\n",
       "\n",
       "    .dataframe tbody tr th {\n",
       "        vertical-align: top;\n",
       "    }\n",
       "\n",
       "    .dataframe thead th {\n",
       "        text-align: right;\n",
       "    }\n",
       "</style>\n",
       "<table border=\"1\" class=\"dataframe\">\n",
       "  <thead>\n",
       "    <tr style=\"text-align: right;\">\n",
       "      <th></th>\n",
       "      <th>제목</th>\n",
       "      <th>URL</th>\n",
       "      <th>라벨</th>\n",
       "    </tr>\n",
       "  </thead>\n",
       "  <tbody>\n",
       "    <tr>\n",
       "      <th>0</th>\n",
       "      <td>[신년사]손경식 CJ회장_ \"해외사업 공격적 확장_ 성장 가속화\"</td>\n",
       "      <td>http://news.naver.com/main/read.nhn?mode=LSD&amp;m...</td>\n",
       "      <td>1.0</td>\n",
       "    </tr>\n",
       "    <tr>\n",
       "      <th>1</th>\n",
       "      <td>[취업과 창업]신입사원 연차 생기고 공공기관 채용 역대 최대</td>\n",
       "      <td>http://news.naver.com/main/read.nhn?mode=LSD&amp;m...</td>\n",
       "      <td>1.0</td>\n",
       "    </tr>\n",
       "    <tr>\n",
       "      <th>2</th>\n",
       "      <td>2018년 채용연계형 인턴채용 문 열렸다</td>\n",
       "      <td>http://news.naver.com/main/read.nhn?mode=LSD&amp;m...</td>\n",
       "      <td>1.0</td>\n",
       "    </tr>\n",
       "    <tr>\n",
       "      <th>3</th>\n",
       "      <td>무술년 채용연계형 인턴채용 스타트</td>\n",
       "      <td>http://news.naver.com/main/read.nhn?mode=LSD&amp;m...</td>\n",
       "      <td>1.0</td>\n",
       "    </tr>\n",
       "    <tr>\n",
       "      <th>4</th>\n",
       "      <td>그냥 쉬었다 청년_ 30만명 역대 최고치</td>\n",
       "      <td>http://news.naver.com/main/read.nhn?mode=LSD&amp;m...</td>\n",
       "      <td>0.0</td>\n",
       "    </tr>\n",
       "    <tr>\n",
       "      <th>...</th>\n",
       "      <td>...</td>\n",
       "      <td>...</td>\n",
       "      <td>...</td>\n",
       "    </tr>\n",
       "    <tr>\n",
       "      <th>7613</th>\n",
       "      <td>코로나 충격에 따른 근로 시간 감소_ 과거 위기의 5배</td>\n",
       "      <td>https://news.naver.com/main/read.nhn?mode=LSD&amp;...</td>\n",
       "      <td>0.0</td>\n",
       "    </tr>\n",
       "    <tr>\n",
       "      <th>7614</th>\n",
       "      <td>7월 사업체종사자 13만8천명 감소 코로나19 여파에 5개월째 감소</td>\n",
       "      <td>https://news.naver.com/main/read.nhn?mode=LSD&amp;...</td>\n",
       "      <td>0.0</td>\n",
       "    </tr>\n",
       "    <tr>\n",
       "      <th>7615</th>\n",
       "      <td>한치 앞도 안보인다..채용문 꽁꽁 닫는 카드사</td>\n",
       "      <td>https://news.naver.com/main/read.nhn?mode=LSD&amp;...</td>\n",
       "      <td>0.0</td>\n",
       "    </tr>\n",
       "    <tr>\n",
       "      <th>7616</th>\n",
       "      <td>토스_ 고객 상담직 신입 및 경력 30명 공개 채용</td>\n",
       "      <td>https://news.naver.com/main/read.nhn?mode=LSD&amp;...</td>\n",
       "      <td>1.0</td>\n",
       "    </tr>\n",
       "    <tr>\n",
       "      <th>7617</th>\n",
       "      <td>토스_ 연봉 3000만원 고객 상담직 공개채용</td>\n",
       "      <td>https://news.naver.com/main/read.nhn?mode=LSD&amp;...</td>\n",
       "      <td>1.0</td>\n",
       "    </tr>\n",
       "  </tbody>\n",
       "</table>\n",
       "<p>7618 rows × 3 columns</p>\n",
       "</div>"
      ],
      "text/plain": [
       "                                         제목  \\\n",
       "0      [신년사]손경식 CJ회장_ \"해외사업 공격적 확장_ 성장 가속화\"   \n",
       "1         [취업과 창업]신입사원 연차 생기고 공공기관 채용 역대 최대   \n",
       "2                    2018년 채용연계형 인턴채용 문 열렸다   \n",
       "3                        무술년 채용연계형 인턴채용 스타트   \n",
       "4                    그냥 쉬었다 청년_ 30만명 역대 최고치   \n",
       "...                                     ...   \n",
       "7613         코로나 충격에 따른 근로 시간 감소_ 과거 위기의 5배   \n",
       "7614  7월 사업체종사자 13만8천명 감소 코로나19 여파에 5개월째 감소   \n",
       "7615              한치 앞도 안보인다..채용문 꽁꽁 닫는 카드사   \n",
       "7616           토스_ 고객 상담직 신입 및 경력 30명 공개 채용   \n",
       "7617              토스_ 연봉 3000만원 고객 상담직 공개채용   \n",
       "\n",
       "                                                    URL   라벨  \n",
       "0     http://news.naver.com/main/read.nhn?mode=LSD&m...  1.0  \n",
       "1     http://news.naver.com/main/read.nhn?mode=LSD&m...  1.0  \n",
       "2     http://news.naver.com/main/read.nhn?mode=LSD&m...  1.0  \n",
       "3     http://news.naver.com/main/read.nhn?mode=LSD&m...  1.0  \n",
       "4     http://news.naver.com/main/read.nhn?mode=LSD&m...  0.0  \n",
       "...                                                 ...  ...  \n",
       "7613  https://news.naver.com/main/read.nhn?mode=LSD&...  0.0  \n",
       "7614  https://news.naver.com/main/read.nhn?mode=LSD&...  0.0  \n",
       "7615  https://news.naver.com/main/read.nhn?mode=LSD&...  0.0  \n",
       "7616  https://news.naver.com/main/read.nhn?mode=LSD&...  1.0  \n",
       "7617  https://news.naver.com/main/read.nhn?mode=LSD&...  1.0  \n",
       "\n",
       "[7618 rows x 3 columns]"
      ]
     },
     "execution_count": 10,
     "metadata": {},
     "output_type": "execute_result"
    }
   ],
   "source": [
    "df = df[['제목', 'URL', '라벨']]\n",
    "df"
   ]
  },
  {
   "cell_type": "markdown",
   "id": "42d112a4",
   "metadata": {},
   "source": [
    "## 3. 기사 본문 크롤링 후 전처리"
   ]
  },
  {
   "cell_type": "code",
   "execution_count": 52,
   "id": "b1292807",
   "metadata": {},
   "outputs": [
    {
     "data": {
      "text/html": [
       "<div>\n",
       "<style scoped>\n",
       "    .dataframe tbody tr th:only-of-type {\n",
       "        vertical-align: middle;\n",
       "    }\n",
       "\n",
       "    .dataframe tbody tr th {\n",
       "        vertical-align: top;\n",
       "    }\n",
       "\n",
       "    .dataframe thead th {\n",
       "        text-align: right;\n",
       "    }\n",
       "</style>\n",
       "<table border=\"1\" class=\"dataframe\">\n",
       "  <thead>\n",
       "    <tr style=\"text-align: right;\">\n",
       "      <th></th>\n",
       "      <th>기사</th>\n",
       "      <th>URL</th>\n",
       "    </tr>\n",
       "  </thead>\n",
       "  <tbody>\n",
       "    <tr>\n",
       "      <th>0</th>\n",
       "      <td>청년 실업률이 역대 최고 수준을 기록한 가운데 경제활동도 없이 쉬는 청년이 작년에 ...</td>\n",
       "      <td>http://news.naver.com/main/read.nhn?mode=LSD&amp;m...</td>\n",
       "    </tr>\n",
       "    <tr>\n",
       "      <th>1</th>\n",
       "      <td>기업은행 노사가 무기계약직 3300명에 대한 정규직 전환을 추진한다.2일 기업은행 ...</td>\n",
       "      <td>http://news.naver.com/main/read.nhn?mode=LSD&amp;m...</td>\n",
       "    </tr>\n",
       "    <tr>\n",
       "      <th>2</th>\n",
       "      <td>대학가에 취업 훈풍이 불고 있다.정부가 공공부문 채용 규모를 확대하고 대기업이 신규...</td>\n",
       "      <td>http://news.naver.com/main/read.nhn?mode=LSD&amp;m...</td>\n",
       "    </tr>\n",
       "    <tr>\n",
       "      <th>3</th>\n",
       "      <td>올해 정규직 고용과 연관된 채용연계형 인턴사원 모집이 시작됐다.9일 취업 포털 업체...</td>\n",
       "      <td>http://news.naver.com/main/read.nhn?mode=LSD&amp;m...</td>\n",
       "    </tr>\n",
       "    <tr>\n",
       "      <th>4</th>\n",
       "      <td>[한겨레]최저임금 인상이 청년고용에 미치는 부정적 영향은 없거나 통계적으로 무의미할...</td>\n",
       "      <td>http://news.naver.com/main/read.nhn?mode=LSD&amp;m...</td>\n",
       "    </tr>\n",
       "    <tr>\n",
       "      <th>...</th>\n",
       "      <td>...</td>\n",
       "      <td>...</td>\n",
       "    </tr>\n",
       "    <tr>\n",
       "      <th>7491</th>\n",
       "      <td>(서울=연합뉴스) 성서호 기자 = 신종 코로나바이러스 감염증(코로나19) 확산에 따...</td>\n",
       "      <td>https://news.naver.com/main/read.nhn?mode=LSD&amp;...</td>\n",
       "    </tr>\n",
       "    <tr>\n",
       "      <th>7492</th>\n",
       "      <td>[머니투데이 김세관 기자]간편송금 플랫폼 '토스' 운영사 비바리퍼블리카는 31일 고...</td>\n",
       "      <td>https://news.naver.com/main/read.nhn?mode=LSD&amp;...</td>\n",
       "    </tr>\n",
       "    <tr>\n",
       "      <th>7493</th>\n",
       "      <td>지난달 국내 사업체 종사자 수가 1년 전보다 13만8천명 줄어들었다. 코로나19 여...</td>\n",
       "      <td>https://news.naver.com/main/read.nhn?mode=LSD&amp;...</td>\n",
       "    </tr>\n",
       "    <tr>\n",
       "      <th>7494</th>\n",
       "      <td>[서울=뉴시스] 김진아 기자 = 신종 코로나바이러스 감염증(코로나19)으로 인한 고...</td>\n",
       "      <td>https://news.naver.com/main/read.nhn?mode=LSD&amp;...</td>\n",
       "    </tr>\n",
       "    <tr>\n",
       "      <th>7495</th>\n",
       "      <td>[이데일리 김범준 기자] 금융권 채용문이 다시 좁아지고 있다. 카드사들도 일제히 신...</td>\n",
       "      <td>https://news.naver.com/main/read.nhn?mode=LSD&amp;...</td>\n",
       "    </tr>\n",
       "  </tbody>\n",
       "</table>\n",
       "<p>7496 rows × 2 columns</p>\n",
       "</div>"
      ],
      "text/plain": [
       "                                                     기사  \\\n",
       "0     청년 실업률이 역대 최고 수준을 기록한 가운데 경제활동도 없이 쉬는 청년이 작년에 ...   \n",
       "1     기업은행 노사가 무기계약직 3300명에 대한 정규직 전환을 추진한다.2일 기업은행 ...   \n",
       "2     대학가에 취업 훈풍이 불고 있다.정부가 공공부문 채용 규모를 확대하고 대기업이 신규...   \n",
       "3     올해 정규직 고용과 연관된 채용연계형 인턴사원 모집이 시작됐다.9일 취업 포털 업체...   \n",
       "4     [한겨레]최저임금 인상이 청년고용에 미치는 부정적 영향은 없거나 통계적으로 무의미할...   \n",
       "...                                                 ...   \n",
       "7491  (서울=연합뉴스) 성서호 기자 = 신종 코로나바이러스 감염증(코로나19) 확산에 따...   \n",
       "7492  [머니투데이 김세관 기자]간편송금 플랫폼 '토스' 운영사 비바리퍼블리카는 31일 고...   \n",
       "7493  지난달 국내 사업체 종사자 수가 1년 전보다 13만8천명 줄어들었다. 코로나19 여...   \n",
       "7494  [서울=뉴시스] 김진아 기자 = 신종 코로나바이러스 감염증(코로나19)으로 인한 고...   \n",
       "7495  [이데일리 김범준 기자] 금융권 채용문이 다시 좁아지고 있다. 카드사들도 일제히 신...   \n",
       "\n",
       "                                                    URL  \n",
       "0     http://news.naver.com/main/read.nhn?mode=LSD&m...  \n",
       "1     http://news.naver.com/main/read.nhn?mode=LSD&m...  \n",
       "2     http://news.naver.com/main/read.nhn?mode=LSD&m...  \n",
       "3     http://news.naver.com/main/read.nhn?mode=LSD&m...  \n",
       "4     http://news.naver.com/main/read.nhn?mode=LSD&m...  \n",
       "...                                                 ...  \n",
       "7491  https://news.naver.com/main/read.nhn?mode=LSD&...  \n",
       "7492  https://news.naver.com/main/read.nhn?mode=LSD&...  \n",
       "7493  https://news.naver.com/main/read.nhn?mode=LSD&...  \n",
       "7494  https://news.naver.com/main/read.nhn?mode=LSD&...  \n",
       "7495  https://news.naver.com/main/read.nhn?mode=LSD&...  \n",
       "\n",
       "[7496 rows x 2 columns]"
      ]
     },
     "execution_count": 52,
     "metadata": {},
     "output_type": "execute_result"
    }
   ],
   "source": [
    "temp = pd.read_csv('news.csv', encoding='cp949')\n",
    "temp = temp.drop(['categories', 'dates', 'titles'], axis=1)\n",
    "temp.columns = ['기사', 'URL']\n",
    "temp"
   ]
  },
  {
   "cell_type": "code",
   "execution_count": 53,
   "id": "cd0a118a",
   "metadata": {},
   "outputs": [],
   "source": [
    "temp = temp.dropna(axis=0)\n",
    "temp = temp.loc[temp['기사'].str.len() > 100]\n",
    "temp.drop_duplicates(subset=['기사'], inplace=True)"
   ]
  },
  {
   "cell_type": "code",
   "execution_count": 51,
   "id": "b6298a05",
   "metadata": {},
   "outputs": [],
   "source": [
    "def clean_str(text):\n",
    "    text = re.sub('[a-zA-Z-一-龥]','', text) # 영어, 숫자 제거\n",
    "    text = re.sub('([ㄱ-ㅎㅏ-ㅣ]+)','', text)  # 자음, 모음 제거\n",
    "    text = re.sub('<[^>]*>', '', text) # HTML 태그 제거 \n",
    "    text = re.sub('(\\【(.*?)\\】)|(\\[(.*?)\\])|(\\((.*?)\\))', '', text) # 괄호안 글자 제거\n",
    "    text = re.sub('[^\\w\\s^%^~^!^?^.]', ' ', text)  # 특수기호 제거\n",
    "    pattern = '\\.([^\\.]*(?:기자|뉴스|특파원|교수|작가|대표|논설|주필|에세이|화백|사설|소장|단장|큐레이터|저작권|평론가|©|©|ⓒ|\\@|\\/|=|:앞쪽_화살표:|무단|전재|재배포|금지|\\[|\\]|\\(\\))[^\\.]*)'\n",
    "    text = re.sub(pattern, '', text) # 바이라인 제거    \n",
    "    text = re.sub(\"\\.+\\.\", '.', text)  # 다수의 점 (ex : ...) 점 한개로 대체\n",
    "    text = re.sub(' +', ' ', text)   # 다수의 공백 축소\n",
    "    text = re.sub('([a-zA-Z0-9_.+-]+@[a-zA-Z0-9-]+\\.[a-zA-Z0-9-.]+)', '', text) # 이메일 제거\n",
    "    text = re.sub('(http|ftp|https)://(?:[-\\w.]|(?:%[\\da-fA-F]{2}))+', '', text) # url 제거\n",
    "    text = re.sub('([가-힣]{2,3}뉴스|[가-힣]{2,3} 기자)', '', text) # 매체, 기자 이름 제거\n",
    "    text = text.replace('Copyrights', '').replace('무단전재 및 재배포 금지', '').replace('무단복제','').replace('무단배포','')\n",
    "    text = text.replace('재배포 금지','').replace('무단 전재','')\n",
    "    return text "
   ]
  },
  {
   "cell_type": "code",
   "execution_count": 55,
   "id": "a2cf566b",
   "metadata": {},
   "outputs": [],
   "source": [
    "temp['기사'] = temp['기사'].map(clean_str)\n",
    "df['제목'] = df['제목'].map(clean_str)"
   ]
  },
  {
   "cell_type": "code",
   "execution_count": 56,
   "id": "0376febd",
   "metadata": {
    "scrolled": false
   },
   "outputs": [
    {
     "name": "stdout",
     "output_type": "stream",
     "text": [
      "<class 'pandas.core.frame.DataFrame'>\n",
      "Int64Index: 7618 entries, 0 to 7617\n",
      "Data columns (total 4 columns):\n",
      " #   Column  Non-Null Count  Dtype  \n",
      "---  ------  --------------  -----  \n",
      " 0   제목      7618 non-null   object \n",
      " 1   URL     7606 non-null   object \n",
      " 2   라벨      7618 non-null   float64\n",
      " 3   기사      7243 non-null   object \n",
      "dtypes: float64(1), object(3)\n",
      "memory usage: 297.6+ KB\n"
     ]
    }
   ],
   "source": [
    "news_train = pd.merge(df, temp, on='URL', how='left')\n",
    "news_train.info()"
   ]
  },
  {
   "cell_type": "code",
   "execution_count": 68,
   "id": "62e435b3",
   "metadata": {},
   "outputs": [],
   "source": [
    "for idx in range(len(news_train)):\n",
    "    if type(news_train.기사[idx]) == float: \n",
    "        news_train.loc[idx, '기사'] = news_train.제목[idx]"
   ]
  },
  {
   "cell_type": "code",
   "execution_count": 74,
   "id": "f01e45fa",
   "metadata": {},
   "outputs": [],
   "source": [
    "news_train.to_excel('news_train.xlsx', index=False)"
   ]
  },
  {
   "cell_type": "markdown",
   "id": "91b486a1",
   "metadata": {},
   "source": [
    "## 4. 잡플래닛 데이터 라벨링 조정"
   ]
  },
  {
   "cell_type": "code",
   "execution_count": 8,
   "id": "2dea4dbb",
   "metadata": {},
   "outputs": [
    {
     "data": {
      "text/plain": [
       "0    29779\n",
       "1    27670\n",
       "Name: label, dtype: int64"
      ]
     },
     "execution_count": 8,
     "metadata": {},
     "output_type": "execute_result"
    }
   ],
   "source": [
    "jobplanet['label'] = 0\n",
    "jobplanet['label'].loc[jobplanet['TotScore'] >= 50] = 1\n",
    "jobplanet['label'].loc[jobplanet['TotScore'] < 50] = 0\n",
    "jobplanet['label'].value_counts()"
   ]
  },
  {
   "cell_type": "code",
   "execution_count": 13,
   "id": "e19f3369",
   "metadata": {},
   "outputs": [],
   "source": [
    "jobplanet.to_excel('jobplanet_train.xlsx', index=False)"
   ]
  },
  {
   "cell_type": "markdown",
   "id": "e9593181",
   "metadata": {},
   "source": [
    "## 5. 인풋데이터 생성"
   ]
  },
  {
   "cell_type": "code",
   "execution_count": 49,
   "id": "3000bd50",
   "metadata": {},
   "outputs": [],
   "source": [
    "train_data = pd.concat([news, jobplanet, nsmc])"
   ]
  },
  {
   "cell_type": "code",
   "execution_count": 63,
   "id": "d21e5866",
   "metadata": {
    "scrolled": true
   },
   "outputs": [],
   "source": [
    "train_data['doc'] = train_data['doc'].map(clean_str)"
   ]
  },
  {
   "cell_type": "code",
   "execution_count": 64,
   "id": "cd3f91e5",
   "metadata": {},
   "outputs": [],
   "source": [
    "train_data.to_excel('train_data.xlsx', index=False)"
   ]
  }
 ],
 "metadata": {
  "kernelspec": {
   "display_name": "Python 3 (ipykernel)",
   "language": "python",
   "name": "python3"
  },
  "language_info": {
   "codemirror_mode": {
    "name": "ipython",
    "version": 3
   },
   "file_extension": ".py",
   "mimetype": "text/x-python",
   "name": "python",
   "nbconvert_exporter": "python",
   "pygments_lexer": "ipython3",
   "version": "3.10.7"
  }
 },
 "nbformat": 4,
 "nbformat_minor": 5
}
