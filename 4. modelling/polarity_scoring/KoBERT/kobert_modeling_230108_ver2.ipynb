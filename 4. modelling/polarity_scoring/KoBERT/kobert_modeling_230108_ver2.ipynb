{
  "nbformat": 4,
  "nbformat_minor": 0,
  "metadata": {
    "colab": {
      "provenance": [],
      "machine_shape": "hm"
    },
    "kernelspec": {
      "name": "python3",
      "display_name": "Python 3"
    },
    "language_info": {
      "name": "python"
    },
    "accelerator": "GPU",
    "gpuClass": "premium",
    "widgets": {
      "application/vnd.jupyter.widget-state+json": {
        "7e2297d41a1549d086c19dd6f799ddee": {
          "model_module": "@jupyter-widgets/controls",
          "model_name": "HBoxModel",
          "model_module_version": "1.5.0",
          "state": {
            "_dom_classes": [],
            "_model_module": "@jupyter-widgets/controls",
            "_model_module_version": "1.5.0",
            "_model_name": "HBoxModel",
            "_view_count": null,
            "_view_module": "@jupyter-widgets/controls",
            "_view_module_version": "1.5.0",
            "_view_name": "HBoxView",
            "box_style": "",
            "children": [
              "IPY_MODEL_0936bb11de19438081140f8e0d6e29ef",
              "IPY_MODEL_f510fc4a12df4e56a02ad48da8285cdd",
              "IPY_MODEL_b0e130ac8a334a88992ad21cf23218f2"
            ],
            "layout": "IPY_MODEL_9c576ce0c78243cea5a88ad89988f45c"
          }
        },
        "0936bb11de19438081140f8e0d6e29ef": {
          "model_module": "@jupyter-widgets/controls",
          "model_name": "HTMLModel",
          "model_module_version": "1.5.0",
          "state": {
            "_dom_classes": [],
            "_model_module": "@jupyter-widgets/controls",
            "_model_module_version": "1.5.0",
            "_model_name": "HTMLModel",
            "_view_count": null,
            "_view_module": "@jupyter-widgets/controls",
            "_view_module_version": "1.5.0",
            "_view_name": "HTMLView",
            "description": "",
            "description_tooltip": null,
            "layout": "IPY_MODEL_4b5c54e640c94e13ba3e10e27f6c040f",
            "placeholder": "​",
            "style": "IPY_MODEL_e40c60d3da014b728882ff5e2585c96e",
            "value": "100%"
          }
        },
        "f510fc4a12df4e56a02ad48da8285cdd": {
          "model_module": "@jupyter-widgets/controls",
          "model_name": "FloatProgressModel",
          "model_module_version": "1.5.0",
          "state": {
            "_dom_classes": [],
            "_model_module": "@jupyter-widgets/controls",
            "_model_module_version": "1.5.0",
            "_model_name": "FloatProgressModel",
            "_view_count": null,
            "_view_module": "@jupyter-widgets/controls",
            "_view_module_version": "1.5.0",
            "_view_name": "ProgressView",
            "bar_style": "success",
            "description": "",
            "description_tooltip": null,
            "layout": "IPY_MODEL_4c7edd0a4ca547b686127c8c17abfd97",
            "max": 2425,
            "min": 0,
            "orientation": "horizontal",
            "style": "IPY_MODEL_cf35ed77e62549a0b5c814f3e1f2441d",
            "value": 2425
          }
        },
        "b0e130ac8a334a88992ad21cf23218f2": {
          "model_module": "@jupyter-widgets/controls",
          "model_name": "HTMLModel",
          "model_module_version": "1.5.0",
          "state": {
            "_dom_classes": [],
            "_model_module": "@jupyter-widgets/controls",
            "_model_module_version": "1.5.0",
            "_model_name": "HTMLModel",
            "_view_count": null,
            "_view_module": "@jupyter-widgets/controls",
            "_view_module_version": "1.5.0",
            "_view_name": "HTMLView",
            "description": "",
            "description_tooltip": null,
            "layout": "IPY_MODEL_eaef3b4089cc437094dfc6daca223e49",
            "placeholder": "​",
            "style": "IPY_MODEL_bd007bdcb0634a119b04880ca0fab2cd",
            "value": " 2425/2425 [12:54&lt;00:00,  3.83it/s]"
          }
        },
        "9c576ce0c78243cea5a88ad89988f45c": {
          "model_module": "@jupyter-widgets/base",
          "model_name": "LayoutModel",
          "model_module_version": "1.2.0",
          "state": {
            "_model_module": "@jupyter-widgets/base",
            "_model_module_version": "1.2.0",
            "_model_name": "LayoutModel",
            "_view_count": null,
            "_view_module": "@jupyter-widgets/base",
            "_view_module_version": "1.2.0",
            "_view_name": "LayoutView",
            "align_content": null,
            "align_items": null,
            "align_self": null,
            "border": null,
            "bottom": null,
            "display": null,
            "flex": null,
            "flex_flow": null,
            "grid_area": null,
            "grid_auto_columns": null,
            "grid_auto_flow": null,
            "grid_auto_rows": null,
            "grid_column": null,
            "grid_gap": null,
            "grid_row": null,
            "grid_template_areas": null,
            "grid_template_columns": null,
            "grid_template_rows": null,
            "height": null,
            "justify_content": null,
            "justify_items": null,
            "left": null,
            "margin": null,
            "max_height": null,
            "max_width": null,
            "min_height": null,
            "min_width": null,
            "object_fit": null,
            "object_position": null,
            "order": null,
            "overflow": null,
            "overflow_x": null,
            "overflow_y": null,
            "padding": null,
            "right": null,
            "top": null,
            "visibility": null,
            "width": null
          }
        },
        "4b5c54e640c94e13ba3e10e27f6c040f": {
          "model_module": "@jupyter-widgets/base",
          "model_name": "LayoutModel",
          "model_module_version": "1.2.0",
          "state": {
            "_model_module": "@jupyter-widgets/base",
            "_model_module_version": "1.2.0",
            "_model_name": "LayoutModel",
            "_view_count": null,
            "_view_module": "@jupyter-widgets/base",
            "_view_module_version": "1.2.0",
            "_view_name": "LayoutView",
            "align_content": null,
            "align_items": null,
            "align_self": null,
            "border": null,
            "bottom": null,
            "display": null,
            "flex": null,
            "flex_flow": null,
            "grid_area": null,
            "grid_auto_columns": null,
            "grid_auto_flow": null,
            "grid_auto_rows": null,
            "grid_column": null,
            "grid_gap": null,
            "grid_row": null,
            "grid_template_areas": null,
            "grid_template_columns": null,
            "grid_template_rows": null,
            "height": null,
            "justify_content": null,
            "justify_items": null,
            "left": null,
            "margin": null,
            "max_height": null,
            "max_width": null,
            "min_height": null,
            "min_width": null,
            "object_fit": null,
            "object_position": null,
            "order": null,
            "overflow": null,
            "overflow_x": null,
            "overflow_y": null,
            "padding": null,
            "right": null,
            "top": null,
            "visibility": null,
            "width": null
          }
        },
        "e40c60d3da014b728882ff5e2585c96e": {
          "model_module": "@jupyter-widgets/controls",
          "model_name": "DescriptionStyleModel",
          "model_module_version": "1.5.0",
          "state": {
            "_model_module": "@jupyter-widgets/controls",
            "_model_module_version": "1.5.0",
            "_model_name": "DescriptionStyleModel",
            "_view_count": null,
            "_view_module": "@jupyter-widgets/base",
            "_view_module_version": "1.2.0",
            "_view_name": "StyleView",
            "description_width": ""
          }
        },
        "4c7edd0a4ca547b686127c8c17abfd97": {
          "model_module": "@jupyter-widgets/base",
          "model_name": "LayoutModel",
          "model_module_version": "1.2.0",
          "state": {
            "_model_module": "@jupyter-widgets/base",
            "_model_module_version": "1.2.0",
            "_model_name": "LayoutModel",
            "_view_count": null,
            "_view_module": "@jupyter-widgets/base",
            "_view_module_version": "1.2.0",
            "_view_name": "LayoutView",
            "align_content": null,
            "align_items": null,
            "align_self": null,
            "border": null,
            "bottom": null,
            "display": null,
            "flex": null,
            "flex_flow": null,
            "grid_area": null,
            "grid_auto_columns": null,
            "grid_auto_flow": null,
            "grid_auto_rows": null,
            "grid_column": null,
            "grid_gap": null,
            "grid_row": null,
            "grid_template_areas": null,
            "grid_template_columns": null,
            "grid_template_rows": null,
            "height": null,
            "justify_content": null,
            "justify_items": null,
            "left": null,
            "margin": null,
            "max_height": null,
            "max_width": null,
            "min_height": null,
            "min_width": null,
            "object_fit": null,
            "object_position": null,
            "order": null,
            "overflow": null,
            "overflow_x": null,
            "overflow_y": null,
            "padding": null,
            "right": null,
            "top": null,
            "visibility": null,
            "width": null
          }
        },
        "cf35ed77e62549a0b5c814f3e1f2441d": {
          "model_module": "@jupyter-widgets/controls",
          "model_name": "ProgressStyleModel",
          "model_module_version": "1.5.0",
          "state": {
            "_model_module": "@jupyter-widgets/controls",
            "_model_module_version": "1.5.0",
            "_model_name": "ProgressStyleModel",
            "_view_count": null,
            "_view_module": "@jupyter-widgets/base",
            "_view_module_version": "1.2.0",
            "_view_name": "StyleView",
            "bar_color": null,
            "description_width": ""
          }
        },
        "eaef3b4089cc437094dfc6daca223e49": {
          "model_module": "@jupyter-widgets/base",
          "model_name": "LayoutModel",
          "model_module_version": "1.2.0",
          "state": {
            "_model_module": "@jupyter-widgets/base",
            "_model_module_version": "1.2.0",
            "_model_name": "LayoutModel",
            "_view_count": null,
            "_view_module": "@jupyter-widgets/base",
            "_view_module_version": "1.2.0",
            "_view_name": "LayoutView",
            "align_content": null,
            "align_items": null,
            "align_self": null,
            "border": null,
            "bottom": null,
            "display": null,
            "flex": null,
            "flex_flow": null,
            "grid_area": null,
            "grid_auto_columns": null,
            "grid_auto_flow": null,
            "grid_auto_rows": null,
            "grid_column": null,
            "grid_gap": null,
            "grid_row": null,
            "grid_template_areas": null,
            "grid_template_columns": null,
            "grid_template_rows": null,
            "height": null,
            "justify_content": null,
            "justify_items": null,
            "left": null,
            "margin": null,
            "max_height": null,
            "max_width": null,
            "min_height": null,
            "min_width": null,
            "object_fit": null,
            "object_position": null,
            "order": null,
            "overflow": null,
            "overflow_x": null,
            "overflow_y": null,
            "padding": null,
            "right": null,
            "top": null,
            "visibility": null,
            "width": null
          }
        },
        "bd007bdcb0634a119b04880ca0fab2cd": {
          "model_module": "@jupyter-widgets/controls",
          "model_name": "DescriptionStyleModel",
          "model_module_version": "1.5.0",
          "state": {
            "_model_module": "@jupyter-widgets/controls",
            "_model_module_version": "1.5.0",
            "_model_name": "DescriptionStyleModel",
            "_view_count": null,
            "_view_module": "@jupyter-widgets/base",
            "_view_module_version": "1.2.0",
            "_view_name": "StyleView",
            "description_width": ""
          }
        },
        "856ad769f14c417683e898a3910d5fbb": {
          "model_module": "@jupyter-widgets/controls",
          "model_name": "HBoxModel",
          "model_module_version": "1.5.0",
          "state": {
            "_dom_classes": [],
            "_model_module": "@jupyter-widgets/controls",
            "_model_module_version": "1.5.0",
            "_model_name": "HBoxModel",
            "_view_count": null,
            "_view_module": "@jupyter-widgets/controls",
            "_view_module_version": "1.5.0",
            "_view_name": "HBoxView",
            "box_style": "",
            "children": [
              "IPY_MODEL_1e1d586faad7494684b57531242b0c01",
              "IPY_MODEL_589b927e84d4415297789addc07d9235",
              "IPY_MODEL_16592637c7e54a37beb8f838f09fb37e"
            ],
            "layout": "IPY_MODEL_1176dd78ee204780ad297c7b162877bd"
          }
        },
        "1e1d586faad7494684b57531242b0c01": {
          "model_module": "@jupyter-widgets/controls",
          "model_name": "HTMLModel",
          "model_module_version": "1.5.0",
          "state": {
            "_dom_classes": [],
            "_model_module": "@jupyter-widgets/controls",
            "_model_module_version": "1.5.0",
            "_model_name": "HTMLModel",
            "_view_count": null,
            "_view_module": "@jupyter-widgets/controls",
            "_view_module_version": "1.5.0",
            "_view_name": "HTMLView",
            "description": "",
            "description_tooltip": null,
            "layout": "IPY_MODEL_0890496144d948ffb1def71aef52367f",
            "placeholder": "​",
            "style": "IPY_MODEL_35644638b9b74d93aede9c6eff9c4e6f",
            "value": "100%"
          }
        },
        "589b927e84d4415297789addc07d9235": {
          "model_module": "@jupyter-widgets/controls",
          "model_name": "FloatProgressModel",
          "model_module_version": "1.5.0",
          "state": {
            "_dom_classes": [],
            "_model_module": "@jupyter-widgets/controls",
            "_model_module_version": "1.5.0",
            "_model_name": "FloatProgressModel",
            "_view_count": null,
            "_view_module": "@jupyter-widgets/controls",
            "_view_module_version": "1.5.0",
            "_view_name": "ProgressView",
            "bar_style": "success",
            "description": "",
            "description_tooltip": null,
            "layout": "IPY_MODEL_87ec9fa151954955a9eee7b9a501d969",
            "max": 607,
            "min": 0,
            "orientation": "horizontal",
            "style": "IPY_MODEL_1c6a71744df742c19b2fa7f7cea3e6a1",
            "value": 607
          }
        },
        "16592637c7e54a37beb8f838f09fb37e": {
          "model_module": "@jupyter-widgets/controls",
          "model_name": "HTMLModel",
          "model_module_version": "1.5.0",
          "state": {
            "_dom_classes": [],
            "_model_module": "@jupyter-widgets/controls",
            "_model_module_version": "1.5.0",
            "_model_name": "HTMLModel",
            "_view_count": null,
            "_view_module": "@jupyter-widgets/controls",
            "_view_module_version": "1.5.0",
            "_view_name": "HTMLView",
            "description": "",
            "description_tooltip": null,
            "layout": "IPY_MODEL_81ad2d6047f2466cbde1ca8a90f5970d",
            "placeholder": "​",
            "style": "IPY_MODEL_e4217a4e31ef4fc0a60e0854ebc5dc0d",
            "value": " 607/607 [02:56&lt;00:00,  3.44it/s]"
          }
        },
        "1176dd78ee204780ad297c7b162877bd": {
          "model_module": "@jupyter-widgets/base",
          "model_name": "LayoutModel",
          "model_module_version": "1.2.0",
          "state": {
            "_model_module": "@jupyter-widgets/base",
            "_model_module_version": "1.2.0",
            "_model_name": "LayoutModel",
            "_view_count": null,
            "_view_module": "@jupyter-widgets/base",
            "_view_module_version": "1.2.0",
            "_view_name": "LayoutView",
            "align_content": null,
            "align_items": null,
            "align_self": null,
            "border": null,
            "bottom": null,
            "display": null,
            "flex": null,
            "flex_flow": null,
            "grid_area": null,
            "grid_auto_columns": null,
            "grid_auto_flow": null,
            "grid_auto_rows": null,
            "grid_column": null,
            "grid_gap": null,
            "grid_row": null,
            "grid_template_areas": null,
            "grid_template_columns": null,
            "grid_template_rows": null,
            "height": null,
            "justify_content": null,
            "justify_items": null,
            "left": null,
            "margin": null,
            "max_height": null,
            "max_width": null,
            "min_height": null,
            "min_width": null,
            "object_fit": null,
            "object_position": null,
            "order": null,
            "overflow": null,
            "overflow_x": null,
            "overflow_y": null,
            "padding": null,
            "right": null,
            "top": null,
            "visibility": null,
            "width": null
          }
        },
        "0890496144d948ffb1def71aef52367f": {
          "model_module": "@jupyter-widgets/base",
          "model_name": "LayoutModel",
          "model_module_version": "1.2.0",
          "state": {
            "_model_module": "@jupyter-widgets/base",
            "_model_module_version": "1.2.0",
            "_model_name": "LayoutModel",
            "_view_count": null,
            "_view_module": "@jupyter-widgets/base",
            "_view_module_version": "1.2.0",
            "_view_name": "LayoutView",
            "align_content": null,
            "align_items": null,
            "align_self": null,
            "border": null,
            "bottom": null,
            "display": null,
            "flex": null,
            "flex_flow": null,
            "grid_area": null,
            "grid_auto_columns": null,
            "grid_auto_flow": null,
            "grid_auto_rows": null,
            "grid_column": null,
            "grid_gap": null,
            "grid_row": null,
            "grid_template_areas": null,
            "grid_template_columns": null,
            "grid_template_rows": null,
            "height": null,
            "justify_content": null,
            "justify_items": null,
            "left": null,
            "margin": null,
            "max_height": null,
            "max_width": null,
            "min_height": null,
            "min_width": null,
            "object_fit": null,
            "object_position": null,
            "order": null,
            "overflow": null,
            "overflow_x": null,
            "overflow_y": null,
            "padding": null,
            "right": null,
            "top": null,
            "visibility": null,
            "width": null
          }
        },
        "35644638b9b74d93aede9c6eff9c4e6f": {
          "model_module": "@jupyter-widgets/controls",
          "model_name": "DescriptionStyleModel",
          "model_module_version": "1.5.0",
          "state": {
            "_model_module": "@jupyter-widgets/controls",
            "_model_module_version": "1.5.0",
            "_model_name": "DescriptionStyleModel",
            "_view_count": null,
            "_view_module": "@jupyter-widgets/base",
            "_view_module_version": "1.2.0",
            "_view_name": "StyleView",
            "description_width": ""
          }
        },
        "87ec9fa151954955a9eee7b9a501d969": {
          "model_module": "@jupyter-widgets/base",
          "model_name": "LayoutModel",
          "model_module_version": "1.2.0",
          "state": {
            "_model_module": "@jupyter-widgets/base",
            "_model_module_version": "1.2.0",
            "_model_name": "LayoutModel",
            "_view_count": null,
            "_view_module": "@jupyter-widgets/base",
            "_view_module_version": "1.2.0",
            "_view_name": "LayoutView",
            "align_content": null,
            "align_items": null,
            "align_self": null,
            "border": null,
            "bottom": null,
            "display": null,
            "flex": null,
            "flex_flow": null,
            "grid_area": null,
            "grid_auto_columns": null,
            "grid_auto_flow": null,
            "grid_auto_rows": null,
            "grid_column": null,
            "grid_gap": null,
            "grid_row": null,
            "grid_template_areas": null,
            "grid_template_columns": null,
            "grid_template_rows": null,
            "height": null,
            "justify_content": null,
            "justify_items": null,
            "left": null,
            "margin": null,
            "max_height": null,
            "max_width": null,
            "min_height": null,
            "min_width": null,
            "object_fit": null,
            "object_position": null,
            "order": null,
            "overflow": null,
            "overflow_x": null,
            "overflow_y": null,
            "padding": null,
            "right": null,
            "top": null,
            "visibility": null,
            "width": null
          }
        },
        "1c6a71744df742c19b2fa7f7cea3e6a1": {
          "model_module": "@jupyter-widgets/controls",
          "model_name": "ProgressStyleModel",
          "model_module_version": "1.5.0",
          "state": {
            "_model_module": "@jupyter-widgets/controls",
            "_model_module_version": "1.5.0",
            "_model_name": "ProgressStyleModel",
            "_view_count": null,
            "_view_module": "@jupyter-widgets/base",
            "_view_module_version": "1.2.0",
            "_view_name": "StyleView",
            "bar_color": null,
            "description_width": ""
          }
        },
        "81ad2d6047f2466cbde1ca8a90f5970d": {
          "model_module": "@jupyter-widgets/base",
          "model_name": "LayoutModel",
          "model_module_version": "1.2.0",
          "state": {
            "_model_module": "@jupyter-widgets/base",
            "_model_module_version": "1.2.0",
            "_model_name": "LayoutModel",
            "_view_count": null,
            "_view_module": "@jupyter-widgets/base",
            "_view_module_version": "1.2.0",
            "_view_name": "LayoutView",
            "align_content": null,
            "align_items": null,
            "align_self": null,
            "border": null,
            "bottom": null,
            "display": null,
            "flex": null,
            "flex_flow": null,
            "grid_area": null,
            "grid_auto_columns": null,
            "grid_auto_flow": null,
            "grid_auto_rows": null,
            "grid_column": null,
            "grid_gap": null,
            "grid_row": null,
            "grid_template_areas": null,
            "grid_template_columns": null,
            "grid_template_rows": null,
            "height": null,
            "justify_content": null,
            "justify_items": null,
            "left": null,
            "margin": null,
            "max_height": null,
            "max_width": null,
            "min_height": null,
            "min_width": null,
            "object_fit": null,
            "object_position": null,
            "order": null,
            "overflow": null,
            "overflow_x": null,
            "overflow_y": null,
            "padding": null,
            "right": null,
            "top": null,
            "visibility": null,
            "width": null
          }
        },
        "e4217a4e31ef4fc0a60e0854ebc5dc0d": {
          "model_module": "@jupyter-widgets/controls",
          "model_name": "DescriptionStyleModel",
          "model_module_version": "1.5.0",
          "state": {
            "_model_module": "@jupyter-widgets/controls",
            "_model_module_version": "1.5.0",
            "_model_name": "DescriptionStyleModel",
            "_view_count": null,
            "_view_module": "@jupyter-widgets/base",
            "_view_module_version": "1.2.0",
            "_view_name": "StyleView",
            "description_width": ""
          }
        },
        "bab949856774412395b6ee06f03392c8": {
          "model_module": "@jupyter-widgets/controls",
          "model_name": "HBoxModel",
          "model_module_version": "1.5.0",
          "state": {
            "_dom_classes": [],
            "_model_module": "@jupyter-widgets/controls",
            "_model_module_version": "1.5.0",
            "_model_name": "HBoxModel",
            "_view_count": null,
            "_view_module": "@jupyter-widgets/controls",
            "_view_module_version": "1.5.0",
            "_view_name": "HBoxView",
            "box_style": "",
            "children": [
              "IPY_MODEL_1621e7bc73a24f7b895a26b828c093f5",
              "IPY_MODEL_a206885cbb7b4ee59e24d854cc7eb943",
              "IPY_MODEL_186512d6a4234f4c837fb6f46e4b1d4e"
            ],
            "layout": "IPY_MODEL_cddbbd4c169d41feb69f37b63cac4939"
          }
        },
        "1621e7bc73a24f7b895a26b828c093f5": {
          "model_module": "@jupyter-widgets/controls",
          "model_name": "HTMLModel",
          "model_module_version": "1.5.0",
          "state": {
            "_dom_classes": [],
            "_model_module": "@jupyter-widgets/controls",
            "_model_module_version": "1.5.0",
            "_model_name": "HTMLModel",
            "_view_count": null,
            "_view_module": "@jupyter-widgets/controls",
            "_view_module_version": "1.5.0",
            "_view_name": "HTMLView",
            "description": "",
            "description_tooltip": null,
            "layout": "IPY_MODEL_20452e7062774e60885a688b3b312bed",
            "placeholder": "​",
            "style": "IPY_MODEL_ff4aa0d60b3440da8d9779f477f5398e",
            "value": "100%"
          }
        },
        "a206885cbb7b4ee59e24d854cc7eb943": {
          "model_module": "@jupyter-widgets/controls",
          "model_name": "FloatProgressModel",
          "model_module_version": "1.5.0",
          "state": {
            "_dom_classes": [],
            "_model_module": "@jupyter-widgets/controls",
            "_model_module_version": "1.5.0",
            "_model_name": "FloatProgressModel",
            "_view_count": null,
            "_view_module": "@jupyter-widgets/controls",
            "_view_module_version": "1.5.0",
            "_view_name": "ProgressView",
            "bar_style": "success",
            "description": "",
            "description_tooltip": null,
            "layout": "IPY_MODEL_82b5af403b664819ae462f9419a21927",
            "max": 2425,
            "min": 0,
            "orientation": "horizontal",
            "style": "IPY_MODEL_1a1f0dc0c0824005b9bcd6ed4a7790fc",
            "value": 2425
          }
        },
        "186512d6a4234f4c837fb6f46e4b1d4e": {
          "model_module": "@jupyter-widgets/controls",
          "model_name": "HTMLModel",
          "model_module_version": "1.5.0",
          "state": {
            "_dom_classes": [],
            "_model_module": "@jupyter-widgets/controls",
            "_model_module_version": "1.5.0",
            "_model_name": "HTMLModel",
            "_view_count": null,
            "_view_module": "@jupyter-widgets/controls",
            "_view_module_version": "1.5.0",
            "_view_name": "HTMLView",
            "description": "",
            "description_tooltip": null,
            "layout": "IPY_MODEL_4dc3df5109ec44babeed24d0f9231d3a",
            "placeholder": "​",
            "style": "IPY_MODEL_2845db8048174e989103682759782532",
            "value": " 2425/2425 [12:53&lt;00:00,  3.82it/s]"
          }
        },
        "cddbbd4c169d41feb69f37b63cac4939": {
          "model_module": "@jupyter-widgets/base",
          "model_name": "LayoutModel",
          "model_module_version": "1.2.0",
          "state": {
            "_model_module": "@jupyter-widgets/base",
            "_model_module_version": "1.2.0",
            "_model_name": "LayoutModel",
            "_view_count": null,
            "_view_module": "@jupyter-widgets/base",
            "_view_module_version": "1.2.0",
            "_view_name": "LayoutView",
            "align_content": null,
            "align_items": null,
            "align_self": null,
            "border": null,
            "bottom": null,
            "display": null,
            "flex": null,
            "flex_flow": null,
            "grid_area": null,
            "grid_auto_columns": null,
            "grid_auto_flow": null,
            "grid_auto_rows": null,
            "grid_column": null,
            "grid_gap": null,
            "grid_row": null,
            "grid_template_areas": null,
            "grid_template_columns": null,
            "grid_template_rows": null,
            "height": null,
            "justify_content": null,
            "justify_items": null,
            "left": null,
            "margin": null,
            "max_height": null,
            "max_width": null,
            "min_height": null,
            "min_width": null,
            "object_fit": null,
            "object_position": null,
            "order": null,
            "overflow": null,
            "overflow_x": null,
            "overflow_y": null,
            "padding": null,
            "right": null,
            "top": null,
            "visibility": null,
            "width": null
          }
        },
        "20452e7062774e60885a688b3b312bed": {
          "model_module": "@jupyter-widgets/base",
          "model_name": "LayoutModel",
          "model_module_version": "1.2.0",
          "state": {
            "_model_module": "@jupyter-widgets/base",
            "_model_module_version": "1.2.0",
            "_model_name": "LayoutModel",
            "_view_count": null,
            "_view_module": "@jupyter-widgets/base",
            "_view_module_version": "1.2.0",
            "_view_name": "LayoutView",
            "align_content": null,
            "align_items": null,
            "align_self": null,
            "border": null,
            "bottom": null,
            "display": null,
            "flex": null,
            "flex_flow": null,
            "grid_area": null,
            "grid_auto_columns": null,
            "grid_auto_flow": null,
            "grid_auto_rows": null,
            "grid_column": null,
            "grid_gap": null,
            "grid_row": null,
            "grid_template_areas": null,
            "grid_template_columns": null,
            "grid_template_rows": null,
            "height": null,
            "justify_content": null,
            "justify_items": null,
            "left": null,
            "margin": null,
            "max_height": null,
            "max_width": null,
            "min_height": null,
            "min_width": null,
            "object_fit": null,
            "object_position": null,
            "order": null,
            "overflow": null,
            "overflow_x": null,
            "overflow_y": null,
            "padding": null,
            "right": null,
            "top": null,
            "visibility": null,
            "width": null
          }
        },
        "ff4aa0d60b3440da8d9779f477f5398e": {
          "model_module": "@jupyter-widgets/controls",
          "model_name": "DescriptionStyleModel",
          "model_module_version": "1.5.0",
          "state": {
            "_model_module": "@jupyter-widgets/controls",
            "_model_module_version": "1.5.0",
            "_model_name": "DescriptionStyleModel",
            "_view_count": null,
            "_view_module": "@jupyter-widgets/base",
            "_view_module_version": "1.2.0",
            "_view_name": "StyleView",
            "description_width": ""
          }
        },
        "82b5af403b664819ae462f9419a21927": {
          "model_module": "@jupyter-widgets/base",
          "model_name": "LayoutModel",
          "model_module_version": "1.2.0",
          "state": {
            "_model_module": "@jupyter-widgets/base",
            "_model_module_version": "1.2.0",
            "_model_name": "LayoutModel",
            "_view_count": null,
            "_view_module": "@jupyter-widgets/base",
            "_view_module_version": "1.2.0",
            "_view_name": "LayoutView",
            "align_content": null,
            "align_items": null,
            "align_self": null,
            "border": null,
            "bottom": null,
            "display": null,
            "flex": null,
            "flex_flow": null,
            "grid_area": null,
            "grid_auto_columns": null,
            "grid_auto_flow": null,
            "grid_auto_rows": null,
            "grid_column": null,
            "grid_gap": null,
            "grid_row": null,
            "grid_template_areas": null,
            "grid_template_columns": null,
            "grid_template_rows": null,
            "height": null,
            "justify_content": null,
            "justify_items": null,
            "left": null,
            "margin": null,
            "max_height": null,
            "max_width": null,
            "min_height": null,
            "min_width": null,
            "object_fit": null,
            "object_position": null,
            "order": null,
            "overflow": null,
            "overflow_x": null,
            "overflow_y": null,
            "padding": null,
            "right": null,
            "top": null,
            "visibility": null,
            "width": null
          }
        },
        "1a1f0dc0c0824005b9bcd6ed4a7790fc": {
          "model_module": "@jupyter-widgets/controls",
          "model_name": "ProgressStyleModel",
          "model_module_version": "1.5.0",
          "state": {
            "_model_module": "@jupyter-widgets/controls",
            "_model_module_version": "1.5.0",
            "_model_name": "ProgressStyleModel",
            "_view_count": null,
            "_view_module": "@jupyter-widgets/base",
            "_view_module_version": "1.2.0",
            "_view_name": "StyleView",
            "bar_color": null,
            "description_width": ""
          }
        },
        "4dc3df5109ec44babeed24d0f9231d3a": {
          "model_module": "@jupyter-widgets/base",
          "model_name": "LayoutModel",
          "model_module_version": "1.2.0",
          "state": {
            "_model_module": "@jupyter-widgets/base",
            "_model_module_version": "1.2.0",
            "_model_name": "LayoutModel",
            "_view_count": null,
            "_view_module": "@jupyter-widgets/base",
            "_view_module_version": "1.2.0",
            "_view_name": "LayoutView",
            "align_content": null,
            "align_items": null,
            "align_self": null,
            "border": null,
            "bottom": null,
            "display": null,
            "flex": null,
            "flex_flow": null,
            "grid_area": null,
            "grid_auto_columns": null,
            "grid_auto_flow": null,
            "grid_auto_rows": null,
            "grid_column": null,
            "grid_gap": null,
            "grid_row": null,
            "grid_template_areas": null,
            "grid_template_columns": null,
            "grid_template_rows": null,
            "height": null,
            "justify_content": null,
            "justify_items": null,
            "left": null,
            "margin": null,
            "max_height": null,
            "max_width": null,
            "min_height": null,
            "min_width": null,
            "object_fit": null,
            "object_position": null,
            "order": null,
            "overflow": null,
            "overflow_x": null,
            "overflow_y": null,
            "padding": null,
            "right": null,
            "top": null,
            "visibility": null,
            "width": null
          }
        },
        "2845db8048174e989103682759782532": {
          "model_module": "@jupyter-widgets/controls",
          "model_name": "DescriptionStyleModel",
          "model_module_version": "1.5.0",
          "state": {
            "_model_module": "@jupyter-widgets/controls",
            "_model_module_version": "1.5.0",
            "_model_name": "DescriptionStyleModel",
            "_view_count": null,
            "_view_module": "@jupyter-widgets/base",
            "_view_module_version": "1.2.0",
            "_view_name": "StyleView",
            "description_width": ""
          }
        },
        "c2ebba9557344d689b614a86249bd0c9": {
          "model_module": "@jupyter-widgets/controls",
          "model_name": "HBoxModel",
          "model_module_version": "1.5.0",
          "state": {
            "_dom_classes": [],
            "_model_module": "@jupyter-widgets/controls",
            "_model_module_version": "1.5.0",
            "_model_name": "HBoxModel",
            "_view_count": null,
            "_view_module": "@jupyter-widgets/controls",
            "_view_module_version": "1.5.0",
            "_view_name": "HBoxView",
            "box_style": "",
            "children": [
              "IPY_MODEL_8b22bf6deb8c43eba1ed8135d097aa0c",
              "IPY_MODEL_cc44041695514dd6a4d3ee2f5365f085",
              "IPY_MODEL_559ec01ecf66480c915a44236b7065f0"
            ],
            "layout": "IPY_MODEL_467e1aec9fea4546a7f6996b9495a0b8"
          }
        },
        "8b22bf6deb8c43eba1ed8135d097aa0c": {
          "model_module": "@jupyter-widgets/controls",
          "model_name": "HTMLModel",
          "model_module_version": "1.5.0",
          "state": {
            "_dom_classes": [],
            "_model_module": "@jupyter-widgets/controls",
            "_model_module_version": "1.5.0",
            "_model_name": "HTMLModel",
            "_view_count": null,
            "_view_module": "@jupyter-widgets/controls",
            "_view_module_version": "1.5.0",
            "_view_name": "HTMLView",
            "description": "",
            "description_tooltip": null,
            "layout": "IPY_MODEL_cd143e568ae7499898896d86179cfd36",
            "placeholder": "​",
            "style": "IPY_MODEL_7c4ebc43a03848c081d185f3eeb1d4aa",
            "value": "100%"
          }
        },
        "cc44041695514dd6a4d3ee2f5365f085": {
          "model_module": "@jupyter-widgets/controls",
          "model_name": "FloatProgressModel",
          "model_module_version": "1.5.0",
          "state": {
            "_dom_classes": [],
            "_model_module": "@jupyter-widgets/controls",
            "_model_module_version": "1.5.0",
            "_model_name": "FloatProgressModel",
            "_view_count": null,
            "_view_module": "@jupyter-widgets/controls",
            "_view_module_version": "1.5.0",
            "_view_name": "ProgressView",
            "bar_style": "success",
            "description": "",
            "description_tooltip": null,
            "layout": "IPY_MODEL_c7b27045f6214313aa0ca20398ef8e95",
            "max": 607,
            "min": 0,
            "orientation": "horizontal",
            "style": "IPY_MODEL_f4896d8c893f46adb2b21fa4577feec0",
            "value": 607
          }
        },
        "559ec01ecf66480c915a44236b7065f0": {
          "model_module": "@jupyter-widgets/controls",
          "model_name": "HTMLModel",
          "model_module_version": "1.5.0",
          "state": {
            "_dom_classes": [],
            "_model_module": "@jupyter-widgets/controls",
            "_model_module_version": "1.5.0",
            "_model_name": "HTMLModel",
            "_view_count": null,
            "_view_module": "@jupyter-widgets/controls",
            "_view_module_version": "1.5.0",
            "_view_name": "HTMLView",
            "description": "",
            "description_tooltip": null,
            "layout": "IPY_MODEL_fc194c7b3833400fb85a333eafb39c50",
            "placeholder": "​",
            "style": "IPY_MODEL_2533cf6e7fc7486780201f134238f17a",
            "value": " 607/607 [02:56&lt;00:00,  3.44it/s]"
          }
        },
        "467e1aec9fea4546a7f6996b9495a0b8": {
          "model_module": "@jupyter-widgets/base",
          "model_name": "LayoutModel",
          "model_module_version": "1.2.0",
          "state": {
            "_model_module": "@jupyter-widgets/base",
            "_model_module_version": "1.2.0",
            "_model_name": "LayoutModel",
            "_view_count": null,
            "_view_module": "@jupyter-widgets/base",
            "_view_module_version": "1.2.0",
            "_view_name": "LayoutView",
            "align_content": null,
            "align_items": null,
            "align_self": null,
            "border": null,
            "bottom": null,
            "display": null,
            "flex": null,
            "flex_flow": null,
            "grid_area": null,
            "grid_auto_columns": null,
            "grid_auto_flow": null,
            "grid_auto_rows": null,
            "grid_column": null,
            "grid_gap": null,
            "grid_row": null,
            "grid_template_areas": null,
            "grid_template_columns": null,
            "grid_template_rows": null,
            "height": null,
            "justify_content": null,
            "justify_items": null,
            "left": null,
            "margin": null,
            "max_height": null,
            "max_width": null,
            "min_height": null,
            "min_width": null,
            "object_fit": null,
            "object_position": null,
            "order": null,
            "overflow": null,
            "overflow_x": null,
            "overflow_y": null,
            "padding": null,
            "right": null,
            "top": null,
            "visibility": null,
            "width": null
          }
        },
        "cd143e568ae7499898896d86179cfd36": {
          "model_module": "@jupyter-widgets/base",
          "model_name": "LayoutModel",
          "model_module_version": "1.2.0",
          "state": {
            "_model_module": "@jupyter-widgets/base",
            "_model_module_version": "1.2.0",
            "_model_name": "LayoutModel",
            "_view_count": null,
            "_view_module": "@jupyter-widgets/base",
            "_view_module_version": "1.2.0",
            "_view_name": "LayoutView",
            "align_content": null,
            "align_items": null,
            "align_self": null,
            "border": null,
            "bottom": null,
            "display": null,
            "flex": null,
            "flex_flow": null,
            "grid_area": null,
            "grid_auto_columns": null,
            "grid_auto_flow": null,
            "grid_auto_rows": null,
            "grid_column": null,
            "grid_gap": null,
            "grid_row": null,
            "grid_template_areas": null,
            "grid_template_columns": null,
            "grid_template_rows": null,
            "height": null,
            "justify_content": null,
            "justify_items": null,
            "left": null,
            "margin": null,
            "max_height": null,
            "max_width": null,
            "min_height": null,
            "min_width": null,
            "object_fit": null,
            "object_position": null,
            "order": null,
            "overflow": null,
            "overflow_x": null,
            "overflow_y": null,
            "padding": null,
            "right": null,
            "top": null,
            "visibility": null,
            "width": null
          }
        },
        "7c4ebc43a03848c081d185f3eeb1d4aa": {
          "model_module": "@jupyter-widgets/controls",
          "model_name": "DescriptionStyleModel",
          "model_module_version": "1.5.0",
          "state": {
            "_model_module": "@jupyter-widgets/controls",
            "_model_module_version": "1.5.0",
            "_model_name": "DescriptionStyleModel",
            "_view_count": null,
            "_view_module": "@jupyter-widgets/base",
            "_view_module_version": "1.2.0",
            "_view_name": "StyleView",
            "description_width": ""
          }
        },
        "c7b27045f6214313aa0ca20398ef8e95": {
          "model_module": "@jupyter-widgets/base",
          "model_name": "LayoutModel",
          "model_module_version": "1.2.0",
          "state": {
            "_model_module": "@jupyter-widgets/base",
            "_model_module_version": "1.2.0",
            "_model_name": "LayoutModel",
            "_view_count": null,
            "_view_module": "@jupyter-widgets/base",
            "_view_module_version": "1.2.0",
            "_view_name": "LayoutView",
            "align_content": null,
            "align_items": null,
            "align_self": null,
            "border": null,
            "bottom": null,
            "display": null,
            "flex": null,
            "flex_flow": null,
            "grid_area": null,
            "grid_auto_columns": null,
            "grid_auto_flow": null,
            "grid_auto_rows": null,
            "grid_column": null,
            "grid_gap": null,
            "grid_row": null,
            "grid_template_areas": null,
            "grid_template_columns": null,
            "grid_template_rows": null,
            "height": null,
            "justify_content": null,
            "justify_items": null,
            "left": null,
            "margin": null,
            "max_height": null,
            "max_width": null,
            "min_height": null,
            "min_width": null,
            "object_fit": null,
            "object_position": null,
            "order": null,
            "overflow": null,
            "overflow_x": null,
            "overflow_y": null,
            "padding": null,
            "right": null,
            "top": null,
            "visibility": null,
            "width": null
          }
        },
        "f4896d8c893f46adb2b21fa4577feec0": {
          "model_module": "@jupyter-widgets/controls",
          "model_name": "ProgressStyleModel",
          "model_module_version": "1.5.0",
          "state": {
            "_model_module": "@jupyter-widgets/controls",
            "_model_module_version": "1.5.0",
            "_model_name": "ProgressStyleModel",
            "_view_count": null,
            "_view_module": "@jupyter-widgets/base",
            "_view_module_version": "1.2.0",
            "_view_name": "StyleView",
            "bar_color": null,
            "description_width": ""
          }
        },
        "fc194c7b3833400fb85a333eafb39c50": {
          "model_module": "@jupyter-widgets/base",
          "model_name": "LayoutModel",
          "model_module_version": "1.2.0",
          "state": {
            "_model_module": "@jupyter-widgets/base",
            "_model_module_version": "1.2.0",
            "_model_name": "LayoutModel",
            "_view_count": null,
            "_view_module": "@jupyter-widgets/base",
            "_view_module_version": "1.2.0",
            "_view_name": "LayoutView",
            "align_content": null,
            "align_items": null,
            "align_self": null,
            "border": null,
            "bottom": null,
            "display": null,
            "flex": null,
            "flex_flow": null,
            "grid_area": null,
            "grid_auto_columns": null,
            "grid_auto_flow": null,
            "grid_auto_rows": null,
            "grid_column": null,
            "grid_gap": null,
            "grid_row": null,
            "grid_template_areas": null,
            "grid_template_columns": null,
            "grid_template_rows": null,
            "height": null,
            "justify_content": null,
            "justify_items": null,
            "left": null,
            "margin": null,
            "max_height": null,
            "max_width": null,
            "min_height": null,
            "min_width": null,
            "object_fit": null,
            "object_position": null,
            "order": null,
            "overflow": null,
            "overflow_x": null,
            "overflow_y": null,
            "padding": null,
            "right": null,
            "top": null,
            "visibility": null,
            "width": null
          }
        },
        "2533cf6e7fc7486780201f134238f17a": {
          "model_module": "@jupyter-widgets/controls",
          "model_name": "DescriptionStyleModel",
          "model_module_version": "1.5.0",
          "state": {
            "_model_module": "@jupyter-widgets/controls",
            "_model_module_version": "1.5.0",
            "_model_name": "DescriptionStyleModel",
            "_view_count": null,
            "_view_module": "@jupyter-widgets/base",
            "_view_module_version": "1.2.0",
            "_view_name": "StyleView",
            "description_width": ""
          }
        },
        "c448407d0df74f289b2ef51d5b0113f0": {
          "model_module": "@jupyter-widgets/controls",
          "model_name": "HBoxModel",
          "model_module_version": "1.5.0",
          "state": {
            "_dom_classes": [],
            "_model_module": "@jupyter-widgets/controls",
            "_model_module_version": "1.5.0",
            "_model_name": "HBoxModel",
            "_view_count": null,
            "_view_module": "@jupyter-widgets/controls",
            "_view_module_version": "1.5.0",
            "_view_name": "HBoxView",
            "box_style": "",
            "children": [
              "IPY_MODEL_ff767c420355490cab7c41f82a264481",
              "IPY_MODEL_d1ae29460b734f06bf65b898ad3a1707",
              "IPY_MODEL_0265e877463544a4a4c023b128f5abe0"
            ],
            "layout": "IPY_MODEL_d775f73edbf94d2bb73561c308f145df"
          }
        },
        "ff767c420355490cab7c41f82a264481": {
          "model_module": "@jupyter-widgets/controls",
          "model_name": "HTMLModel",
          "model_module_version": "1.5.0",
          "state": {
            "_dom_classes": [],
            "_model_module": "@jupyter-widgets/controls",
            "_model_module_version": "1.5.0",
            "_model_name": "HTMLModel",
            "_view_count": null,
            "_view_module": "@jupyter-widgets/controls",
            "_view_module_version": "1.5.0",
            "_view_name": "HTMLView",
            "description": "",
            "description_tooltip": null,
            "layout": "IPY_MODEL_15afcdf9dd5d41cc90b0776e00378378",
            "placeholder": "​",
            "style": "IPY_MODEL_8d05c79de700449692f548ef8bd592f8",
            "value": "100%"
          }
        },
        "d1ae29460b734f06bf65b898ad3a1707": {
          "model_module": "@jupyter-widgets/controls",
          "model_name": "FloatProgressModel",
          "model_module_version": "1.5.0",
          "state": {
            "_dom_classes": [],
            "_model_module": "@jupyter-widgets/controls",
            "_model_module_version": "1.5.0",
            "_model_name": "FloatProgressModel",
            "_view_count": null,
            "_view_module": "@jupyter-widgets/controls",
            "_view_module_version": "1.5.0",
            "_view_name": "ProgressView",
            "bar_style": "success",
            "description": "",
            "description_tooltip": null,
            "layout": "IPY_MODEL_d78f6dd8d3ff4808a7c7c8f9a108e505",
            "max": 2425,
            "min": 0,
            "orientation": "horizontal",
            "style": "IPY_MODEL_182bcc4cf4d54f06ba68d71e68fb40ac",
            "value": 2425
          }
        },
        "0265e877463544a4a4c023b128f5abe0": {
          "model_module": "@jupyter-widgets/controls",
          "model_name": "HTMLModel",
          "model_module_version": "1.5.0",
          "state": {
            "_dom_classes": [],
            "_model_module": "@jupyter-widgets/controls",
            "_model_module_version": "1.5.0",
            "_model_name": "HTMLModel",
            "_view_count": null,
            "_view_module": "@jupyter-widgets/controls",
            "_view_module_version": "1.5.0",
            "_view_name": "HTMLView",
            "description": "",
            "description_tooltip": null,
            "layout": "IPY_MODEL_b611d1091a0b45dd8af5ba85e3d8433a",
            "placeholder": "​",
            "style": "IPY_MODEL_cf141d4450904a979b87453edba1e2aa",
            "value": " 2425/2425 [12:54&lt;00:00,  3.80it/s]"
          }
        },
        "d775f73edbf94d2bb73561c308f145df": {
          "model_module": "@jupyter-widgets/base",
          "model_name": "LayoutModel",
          "model_module_version": "1.2.0",
          "state": {
            "_model_module": "@jupyter-widgets/base",
            "_model_module_version": "1.2.0",
            "_model_name": "LayoutModel",
            "_view_count": null,
            "_view_module": "@jupyter-widgets/base",
            "_view_module_version": "1.2.0",
            "_view_name": "LayoutView",
            "align_content": null,
            "align_items": null,
            "align_self": null,
            "border": null,
            "bottom": null,
            "display": null,
            "flex": null,
            "flex_flow": null,
            "grid_area": null,
            "grid_auto_columns": null,
            "grid_auto_flow": null,
            "grid_auto_rows": null,
            "grid_column": null,
            "grid_gap": null,
            "grid_row": null,
            "grid_template_areas": null,
            "grid_template_columns": null,
            "grid_template_rows": null,
            "height": null,
            "justify_content": null,
            "justify_items": null,
            "left": null,
            "margin": null,
            "max_height": null,
            "max_width": null,
            "min_height": null,
            "min_width": null,
            "object_fit": null,
            "object_position": null,
            "order": null,
            "overflow": null,
            "overflow_x": null,
            "overflow_y": null,
            "padding": null,
            "right": null,
            "top": null,
            "visibility": null,
            "width": null
          }
        },
        "15afcdf9dd5d41cc90b0776e00378378": {
          "model_module": "@jupyter-widgets/base",
          "model_name": "LayoutModel",
          "model_module_version": "1.2.0",
          "state": {
            "_model_module": "@jupyter-widgets/base",
            "_model_module_version": "1.2.0",
            "_model_name": "LayoutModel",
            "_view_count": null,
            "_view_module": "@jupyter-widgets/base",
            "_view_module_version": "1.2.0",
            "_view_name": "LayoutView",
            "align_content": null,
            "align_items": null,
            "align_self": null,
            "border": null,
            "bottom": null,
            "display": null,
            "flex": null,
            "flex_flow": null,
            "grid_area": null,
            "grid_auto_columns": null,
            "grid_auto_flow": null,
            "grid_auto_rows": null,
            "grid_column": null,
            "grid_gap": null,
            "grid_row": null,
            "grid_template_areas": null,
            "grid_template_columns": null,
            "grid_template_rows": null,
            "height": null,
            "justify_content": null,
            "justify_items": null,
            "left": null,
            "margin": null,
            "max_height": null,
            "max_width": null,
            "min_height": null,
            "min_width": null,
            "object_fit": null,
            "object_position": null,
            "order": null,
            "overflow": null,
            "overflow_x": null,
            "overflow_y": null,
            "padding": null,
            "right": null,
            "top": null,
            "visibility": null,
            "width": null
          }
        },
        "8d05c79de700449692f548ef8bd592f8": {
          "model_module": "@jupyter-widgets/controls",
          "model_name": "DescriptionStyleModel",
          "model_module_version": "1.5.0",
          "state": {
            "_model_module": "@jupyter-widgets/controls",
            "_model_module_version": "1.5.0",
            "_model_name": "DescriptionStyleModel",
            "_view_count": null,
            "_view_module": "@jupyter-widgets/base",
            "_view_module_version": "1.2.0",
            "_view_name": "StyleView",
            "description_width": ""
          }
        },
        "d78f6dd8d3ff4808a7c7c8f9a108e505": {
          "model_module": "@jupyter-widgets/base",
          "model_name": "LayoutModel",
          "model_module_version": "1.2.0",
          "state": {
            "_model_module": "@jupyter-widgets/base",
            "_model_module_version": "1.2.0",
            "_model_name": "LayoutModel",
            "_view_count": null,
            "_view_module": "@jupyter-widgets/base",
            "_view_module_version": "1.2.0",
            "_view_name": "LayoutView",
            "align_content": null,
            "align_items": null,
            "align_self": null,
            "border": null,
            "bottom": null,
            "display": null,
            "flex": null,
            "flex_flow": null,
            "grid_area": null,
            "grid_auto_columns": null,
            "grid_auto_flow": null,
            "grid_auto_rows": null,
            "grid_column": null,
            "grid_gap": null,
            "grid_row": null,
            "grid_template_areas": null,
            "grid_template_columns": null,
            "grid_template_rows": null,
            "height": null,
            "justify_content": null,
            "justify_items": null,
            "left": null,
            "margin": null,
            "max_height": null,
            "max_width": null,
            "min_height": null,
            "min_width": null,
            "object_fit": null,
            "object_position": null,
            "order": null,
            "overflow": null,
            "overflow_x": null,
            "overflow_y": null,
            "padding": null,
            "right": null,
            "top": null,
            "visibility": null,
            "width": null
          }
        },
        "182bcc4cf4d54f06ba68d71e68fb40ac": {
          "model_module": "@jupyter-widgets/controls",
          "model_name": "ProgressStyleModel",
          "model_module_version": "1.5.0",
          "state": {
            "_model_module": "@jupyter-widgets/controls",
            "_model_module_version": "1.5.0",
            "_model_name": "ProgressStyleModel",
            "_view_count": null,
            "_view_module": "@jupyter-widgets/base",
            "_view_module_version": "1.2.0",
            "_view_name": "StyleView",
            "bar_color": null,
            "description_width": ""
          }
        },
        "b611d1091a0b45dd8af5ba85e3d8433a": {
          "model_module": "@jupyter-widgets/base",
          "model_name": "LayoutModel",
          "model_module_version": "1.2.0",
          "state": {
            "_model_module": "@jupyter-widgets/base",
            "_model_module_version": "1.2.0",
            "_model_name": "LayoutModel",
            "_view_count": null,
            "_view_module": "@jupyter-widgets/base",
            "_view_module_version": "1.2.0",
            "_view_name": "LayoutView",
            "align_content": null,
            "align_items": null,
            "align_self": null,
            "border": null,
            "bottom": null,
            "display": null,
            "flex": null,
            "flex_flow": null,
            "grid_area": null,
            "grid_auto_columns": null,
            "grid_auto_flow": null,
            "grid_auto_rows": null,
            "grid_column": null,
            "grid_gap": null,
            "grid_row": null,
            "grid_template_areas": null,
            "grid_template_columns": null,
            "grid_template_rows": null,
            "height": null,
            "justify_content": null,
            "justify_items": null,
            "left": null,
            "margin": null,
            "max_height": null,
            "max_width": null,
            "min_height": null,
            "min_width": null,
            "object_fit": null,
            "object_position": null,
            "order": null,
            "overflow": null,
            "overflow_x": null,
            "overflow_y": null,
            "padding": null,
            "right": null,
            "top": null,
            "visibility": null,
            "width": null
          }
        },
        "cf141d4450904a979b87453edba1e2aa": {
          "model_module": "@jupyter-widgets/controls",
          "model_name": "DescriptionStyleModel",
          "model_module_version": "1.5.0",
          "state": {
            "_model_module": "@jupyter-widgets/controls",
            "_model_module_version": "1.5.0",
            "_model_name": "DescriptionStyleModel",
            "_view_count": null,
            "_view_module": "@jupyter-widgets/base",
            "_view_module_version": "1.2.0",
            "_view_name": "StyleView",
            "description_width": ""
          }
        },
        "96073a5ab9234adcbfc62aff66d861fc": {
          "model_module": "@jupyter-widgets/controls",
          "model_name": "HBoxModel",
          "model_module_version": "1.5.0",
          "state": {
            "_dom_classes": [],
            "_model_module": "@jupyter-widgets/controls",
            "_model_module_version": "1.5.0",
            "_model_name": "HBoxModel",
            "_view_count": null,
            "_view_module": "@jupyter-widgets/controls",
            "_view_module_version": "1.5.0",
            "_view_name": "HBoxView",
            "box_style": "",
            "children": [
              "IPY_MODEL_cdc6adebab38429389a5d2bc15e809d1",
              "IPY_MODEL_fa07fe30840e4d2fb746cd0acb65a628",
              "IPY_MODEL_84fdb741c15d4c8fa4b50d01d56aa0f6"
            ],
            "layout": "IPY_MODEL_ce07a2c466fc4bf590aec849de5c5ffa"
          }
        },
        "cdc6adebab38429389a5d2bc15e809d1": {
          "model_module": "@jupyter-widgets/controls",
          "model_name": "HTMLModel",
          "model_module_version": "1.5.0",
          "state": {
            "_dom_classes": [],
            "_model_module": "@jupyter-widgets/controls",
            "_model_module_version": "1.5.0",
            "_model_name": "HTMLModel",
            "_view_count": null,
            "_view_module": "@jupyter-widgets/controls",
            "_view_module_version": "1.5.0",
            "_view_name": "HTMLView",
            "description": "",
            "description_tooltip": null,
            "layout": "IPY_MODEL_d0b5ca842c02477e9497e123bcc287c5",
            "placeholder": "​",
            "style": "IPY_MODEL_00d5df6a55fd4a189fde7f982d4a9325",
            "value": "100%"
          }
        },
        "fa07fe30840e4d2fb746cd0acb65a628": {
          "model_module": "@jupyter-widgets/controls",
          "model_name": "FloatProgressModel",
          "model_module_version": "1.5.0",
          "state": {
            "_dom_classes": [],
            "_model_module": "@jupyter-widgets/controls",
            "_model_module_version": "1.5.0",
            "_model_name": "FloatProgressModel",
            "_view_count": null,
            "_view_module": "@jupyter-widgets/controls",
            "_view_module_version": "1.5.0",
            "_view_name": "ProgressView",
            "bar_style": "success",
            "description": "",
            "description_tooltip": null,
            "layout": "IPY_MODEL_8f6b30f282344a9788ce2f86028bd64d",
            "max": 607,
            "min": 0,
            "orientation": "horizontal",
            "style": "IPY_MODEL_a7c2bc938c864d40951f19a1e699b592",
            "value": 607
          }
        },
        "84fdb741c15d4c8fa4b50d01d56aa0f6": {
          "model_module": "@jupyter-widgets/controls",
          "model_name": "HTMLModel",
          "model_module_version": "1.5.0",
          "state": {
            "_dom_classes": [],
            "_model_module": "@jupyter-widgets/controls",
            "_model_module_version": "1.5.0",
            "_model_name": "HTMLModel",
            "_view_count": null,
            "_view_module": "@jupyter-widgets/controls",
            "_view_module_version": "1.5.0",
            "_view_name": "HTMLView",
            "description": "",
            "description_tooltip": null,
            "layout": "IPY_MODEL_78d59e13613a4a46938f0e7fe125b611",
            "placeholder": "​",
            "style": "IPY_MODEL_a021535b6dec4521aec147e7c7c7494d",
            "value": " 607/607 [02:57&lt;00:00,  3.44it/s]"
          }
        },
        "ce07a2c466fc4bf590aec849de5c5ffa": {
          "model_module": "@jupyter-widgets/base",
          "model_name": "LayoutModel",
          "model_module_version": "1.2.0",
          "state": {
            "_model_module": "@jupyter-widgets/base",
            "_model_module_version": "1.2.0",
            "_model_name": "LayoutModel",
            "_view_count": null,
            "_view_module": "@jupyter-widgets/base",
            "_view_module_version": "1.2.0",
            "_view_name": "LayoutView",
            "align_content": null,
            "align_items": null,
            "align_self": null,
            "border": null,
            "bottom": null,
            "display": null,
            "flex": null,
            "flex_flow": null,
            "grid_area": null,
            "grid_auto_columns": null,
            "grid_auto_flow": null,
            "grid_auto_rows": null,
            "grid_column": null,
            "grid_gap": null,
            "grid_row": null,
            "grid_template_areas": null,
            "grid_template_columns": null,
            "grid_template_rows": null,
            "height": null,
            "justify_content": null,
            "justify_items": null,
            "left": null,
            "margin": null,
            "max_height": null,
            "max_width": null,
            "min_height": null,
            "min_width": null,
            "object_fit": null,
            "object_position": null,
            "order": null,
            "overflow": null,
            "overflow_x": null,
            "overflow_y": null,
            "padding": null,
            "right": null,
            "top": null,
            "visibility": null,
            "width": null
          }
        },
        "d0b5ca842c02477e9497e123bcc287c5": {
          "model_module": "@jupyter-widgets/base",
          "model_name": "LayoutModel",
          "model_module_version": "1.2.0",
          "state": {
            "_model_module": "@jupyter-widgets/base",
            "_model_module_version": "1.2.0",
            "_model_name": "LayoutModel",
            "_view_count": null,
            "_view_module": "@jupyter-widgets/base",
            "_view_module_version": "1.2.0",
            "_view_name": "LayoutView",
            "align_content": null,
            "align_items": null,
            "align_self": null,
            "border": null,
            "bottom": null,
            "display": null,
            "flex": null,
            "flex_flow": null,
            "grid_area": null,
            "grid_auto_columns": null,
            "grid_auto_flow": null,
            "grid_auto_rows": null,
            "grid_column": null,
            "grid_gap": null,
            "grid_row": null,
            "grid_template_areas": null,
            "grid_template_columns": null,
            "grid_template_rows": null,
            "height": null,
            "justify_content": null,
            "justify_items": null,
            "left": null,
            "margin": null,
            "max_height": null,
            "max_width": null,
            "min_height": null,
            "min_width": null,
            "object_fit": null,
            "object_position": null,
            "order": null,
            "overflow": null,
            "overflow_x": null,
            "overflow_y": null,
            "padding": null,
            "right": null,
            "top": null,
            "visibility": null,
            "width": null
          }
        },
        "00d5df6a55fd4a189fde7f982d4a9325": {
          "model_module": "@jupyter-widgets/controls",
          "model_name": "DescriptionStyleModel",
          "model_module_version": "1.5.0",
          "state": {
            "_model_module": "@jupyter-widgets/controls",
            "_model_module_version": "1.5.0",
            "_model_name": "DescriptionStyleModel",
            "_view_count": null,
            "_view_module": "@jupyter-widgets/base",
            "_view_module_version": "1.2.0",
            "_view_name": "StyleView",
            "description_width": ""
          }
        },
        "8f6b30f282344a9788ce2f86028bd64d": {
          "model_module": "@jupyter-widgets/base",
          "model_name": "LayoutModel",
          "model_module_version": "1.2.0",
          "state": {
            "_model_module": "@jupyter-widgets/base",
            "_model_module_version": "1.2.0",
            "_model_name": "LayoutModel",
            "_view_count": null,
            "_view_module": "@jupyter-widgets/base",
            "_view_module_version": "1.2.0",
            "_view_name": "LayoutView",
            "align_content": null,
            "align_items": null,
            "align_self": null,
            "border": null,
            "bottom": null,
            "display": null,
            "flex": null,
            "flex_flow": null,
            "grid_area": null,
            "grid_auto_columns": null,
            "grid_auto_flow": null,
            "grid_auto_rows": null,
            "grid_column": null,
            "grid_gap": null,
            "grid_row": null,
            "grid_template_areas": null,
            "grid_template_columns": null,
            "grid_template_rows": null,
            "height": null,
            "justify_content": null,
            "justify_items": null,
            "left": null,
            "margin": null,
            "max_height": null,
            "max_width": null,
            "min_height": null,
            "min_width": null,
            "object_fit": null,
            "object_position": null,
            "order": null,
            "overflow": null,
            "overflow_x": null,
            "overflow_y": null,
            "padding": null,
            "right": null,
            "top": null,
            "visibility": null,
            "width": null
          }
        },
        "a7c2bc938c864d40951f19a1e699b592": {
          "model_module": "@jupyter-widgets/controls",
          "model_name": "ProgressStyleModel",
          "model_module_version": "1.5.0",
          "state": {
            "_model_module": "@jupyter-widgets/controls",
            "_model_module_version": "1.5.0",
            "_model_name": "ProgressStyleModel",
            "_view_count": null,
            "_view_module": "@jupyter-widgets/base",
            "_view_module_version": "1.2.0",
            "_view_name": "StyleView",
            "bar_color": null,
            "description_width": ""
          }
        },
        "78d59e13613a4a46938f0e7fe125b611": {
          "model_module": "@jupyter-widgets/base",
          "model_name": "LayoutModel",
          "model_module_version": "1.2.0",
          "state": {
            "_model_module": "@jupyter-widgets/base",
            "_model_module_version": "1.2.0",
            "_model_name": "LayoutModel",
            "_view_count": null,
            "_view_module": "@jupyter-widgets/base",
            "_view_module_version": "1.2.0",
            "_view_name": "LayoutView",
            "align_content": null,
            "align_items": null,
            "align_self": null,
            "border": null,
            "bottom": null,
            "display": null,
            "flex": null,
            "flex_flow": null,
            "grid_area": null,
            "grid_auto_columns": null,
            "grid_auto_flow": null,
            "grid_auto_rows": null,
            "grid_column": null,
            "grid_gap": null,
            "grid_row": null,
            "grid_template_areas": null,
            "grid_template_columns": null,
            "grid_template_rows": null,
            "height": null,
            "justify_content": null,
            "justify_items": null,
            "left": null,
            "margin": null,
            "max_height": null,
            "max_width": null,
            "min_height": null,
            "min_width": null,
            "object_fit": null,
            "object_position": null,
            "order": null,
            "overflow": null,
            "overflow_x": null,
            "overflow_y": null,
            "padding": null,
            "right": null,
            "top": null,
            "visibility": null,
            "width": null
          }
        },
        "a021535b6dec4521aec147e7c7c7494d": {
          "model_module": "@jupyter-widgets/controls",
          "model_name": "DescriptionStyleModel",
          "model_module_version": "1.5.0",
          "state": {
            "_model_module": "@jupyter-widgets/controls",
            "_model_module_version": "1.5.0",
            "_model_name": "DescriptionStyleModel",
            "_view_count": null,
            "_view_module": "@jupyter-widgets/base",
            "_view_module_version": "1.2.0",
            "_view_name": "StyleView",
            "description_width": ""
          }
        },
        "c04b3881165c40f2b7df7f0197c80739": {
          "model_module": "@jupyter-widgets/controls",
          "model_name": "HBoxModel",
          "model_module_version": "1.5.0",
          "state": {
            "_dom_classes": [],
            "_model_module": "@jupyter-widgets/controls",
            "_model_module_version": "1.5.0",
            "_model_name": "HBoxModel",
            "_view_count": null,
            "_view_module": "@jupyter-widgets/controls",
            "_view_module_version": "1.5.0",
            "_view_name": "HBoxView",
            "box_style": "",
            "children": [
              "IPY_MODEL_6e94c56514ea4b7abed37bea93162ac5",
              "IPY_MODEL_60a14a8f708940f3906c2fd1ebb600e2",
              "IPY_MODEL_e6df8c06d6964d2faad5100895de7a8c"
            ],
            "layout": "IPY_MODEL_03567aa548c24c07b790cf256d26cf89"
          }
        },
        "6e94c56514ea4b7abed37bea93162ac5": {
          "model_module": "@jupyter-widgets/controls",
          "model_name": "HTMLModel",
          "model_module_version": "1.5.0",
          "state": {
            "_dom_classes": [],
            "_model_module": "@jupyter-widgets/controls",
            "_model_module_version": "1.5.0",
            "_model_name": "HTMLModel",
            "_view_count": null,
            "_view_module": "@jupyter-widgets/controls",
            "_view_module_version": "1.5.0",
            "_view_name": "HTMLView",
            "description": "",
            "description_tooltip": null,
            "layout": "IPY_MODEL_f3347d31e2f54bea8f42c7cd0fbf031d",
            "placeholder": "​",
            "style": "IPY_MODEL_790c0f30ab204996bc70d64a686e8a1e",
            "value": "100%"
          }
        },
        "60a14a8f708940f3906c2fd1ebb600e2": {
          "model_module": "@jupyter-widgets/controls",
          "model_name": "FloatProgressModel",
          "model_module_version": "1.5.0",
          "state": {
            "_dom_classes": [],
            "_model_module": "@jupyter-widgets/controls",
            "_model_module_version": "1.5.0",
            "_model_name": "FloatProgressModel",
            "_view_count": null,
            "_view_module": "@jupyter-widgets/controls",
            "_view_module_version": "1.5.0",
            "_view_name": "ProgressView",
            "bar_style": "success",
            "description": "",
            "description_tooltip": null,
            "layout": "IPY_MODEL_c6e9f1e69e794e9f923d3b4456944fbf",
            "max": 2425,
            "min": 0,
            "orientation": "horizontal",
            "style": "IPY_MODEL_18af60cf7e4749e0a61154c0cbf6d5c1",
            "value": 2425
          }
        },
        "e6df8c06d6964d2faad5100895de7a8c": {
          "model_module": "@jupyter-widgets/controls",
          "model_name": "HTMLModel",
          "model_module_version": "1.5.0",
          "state": {
            "_dom_classes": [],
            "_model_module": "@jupyter-widgets/controls",
            "_model_module_version": "1.5.0",
            "_model_name": "HTMLModel",
            "_view_count": null,
            "_view_module": "@jupyter-widgets/controls",
            "_view_module_version": "1.5.0",
            "_view_name": "HTMLView",
            "description": "",
            "description_tooltip": null,
            "layout": "IPY_MODEL_2a5f602ef4824743a12bb2a1d3faa892",
            "placeholder": "​",
            "style": "IPY_MODEL_f7cc8d38095b44dba79fc57926750d24",
            "value": " 2425/2425 [12:54&lt;00:00,  3.82it/s]"
          }
        },
        "03567aa548c24c07b790cf256d26cf89": {
          "model_module": "@jupyter-widgets/base",
          "model_name": "LayoutModel",
          "model_module_version": "1.2.0",
          "state": {
            "_model_module": "@jupyter-widgets/base",
            "_model_module_version": "1.2.0",
            "_model_name": "LayoutModel",
            "_view_count": null,
            "_view_module": "@jupyter-widgets/base",
            "_view_module_version": "1.2.0",
            "_view_name": "LayoutView",
            "align_content": null,
            "align_items": null,
            "align_self": null,
            "border": null,
            "bottom": null,
            "display": null,
            "flex": null,
            "flex_flow": null,
            "grid_area": null,
            "grid_auto_columns": null,
            "grid_auto_flow": null,
            "grid_auto_rows": null,
            "grid_column": null,
            "grid_gap": null,
            "grid_row": null,
            "grid_template_areas": null,
            "grid_template_columns": null,
            "grid_template_rows": null,
            "height": null,
            "justify_content": null,
            "justify_items": null,
            "left": null,
            "margin": null,
            "max_height": null,
            "max_width": null,
            "min_height": null,
            "min_width": null,
            "object_fit": null,
            "object_position": null,
            "order": null,
            "overflow": null,
            "overflow_x": null,
            "overflow_y": null,
            "padding": null,
            "right": null,
            "top": null,
            "visibility": null,
            "width": null
          }
        },
        "f3347d31e2f54bea8f42c7cd0fbf031d": {
          "model_module": "@jupyter-widgets/base",
          "model_name": "LayoutModel",
          "model_module_version": "1.2.0",
          "state": {
            "_model_module": "@jupyter-widgets/base",
            "_model_module_version": "1.2.0",
            "_model_name": "LayoutModel",
            "_view_count": null,
            "_view_module": "@jupyter-widgets/base",
            "_view_module_version": "1.2.0",
            "_view_name": "LayoutView",
            "align_content": null,
            "align_items": null,
            "align_self": null,
            "border": null,
            "bottom": null,
            "display": null,
            "flex": null,
            "flex_flow": null,
            "grid_area": null,
            "grid_auto_columns": null,
            "grid_auto_flow": null,
            "grid_auto_rows": null,
            "grid_column": null,
            "grid_gap": null,
            "grid_row": null,
            "grid_template_areas": null,
            "grid_template_columns": null,
            "grid_template_rows": null,
            "height": null,
            "justify_content": null,
            "justify_items": null,
            "left": null,
            "margin": null,
            "max_height": null,
            "max_width": null,
            "min_height": null,
            "min_width": null,
            "object_fit": null,
            "object_position": null,
            "order": null,
            "overflow": null,
            "overflow_x": null,
            "overflow_y": null,
            "padding": null,
            "right": null,
            "top": null,
            "visibility": null,
            "width": null
          }
        },
        "790c0f30ab204996bc70d64a686e8a1e": {
          "model_module": "@jupyter-widgets/controls",
          "model_name": "DescriptionStyleModel",
          "model_module_version": "1.5.0",
          "state": {
            "_model_module": "@jupyter-widgets/controls",
            "_model_module_version": "1.5.0",
            "_model_name": "DescriptionStyleModel",
            "_view_count": null,
            "_view_module": "@jupyter-widgets/base",
            "_view_module_version": "1.2.0",
            "_view_name": "StyleView",
            "description_width": ""
          }
        },
        "c6e9f1e69e794e9f923d3b4456944fbf": {
          "model_module": "@jupyter-widgets/base",
          "model_name": "LayoutModel",
          "model_module_version": "1.2.0",
          "state": {
            "_model_module": "@jupyter-widgets/base",
            "_model_module_version": "1.2.0",
            "_model_name": "LayoutModel",
            "_view_count": null,
            "_view_module": "@jupyter-widgets/base",
            "_view_module_version": "1.2.0",
            "_view_name": "LayoutView",
            "align_content": null,
            "align_items": null,
            "align_self": null,
            "border": null,
            "bottom": null,
            "display": null,
            "flex": null,
            "flex_flow": null,
            "grid_area": null,
            "grid_auto_columns": null,
            "grid_auto_flow": null,
            "grid_auto_rows": null,
            "grid_column": null,
            "grid_gap": null,
            "grid_row": null,
            "grid_template_areas": null,
            "grid_template_columns": null,
            "grid_template_rows": null,
            "height": null,
            "justify_content": null,
            "justify_items": null,
            "left": null,
            "margin": null,
            "max_height": null,
            "max_width": null,
            "min_height": null,
            "min_width": null,
            "object_fit": null,
            "object_position": null,
            "order": null,
            "overflow": null,
            "overflow_x": null,
            "overflow_y": null,
            "padding": null,
            "right": null,
            "top": null,
            "visibility": null,
            "width": null
          }
        },
        "18af60cf7e4749e0a61154c0cbf6d5c1": {
          "model_module": "@jupyter-widgets/controls",
          "model_name": "ProgressStyleModel",
          "model_module_version": "1.5.0",
          "state": {
            "_model_module": "@jupyter-widgets/controls",
            "_model_module_version": "1.5.0",
            "_model_name": "ProgressStyleModel",
            "_view_count": null,
            "_view_module": "@jupyter-widgets/base",
            "_view_module_version": "1.2.0",
            "_view_name": "StyleView",
            "bar_color": null,
            "description_width": ""
          }
        },
        "2a5f602ef4824743a12bb2a1d3faa892": {
          "model_module": "@jupyter-widgets/base",
          "model_name": "LayoutModel",
          "model_module_version": "1.2.0",
          "state": {
            "_model_module": "@jupyter-widgets/base",
            "_model_module_version": "1.2.0",
            "_model_name": "LayoutModel",
            "_view_count": null,
            "_view_module": "@jupyter-widgets/base",
            "_view_module_version": "1.2.0",
            "_view_name": "LayoutView",
            "align_content": null,
            "align_items": null,
            "align_self": null,
            "border": null,
            "bottom": null,
            "display": null,
            "flex": null,
            "flex_flow": null,
            "grid_area": null,
            "grid_auto_columns": null,
            "grid_auto_flow": null,
            "grid_auto_rows": null,
            "grid_column": null,
            "grid_gap": null,
            "grid_row": null,
            "grid_template_areas": null,
            "grid_template_columns": null,
            "grid_template_rows": null,
            "height": null,
            "justify_content": null,
            "justify_items": null,
            "left": null,
            "margin": null,
            "max_height": null,
            "max_width": null,
            "min_height": null,
            "min_width": null,
            "object_fit": null,
            "object_position": null,
            "order": null,
            "overflow": null,
            "overflow_x": null,
            "overflow_y": null,
            "padding": null,
            "right": null,
            "top": null,
            "visibility": null,
            "width": null
          }
        },
        "f7cc8d38095b44dba79fc57926750d24": {
          "model_module": "@jupyter-widgets/controls",
          "model_name": "DescriptionStyleModel",
          "model_module_version": "1.5.0",
          "state": {
            "_model_module": "@jupyter-widgets/controls",
            "_model_module_version": "1.5.0",
            "_model_name": "DescriptionStyleModel",
            "_view_count": null,
            "_view_module": "@jupyter-widgets/base",
            "_view_module_version": "1.2.0",
            "_view_name": "StyleView",
            "description_width": ""
          }
        },
        "4915680e1dc54d28b727cb4b107fbf48": {
          "model_module": "@jupyter-widgets/controls",
          "model_name": "HBoxModel",
          "model_module_version": "1.5.0",
          "state": {
            "_dom_classes": [],
            "_model_module": "@jupyter-widgets/controls",
            "_model_module_version": "1.5.0",
            "_model_name": "HBoxModel",
            "_view_count": null,
            "_view_module": "@jupyter-widgets/controls",
            "_view_module_version": "1.5.0",
            "_view_name": "HBoxView",
            "box_style": "",
            "children": [
              "IPY_MODEL_fde4596149d74d7ebe3d6005753e9276",
              "IPY_MODEL_bbd79ca70c6f430eb658fb44cc5e6983",
              "IPY_MODEL_7e2b7f0c184f42adb94234149adeefce"
            ],
            "layout": "IPY_MODEL_665db5009e2f47c3ad685ff78c4ed8f7"
          }
        },
        "fde4596149d74d7ebe3d6005753e9276": {
          "model_module": "@jupyter-widgets/controls",
          "model_name": "HTMLModel",
          "model_module_version": "1.5.0",
          "state": {
            "_dom_classes": [],
            "_model_module": "@jupyter-widgets/controls",
            "_model_module_version": "1.5.0",
            "_model_name": "HTMLModel",
            "_view_count": null,
            "_view_module": "@jupyter-widgets/controls",
            "_view_module_version": "1.5.0",
            "_view_name": "HTMLView",
            "description": "",
            "description_tooltip": null,
            "layout": "IPY_MODEL_4dd79f79f6fe47718bc379c3171e506b",
            "placeholder": "​",
            "style": "IPY_MODEL_e38ead47015b4d9ab2013dffaebab827",
            "value": "100%"
          }
        },
        "bbd79ca70c6f430eb658fb44cc5e6983": {
          "model_module": "@jupyter-widgets/controls",
          "model_name": "FloatProgressModel",
          "model_module_version": "1.5.0",
          "state": {
            "_dom_classes": [],
            "_model_module": "@jupyter-widgets/controls",
            "_model_module_version": "1.5.0",
            "_model_name": "FloatProgressModel",
            "_view_count": null,
            "_view_module": "@jupyter-widgets/controls",
            "_view_module_version": "1.5.0",
            "_view_name": "ProgressView",
            "bar_style": "success",
            "description": "",
            "description_tooltip": null,
            "layout": "IPY_MODEL_d51b343f62f94312b23377498a4d53f1",
            "max": 607,
            "min": 0,
            "orientation": "horizontal",
            "style": "IPY_MODEL_48eb28f81b4146a88aa2db6bea8a8f2f",
            "value": 607
          }
        },
        "7e2b7f0c184f42adb94234149adeefce": {
          "model_module": "@jupyter-widgets/controls",
          "model_name": "HTMLModel",
          "model_module_version": "1.5.0",
          "state": {
            "_dom_classes": [],
            "_model_module": "@jupyter-widgets/controls",
            "_model_module_version": "1.5.0",
            "_model_name": "HTMLModel",
            "_view_count": null,
            "_view_module": "@jupyter-widgets/controls",
            "_view_module_version": "1.5.0",
            "_view_name": "HTMLView",
            "description": "",
            "description_tooltip": null,
            "layout": "IPY_MODEL_13e6b1865a004dc89d4cf93d78ea5260",
            "placeholder": "​",
            "style": "IPY_MODEL_1006493818ec4657a5f79addfb55dcf9",
            "value": " 607/607 [02:56&lt;00:00,  3.44it/s]"
          }
        },
        "665db5009e2f47c3ad685ff78c4ed8f7": {
          "model_module": "@jupyter-widgets/base",
          "model_name": "LayoutModel",
          "model_module_version": "1.2.0",
          "state": {
            "_model_module": "@jupyter-widgets/base",
            "_model_module_version": "1.2.0",
            "_model_name": "LayoutModel",
            "_view_count": null,
            "_view_module": "@jupyter-widgets/base",
            "_view_module_version": "1.2.0",
            "_view_name": "LayoutView",
            "align_content": null,
            "align_items": null,
            "align_self": null,
            "border": null,
            "bottom": null,
            "display": null,
            "flex": null,
            "flex_flow": null,
            "grid_area": null,
            "grid_auto_columns": null,
            "grid_auto_flow": null,
            "grid_auto_rows": null,
            "grid_column": null,
            "grid_gap": null,
            "grid_row": null,
            "grid_template_areas": null,
            "grid_template_columns": null,
            "grid_template_rows": null,
            "height": null,
            "justify_content": null,
            "justify_items": null,
            "left": null,
            "margin": null,
            "max_height": null,
            "max_width": null,
            "min_height": null,
            "min_width": null,
            "object_fit": null,
            "object_position": null,
            "order": null,
            "overflow": null,
            "overflow_x": null,
            "overflow_y": null,
            "padding": null,
            "right": null,
            "top": null,
            "visibility": null,
            "width": null
          }
        },
        "4dd79f79f6fe47718bc379c3171e506b": {
          "model_module": "@jupyter-widgets/base",
          "model_name": "LayoutModel",
          "model_module_version": "1.2.0",
          "state": {
            "_model_module": "@jupyter-widgets/base",
            "_model_module_version": "1.2.0",
            "_model_name": "LayoutModel",
            "_view_count": null,
            "_view_module": "@jupyter-widgets/base",
            "_view_module_version": "1.2.0",
            "_view_name": "LayoutView",
            "align_content": null,
            "align_items": null,
            "align_self": null,
            "border": null,
            "bottom": null,
            "display": null,
            "flex": null,
            "flex_flow": null,
            "grid_area": null,
            "grid_auto_columns": null,
            "grid_auto_flow": null,
            "grid_auto_rows": null,
            "grid_column": null,
            "grid_gap": null,
            "grid_row": null,
            "grid_template_areas": null,
            "grid_template_columns": null,
            "grid_template_rows": null,
            "height": null,
            "justify_content": null,
            "justify_items": null,
            "left": null,
            "margin": null,
            "max_height": null,
            "max_width": null,
            "min_height": null,
            "min_width": null,
            "object_fit": null,
            "object_position": null,
            "order": null,
            "overflow": null,
            "overflow_x": null,
            "overflow_y": null,
            "padding": null,
            "right": null,
            "top": null,
            "visibility": null,
            "width": null
          }
        },
        "e38ead47015b4d9ab2013dffaebab827": {
          "model_module": "@jupyter-widgets/controls",
          "model_name": "DescriptionStyleModel",
          "model_module_version": "1.5.0",
          "state": {
            "_model_module": "@jupyter-widgets/controls",
            "_model_module_version": "1.5.0",
            "_model_name": "DescriptionStyleModel",
            "_view_count": null,
            "_view_module": "@jupyter-widgets/base",
            "_view_module_version": "1.2.0",
            "_view_name": "StyleView",
            "description_width": ""
          }
        },
        "d51b343f62f94312b23377498a4d53f1": {
          "model_module": "@jupyter-widgets/base",
          "model_name": "LayoutModel",
          "model_module_version": "1.2.0",
          "state": {
            "_model_module": "@jupyter-widgets/base",
            "_model_module_version": "1.2.0",
            "_model_name": "LayoutModel",
            "_view_count": null,
            "_view_module": "@jupyter-widgets/base",
            "_view_module_version": "1.2.0",
            "_view_name": "LayoutView",
            "align_content": null,
            "align_items": null,
            "align_self": null,
            "border": null,
            "bottom": null,
            "display": null,
            "flex": null,
            "flex_flow": null,
            "grid_area": null,
            "grid_auto_columns": null,
            "grid_auto_flow": null,
            "grid_auto_rows": null,
            "grid_column": null,
            "grid_gap": null,
            "grid_row": null,
            "grid_template_areas": null,
            "grid_template_columns": null,
            "grid_template_rows": null,
            "height": null,
            "justify_content": null,
            "justify_items": null,
            "left": null,
            "margin": null,
            "max_height": null,
            "max_width": null,
            "min_height": null,
            "min_width": null,
            "object_fit": null,
            "object_position": null,
            "order": null,
            "overflow": null,
            "overflow_x": null,
            "overflow_y": null,
            "padding": null,
            "right": null,
            "top": null,
            "visibility": null,
            "width": null
          }
        },
        "48eb28f81b4146a88aa2db6bea8a8f2f": {
          "model_module": "@jupyter-widgets/controls",
          "model_name": "ProgressStyleModel",
          "model_module_version": "1.5.0",
          "state": {
            "_model_module": "@jupyter-widgets/controls",
            "_model_module_version": "1.5.0",
            "_model_name": "ProgressStyleModel",
            "_view_count": null,
            "_view_module": "@jupyter-widgets/base",
            "_view_module_version": "1.2.0",
            "_view_name": "StyleView",
            "bar_color": null,
            "description_width": ""
          }
        },
        "13e6b1865a004dc89d4cf93d78ea5260": {
          "model_module": "@jupyter-widgets/base",
          "model_name": "LayoutModel",
          "model_module_version": "1.2.0",
          "state": {
            "_model_module": "@jupyter-widgets/base",
            "_model_module_version": "1.2.0",
            "_model_name": "LayoutModel",
            "_view_count": null,
            "_view_module": "@jupyter-widgets/base",
            "_view_module_version": "1.2.0",
            "_view_name": "LayoutView",
            "align_content": null,
            "align_items": null,
            "align_self": null,
            "border": null,
            "bottom": null,
            "display": null,
            "flex": null,
            "flex_flow": null,
            "grid_area": null,
            "grid_auto_columns": null,
            "grid_auto_flow": null,
            "grid_auto_rows": null,
            "grid_column": null,
            "grid_gap": null,
            "grid_row": null,
            "grid_template_areas": null,
            "grid_template_columns": null,
            "grid_template_rows": null,
            "height": null,
            "justify_content": null,
            "justify_items": null,
            "left": null,
            "margin": null,
            "max_height": null,
            "max_width": null,
            "min_height": null,
            "min_width": null,
            "object_fit": null,
            "object_position": null,
            "order": null,
            "overflow": null,
            "overflow_x": null,
            "overflow_y": null,
            "padding": null,
            "right": null,
            "top": null,
            "visibility": null,
            "width": null
          }
        },
        "1006493818ec4657a5f79addfb55dcf9": {
          "model_module": "@jupyter-widgets/controls",
          "model_name": "DescriptionStyleModel",
          "model_module_version": "1.5.0",
          "state": {
            "_model_module": "@jupyter-widgets/controls",
            "_model_module_version": "1.5.0",
            "_model_name": "DescriptionStyleModel",
            "_view_count": null,
            "_view_module": "@jupyter-widgets/base",
            "_view_module_version": "1.2.0",
            "_view_name": "StyleView",
            "description_width": ""
          }
        },
        "d6b32508a35d41c7a40dfa173353ae7c": {
          "model_module": "@jupyter-widgets/controls",
          "model_name": "HBoxModel",
          "model_module_version": "1.5.0",
          "state": {
            "_dom_classes": [],
            "_model_module": "@jupyter-widgets/controls",
            "_model_module_version": "1.5.0",
            "_model_name": "HBoxModel",
            "_view_count": null,
            "_view_module": "@jupyter-widgets/controls",
            "_view_module_version": "1.5.0",
            "_view_name": "HBoxView",
            "box_style": "",
            "children": [
              "IPY_MODEL_9f07c736a1cb484f8a087c15f27a7581",
              "IPY_MODEL_6c80614173e843b0a08495198a722702",
              "IPY_MODEL_a1bc4e9ab52f4fcc8039bf45a6ba59fe"
            ],
            "layout": "IPY_MODEL_ff095e591695434dad331cf00df0ddf4"
          }
        },
        "9f07c736a1cb484f8a087c15f27a7581": {
          "model_module": "@jupyter-widgets/controls",
          "model_name": "HTMLModel",
          "model_module_version": "1.5.0",
          "state": {
            "_dom_classes": [],
            "_model_module": "@jupyter-widgets/controls",
            "_model_module_version": "1.5.0",
            "_model_name": "HTMLModel",
            "_view_count": null,
            "_view_module": "@jupyter-widgets/controls",
            "_view_module_version": "1.5.0",
            "_view_name": "HTMLView",
            "description": "",
            "description_tooltip": null,
            "layout": "IPY_MODEL_1f1302c3c9de448e88d9053f213f763c",
            "placeholder": "​",
            "style": "IPY_MODEL_f2995f18d40f40dc97e312e305669c56",
            "value": "100%"
          }
        },
        "6c80614173e843b0a08495198a722702": {
          "model_module": "@jupyter-widgets/controls",
          "model_name": "FloatProgressModel",
          "model_module_version": "1.5.0",
          "state": {
            "_dom_classes": [],
            "_model_module": "@jupyter-widgets/controls",
            "_model_module_version": "1.5.0",
            "_model_name": "FloatProgressModel",
            "_view_count": null,
            "_view_module": "@jupyter-widgets/controls",
            "_view_module_version": "1.5.0",
            "_view_name": "ProgressView",
            "bar_style": "success",
            "description": "",
            "description_tooltip": null,
            "layout": "IPY_MODEL_d475ec622b99418eb50e95477731b392",
            "max": 2425,
            "min": 0,
            "orientation": "horizontal",
            "style": "IPY_MODEL_dc9d5652b4324e6fbfffa94c4658b1d1",
            "value": 2425
          }
        },
        "a1bc4e9ab52f4fcc8039bf45a6ba59fe": {
          "model_module": "@jupyter-widgets/controls",
          "model_name": "HTMLModel",
          "model_module_version": "1.5.0",
          "state": {
            "_dom_classes": [],
            "_model_module": "@jupyter-widgets/controls",
            "_model_module_version": "1.5.0",
            "_model_name": "HTMLModel",
            "_view_count": null,
            "_view_module": "@jupyter-widgets/controls",
            "_view_module_version": "1.5.0",
            "_view_name": "HTMLView",
            "description": "",
            "description_tooltip": null,
            "layout": "IPY_MODEL_6c74a0364bfd4d5796ed81a81ae65105",
            "placeholder": "​",
            "style": "IPY_MODEL_e7a808c540a8465bb98ad4d46b46b8fd",
            "value": " 2425/2425 [12:55&lt;00:00,  3.82it/s]"
          }
        },
        "ff095e591695434dad331cf00df0ddf4": {
          "model_module": "@jupyter-widgets/base",
          "model_name": "LayoutModel",
          "model_module_version": "1.2.0",
          "state": {
            "_model_module": "@jupyter-widgets/base",
            "_model_module_version": "1.2.0",
            "_model_name": "LayoutModel",
            "_view_count": null,
            "_view_module": "@jupyter-widgets/base",
            "_view_module_version": "1.2.0",
            "_view_name": "LayoutView",
            "align_content": null,
            "align_items": null,
            "align_self": null,
            "border": null,
            "bottom": null,
            "display": null,
            "flex": null,
            "flex_flow": null,
            "grid_area": null,
            "grid_auto_columns": null,
            "grid_auto_flow": null,
            "grid_auto_rows": null,
            "grid_column": null,
            "grid_gap": null,
            "grid_row": null,
            "grid_template_areas": null,
            "grid_template_columns": null,
            "grid_template_rows": null,
            "height": null,
            "justify_content": null,
            "justify_items": null,
            "left": null,
            "margin": null,
            "max_height": null,
            "max_width": null,
            "min_height": null,
            "min_width": null,
            "object_fit": null,
            "object_position": null,
            "order": null,
            "overflow": null,
            "overflow_x": null,
            "overflow_y": null,
            "padding": null,
            "right": null,
            "top": null,
            "visibility": null,
            "width": null
          }
        },
        "1f1302c3c9de448e88d9053f213f763c": {
          "model_module": "@jupyter-widgets/base",
          "model_name": "LayoutModel",
          "model_module_version": "1.2.0",
          "state": {
            "_model_module": "@jupyter-widgets/base",
            "_model_module_version": "1.2.0",
            "_model_name": "LayoutModel",
            "_view_count": null,
            "_view_module": "@jupyter-widgets/base",
            "_view_module_version": "1.2.0",
            "_view_name": "LayoutView",
            "align_content": null,
            "align_items": null,
            "align_self": null,
            "border": null,
            "bottom": null,
            "display": null,
            "flex": null,
            "flex_flow": null,
            "grid_area": null,
            "grid_auto_columns": null,
            "grid_auto_flow": null,
            "grid_auto_rows": null,
            "grid_column": null,
            "grid_gap": null,
            "grid_row": null,
            "grid_template_areas": null,
            "grid_template_columns": null,
            "grid_template_rows": null,
            "height": null,
            "justify_content": null,
            "justify_items": null,
            "left": null,
            "margin": null,
            "max_height": null,
            "max_width": null,
            "min_height": null,
            "min_width": null,
            "object_fit": null,
            "object_position": null,
            "order": null,
            "overflow": null,
            "overflow_x": null,
            "overflow_y": null,
            "padding": null,
            "right": null,
            "top": null,
            "visibility": null,
            "width": null
          }
        },
        "f2995f18d40f40dc97e312e305669c56": {
          "model_module": "@jupyter-widgets/controls",
          "model_name": "DescriptionStyleModel",
          "model_module_version": "1.5.0",
          "state": {
            "_model_module": "@jupyter-widgets/controls",
            "_model_module_version": "1.5.0",
            "_model_name": "DescriptionStyleModel",
            "_view_count": null,
            "_view_module": "@jupyter-widgets/base",
            "_view_module_version": "1.2.0",
            "_view_name": "StyleView",
            "description_width": ""
          }
        },
        "d475ec622b99418eb50e95477731b392": {
          "model_module": "@jupyter-widgets/base",
          "model_name": "LayoutModel",
          "model_module_version": "1.2.0",
          "state": {
            "_model_module": "@jupyter-widgets/base",
            "_model_module_version": "1.2.0",
            "_model_name": "LayoutModel",
            "_view_count": null,
            "_view_module": "@jupyter-widgets/base",
            "_view_module_version": "1.2.0",
            "_view_name": "LayoutView",
            "align_content": null,
            "align_items": null,
            "align_self": null,
            "border": null,
            "bottom": null,
            "display": null,
            "flex": null,
            "flex_flow": null,
            "grid_area": null,
            "grid_auto_columns": null,
            "grid_auto_flow": null,
            "grid_auto_rows": null,
            "grid_column": null,
            "grid_gap": null,
            "grid_row": null,
            "grid_template_areas": null,
            "grid_template_columns": null,
            "grid_template_rows": null,
            "height": null,
            "justify_content": null,
            "justify_items": null,
            "left": null,
            "margin": null,
            "max_height": null,
            "max_width": null,
            "min_height": null,
            "min_width": null,
            "object_fit": null,
            "object_position": null,
            "order": null,
            "overflow": null,
            "overflow_x": null,
            "overflow_y": null,
            "padding": null,
            "right": null,
            "top": null,
            "visibility": null,
            "width": null
          }
        },
        "dc9d5652b4324e6fbfffa94c4658b1d1": {
          "model_module": "@jupyter-widgets/controls",
          "model_name": "ProgressStyleModel",
          "model_module_version": "1.5.0",
          "state": {
            "_model_module": "@jupyter-widgets/controls",
            "_model_module_version": "1.5.0",
            "_model_name": "ProgressStyleModel",
            "_view_count": null,
            "_view_module": "@jupyter-widgets/base",
            "_view_module_version": "1.2.0",
            "_view_name": "StyleView",
            "bar_color": null,
            "description_width": ""
          }
        },
        "6c74a0364bfd4d5796ed81a81ae65105": {
          "model_module": "@jupyter-widgets/base",
          "model_name": "LayoutModel",
          "model_module_version": "1.2.0",
          "state": {
            "_model_module": "@jupyter-widgets/base",
            "_model_module_version": "1.2.0",
            "_model_name": "LayoutModel",
            "_view_count": null,
            "_view_module": "@jupyter-widgets/base",
            "_view_module_version": "1.2.0",
            "_view_name": "LayoutView",
            "align_content": null,
            "align_items": null,
            "align_self": null,
            "border": null,
            "bottom": null,
            "display": null,
            "flex": null,
            "flex_flow": null,
            "grid_area": null,
            "grid_auto_columns": null,
            "grid_auto_flow": null,
            "grid_auto_rows": null,
            "grid_column": null,
            "grid_gap": null,
            "grid_row": null,
            "grid_template_areas": null,
            "grid_template_columns": null,
            "grid_template_rows": null,
            "height": null,
            "justify_content": null,
            "justify_items": null,
            "left": null,
            "margin": null,
            "max_height": null,
            "max_width": null,
            "min_height": null,
            "min_width": null,
            "object_fit": null,
            "object_position": null,
            "order": null,
            "overflow": null,
            "overflow_x": null,
            "overflow_y": null,
            "padding": null,
            "right": null,
            "top": null,
            "visibility": null,
            "width": null
          }
        },
        "e7a808c540a8465bb98ad4d46b46b8fd": {
          "model_module": "@jupyter-widgets/controls",
          "model_name": "DescriptionStyleModel",
          "model_module_version": "1.5.0",
          "state": {
            "_model_module": "@jupyter-widgets/controls",
            "_model_module_version": "1.5.0",
            "_model_name": "DescriptionStyleModel",
            "_view_count": null,
            "_view_module": "@jupyter-widgets/base",
            "_view_module_version": "1.2.0",
            "_view_name": "StyleView",
            "description_width": ""
          }
        },
        "67bd17c0c69f420084c17c49d052f43c": {
          "model_module": "@jupyter-widgets/controls",
          "model_name": "HBoxModel",
          "model_module_version": "1.5.0",
          "state": {
            "_dom_classes": [],
            "_model_module": "@jupyter-widgets/controls",
            "_model_module_version": "1.5.0",
            "_model_name": "HBoxModel",
            "_view_count": null,
            "_view_module": "@jupyter-widgets/controls",
            "_view_module_version": "1.5.0",
            "_view_name": "HBoxView",
            "box_style": "",
            "children": [
              "IPY_MODEL_fb696c708bc048ef8e476134b4290c9d",
              "IPY_MODEL_177aca74ab274f6ca9f6ffb88cddc0b6",
              "IPY_MODEL_8647498f9f21460083b5c446968056a7"
            ],
            "layout": "IPY_MODEL_aaf73d9a907d42608c5e2a46b536e682"
          }
        },
        "fb696c708bc048ef8e476134b4290c9d": {
          "model_module": "@jupyter-widgets/controls",
          "model_name": "HTMLModel",
          "model_module_version": "1.5.0",
          "state": {
            "_dom_classes": [],
            "_model_module": "@jupyter-widgets/controls",
            "_model_module_version": "1.5.0",
            "_model_name": "HTMLModel",
            "_view_count": null,
            "_view_module": "@jupyter-widgets/controls",
            "_view_module_version": "1.5.0",
            "_view_name": "HTMLView",
            "description": "",
            "description_tooltip": null,
            "layout": "IPY_MODEL_c9c4809e55194e16be6acba722f45b86",
            "placeholder": "​",
            "style": "IPY_MODEL_05e76453365346ddbde6b50c730a5ea2",
            "value": "100%"
          }
        },
        "177aca74ab274f6ca9f6ffb88cddc0b6": {
          "model_module": "@jupyter-widgets/controls",
          "model_name": "FloatProgressModel",
          "model_module_version": "1.5.0",
          "state": {
            "_dom_classes": [],
            "_model_module": "@jupyter-widgets/controls",
            "_model_module_version": "1.5.0",
            "_model_name": "FloatProgressModel",
            "_view_count": null,
            "_view_module": "@jupyter-widgets/controls",
            "_view_module_version": "1.5.0",
            "_view_name": "ProgressView",
            "bar_style": "success",
            "description": "",
            "description_tooltip": null,
            "layout": "IPY_MODEL_91ce97ef3a5145e6b9a7a9c22d9eb592",
            "max": 607,
            "min": 0,
            "orientation": "horizontal",
            "style": "IPY_MODEL_e0158877db71402d8c771dd6bcc9135d",
            "value": 607
          }
        },
        "8647498f9f21460083b5c446968056a7": {
          "model_module": "@jupyter-widgets/controls",
          "model_name": "HTMLModel",
          "model_module_version": "1.5.0",
          "state": {
            "_dom_classes": [],
            "_model_module": "@jupyter-widgets/controls",
            "_model_module_version": "1.5.0",
            "_model_name": "HTMLModel",
            "_view_count": null,
            "_view_module": "@jupyter-widgets/controls",
            "_view_module_version": "1.5.0",
            "_view_name": "HTMLView",
            "description": "",
            "description_tooltip": null,
            "layout": "IPY_MODEL_895de287892e4e62b1c380afbe14daab",
            "placeholder": "​",
            "style": "IPY_MODEL_55959d64ca35497cbbe22d418cdedeb1",
            "value": " 607/607 [02:56&lt;00:00,  3.43it/s]"
          }
        },
        "aaf73d9a907d42608c5e2a46b536e682": {
          "model_module": "@jupyter-widgets/base",
          "model_name": "LayoutModel",
          "model_module_version": "1.2.0",
          "state": {
            "_model_module": "@jupyter-widgets/base",
            "_model_module_version": "1.2.0",
            "_model_name": "LayoutModel",
            "_view_count": null,
            "_view_module": "@jupyter-widgets/base",
            "_view_module_version": "1.2.0",
            "_view_name": "LayoutView",
            "align_content": null,
            "align_items": null,
            "align_self": null,
            "border": null,
            "bottom": null,
            "display": null,
            "flex": null,
            "flex_flow": null,
            "grid_area": null,
            "grid_auto_columns": null,
            "grid_auto_flow": null,
            "grid_auto_rows": null,
            "grid_column": null,
            "grid_gap": null,
            "grid_row": null,
            "grid_template_areas": null,
            "grid_template_columns": null,
            "grid_template_rows": null,
            "height": null,
            "justify_content": null,
            "justify_items": null,
            "left": null,
            "margin": null,
            "max_height": null,
            "max_width": null,
            "min_height": null,
            "min_width": null,
            "object_fit": null,
            "object_position": null,
            "order": null,
            "overflow": null,
            "overflow_x": null,
            "overflow_y": null,
            "padding": null,
            "right": null,
            "top": null,
            "visibility": null,
            "width": null
          }
        },
        "c9c4809e55194e16be6acba722f45b86": {
          "model_module": "@jupyter-widgets/base",
          "model_name": "LayoutModel",
          "model_module_version": "1.2.0",
          "state": {
            "_model_module": "@jupyter-widgets/base",
            "_model_module_version": "1.2.0",
            "_model_name": "LayoutModel",
            "_view_count": null,
            "_view_module": "@jupyter-widgets/base",
            "_view_module_version": "1.2.0",
            "_view_name": "LayoutView",
            "align_content": null,
            "align_items": null,
            "align_self": null,
            "border": null,
            "bottom": null,
            "display": null,
            "flex": null,
            "flex_flow": null,
            "grid_area": null,
            "grid_auto_columns": null,
            "grid_auto_flow": null,
            "grid_auto_rows": null,
            "grid_column": null,
            "grid_gap": null,
            "grid_row": null,
            "grid_template_areas": null,
            "grid_template_columns": null,
            "grid_template_rows": null,
            "height": null,
            "justify_content": null,
            "justify_items": null,
            "left": null,
            "margin": null,
            "max_height": null,
            "max_width": null,
            "min_height": null,
            "min_width": null,
            "object_fit": null,
            "object_position": null,
            "order": null,
            "overflow": null,
            "overflow_x": null,
            "overflow_y": null,
            "padding": null,
            "right": null,
            "top": null,
            "visibility": null,
            "width": null
          }
        },
        "05e76453365346ddbde6b50c730a5ea2": {
          "model_module": "@jupyter-widgets/controls",
          "model_name": "DescriptionStyleModel",
          "model_module_version": "1.5.0",
          "state": {
            "_model_module": "@jupyter-widgets/controls",
            "_model_module_version": "1.5.0",
            "_model_name": "DescriptionStyleModel",
            "_view_count": null,
            "_view_module": "@jupyter-widgets/base",
            "_view_module_version": "1.2.0",
            "_view_name": "StyleView",
            "description_width": ""
          }
        },
        "91ce97ef3a5145e6b9a7a9c22d9eb592": {
          "model_module": "@jupyter-widgets/base",
          "model_name": "LayoutModel",
          "model_module_version": "1.2.0",
          "state": {
            "_model_module": "@jupyter-widgets/base",
            "_model_module_version": "1.2.0",
            "_model_name": "LayoutModel",
            "_view_count": null,
            "_view_module": "@jupyter-widgets/base",
            "_view_module_version": "1.2.0",
            "_view_name": "LayoutView",
            "align_content": null,
            "align_items": null,
            "align_self": null,
            "border": null,
            "bottom": null,
            "display": null,
            "flex": null,
            "flex_flow": null,
            "grid_area": null,
            "grid_auto_columns": null,
            "grid_auto_flow": null,
            "grid_auto_rows": null,
            "grid_column": null,
            "grid_gap": null,
            "grid_row": null,
            "grid_template_areas": null,
            "grid_template_columns": null,
            "grid_template_rows": null,
            "height": null,
            "justify_content": null,
            "justify_items": null,
            "left": null,
            "margin": null,
            "max_height": null,
            "max_width": null,
            "min_height": null,
            "min_width": null,
            "object_fit": null,
            "object_position": null,
            "order": null,
            "overflow": null,
            "overflow_x": null,
            "overflow_y": null,
            "padding": null,
            "right": null,
            "top": null,
            "visibility": null,
            "width": null
          }
        },
        "e0158877db71402d8c771dd6bcc9135d": {
          "model_module": "@jupyter-widgets/controls",
          "model_name": "ProgressStyleModel",
          "model_module_version": "1.5.0",
          "state": {
            "_model_module": "@jupyter-widgets/controls",
            "_model_module_version": "1.5.0",
            "_model_name": "ProgressStyleModel",
            "_view_count": null,
            "_view_module": "@jupyter-widgets/base",
            "_view_module_version": "1.2.0",
            "_view_name": "StyleView",
            "bar_color": null,
            "description_width": ""
          }
        },
        "895de287892e4e62b1c380afbe14daab": {
          "model_module": "@jupyter-widgets/base",
          "model_name": "LayoutModel",
          "model_module_version": "1.2.0",
          "state": {
            "_model_module": "@jupyter-widgets/base",
            "_model_module_version": "1.2.0",
            "_model_name": "LayoutModel",
            "_view_count": null,
            "_view_module": "@jupyter-widgets/base",
            "_view_module_version": "1.2.0",
            "_view_name": "LayoutView",
            "align_content": null,
            "align_items": null,
            "align_self": null,
            "border": null,
            "bottom": null,
            "display": null,
            "flex": null,
            "flex_flow": null,
            "grid_area": null,
            "grid_auto_columns": null,
            "grid_auto_flow": null,
            "grid_auto_rows": null,
            "grid_column": null,
            "grid_gap": null,
            "grid_row": null,
            "grid_template_areas": null,
            "grid_template_columns": null,
            "grid_template_rows": null,
            "height": null,
            "justify_content": null,
            "justify_items": null,
            "left": null,
            "margin": null,
            "max_height": null,
            "max_width": null,
            "min_height": null,
            "min_width": null,
            "object_fit": null,
            "object_position": null,
            "order": null,
            "overflow": null,
            "overflow_x": null,
            "overflow_y": null,
            "padding": null,
            "right": null,
            "top": null,
            "visibility": null,
            "width": null
          }
        },
        "55959d64ca35497cbbe22d418cdedeb1": {
          "model_module": "@jupyter-widgets/controls",
          "model_name": "DescriptionStyleModel",
          "model_module_version": "1.5.0",
          "state": {
            "_model_module": "@jupyter-widgets/controls",
            "_model_module_version": "1.5.0",
            "_model_name": "DescriptionStyleModel",
            "_view_count": null,
            "_view_module": "@jupyter-widgets/base",
            "_view_module_version": "1.2.0",
            "_view_name": "StyleView",
            "description_width": ""
          }
        },
        "d38e37eb41fa4ed4953683f413a192ea": {
          "model_module": "@jupyter-widgets/controls",
          "model_name": "HBoxModel",
          "model_module_version": "1.5.0",
          "state": {
            "_dom_classes": [],
            "_model_module": "@jupyter-widgets/controls",
            "_model_module_version": "1.5.0",
            "_model_name": "HBoxModel",
            "_view_count": null,
            "_view_module": "@jupyter-widgets/controls",
            "_view_module_version": "1.5.0",
            "_view_name": "HBoxView",
            "box_style": "",
            "children": [
              "IPY_MODEL_40be5cd35e2a48399946814caad3eb9b",
              "IPY_MODEL_51e774be0e7b4447a46a5647e3ed5124",
              "IPY_MODEL_ef7030e7fcef4d1bbb3d3ea2ad0242a5"
            ],
            "layout": "IPY_MODEL_4488851405fb4e53982d2d0d2b30d0bd"
          }
        },
        "40be5cd35e2a48399946814caad3eb9b": {
          "model_module": "@jupyter-widgets/controls",
          "model_name": "HTMLModel",
          "model_module_version": "1.5.0",
          "state": {
            "_dom_classes": [],
            "_model_module": "@jupyter-widgets/controls",
            "_model_module_version": "1.5.0",
            "_model_name": "HTMLModel",
            "_view_count": null,
            "_view_module": "@jupyter-widgets/controls",
            "_view_module_version": "1.5.0",
            "_view_name": "HTMLView",
            "description": "",
            "description_tooltip": null,
            "layout": "IPY_MODEL_9026404a06c541698b7b678b186cd20d",
            "placeholder": "​",
            "style": "IPY_MODEL_71bba7141b224eaabf058ceca560a305",
            "value": "100%"
          }
        },
        "51e774be0e7b4447a46a5647e3ed5124": {
          "model_module": "@jupyter-widgets/controls",
          "model_name": "FloatProgressModel",
          "model_module_version": "1.5.0",
          "state": {
            "_dom_classes": [],
            "_model_module": "@jupyter-widgets/controls",
            "_model_module_version": "1.5.0",
            "_model_name": "FloatProgressModel",
            "_view_count": null,
            "_view_module": "@jupyter-widgets/controls",
            "_view_module_version": "1.5.0",
            "_view_name": "ProgressView",
            "bar_style": "success",
            "description": "",
            "description_tooltip": null,
            "layout": "IPY_MODEL_4c9fca9778af43c186a4d05bfa63c939",
            "max": 2425,
            "min": 0,
            "orientation": "horizontal",
            "style": "IPY_MODEL_5b06e9b227ae4bb7bc36b2bedc85cae0",
            "value": 2425
          }
        },
        "ef7030e7fcef4d1bbb3d3ea2ad0242a5": {
          "model_module": "@jupyter-widgets/controls",
          "model_name": "HTMLModel",
          "model_module_version": "1.5.0",
          "state": {
            "_dom_classes": [],
            "_model_module": "@jupyter-widgets/controls",
            "_model_module_version": "1.5.0",
            "_model_name": "HTMLModel",
            "_view_count": null,
            "_view_module": "@jupyter-widgets/controls",
            "_view_module_version": "1.5.0",
            "_view_name": "HTMLView",
            "description": "",
            "description_tooltip": null,
            "layout": "IPY_MODEL_3281b6d3b9464a4c8d26c67ab1efcc20",
            "placeholder": "​",
            "style": "IPY_MODEL_97342a25465d46189b6008fb1f13f00f",
            "value": " 2425/2425 [12:54&lt;00:00,  3.82it/s]"
          }
        },
        "4488851405fb4e53982d2d0d2b30d0bd": {
          "model_module": "@jupyter-widgets/base",
          "model_name": "LayoutModel",
          "model_module_version": "1.2.0",
          "state": {
            "_model_module": "@jupyter-widgets/base",
            "_model_module_version": "1.2.0",
            "_model_name": "LayoutModel",
            "_view_count": null,
            "_view_module": "@jupyter-widgets/base",
            "_view_module_version": "1.2.0",
            "_view_name": "LayoutView",
            "align_content": null,
            "align_items": null,
            "align_self": null,
            "border": null,
            "bottom": null,
            "display": null,
            "flex": null,
            "flex_flow": null,
            "grid_area": null,
            "grid_auto_columns": null,
            "grid_auto_flow": null,
            "grid_auto_rows": null,
            "grid_column": null,
            "grid_gap": null,
            "grid_row": null,
            "grid_template_areas": null,
            "grid_template_columns": null,
            "grid_template_rows": null,
            "height": null,
            "justify_content": null,
            "justify_items": null,
            "left": null,
            "margin": null,
            "max_height": null,
            "max_width": null,
            "min_height": null,
            "min_width": null,
            "object_fit": null,
            "object_position": null,
            "order": null,
            "overflow": null,
            "overflow_x": null,
            "overflow_y": null,
            "padding": null,
            "right": null,
            "top": null,
            "visibility": null,
            "width": null
          }
        },
        "9026404a06c541698b7b678b186cd20d": {
          "model_module": "@jupyter-widgets/base",
          "model_name": "LayoutModel",
          "model_module_version": "1.2.0",
          "state": {
            "_model_module": "@jupyter-widgets/base",
            "_model_module_version": "1.2.0",
            "_model_name": "LayoutModel",
            "_view_count": null,
            "_view_module": "@jupyter-widgets/base",
            "_view_module_version": "1.2.0",
            "_view_name": "LayoutView",
            "align_content": null,
            "align_items": null,
            "align_self": null,
            "border": null,
            "bottom": null,
            "display": null,
            "flex": null,
            "flex_flow": null,
            "grid_area": null,
            "grid_auto_columns": null,
            "grid_auto_flow": null,
            "grid_auto_rows": null,
            "grid_column": null,
            "grid_gap": null,
            "grid_row": null,
            "grid_template_areas": null,
            "grid_template_columns": null,
            "grid_template_rows": null,
            "height": null,
            "justify_content": null,
            "justify_items": null,
            "left": null,
            "margin": null,
            "max_height": null,
            "max_width": null,
            "min_height": null,
            "min_width": null,
            "object_fit": null,
            "object_position": null,
            "order": null,
            "overflow": null,
            "overflow_x": null,
            "overflow_y": null,
            "padding": null,
            "right": null,
            "top": null,
            "visibility": null,
            "width": null
          }
        },
        "71bba7141b224eaabf058ceca560a305": {
          "model_module": "@jupyter-widgets/controls",
          "model_name": "DescriptionStyleModel",
          "model_module_version": "1.5.0",
          "state": {
            "_model_module": "@jupyter-widgets/controls",
            "_model_module_version": "1.5.0",
            "_model_name": "DescriptionStyleModel",
            "_view_count": null,
            "_view_module": "@jupyter-widgets/base",
            "_view_module_version": "1.2.0",
            "_view_name": "StyleView",
            "description_width": ""
          }
        },
        "4c9fca9778af43c186a4d05bfa63c939": {
          "model_module": "@jupyter-widgets/base",
          "model_name": "LayoutModel",
          "model_module_version": "1.2.0",
          "state": {
            "_model_module": "@jupyter-widgets/base",
            "_model_module_version": "1.2.0",
            "_model_name": "LayoutModel",
            "_view_count": null,
            "_view_module": "@jupyter-widgets/base",
            "_view_module_version": "1.2.0",
            "_view_name": "LayoutView",
            "align_content": null,
            "align_items": null,
            "align_self": null,
            "border": null,
            "bottom": null,
            "display": null,
            "flex": null,
            "flex_flow": null,
            "grid_area": null,
            "grid_auto_columns": null,
            "grid_auto_flow": null,
            "grid_auto_rows": null,
            "grid_column": null,
            "grid_gap": null,
            "grid_row": null,
            "grid_template_areas": null,
            "grid_template_columns": null,
            "grid_template_rows": null,
            "height": null,
            "justify_content": null,
            "justify_items": null,
            "left": null,
            "margin": null,
            "max_height": null,
            "max_width": null,
            "min_height": null,
            "min_width": null,
            "object_fit": null,
            "object_position": null,
            "order": null,
            "overflow": null,
            "overflow_x": null,
            "overflow_y": null,
            "padding": null,
            "right": null,
            "top": null,
            "visibility": null,
            "width": null
          }
        },
        "5b06e9b227ae4bb7bc36b2bedc85cae0": {
          "model_module": "@jupyter-widgets/controls",
          "model_name": "ProgressStyleModel",
          "model_module_version": "1.5.0",
          "state": {
            "_model_module": "@jupyter-widgets/controls",
            "_model_module_version": "1.5.0",
            "_model_name": "ProgressStyleModel",
            "_view_count": null,
            "_view_module": "@jupyter-widgets/base",
            "_view_module_version": "1.2.0",
            "_view_name": "StyleView",
            "bar_color": null,
            "description_width": ""
          }
        },
        "3281b6d3b9464a4c8d26c67ab1efcc20": {
          "model_module": "@jupyter-widgets/base",
          "model_name": "LayoutModel",
          "model_module_version": "1.2.0",
          "state": {
            "_model_module": "@jupyter-widgets/base",
            "_model_module_version": "1.2.0",
            "_model_name": "LayoutModel",
            "_view_count": null,
            "_view_module": "@jupyter-widgets/base",
            "_view_module_version": "1.2.0",
            "_view_name": "LayoutView",
            "align_content": null,
            "align_items": null,
            "align_self": null,
            "border": null,
            "bottom": null,
            "display": null,
            "flex": null,
            "flex_flow": null,
            "grid_area": null,
            "grid_auto_columns": null,
            "grid_auto_flow": null,
            "grid_auto_rows": null,
            "grid_column": null,
            "grid_gap": null,
            "grid_row": null,
            "grid_template_areas": null,
            "grid_template_columns": null,
            "grid_template_rows": null,
            "height": null,
            "justify_content": null,
            "justify_items": null,
            "left": null,
            "margin": null,
            "max_height": null,
            "max_width": null,
            "min_height": null,
            "min_width": null,
            "object_fit": null,
            "object_position": null,
            "order": null,
            "overflow": null,
            "overflow_x": null,
            "overflow_y": null,
            "padding": null,
            "right": null,
            "top": null,
            "visibility": null,
            "width": null
          }
        },
        "97342a25465d46189b6008fb1f13f00f": {
          "model_module": "@jupyter-widgets/controls",
          "model_name": "DescriptionStyleModel",
          "model_module_version": "1.5.0",
          "state": {
            "_model_module": "@jupyter-widgets/controls",
            "_model_module_version": "1.5.0",
            "_model_name": "DescriptionStyleModel",
            "_view_count": null,
            "_view_module": "@jupyter-widgets/base",
            "_view_module_version": "1.2.0",
            "_view_name": "StyleView",
            "description_width": ""
          }
        },
        "c88b1097c35d4bb08199a784fe78c22a": {
          "model_module": "@jupyter-widgets/controls",
          "model_name": "HBoxModel",
          "model_module_version": "1.5.0",
          "state": {
            "_dom_classes": [],
            "_model_module": "@jupyter-widgets/controls",
            "_model_module_version": "1.5.0",
            "_model_name": "HBoxModel",
            "_view_count": null,
            "_view_module": "@jupyter-widgets/controls",
            "_view_module_version": "1.5.0",
            "_view_name": "HBoxView",
            "box_style": "",
            "children": [
              "IPY_MODEL_2e34624240db46fbb2a27940aeb75589",
              "IPY_MODEL_4421ffdced96440192acfb38c8da52da",
              "IPY_MODEL_00056d5dae76431d96fce637cee56fdc"
            ],
            "layout": "IPY_MODEL_3d330054ecc545a8abc52ea4ee18f418"
          }
        },
        "2e34624240db46fbb2a27940aeb75589": {
          "model_module": "@jupyter-widgets/controls",
          "model_name": "HTMLModel",
          "model_module_version": "1.5.0",
          "state": {
            "_dom_classes": [],
            "_model_module": "@jupyter-widgets/controls",
            "_model_module_version": "1.5.0",
            "_model_name": "HTMLModel",
            "_view_count": null,
            "_view_module": "@jupyter-widgets/controls",
            "_view_module_version": "1.5.0",
            "_view_name": "HTMLView",
            "description": "",
            "description_tooltip": null,
            "layout": "IPY_MODEL_09fc252d53eb47b0afb1b8511888325b",
            "placeholder": "​",
            "style": "IPY_MODEL_de15f99b33654838825d136f5e6da84e",
            "value": "100%"
          }
        },
        "4421ffdced96440192acfb38c8da52da": {
          "model_module": "@jupyter-widgets/controls",
          "model_name": "FloatProgressModel",
          "model_module_version": "1.5.0",
          "state": {
            "_dom_classes": [],
            "_model_module": "@jupyter-widgets/controls",
            "_model_module_version": "1.5.0",
            "_model_name": "FloatProgressModel",
            "_view_count": null,
            "_view_module": "@jupyter-widgets/controls",
            "_view_module_version": "1.5.0",
            "_view_name": "ProgressView",
            "bar_style": "success",
            "description": "",
            "description_tooltip": null,
            "layout": "IPY_MODEL_935bef070aaf4043a7967e36179207f6",
            "max": 607,
            "min": 0,
            "orientation": "horizontal",
            "style": "IPY_MODEL_cecfda7953284a9e8590071846baa320",
            "value": 607
          }
        },
        "00056d5dae76431d96fce637cee56fdc": {
          "model_module": "@jupyter-widgets/controls",
          "model_name": "HTMLModel",
          "model_module_version": "1.5.0",
          "state": {
            "_dom_classes": [],
            "_model_module": "@jupyter-widgets/controls",
            "_model_module_version": "1.5.0",
            "_model_name": "HTMLModel",
            "_view_count": null,
            "_view_module": "@jupyter-widgets/controls",
            "_view_module_version": "1.5.0",
            "_view_name": "HTMLView",
            "description": "",
            "description_tooltip": null,
            "layout": "IPY_MODEL_138a956e1e264937a2d44cc6ac1adac8",
            "placeholder": "​",
            "style": "IPY_MODEL_0ebcec83d2524a0089a4ad397891cc07",
            "value": " 607/607 [02:56&lt;00:00,  3.44it/s]"
          }
        },
        "3d330054ecc545a8abc52ea4ee18f418": {
          "model_module": "@jupyter-widgets/base",
          "model_name": "LayoutModel",
          "model_module_version": "1.2.0",
          "state": {
            "_model_module": "@jupyter-widgets/base",
            "_model_module_version": "1.2.0",
            "_model_name": "LayoutModel",
            "_view_count": null,
            "_view_module": "@jupyter-widgets/base",
            "_view_module_version": "1.2.0",
            "_view_name": "LayoutView",
            "align_content": null,
            "align_items": null,
            "align_self": null,
            "border": null,
            "bottom": null,
            "display": null,
            "flex": null,
            "flex_flow": null,
            "grid_area": null,
            "grid_auto_columns": null,
            "grid_auto_flow": null,
            "grid_auto_rows": null,
            "grid_column": null,
            "grid_gap": null,
            "grid_row": null,
            "grid_template_areas": null,
            "grid_template_columns": null,
            "grid_template_rows": null,
            "height": null,
            "justify_content": null,
            "justify_items": null,
            "left": null,
            "margin": null,
            "max_height": null,
            "max_width": null,
            "min_height": null,
            "min_width": null,
            "object_fit": null,
            "object_position": null,
            "order": null,
            "overflow": null,
            "overflow_x": null,
            "overflow_y": null,
            "padding": null,
            "right": null,
            "top": null,
            "visibility": null,
            "width": null
          }
        },
        "09fc252d53eb47b0afb1b8511888325b": {
          "model_module": "@jupyter-widgets/base",
          "model_name": "LayoutModel",
          "model_module_version": "1.2.0",
          "state": {
            "_model_module": "@jupyter-widgets/base",
            "_model_module_version": "1.2.0",
            "_model_name": "LayoutModel",
            "_view_count": null,
            "_view_module": "@jupyter-widgets/base",
            "_view_module_version": "1.2.0",
            "_view_name": "LayoutView",
            "align_content": null,
            "align_items": null,
            "align_self": null,
            "border": null,
            "bottom": null,
            "display": null,
            "flex": null,
            "flex_flow": null,
            "grid_area": null,
            "grid_auto_columns": null,
            "grid_auto_flow": null,
            "grid_auto_rows": null,
            "grid_column": null,
            "grid_gap": null,
            "grid_row": null,
            "grid_template_areas": null,
            "grid_template_columns": null,
            "grid_template_rows": null,
            "height": null,
            "justify_content": null,
            "justify_items": null,
            "left": null,
            "margin": null,
            "max_height": null,
            "max_width": null,
            "min_height": null,
            "min_width": null,
            "object_fit": null,
            "object_position": null,
            "order": null,
            "overflow": null,
            "overflow_x": null,
            "overflow_y": null,
            "padding": null,
            "right": null,
            "top": null,
            "visibility": null,
            "width": null
          }
        },
        "de15f99b33654838825d136f5e6da84e": {
          "model_module": "@jupyter-widgets/controls",
          "model_name": "DescriptionStyleModel",
          "model_module_version": "1.5.0",
          "state": {
            "_model_module": "@jupyter-widgets/controls",
            "_model_module_version": "1.5.0",
            "_model_name": "DescriptionStyleModel",
            "_view_count": null,
            "_view_module": "@jupyter-widgets/base",
            "_view_module_version": "1.2.0",
            "_view_name": "StyleView",
            "description_width": ""
          }
        },
        "935bef070aaf4043a7967e36179207f6": {
          "model_module": "@jupyter-widgets/base",
          "model_name": "LayoutModel",
          "model_module_version": "1.2.0",
          "state": {
            "_model_module": "@jupyter-widgets/base",
            "_model_module_version": "1.2.0",
            "_model_name": "LayoutModel",
            "_view_count": null,
            "_view_module": "@jupyter-widgets/base",
            "_view_module_version": "1.2.0",
            "_view_name": "LayoutView",
            "align_content": null,
            "align_items": null,
            "align_self": null,
            "border": null,
            "bottom": null,
            "display": null,
            "flex": null,
            "flex_flow": null,
            "grid_area": null,
            "grid_auto_columns": null,
            "grid_auto_flow": null,
            "grid_auto_rows": null,
            "grid_column": null,
            "grid_gap": null,
            "grid_row": null,
            "grid_template_areas": null,
            "grid_template_columns": null,
            "grid_template_rows": null,
            "height": null,
            "justify_content": null,
            "justify_items": null,
            "left": null,
            "margin": null,
            "max_height": null,
            "max_width": null,
            "min_height": null,
            "min_width": null,
            "object_fit": null,
            "object_position": null,
            "order": null,
            "overflow": null,
            "overflow_x": null,
            "overflow_y": null,
            "padding": null,
            "right": null,
            "top": null,
            "visibility": null,
            "width": null
          }
        },
        "cecfda7953284a9e8590071846baa320": {
          "model_module": "@jupyter-widgets/controls",
          "model_name": "ProgressStyleModel",
          "model_module_version": "1.5.0",
          "state": {
            "_model_module": "@jupyter-widgets/controls",
            "_model_module_version": "1.5.0",
            "_model_name": "ProgressStyleModel",
            "_view_count": null,
            "_view_module": "@jupyter-widgets/base",
            "_view_module_version": "1.2.0",
            "_view_name": "StyleView",
            "bar_color": null,
            "description_width": ""
          }
        },
        "138a956e1e264937a2d44cc6ac1adac8": {
          "model_module": "@jupyter-widgets/base",
          "model_name": "LayoutModel",
          "model_module_version": "1.2.0",
          "state": {
            "_model_module": "@jupyter-widgets/base",
            "_model_module_version": "1.2.0",
            "_model_name": "LayoutModel",
            "_view_count": null,
            "_view_module": "@jupyter-widgets/base",
            "_view_module_version": "1.2.0",
            "_view_name": "LayoutView",
            "align_content": null,
            "align_items": null,
            "align_self": null,
            "border": null,
            "bottom": null,
            "display": null,
            "flex": null,
            "flex_flow": null,
            "grid_area": null,
            "grid_auto_columns": null,
            "grid_auto_flow": null,
            "grid_auto_rows": null,
            "grid_column": null,
            "grid_gap": null,
            "grid_row": null,
            "grid_template_areas": null,
            "grid_template_columns": null,
            "grid_template_rows": null,
            "height": null,
            "justify_content": null,
            "justify_items": null,
            "left": null,
            "margin": null,
            "max_height": null,
            "max_width": null,
            "min_height": null,
            "min_width": null,
            "object_fit": null,
            "object_position": null,
            "order": null,
            "overflow": null,
            "overflow_x": null,
            "overflow_y": null,
            "padding": null,
            "right": null,
            "top": null,
            "visibility": null,
            "width": null
          }
        },
        "0ebcec83d2524a0089a4ad397891cc07": {
          "model_module": "@jupyter-widgets/controls",
          "model_name": "DescriptionStyleModel",
          "model_module_version": "1.5.0",
          "state": {
            "_model_module": "@jupyter-widgets/controls",
            "_model_module_version": "1.5.0",
            "_model_name": "DescriptionStyleModel",
            "_view_count": null,
            "_view_module": "@jupyter-widgets/base",
            "_view_module_version": "1.2.0",
            "_view_name": "StyleView",
            "description_width": ""
          }
        },
        "de6cbeab6da24420b41d6c72eeae3875": {
          "model_module": "@jupyter-widgets/controls",
          "model_name": "HBoxModel",
          "model_module_version": "1.5.0",
          "state": {
            "_dom_classes": [],
            "_model_module": "@jupyter-widgets/controls",
            "_model_module_version": "1.5.0",
            "_model_name": "HBoxModel",
            "_view_count": null,
            "_view_module": "@jupyter-widgets/controls",
            "_view_module_version": "1.5.0",
            "_view_name": "HBoxView",
            "box_style": "",
            "children": [
              "IPY_MODEL_a03e65423857416ebf3ea5c9d6d94eda",
              "IPY_MODEL_3ee1b987baa046ffab4683c4c30b525a",
              "IPY_MODEL_750db9f72d9a47d98ed7739a08224d2f"
            ],
            "layout": "IPY_MODEL_f3bec08ae3334c75a973f8600e535217"
          }
        },
        "a03e65423857416ebf3ea5c9d6d94eda": {
          "model_module": "@jupyter-widgets/controls",
          "model_name": "HTMLModel",
          "model_module_version": "1.5.0",
          "state": {
            "_dom_classes": [],
            "_model_module": "@jupyter-widgets/controls",
            "_model_module_version": "1.5.0",
            "_model_name": "HTMLModel",
            "_view_count": null,
            "_view_module": "@jupyter-widgets/controls",
            "_view_module_version": "1.5.0",
            "_view_name": "HTMLView",
            "description": "",
            "description_tooltip": null,
            "layout": "IPY_MODEL_98af8b2eb7874869bc2d274536f1e728",
            "placeholder": "​",
            "style": "IPY_MODEL_7a5d4867c02243218a4ad14bfc280066",
            "value": "100%"
          }
        },
        "3ee1b987baa046ffab4683c4c30b525a": {
          "model_module": "@jupyter-widgets/controls",
          "model_name": "FloatProgressModel",
          "model_module_version": "1.5.0",
          "state": {
            "_dom_classes": [],
            "_model_module": "@jupyter-widgets/controls",
            "_model_module_version": "1.5.0",
            "_model_name": "FloatProgressModel",
            "_view_count": null,
            "_view_module": "@jupyter-widgets/controls",
            "_view_module_version": "1.5.0",
            "_view_name": "ProgressView",
            "bar_style": "success",
            "description": "",
            "description_tooltip": null,
            "layout": "IPY_MODEL_fff9a845055145018ce3d73125731713",
            "max": 2425,
            "min": 0,
            "orientation": "horizontal",
            "style": "IPY_MODEL_3f8ddada8c9b4475bd155e6a2a721ec5",
            "value": 2425
          }
        },
        "750db9f72d9a47d98ed7739a08224d2f": {
          "model_module": "@jupyter-widgets/controls",
          "model_name": "HTMLModel",
          "model_module_version": "1.5.0",
          "state": {
            "_dom_classes": [],
            "_model_module": "@jupyter-widgets/controls",
            "_model_module_version": "1.5.0",
            "_model_name": "HTMLModel",
            "_view_count": null,
            "_view_module": "@jupyter-widgets/controls",
            "_view_module_version": "1.5.0",
            "_view_name": "HTMLView",
            "description": "",
            "description_tooltip": null,
            "layout": "IPY_MODEL_4664108518874f6b9aae70011b9af23e",
            "placeholder": "​",
            "style": "IPY_MODEL_6dc46cce26b64b7da439b18291f2e576",
            "value": " 2425/2425 [12:53&lt;00:00,  3.81it/s]"
          }
        },
        "f3bec08ae3334c75a973f8600e535217": {
          "model_module": "@jupyter-widgets/base",
          "model_name": "LayoutModel",
          "model_module_version": "1.2.0",
          "state": {
            "_model_module": "@jupyter-widgets/base",
            "_model_module_version": "1.2.0",
            "_model_name": "LayoutModel",
            "_view_count": null,
            "_view_module": "@jupyter-widgets/base",
            "_view_module_version": "1.2.0",
            "_view_name": "LayoutView",
            "align_content": null,
            "align_items": null,
            "align_self": null,
            "border": null,
            "bottom": null,
            "display": null,
            "flex": null,
            "flex_flow": null,
            "grid_area": null,
            "grid_auto_columns": null,
            "grid_auto_flow": null,
            "grid_auto_rows": null,
            "grid_column": null,
            "grid_gap": null,
            "grid_row": null,
            "grid_template_areas": null,
            "grid_template_columns": null,
            "grid_template_rows": null,
            "height": null,
            "justify_content": null,
            "justify_items": null,
            "left": null,
            "margin": null,
            "max_height": null,
            "max_width": null,
            "min_height": null,
            "min_width": null,
            "object_fit": null,
            "object_position": null,
            "order": null,
            "overflow": null,
            "overflow_x": null,
            "overflow_y": null,
            "padding": null,
            "right": null,
            "top": null,
            "visibility": null,
            "width": null
          }
        },
        "98af8b2eb7874869bc2d274536f1e728": {
          "model_module": "@jupyter-widgets/base",
          "model_name": "LayoutModel",
          "model_module_version": "1.2.0",
          "state": {
            "_model_module": "@jupyter-widgets/base",
            "_model_module_version": "1.2.0",
            "_model_name": "LayoutModel",
            "_view_count": null,
            "_view_module": "@jupyter-widgets/base",
            "_view_module_version": "1.2.0",
            "_view_name": "LayoutView",
            "align_content": null,
            "align_items": null,
            "align_self": null,
            "border": null,
            "bottom": null,
            "display": null,
            "flex": null,
            "flex_flow": null,
            "grid_area": null,
            "grid_auto_columns": null,
            "grid_auto_flow": null,
            "grid_auto_rows": null,
            "grid_column": null,
            "grid_gap": null,
            "grid_row": null,
            "grid_template_areas": null,
            "grid_template_columns": null,
            "grid_template_rows": null,
            "height": null,
            "justify_content": null,
            "justify_items": null,
            "left": null,
            "margin": null,
            "max_height": null,
            "max_width": null,
            "min_height": null,
            "min_width": null,
            "object_fit": null,
            "object_position": null,
            "order": null,
            "overflow": null,
            "overflow_x": null,
            "overflow_y": null,
            "padding": null,
            "right": null,
            "top": null,
            "visibility": null,
            "width": null
          }
        },
        "7a5d4867c02243218a4ad14bfc280066": {
          "model_module": "@jupyter-widgets/controls",
          "model_name": "DescriptionStyleModel",
          "model_module_version": "1.5.0",
          "state": {
            "_model_module": "@jupyter-widgets/controls",
            "_model_module_version": "1.5.0",
            "_model_name": "DescriptionStyleModel",
            "_view_count": null,
            "_view_module": "@jupyter-widgets/base",
            "_view_module_version": "1.2.0",
            "_view_name": "StyleView",
            "description_width": ""
          }
        },
        "fff9a845055145018ce3d73125731713": {
          "model_module": "@jupyter-widgets/base",
          "model_name": "LayoutModel",
          "model_module_version": "1.2.0",
          "state": {
            "_model_module": "@jupyter-widgets/base",
            "_model_module_version": "1.2.0",
            "_model_name": "LayoutModel",
            "_view_count": null,
            "_view_module": "@jupyter-widgets/base",
            "_view_module_version": "1.2.0",
            "_view_name": "LayoutView",
            "align_content": null,
            "align_items": null,
            "align_self": null,
            "border": null,
            "bottom": null,
            "display": null,
            "flex": null,
            "flex_flow": null,
            "grid_area": null,
            "grid_auto_columns": null,
            "grid_auto_flow": null,
            "grid_auto_rows": null,
            "grid_column": null,
            "grid_gap": null,
            "grid_row": null,
            "grid_template_areas": null,
            "grid_template_columns": null,
            "grid_template_rows": null,
            "height": null,
            "justify_content": null,
            "justify_items": null,
            "left": null,
            "margin": null,
            "max_height": null,
            "max_width": null,
            "min_height": null,
            "min_width": null,
            "object_fit": null,
            "object_position": null,
            "order": null,
            "overflow": null,
            "overflow_x": null,
            "overflow_y": null,
            "padding": null,
            "right": null,
            "top": null,
            "visibility": null,
            "width": null
          }
        },
        "3f8ddada8c9b4475bd155e6a2a721ec5": {
          "model_module": "@jupyter-widgets/controls",
          "model_name": "ProgressStyleModel",
          "model_module_version": "1.5.0",
          "state": {
            "_model_module": "@jupyter-widgets/controls",
            "_model_module_version": "1.5.0",
            "_model_name": "ProgressStyleModel",
            "_view_count": null,
            "_view_module": "@jupyter-widgets/base",
            "_view_module_version": "1.2.0",
            "_view_name": "StyleView",
            "bar_color": null,
            "description_width": ""
          }
        },
        "4664108518874f6b9aae70011b9af23e": {
          "model_module": "@jupyter-widgets/base",
          "model_name": "LayoutModel",
          "model_module_version": "1.2.0",
          "state": {
            "_model_module": "@jupyter-widgets/base",
            "_model_module_version": "1.2.0",
            "_model_name": "LayoutModel",
            "_view_count": null,
            "_view_module": "@jupyter-widgets/base",
            "_view_module_version": "1.2.0",
            "_view_name": "LayoutView",
            "align_content": null,
            "align_items": null,
            "align_self": null,
            "border": null,
            "bottom": null,
            "display": null,
            "flex": null,
            "flex_flow": null,
            "grid_area": null,
            "grid_auto_columns": null,
            "grid_auto_flow": null,
            "grid_auto_rows": null,
            "grid_column": null,
            "grid_gap": null,
            "grid_row": null,
            "grid_template_areas": null,
            "grid_template_columns": null,
            "grid_template_rows": null,
            "height": null,
            "justify_content": null,
            "justify_items": null,
            "left": null,
            "margin": null,
            "max_height": null,
            "max_width": null,
            "min_height": null,
            "min_width": null,
            "object_fit": null,
            "object_position": null,
            "order": null,
            "overflow": null,
            "overflow_x": null,
            "overflow_y": null,
            "padding": null,
            "right": null,
            "top": null,
            "visibility": null,
            "width": null
          }
        },
        "6dc46cce26b64b7da439b18291f2e576": {
          "model_module": "@jupyter-widgets/controls",
          "model_name": "DescriptionStyleModel",
          "model_module_version": "1.5.0",
          "state": {
            "_model_module": "@jupyter-widgets/controls",
            "_model_module_version": "1.5.0",
            "_model_name": "DescriptionStyleModel",
            "_view_count": null,
            "_view_module": "@jupyter-widgets/base",
            "_view_module_version": "1.2.0",
            "_view_name": "StyleView",
            "description_width": ""
          }
        },
        "2733014c012b44268ddbe5752a6b6782": {
          "model_module": "@jupyter-widgets/controls",
          "model_name": "HBoxModel",
          "model_module_version": "1.5.0",
          "state": {
            "_dom_classes": [],
            "_model_module": "@jupyter-widgets/controls",
            "_model_module_version": "1.5.0",
            "_model_name": "HBoxModel",
            "_view_count": null,
            "_view_module": "@jupyter-widgets/controls",
            "_view_module_version": "1.5.0",
            "_view_name": "HBoxView",
            "box_style": "",
            "children": [
              "IPY_MODEL_319fbe28c8d340578d5f969e0acea5be",
              "IPY_MODEL_38e86c89417e4ea78c366f83f5dcd0eb",
              "IPY_MODEL_0f154146dbbb4537acbedba447190964"
            ],
            "layout": "IPY_MODEL_f2f0b3ff641e451eb294327b551f1c81"
          }
        },
        "319fbe28c8d340578d5f969e0acea5be": {
          "model_module": "@jupyter-widgets/controls",
          "model_name": "HTMLModel",
          "model_module_version": "1.5.0",
          "state": {
            "_dom_classes": [],
            "_model_module": "@jupyter-widgets/controls",
            "_model_module_version": "1.5.0",
            "_model_name": "HTMLModel",
            "_view_count": null,
            "_view_module": "@jupyter-widgets/controls",
            "_view_module_version": "1.5.0",
            "_view_name": "HTMLView",
            "description": "",
            "description_tooltip": null,
            "layout": "IPY_MODEL_8e61ed2cf25a4321b4dac380ebf2894e",
            "placeholder": "​",
            "style": "IPY_MODEL_d19d6efdcea84819af2d932a3a26e45f",
            "value": "100%"
          }
        },
        "38e86c89417e4ea78c366f83f5dcd0eb": {
          "model_module": "@jupyter-widgets/controls",
          "model_name": "FloatProgressModel",
          "model_module_version": "1.5.0",
          "state": {
            "_dom_classes": [],
            "_model_module": "@jupyter-widgets/controls",
            "_model_module_version": "1.5.0",
            "_model_name": "FloatProgressModel",
            "_view_count": null,
            "_view_module": "@jupyter-widgets/controls",
            "_view_module_version": "1.5.0",
            "_view_name": "ProgressView",
            "bar_style": "success",
            "description": "",
            "description_tooltip": null,
            "layout": "IPY_MODEL_153a09fe0f03466a87069f4e77d671f0",
            "max": 607,
            "min": 0,
            "orientation": "horizontal",
            "style": "IPY_MODEL_e4ca5eb2b3134195b5ef9ae8c39b11b5",
            "value": 607
          }
        },
        "0f154146dbbb4537acbedba447190964": {
          "model_module": "@jupyter-widgets/controls",
          "model_name": "HTMLModel",
          "model_module_version": "1.5.0",
          "state": {
            "_dom_classes": [],
            "_model_module": "@jupyter-widgets/controls",
            "_model_module_version": "1.5.0",
            "_model_name": "HTMLModel",
            "_view_count": null,
            "_view_module": "@jupyter-widgets/controls",
            "_view_module_version": "1.5.0",
            "_view_name": "HTMLView",
            "description": "",
            "description_tooltip": null,
            "layout": "IPY_MODEL_2b34c699b86344d0a8f99e41740a4d34",
            "placeholder": "​",
            "style": "IPY_MODEL_1dab51b6c4114827bfd8760ea817d2f4",
            "value": " 607/607 [02:56&lt;00:00,  3.44it/s]"
          }
        },
        "f2f0b3ff641e451eb294327b551f1c81": {
          "model_module": "@jupyter-widgets/base",
          "model_name": "LayoutModel",
          "model_module_version": "1.2.0",
          "state": {
            "_model_module": "@jupyter-widgets/base",
            "_model_module_version": "1.2.0",
            "_model_name": "LayoutModel",
            "_view_count": null,
            "_view_module": "@jupyter-widgets/base",
            "_view_module_version": "1.2.0",
            "_view_name": "LayoutView",
            "align_content": null,
            "align_items": null,
            "align_self": null,
            "border": null,
            "bottom": null,
            "display": null,
            "flex": null,
            "flex_flow": null,
            "grid_area": null,
            "grid_auto_columns": null,
            "grid_auto_flow": null,
            "grid_auto_rows": null,
            "grid_column": null,
            "grid_gap": null,
            "grid_row": null,
            "grid_template_areas": null,
            "grid_template_columns": null,
            "grid_template_rows": null,
            "height": null,
            "justify_content": null,
            "justify_items": null,
            "left": null,
            "margin": null,
            "max_height": null,
            "max_width": null,
            "min_height": null,
            "min_width": null,
            "object_fit": null,
            "object_position": null,
            "order": null,
            "overflow": null,
            "overflow_x": null,
            "overflow_y": null,
            "padding": null,
            "right": null,
            "top": null,
            "visibility": null,
            "width": null
          }
        },
        "8e61ed2cf25a4321b4dac380ebf2894e": {
          "model_module": "@jupyter-widgets/base",
          "model_name": "LayoutModel",
          "model_module_version": "1.2.0",
          "state": {
            "_model_module": "@jupyter-widgets/base",
            "_model_module_version": "1.2.0",
            "_model_name": "LayoutModel",
            "_view_count": null,
            "_view_module": "@jupyter-widgets/base",
            "_view_module_version": "1.2.0",
            "_view_name": "LayoutView",
            "align_content": null,
            "align_items": null,
            "align_self": null,
            "border": null,
            "bottom": null,
            "display": null,
            "flex": null,
            "flex_flow": null,
            "grid_area": null,
            "grid_auto_columns": null,
            "grid_auto_flow": null,
            "grid_auto_rows": null,
            "grid_column": null,
            "grid_gap": null,
            "grid_row": null,
            "grid_template_areas": null,
            "grid_template_columns": null,
            "grid_template_rows": null,
            "height": null,
            "justify_content": null,
            "justify_items": null,
            "left": null,
            "margin": null,
            "max_height": null,
            "max_width": null,
            "min_height": null,
            "min_width": null,
            "object_fit": null,
            "object_position": null,
            "order": null,
            "overflow": null,
            "overflow_x": null,
            "overflow_y": null,
            "padding": null,
            "right": null,
            "top": null,
            "visibility": null,
            "width": null
          }
        },
        "d19d6efdcea84819af2d932a3a26e45f": {
          "model_module": "@jupyter-widgets/controls",
          "model_name": "DescriptionStyleModel",
          "model_module_version": "1.5.0",
          "state": {
            "_model_module": "@jupyter-widgets/controls",
            "_model_module_version": "1.5.0",
            "_model_name": "DescriptionStyleModel",
            "_view_count": null,
            "_view_module": "@jupyter-widgets/base",
            "_view_module_version": "1.2.0",
            "_view_name": "StyleView",
            "description_width": ""
          }
        },
        "153a09fe0f03466a87069f4e77d671f0": {
          "model_module": "@jupyter-widgets/base",
          "model_name": "LayoutModel",
          "model_module_version": "1.2.0",
          "state": {
            "_model_module": "@jupyter-widgets/base",
            "_model_module_version": "1.2.0",
            "_model_name": "LayoutModel",
            "_view_count": null,
            "_view_module": "@jupyter-widgets/base",
            "_view_module_version": "1.2.0",
            "_view_name": "LayoutView",
            "align_content": null,
            "align_items": null,
            "align_self": null,
            "border": null,
            "bottom": null,
            "display": null,
            "flex": null,
            "flex_flow": null,
            "grid_area": null,
            "grid_auto_columns": null,
            "grid_auto_flow": null,
            "grid_auto_rows": null,
            "grid_column": null,
            "grid_gap": null,
            "grid_row": null,
            "grid_template_areas": null,
            "grid_template_columns": null,
            "grid_template_rows": null,
            "height": null,
            "justify_content": null,
            "justify_items": null,
            "left": null,
            "margin": null,
            "max_height": null,
            "max_width": null,
            "min_height": null,
            "min_width": null,
            "object_fit": null,
            "object_position": null,
            "order": null,
            "overflow": null,
            "overflow_x": null,
            "overflow_y": null,
            "padding": null,
            "right": null,
            "top": null,
            "visibility": null,
            "width": null
          }
        },
        "e4ca5eb2b3134195b5ef9ae8c39b11b5": {
          "model_module": "@jupyter-widgets/controls",
          "model_name": "ProgressStyleModel",
          "model_module_version": "1.5.0",
          "state": {
            "_model_module": "@jupyter-widgets/controls",
            "_model_module_version": "1.5.0",
            "_model_name": "ProgressStyleModel",
            "_view_count": null,
            "_view_module": "@jupyter-widgets/base",
            "_view_module_version": "1.2.0",
            "_view_name": "StyleView",
            "bar_color": null,
            "description_width": ""
          }
        },
        "2b34c699b86344d0a8f99e41740a4d34": {
          "model_module": "@jupyter-widgets/base",
          "model_name": "LayoutModel",
          "model_module_version": "1.2.0",
          "state": {
            "_model_module": "@jupyter-widgets/base",
            "_model_module_version": "1.2.0",
            "_model_name": "LayoutModel",
            "_view_count": null,
            "_view_module": "@jupyter-widgets/base",
            "_view_module_version": "1.2.0",
            "_view_name": "LayoutView",
            "align_content": null,
            "align_items": null,
            "align_self": null,
            "border": null,
            "bottom": null,
            "display": null,
            "flex": null,
            "flex_flow": null,
            "grid_area": null,
            "grid_auto_columns": null,
            "grid_auto_flow": null,
            "grid_auto_rows": null,
            "grid_column": null,
            "grid_gap": null,
            "grid_row": null,
            "grid_template_areas": null,
            "grid_template_columns": null,
            "grid_template_rows": null,
            "height": null,
            "justify_content": null,
            "justify_items": null,
            "left": null,
            "margin": null,
            "max_height": null,
            "max_width": null,
            "min_height": null,
            "min_width": null,
            "object_fit": null,
            "object_position": null,
            "order": null,
            "overflow": null,
            "overflow_x": null,
            "overflow_y": null,
            "padding": null,
            "right": null,
            "top": null,
            "visibility": null,
            "width": null
          }
        },
        "1dab51b6c4114827bfd8760ea817d2f4": {
          "model_module": "@jupyter-widgets/controls",
          "model_name": "DescriptionStyleModel",
          "model_module_version": "1.5.0",
          "state": {
            "_model_module": "@jupyter-widgets/controls",
            "_model_module_version": "1.5.0",
            "_model_name": "DescriptionStyleModel",
            "_view_count": null,
            "_view_module": "@jupyter-widgets/base",
            "_view_module_version": "1.2.0",
            "_view_name": "StyleView",
            "description_width": ""
          }
        },
        "ff666ae4fb934440954f2e651a813eec": {
          "model_module": "@jupyter-widgets/controls",
          "model_name": "HBoxModel",
          "model_module_version": "1.5.0",
          "state": {
            "_dom_classes": [],
            "_model_module": "@jupyter-widgets/controls",
            "_model_module_version": "1.5.0",
            "_model_name": "HBoxModel",
            "_view_count": null,
            "_view_module": "@jupyter-widgets/controls",
            "_view_module_version": "1.5.0",
            "_view_name": "HBoxView",
            "box_style": "",
            "children": [
              "IPY_MODEL_6769a9114a41431ea0697d79d8943fb6",
              "IPY_MODEL_855e708d53e2432e8337b600c29674bf",
              "IPY_MODEL_243ca3ce60da49b9a328328f00d80b38"
            ],
            "layout": "IPY_MODEL_1643a35053ca4154808a90d16902705b"
          }
        },
        "6769a9114a41431ea0697d79d8943fb6": {
          "model_module": "@jupyter-widgets/controls",
          "model_name": "HTMLModel",
          "model_module_version": "1.5.0",
          "state": {
            "_dom_classes": [],
            "_model_module": "@jupyter-widgets/controls",
            "_model_module_version": "1.5.0",
            "_model_name": "HTMLModel",
            "_view_count": null,
            "_view_module": "@jupyter-widgets/controls",
            "_view_module_version": "1.5.0",
            "_view_name": "HTMLView",
            "description": "",
            "description_tooltip": null,
            "layout": "IPY_MODEL_59959b8b0bb1445c926a07442094b3e1",
            "placeholder": "​",
            "style": "IPY_MODEL_8007455e4ce74ac482f3e24898720d65",
            "value": "100%"
          }
        },
        "855e708d53e2432e8337b600c29674bf": {
          "model_module": "@jupyter-widgets/controls",
          "model_name": "FloatProgressModel",
          "model_module_version": "1.5.0",
          "state": {
            "_dom_classes": [],
            "_model_module": "@jupyter-widgets/controls",
            "_model_module_version": "1.5.0",
            "_model_name": "FloatProgressModel",
            "_view_count": null,
            "_view_module": "@jupyter-widgets/controls",
            "_view_module_version": "1.5.0",
            "_view_name": "ProgressView",
            "bar_style": "success",
            "description": "",
            "description_tooltip": null,
            "layout": "IPY_MODEL_5fe9fa08a1f94e4f8e2497c478ac38ec",
            "max": 2425,
            "min": 0,
            "orientation": "horizontal",
            "style": "IPY_MODEL_43ec51885d2e4f98bc24721a41c200d1",
            "value": 2425
          }
        },
        "243ca3ce60da49b9a328328f00d80b38": {
          "model_module": "@jupyter-widgets/controls",
          "model_name": "HTMLModel",
          "model_module_version": "1.5.0",
          "state": {
            "_dom_classes": [],
            "_model_module": "@jupyter-widgets/controls",
            "_model_module_version": "1.5.0",
            "_model_name": "HTMLModel",
            "_view_count": null,
            "_view_module": "@jupyter-widgets/controls",
            "_view_module_version": "1.5.0",
            "_view_name": "HTMLView",
            "description": "",
            "description_tooltip": null,
            "layout": "IPY_MODEL_a2835746bb694d0088f8fc4454c5d27e",
            "placeholder": "​",
            "style": "IPY_MODEL_5fd74bfd0cca41449ee2f843114b632c",
            "value": " 2425/2425 [12:54&lt;00:00,  3.82it/s]"
          }
        },
        "1643a35053ca4154808a90d16902705b": {
          "model_module": "@jupyter-widgets/base",
          "model_name": "LayoutModel",
          "model_module_version": "1.2.0",
          "state": {
            "_model_module": "@jupyter-widgets/base",
            "_model_module_version": "1.2.0",
            "_model_name": "LayoutModel",
            "_view_count": null,
            "_view_module": "@jupyter-widgets/base",
            "_view_module_version": "1.2.0",
            "_view_name": "LayoutView",
            "align_content": null,
            "align_items": null,
            "align_self": null,
            "border": null,
            "bottom": null,
            "display": null,
            "flex": null,
            "flex_flow": null,
            "grid_area": null,
            "grid_auto_columns": null,
            "grid_auto_flow": null,
            "grid_auto_rows": null,
            "grid_column": null,
            "grid_gap": null,
            "grid_row": null,
            "grid_template_areas": null,
            "grid_template_columns": null,
            "grid_template_rows": null,
            "height": null,
            "justify_content": null,
            "justify_items": null,
            "left": null,
            "margin": null,
            "max_height": null,
            "max_width": null,
            "min_height": null,
            "min_width": null,
            "object_fit": null,
            "object_position": null,
            "order": null,
            "overflow": null,
            "overflow_x": null,
            "overflow_y": null,
            "padding": null,
            "right": null,
            "top": null,
            "visibility": null,
            "width": null
          }
        },
        "59959b8b0bb1445c926a07442094b3e1": {
          "model_module": "@jupyter-widgets/base",
          "model_name": "LayoutModel",
          "model_module_version": "1.2.0",
          "state": {
            "_model_module": "@jupyter-widgets/base",
            "_model_module_version": "1.2.0",
            "_model_name": "LayoutModel",
            "_view_count": null,
            "_view_module": "@jupyter-widgets/base",
            "_view_module_version": "1.2.0",
            "_view_name": "LayoutView",
            "align_content": null,
            "align_items": null,
            "align_self": null,
            "border": null,
            "bottom": null,
            "display": null,
            "flex": null,
            "flex_flow": null,
            "grid_area": null,
            "grid_auto_columns": null,
            "grid_auto_flow": null,
            "grid_auto_rows": null,
            "grid_column": null,
            "grid_gap": null,
            "grid_row": null,
            "grid_template_areas": null,
            "grid_template_columns": null,
            "grid_template_rows": null,
            "height": null,
            "justify_content": null,
            "justify_items": null,
            "left": null,
            "margin": null,
            "max_height": null,
            "max_width": null,
            "min_height": null,
            "min_width": null,
            "object_fit": null,
            "object_position": null,
            "order": null,
            "overflow": null,
            "overflow_x": null,
            "overflow_y": null,
            "padding": null,
            "right": null,
            "top": null,
            "visibility": null,
            "width": null
          }
        },
        "8007455e4ce74ac482f3e24898720d65": {
          "model_module": "@jupyter-widgets/controls",
          "model_name": "DescriptionStyleModel",
          "model_module_version": "1.5.0",
          "state": {
            "_model_module": "@jupyter-widgets/controls",
            "_model_module_version": "1.5.0",
            "_model_name": "DescriptionStyleModel",
            "_view_count": null,
            "_view_module": "@jupyter-widgets/base",
            "_view_module_version": "1.2.0",
            "_view_name": "StyleView",
            "description_width": ""
          }
        },
        "5fe9fa08a1f94e4f8e2497c478ac38ec": {
          "model_module": "@jupyter-widgets/base",
          "model_name": "LayoutModel",
          "model_module_version": "1.2.0",
          "state": {
            "_model_module": "@jupyter-widgets/base",
            "_model_module_version": "1.2.0",
            "_model_name": "LayoutModel",
            "_view_count": null,
            "_view_module": "@jupyter-widgets/base",
            "_view_module_version": "1.2.0",
            "_view_name": "LayoutView",
            "align_content": null,
            "align_items": null,
            "align_self": null,
            "border": null,
            "bottom": null,
            "display": null,
            "flex": null,
            "flex_flow": null,
            "grid_area": null,
            "grid_auto_columns": null,
            "grid_auto_flow": null,
            "grid_auto_rows": null,
            "grid_column": null,
            "grid_gap": null,
            "grid_row": null,
            "grid_template_areas": null,
            "grid_template_columns": null,
            "grid_template_rows": null,
            "height": null,
            "justify_content": null,
            "justify_items": null,
            "left": null,
            "margin": null,
            "max_height": null,
            "max_width": null,
            "min_height": null,
            "min_width": null,
            "object_fit": null,
            "object_position": null,
            "order": null,
            "overflow": null,
            "overflow_x": null,
            "overflow_y": null,
            "padding": null,
            "right": null,
            "top": null,
            "visibility": null,
            "width": null
          }
        },
        "43ec51885d2e4f98bc24721a41c200d1": {
          "model_module": "@jupyter-widgets/controls",
          "model_name": "ProgressStyleModel",
          "model_module_version": "1.5.0",
          "state": {
            "_model_module": "@jupyter-widgets/controls",
            "_model_module_version": "1.5.0",
            "_model_name": "ProgressStyleModel",
            "_view_count": null,
            "_view_module": "@jupyter-widgets/base",
            "_view_module_version": "1.2.0",
            "_view_name": "StyleView",
            "bar_color": null,
            "description_width": ""
          }
        },
        "a2835746bb694d0088f8fc4454c5d27e": {
          "model_module": "@jupyter-widgets/base",
          "model_name": "LayoutModel",
          "model_module_version": "1.2.0",
          "state": {
            "_model_module": "@jupyter-widgets/base",
            "_model_module_version": "1.2.0",
            "_model_name": "LayoutModel",
            "_view_count": null,
            "_view_module": "@jupyter-widgets/base",
            "_view_module_version": "1.2.0",
            "_view_name": "LayoutView",
            "align_content": null,
            "align_items": null,
            "align_self": null,
            "border": null,
            "bottom": null,
            "display": null,
            "flex": null,
            "flex_flow": null,
            "grid_area": null,
            "grid_auto_columns": null,
            "grid_auto_flow": null,
            "grid_auto_rows": null,
            "grid_column": null,
            "grid_gap": null,
            "grid_row": null,
            "grid_template_areas": null,
            "grid_template_columns": null,
            "grid_template_rows": null,
            "height": null,
            "justify_content": null,
            "justify_items": null,
            "left": null,
            "margin": null,
            "max_height": null,
            "max_width": null,
            "min_height": null,
            "min_width": null,
            "object_fit": null,
            "object_position": null,
            "order": null,
            "overflow": null,
            "overflow_x": null,
            "overflow_y": null,
            "padding": null,
            "right": null,
            "top": null,
            "visibility": null,
            "width": null
          }
        },
        "5fd74bfd0cca41449ee2f843114b632c": {
          "model_module": "@jupyter-widgets/controls",
          "model_name": "DescriptionStyleModel",
          "model_module_version": "1.5.0",
          "state": {
            "_model_module": "@jupyter-widgets/controls",
            "_model_module_version": "1.5.0",
            "_model_name": "DescriptionStyleModel",
            "_view_count": null,
            "_view_module": "@jupyter-widgets/base",
            "_view_module_version": "1.2.0",
            "_view_name": "StyleView",
            "description_width": ""
          }
        },
        "d915fd24e1c14031ae9e691acd053ccb": {
          "model_module": "@jupyter-widgets/controls",
          "model_name": "HBoxModel",
          "model_module_version": "1.5.0",
          "state": {
            "_dom_classes": [],
            "_model_module": "@jupyter-widgets/controls",
            "_model_module_version": "1.5.0",
            "_model_name": "HBoxModel",
            "_view_count": null,
            "_view_module": "@jupyter-widgets/controls",
            "_view_module_version": "1.5.0",
            "_view_name": "HBoxView",
            "box_style": "",
            "children": [
              "IPY_MODEL_49dd4e28f1734f81a610c46e26ef90bc",
              "IPY_MODEL_26cb729d7f464a3e8004af705bde531d",
              "IPY_MODEL_1734cbe484a84d889c2f0c0d5556084b"
            ],
            "layout": "IPY_MODEL_493639dd61944023b2f9493bc6f1fe91"
          }
        },
        "49dd4e28f1734f81a610c46e26ef90bc": {
          "model_module": "@jupyter-widgets/controls",
          "model_name": "HTMLModel",
          "model_module_version": "1.5.0",
          "state": {
            "_dom_classes": [],
            "_model_module": "@jupyter-widgets/controls",
            "_model_module_version": "1.5.0",
            "_model_name": "HTMLModel",
            "_view_count": null,
            "_view_module": "@jupyter-widgets/controls",
            "_view_module_version": "1.5.0",
            "_view_name": "HTMLView",
            "description": "",
            "description_tooltip": null,
            "layout": "IPY_MODEL_b73ac0d7f0f84467900f879ba11722ed",
            "placeholder": "​",
            "style": "IPY_MODEL_4666b06086714c70a51ff9e5bd579c28",
            "value": "100%"
          }
        },
        "26cb729d7f464a3e8004af705bde531d": {
          "model_module": "@jupyter-widgets/controls",
          "model_name": "FloatProgressModel",
          "model_module_version": "1.5.0",
          "state": {
            "_dom_classes": [],
            "_model_module": "@jupyter-widgets/controls",
            "_model_module_version": "1.5.0",
            "_model_name": "FloatProgressModel",
            "_view_count": null,
            "_view_module": "@jupyter-widgets/controls",
            "_view_module_version": "1.5.0",
            "_view_name": "ProgressView",
            "bar_style": "success",
            "description": "",
            "description_tooltip": null,
            "layout": "IPY_MODEL_3e885ab818af4a82a94470f50f59bc41",
            "max": 607,
            "min": 0,
            "orientation": "horizontal",
            "style": "IPY_MODEL_57354ac374a44e8982bfb196fa9e1245",
            "value": 607
          }
        },
        "1734cbe484a84d889c2f0c0d5556084b": {
          "model_module": "@jupyter-widgets/controls",
          "model_name": "HTMLModel",
          "model_module_version": "1.5.0",
          "state": {
            "_dom_classes": [],
            "_model_module": "@jupyter-widgets/controls",
            "_model_module_version": "1.5.0",
            "_model_name": "HTMLModel",
            "_view_count": null,
            "_view_module": "@jupyter-widgets/controls",
            "_view_module_version": "1.5.0",
            "_view_name": "HTMLView",
            "description": "",
            "description_tooltip": null,
            "layout": "IPY_MODEL_9659329efe344577b15fc17e7fa9c7d5",
            "placeholder": "​",
            "style": "IPY_MODEL_1f35a06a8c014db0ad2171256e5fab82",
            "value": " 607/607 [02:56&lt;00:00,  3.44it/s]"
          }
        },
        "493639dd61944023b2f9493bc6f1fe91": {
          "model_module": "@jupyter-widgets/base",
          "model_name": "LayoutModel",
          "model_module_version": "1.2.0",
          "state": {
            "_model_module": "@jupyter-widgets/base",
            "_model_module_version": "1.2.0",
            "_model_name": "LayoutModel",
            "_view_count": null,
            "_view_module": "@jupyter-widgets/base",
            "_view_module_version": "1.2.0",
            "_view_name": "LayoutView",
            "align_content": null,
            "align_items": null,
            "align_self": null,
            "border": null,
            "bottom": null,
            "display": null,
            "flex": null,
            "flex_flow": null,
            "grid_area": null,
            "grid_auto_columns": null,
            "grid_auto_flow": null,
            "grid_auto_rows": null,
            "grid_column": null,
            "grid_gap": null,
            "grid_row": null,
            "grid_template_areas": null,
            "grid_template_columns": null,
            "grid_template_rows": null,
            "height": null,
            "justify_content": null,
            "justify_items": null,
            "left": null,
            "margin": null,
            "max_height": null,
            "max_width": null,
            "min_height": null,
            "min_width": null,
            "object_fit": null,
            "object_position": null,
            "order": null,
            "overflow": null,
            "overflow_x": null,
            "overflow_y": null,
            "padding": null,
            "right": null,
            "top": null,
            "visibility": null,
            "width": null
          }
        },
        "b73ac0d7f0f84467900f879ba11722ed": {
          "model_module": "@jupyter-widgets/base",
          "model_name": "LayoutModel",
          "model_module_version": "1.2.0",
          "state": {
            "_model_module": "@jupyter-widgets/base",
            "_model_module_version": "1.2.0",
            "_model_name": "LayoutModel",
            "_view_count": null,
            "_view_module": "@jupyter-widgets/base",
            "_view_module_version": "1.2.0",
            "_view_name": "LayoutView",
            "align_content": null,
            "align_items": null,
            "align_self": null,
            "border": null,
            "bottom": null,
            "display": null,
            "flex": null,
            "flex_flow": null,
            "grid_area": null,
            "grid_auto_columns": null,
            "grid_auto_flow": null,
            "grid_auto_rows": null,
            "grid_column": null,
            "grid_gap": null,
            "grid_row": null,
            "grid_template_areas": null,
            "grid_template_columns": null,
            "grid_template_rows": null,
            "height": null,
            "justify_content": null,
            "justify_items": null,
            "left": null,
            "margin": null,
            "max_height": null,
            "max_width": null,
            "min_height": null,
            "min_width": null,
            "object_fit": null,
            "object_position": null,
            "order": null,
            "overflow": null,
            "overflow_x": null,
            "overflow_y": null,
            "padding": null,
            "right": null,
            "top": null,
            "visibility": null,
            "width": null
          }
        },
        "4666b06086714c70a51ff9e5bd579c28": {
          "model_module": "@jupyter-widgets/controls",
          "model_name": "DescriptionStyleModel",
          "model_module_version": "1.5.0",
          "state": {
            "_model_module": "@jupyter-widgets/controls",
            "_model_module_version": "1.5.0",
            "_model_name": "DescriptionStyleModel",
            "_view_count": null,
            "_view_module": "@jupyter-widgets/base",
            "_view_module_version": "1.2.0",
            "_view_name": "StyleView",
            "description_width": ""
          }
        },
        "3e885ab818af4a82a94470f50f59bc41": {
          "model_module": "@jupyter-widgets/base",
          "model_name": "LayoutModel",
          "model_module_version": "1.2.0",
          "state": {
            "_model_module": "@jupyter-widgets/base",
            "_model_module_version": "1.2.0",
            "_model_name": "LayoutModel",
            "_view_count": null,
            "_view_module": "@jupyter-widgets/base",
            "_view_module_version": "1.2.0",
            "_view_name": "LayoutView",
            "align_content": null,
            "align_items": null,
            "align_self": null,
            "border": null,
            "bottom": null,
            "display": null,
            "flex": null,
            "flex_flow": null,
            "grid_area": null,
            "grid_auto_columns": null,
            "grid_auto_flow": null,
            "grid_auto_rows": null,
            "grid_column": null,
            "grid_gap": null,
            "grid_row": null,
            "grid_template_areas": null,
            "grid_template_columns": null,
            "grid_template_rows": null,
            "height": null,
            "justify_content": null,
            "justify_items": null,
            "left": null,
            "margin": null,
            "max_height": null,
            "max_width": null,
            "min_height": null,
            "min_width": null,
            "object_fit": null,
            "object_position": null,
            "order": null,
            "overflow": null,
            "overflow_x": null,
            "overflow_y": null,
            "padding": null,
            "right": null,
            "top": null,
            "visibility": null,
            "width": null
          }
        },
        "57354ac374a44e8982bfb196fa9e1245": {
          "model_module": "@jupyter-widgets/controls",
          "model_name": "ProgressStyleModel",
          "model_module_version": "1.5.0",
          "state": {
            "_model_module": "@jupyter-widgets/controls",
            "_model_module_version": "1.5.0",
            "_model_name": "ProgressStyleModel",
            "_view_count": null,
            "_view_module": "@jupyter-widgets/base",
            "_view_module_version": "1.2.0",
            "_view_name": "StyleView",
            "bar_color": null,
            "description_width": ""
          }
        },
        "9659329efe344577b15fc17e7fa9c7d5": {
          "model_module": "@jupyter-widgets/base",
          "model_name": "LayoutModel",
          "model_module_version": "1.2.0",
          "state": {
            "_model_module": "@jupyter-widgets/base",
            "_model_module_version": "1.2.0",
            "_model_name": "LayoutModel",
            "_view_count": null,
            "_view_module": "@jupyter-widgets/base",
            "_view_module_version": "1.2.0",
            "_view_name": "LayoutView",
            "align_content": null,
            "align_items": null,
            "align_self": null,
            "border": null,
            "bottom": null,
            "display": null,
            "flex": null,
            "flex_flow": null,
            "grid_area": null,
            "grid_auto_columns": null,
            "grid_auto_flow": null,
            "grid_auto_rows": null,
            "grid_column": null,
            "grid_gap": null,
            "grid_row": null,
            "grid_template_areas": null,
            "grid_template_columns": null,
            "grid_template_rows": null,
            "height": null,
            "justify_content": null,
            "justify_items": null,
            "left": null,
            "margin": null,
            "max_height": null,
            "max_width": null,
            "min_height": null,
            "min_width": null,
            "object_fit": null,
            "object_position": null,
            "order": null,
            "overflow": null,
            "overflow_x": null,
            "overflow_y": null,
            "padding": null,
            "right": null,
            "top": null,
            "visibility": null,
            "width": null
          }
        },
        "1f35a06a8c014db0ad2171256e5fab82": {
          "model_module": "@jupyter-widgets/controls",
          "model_name": "DescriptionStyleModel",
          "model_module_version": "1.5.0",
          "state": {
            "_model_module": "@jupyter-widgets/controls",
            "_model_module_version": "1.5.0",
            "_model_name": "DescriptionStyleModel",
            "_view_count": null,
            "_view_module": "@jupyter-widgets/base",
            "_view_module_version": "1.2.0",
            "_view_name": "StyleView",
            "description_width": ""
          }
        },
        "4670020b94da449a9daee9e127deda67": {
          "model_module": "@jupyter-widgets/controls",
          "model_name": "HBoxModel",
          "model_module_version": "1.5.0",
          "state": {
            "_dom_classes": [],
            "_model_module": "@jupyter-widgets/controls",
            "_model_module_version": "1.5.0",
            "_model_name": "HBoxModel",
            "_view_count": null,
            "_view_module": "@jupyter-widgets/controls",
            "_view_module_version": "1.5.0",
            "_view_name": "HBoxView",
            "box_style": "",
            "children": [
              "IPY_MODEL_7faf3d51cda14ed5bc6e31fc9e9faa75",
              "IPY_MODEL_c7321275426f48c487d4254a73a7d501",
              "IPY_MODEL_24e8614a51384e5caf2b85e6529e0c52"
            ],
            "layout": "IPY_MODEL_f6b850d42ae74ef8a72e1e9491758521"
          }
        },
        "7faf3d51cda14ed5bc6e31fc9e9faa75": {
          "model_module": "@jupyter-widgets/controls",
          "model_name": "HTMLModel",
          "model_module_version": "1.5.0",
          "state": {
            "_dom_classes": [],
            "_model_module": "@jupyter-widgets/controls",
            "_model_module_version": "1.5.0",
            "_model_name": "HTMLModel",
            "_view_count": null,
            "_view_module": "@jupyter-widgets/controls",
            "_view_module_version": "1.5.0",
            "_view_name": "HTMLView",
            "description": "",
            "description_tooltip": null,
            "layout": "IPY_MODEL_9723a426cdb9495ab4ac0a5c8b584c11",
            "placeholder": "​",
            "style": "IPY_MODEL_99ce9677b46f42ebb64beadf165b066d",
            "value": "100%"
          }
        },
        "c7321275426f48c487d4254a73a7d501": {
          "model_module": "@jupyter-widgets/controls",
          "model_name": "FloatProgressModel",
          "model_module_version": "1.5.0",
          "state": {
            "_dom_classes": [],
            "_model_module": "@jupyter-widgets/controls",
            "_model_module_version": "1.5.0",
            "_model_name": "FloatProgressModel",
            "_view_count": null,
            "_view_module": "@jupyter-widgets/controls",
            "_view_module_version": "1.5.0",
            "_view_name": "ProgressView",
            "bar_style": "success",
            "description": "",
            "description_tooltip": null,
            "layout": "IPY_MODEL_7a7dbe931a6647fd882511636aea11be",
            "max": 2425,
            "min": 0,
            "orientation": "horizontal",
            "style": "IPY_MODEL_921ff2be4ff8469faf3244688c1d8bcc",
            "value": 2425
          }
        },
        "24e8614a51384e5caf2b85e6529e0c52": {
          "model_module": "@jupyter-widgets/controls",
          "model_name": "HTMLModel",
          "model_module_version": "1.5.0",
          "state": {
            "_dom_classes": [],
            "_model_module": "@jupyter-widgets/controls",
            "_model_module_version": "1.5.0",
            "_model_name": "HTMLModel",
            "_view_count": null,
            "_view_module": "@jupyter-widgets/controls",
            "_view_module_version": "1.5.0",
            "_view_name": "HTMLView",
            "description": "",
            "description_tooltip": null,
            "layout": "IPY_MODEL_4cef2eca857e4e9184733c1eab138843",
            "placeholder": "​",
            "style": "IPY_MODEL_0e3035a1522a4bf595206d16b95311b9",
            "value": " 2425/2425 [12:54&lt;00:00,  3.82it/s]"
          }
        },
        "f6b850d42ae74ef8a72e1e9491758521": {
          "model_module": "@jupyter-widgets/base",
          "model_name": "LayoutModel",
          "model_module_version": "1.2.0",
          "state": {
            "_model_module": "@jupyter-widgets/base",
            "_model_module_version": "1.2.0",
            "_model_name": "LayoutModel",
            "_view_count": null,
            "_view_module": "@jupyter-widgets/base",
            "_view_module_version": "1.2.0",
            "_view_name": "LayoutView",
            "align_content": null,
            "align_items": null,
            "align_self": null,
            "border": null,
            "bottom": null,
            "display": null,
            "flex": null,
            "flex_flow": null,
            "grid_area": null,
            "grid_auto_columns": null,
            "grid_auto_flow": null,
            "grid_auto_rows": null,
            "grid_column": null,
            "grid_gap": null,
            "grid_row": null,
            "grid_template_areas": null,
            "grid_template_columns": null,
            "grid_template_rows": null,
            "height": null,
            "justify_content": null,
            "justify_items": null,
            "left": null,
            "margin": null,
            "max_height": null,
            "max_width": null,
            "min_height": null,
            "min_width": null,
            "object_fit": null,
            "object_position": null,
            "order": null,
            "overflow": null,
            "overflow_x": null,
            "overflow_y": null,
            "padding": null,
            "right": null,
            "top": null,
            "visibility": null,
            "width": null
          }
        },
        "9723a426cdb9495ab4ac0a5c8b584c11": {
          "model_module": "@jupyter-widgets/base",
          "model_name": "LayoutModel",
          "model_module_version": "1.2.0",
          "state": {
            "_model_module": "@jupyter-widgets/base",
            "_model_module_version": "1.2.0",
            "_model_name": "LayoutModel",
            "_view_count": null,
            "_view_module": "@jupyter-widgets/base",
            "_view_module_version": "1.2.0",
            "_view_name": "LayoutView",
            "align_content": null,
            "align_items": null,
            "align_self": null,
            "border": null,
            "bottom": null,
            "display": null,
            "flex": null,
            "flex_flow": null,
            "grid_area": null,
            "grid_auto_columns": null,
            "grid_auto_flow": null,
            "grid_auto_rows": null,
            "grid_column": null,
            "grid_gap": null,
            "grid_row": null,
            "grid_template_areas": null,
            "grid_template_columns": null,
            "grid_template_rows": null,
            "height": null,
            "justify_content": null,
            "justify_items": null,
            "left": null,
            "margin": null,
            "max_height": null,
            "max_width": null,
            "min_height": null,
            "min_width": null,
            "object_fit": null,
            "object_position": null,
            "order": null,
            "overflow": null,
            "overflow_x": null,
            "overflow_y": null,
            "padding": null,
            "right": null,
            "top": null,
            "visibility": null,
            "width": null
          }
        },
        "99ce9677b46f42ebb64beadf165b066d": {
          "model_module": "@jupyter-widgets/controls",
          "model_name": "DescriptionStyleModel",
          "model_module_version": "1.5.0",
          "state": {
            "_model_module": "@jupyter-widgets/controls",
            "_model_module_version": "1.5.0",
            "_model_name": "DescriptionStyleModel",
            "_view_count": null,
            "_view_module": "@jupyter-widgets/base",
            "_view_module_version": "1.2.0",
            "_view_name": "StyleView",
            "description_width": ""
          }
        },
        "7a7dbe931a6647fd882511636aea11be": {
          "model_module": "@jupyter-widgets/base",
          "model_name": "LayoutModel",
          "model_module_version": "1.2.0",
          "state": {
            "_model_module": "@jupyter-widgets/base",
            "_model_module_version": "1.2.0",
            "_model_name": "LayoutModel",
            "_view_count": null,
            "_view_module": "@jupyter-widgets/base",
            "_view_module_version": "1.2.0",
            "_view_name": "LayoutView",
            "align_content": null,
            "align_items": null,
            "align_self": null,
            "border": null,
            "bottom": null,
            "display": null,
            "flex": null,
            "flex_flow": null,
            "grid_area": null,
            "grid_auto_columns": null,
            "grid_auto_flow": null,
            "grid_auto_rows": null,
            "grid_column": null,
            "grid_gap": null,
            "grid_row": null,
            "grid_template_areas": null,
            "grid_template_columns": null,
            "grid_template_rows": null,
            "height": null,
            "justify_content": null,
            "justify_items": null,
            "left": null,
            "margin": null,
            "max_height": null,
            "max_width": null,
            "min_height": null,
            "min_width": null,
            "object_fit": null,
            "object_position": null,
            "order": null,
            "overflow": null,
            "overflow_x": null,
            "overflow_y": null,
            "padding": null,
            "right": null,
            "top": null,
            "visibility": null,
            "width": null
          }
        },
        "921ff2be4ff8469faf3244688c1d8bcc": {
          "model_module": "@jupyter-widgets/controls",
          "model_name": "ProgressStyleModel",
          "model_module_version": "1.5.0",
          "state": {
            "_model_module": "@jupyter-widgets/controls",
            "_model_module_version": "1.5.0",
            "_model_name": "ProgressStyleModel",
            "_view_count": null,
            "_view_module": "@jupyter-widgets/base",
            "_view_module_version": "1.2.0",
            "_view_name": "StyleView",
            "bar_color": null,
            "description_width": ""
          }
        },
        "4cef2eca857e4e9184733c1eab138843": {
          "model_module": "@jupyter-widgets/base",
          "model_name": "LayoutModel",
          "model_module_version": "1.2.0",
          "state": {
            "_model_module": "@jupyter-widgets/base",
            "_model_module_version": "1.2.0",
            "_model_name": "LayoutModel",
            "_view_count": null,
            "_view_module": "@jupyter-widgets/base",
            "_view_module_version": "1.2.0",
            "_view_name": "LayoutView",
            "align_content": null,
            "align_items": null,
            "align_self": null,
            "border": null,
            "bottom": null,
            "display": null,
            "flex": null,
            "flex_flow": null,
            "grid_area": null,
            "grid_auto_columns": null,
            "grid_auto_flow": null,
            "grid_auto_rows": null,
            "grid_column": null,
            "grid_gap": null,
            "grid_row": null,
            "grid_template_areas": null,
            "grid_template_columns": null,
            "grid_template_rows": null,
            "height": null,
            "justify_content": null,
            "justify_items": null,
            "left": null,
            "margin": null,
            "max_height": null,
            "max_width": null,
            "min_height": null,
            "min_width": null,
            "object_fit": null,
            "object_position": null,
            "order": null,
            "overflow": null,
            "overflow_x": null,
            "overflow_y": null,
            "padding": null,
            "right": null,
            "top": null,
            "visibility": null,
            "width": null
          }
        },
        "0e3035a1522a4bf595206d16b95311b9": {
          "model_module": "@jupyter-widgets/controls",
          "model_name": "DescriptionStyleModel",
          "model_module_version": "1.5.0",
          "state": {
            "_model_module": "@jupyter-widgets/controls",
            "_model_module_version": "1.5.0",
            "_model_name": "DescriptionStyleModel",
            "_view_count": null,
            "_view_module": "@jupyter-widgets/base",
            "_view_module_version": "1.2.0",
            "_view_name": "StyleView",
            "description_width": ""
          }
        },
        "af72af91078045b2b6e638517402bf3e": {
          "model_module": "@jupyter-widgets/controls",
          "model_name": "HBoxModel",
          "model_module_version": "1.5.0",
          "state": {
            "_dom_classes": [],
            "_model_module": "@jupyter-widgets/controls",
            "_model_module_version": "1.5.0",
            "_model_name": "HBoxModel",
            "_view_count": null,
            "_view_module": "@jupyter-widgets/controls",
            "_view_module_version": "1.5.0",
            "_view_name": "HBoxView",
            "box_style": "",
            "children": [
              "IPY_MODEL_afe1a1458cf44103b03ca6ca9acfb34c",
              "IPY_MODEL_0e5fc81d7a3e4632800433cacff703ee",
              "IPY_MODEL_78c6f84b82774a6a924f73ef0ac28bac"
            ],
            "layout": "IPY_MODEL_f20ec40a7bcc459296d28bfc7fd1be5b"
          }
        },
        "afe1a1458cf44103b03ca6ca9acfb34c": {
          "model_module": "@jupyter-widgets/controls",
          "model_name": "HTMLModel",
          "model_module_version": "1.5.0",
          "state": {
            "_dom_classes": [],
            "_model_module": "@jupyter-widgets/controls",
            "_model_module_version": "1.5.0",
            "_model_name": "HTMLModel",
            "_view_count": null,
            "_view_module": "@jupyter-widgets/controls",
            "_view_module_version": "1.5.0",
            "_view_name": "HTMLView",
            "description": "",
            "description_tooltip": null,
            "layout": "IPY_MODEL_1d0075fe5957491dbececdf05932527d",
            "placeholder": "​",
            "style": "IPY_MODEL_df74675b32f14bd6a28936e1a2610925",
            "value": "100%"
          }
        },
        "0e5fc81d7a3e4632800433cacff703ee": {
          "model_module": "@jupyter-widgets/controls",
          "model_name": "FloatProgressModel",
          "model_module_version": "1.5.0",
          "state": {
            "_dom_classes": [],
            "_model_module": "@jupyter-widgets/controls",
            "_model_module_version": "1.5.0",
            "_model_name": "FloatProgressModel",
            "_view_count": null,
            "_view_module": "@jupyter-widgets/controls",
            "_view_module_version": "1.5.0",
            "_view_name": "ProgressView",
            "bar_style": "success",
            "description": "",
            "description_tooltip": null,
            "layout": "IPY_MODEL_abf7a8d3d4be421a8bcd8d45f1033a2b",
            "max": 607,
            "min": 0,
            "orientation": "horizontal",
            "style": "IPY_MODEL_d0a3d4df62a944ee82d3246e007ff2ce",
            "value": 607
          }
        },
        "78c6f84b82774a6a924f73ef0ac28bac": {
          "model_module": "@jupyter-widgets/controls",
          "model_name": "HTMLModel",
          "model_module_version": "1.5.0",
          "state": {
            "_dom_classes": [],
            "_model_module": "@jupyter-widgets/controls",
            "_model_module_version": "1.5.0",
            "_model_name": "HTMLModel",
            "_view_count": null,
            "_view_module": "@jupyter-widgets/controls",
            "_view_module_version": "1.5.0",
            "_view_name": "HTMLView",
            "description": "",
            "description_tooltip": null,
            "layout": "IPY_MODEL_7e50112d117b48c09e88784261ded243",
            "placeholder": "​",
            "style": "IPY_MODEL_878d69e5165045538c7d177ca103b240",
            "value": " 607/607 [02:56&lt;00:00,  3.43it/s]"
          }
        },
        "f20ec40a7bcc459296d28bfc7fd1be5b": {
          "model_module": "@jupyter-widgets/base",
          "model_name": "LayoutModel",
          "model_module_version": "1.2.0",
          "state": {
            "_model_module": "@jupyter-widgets/base",
            "_model_module_version": "1.2.0",
            "_model_name": "LayoutModel",
            "_view_count": null,
            "_view_module": "@jupyter-widgets/base",
            "_view_module_version": "1.2.0",
            "_view_name": "LayoutView",
            "align_content": null,
            "align_items": null,
            "align_self": null,
            "border": null,
            "bottom": null,
            "display": null,
            "flex": null,
            "flex_flow": null,
            "grid_area": null,
            "grid_auto_columns": null,
            "grid_auto_flow": null,
            "grid_auto_rows": null,
            "grid_column": null,
            "grid_gap": null,
            "grid_row": null,
            "grid_template_areas": null,
            "grid_template_columns": null,
            "grid_template_rows": null,
            "height": null,
            "justify_content": null,
            "justify_items": null,
            "left": null,
            "margin": null,
            "max_height": null,
            "max_width": null,
            "min_height": null,
            "min_width": null,
            "object_fit": null,
            "object_position": null,
            "order": null,
            "overflow": null,
            "overflow_x": null,
            "overflow_y": null,
            "padding": null,
            "right": null,
            "top": null,
            "visibility": null,
            "width": null
          }
        },
        "1d0075fe5957491dbececdf05932527d": {
          "model_module": "@jupyter-widgets/base",
          "model_name": "LayoutModel",
          "model_module_version": "1.2.0",
          "state": {
            "_model_module": "@jupyter-widgets/base",
            "_model_module_version": "1.2.0",
            "_model_name": "LayoutModel",
            "_view_count": null,
            "_view_module": "@jupyter-widgets/base",
            "_view_module_version": "1.2.0",
            "_view_name": "LayoutView",
            "align_content": null,
            "align_items": null,
            "align_self": null,
            "border": null,
            "bottom": null,
            "display": null,
            "flex": null,
            "flex_flow": null,
            "grid_area": null,
            "grid_auto_columns": null,
            "grid_auto_flow": null,
            "grid_auto_rows": null,
            "grid_column": null,
            "grid_gap": null,
            "grid_row": null,
            "grid_template_areas": null,
            "grid_template_columns": null,
            "grid_template_rows": null,
            "height": null,
            "justify_content": null,
            "justify_items": null,
            "left": null,
            "margin": null,
            "max_height": null,
            "max_width": null,
            "min_height": null,
            "min_width": null,
            "object_fit": null,
            "object_position": null,
            "order": null,
            "overflow": null,
            "overflow_x": null,
            "overflow_y": null,
            "padding": null,
            "right": null,
            "top": null,
            "visibility": null,
            "width": null
          }
        },
        "df74675b32f14bd6a28936e1a2610925": {
          "model_module": "@jupyter-widgets/controls",
          "model_name": "DescriptionStyleModel",
          "model_module_version": "1.5.0",
          "state": {
            "_model_module": "@jupyter-widgets/controls",
            "_model_module_version": "1.5.0",
            "_model_name": "DescriptionStyleModel",
            "_view_count": null,
            "_view_module": "@jupyter-widgets/base",
            "_view_module_version": "1.2.0",
            "_view_name": "StyleView",
            "description_width": ""
          }
        },
        "abf7a8d3d4be421a8bcd8d45f1033a2b": {
          "model_module": "@jupyter-widgets/base",
          "model_name": "LayoutModel",
          "model_module_version": "1.2.0",
          "state": {
            "_model_module": "@jupyter-widgets/base",
            "_model_module_version": "1.2.0",
            "_model_name": "LayoutModel",
            "_view_count": null,
            "_view_module": "@jupyter-widgets/base",
            "_view_module_version": "1.2.0",
            "_view_name": "LayoutView",
            "align_content": null,
            "align_items": null,
            "align_self": null,
            "border": null,
            "bottom": null,
            "display": null,
            "flex": null,
            "flex_flow": null,
            "grid_area": null,
            "grid_auto_columns": null,
            "grid_auto_flow": null,
            "grid_auto_rows": null,
            "grid_column": null,
            "grid_gap": null,
            "grid_row": null,
            "grid_template_areas": null,
            "grid_template_columns": null,
            "grid_template_rows": null,
            "height": null,
            "justify_content": null,
            "justify_items": null,
            "left": null,
            "margin": null,
            "max_height": null,
            "max_width": null,
            "min_height": null,
            "min_width": null,
            "object_fit": null,
            "object_position": null,
            "order": null,
            "overflow": null,
            "overflow_x": null,
            "overflow_y": null,
            "padding": null,
            "right": null,
            "top": null,
            "visibility": null,
            "width": null
          }
        },
        "d0a3d4df62a944ee82d3246e007ff2ce": {
          "model_module": "@jupyter-widgets/controls",
          "model_name": "ProgressStyleModel",
          "model_module_version": "1.5.0",
          "state": {
            "_model_module": "@jupyter-widgets/controls",
            "_model_module_version": "1.5.0",
            "_model_name": "ProgressStyleModel",
            "_view_count": null,
            "_view_module": "@jupyter-widgets/base",
            "_view_module_version": "1.2.0",
            "_view_name": "StyleView",
            "bar_color": null,
            "description_width": ""
          }
        },
        "7e50112d117b48c09e88784261ded243": {
          "model_module": "@jupyter-widgets/base",
          "model_name": "LayoutModel",
          "model_module_version": "1.2.0",
          "state": {
            "_model_module": "@jupyter-widgets/base",
            "_model_module_version": "1.2.0",
            "_model_name": "LayoutModel",
            "_view_count": null,
            "_view_module": "@jupyter-widgets/base",
            "_view_module_version": "1.2.0",
            "_view_name": "LayoutView",
            "align_content": null,
            "align_items": null,
            "align_self": null,
            "border": null,
            "bottom": null,
            "display": null,
            "flex": null,
            "flex_flow": null,
            "grid_area": null,
            "grid_auto_columns": null,
            "grid_auto_flow": null,
            "grid_auto_rows": null,
            "grid_column": null,
            "grid_gap": null,
            "grid_row": null,
            "grid_template_areas": null,
            "grid_template_columns": null,
            "grid_template_rows": null,
            "height": null,
            "justify_content": null,
            "justify_items": null,
            "left": null,
            "margin": null,
            "max_height": null,
            "max_width": null,
            "min_height": null,
            "min_width": null,
            "object_fit": null,
            "object_position": null,
            "order": null,
            "overflow": null,
            "overflow_x": null,
            "overflow_y": null,
            "padding": null,
            "right": null,
            "top": null,
            "visibility": null,
            "width": null
          }
        },
        "878d69e5165045538c7d177ca103b240": {
          "model_module": "@jupyter-widgets/controls",
          "model_name": "DescriptionStyleModel",
          "model_module_version": "1.5.0",
          "state": {
            "_model_module": "@jupyter-widgets/controls",
            "_model_module_version": "1.5.0",
            "_model_name": "DescriptionStyleModel",
            "_view_count": null,
            "_view_module": "@jupyter-widgets/base",
            "_view_module_version": "1.2.0",
            "_view_name": "StyleView",
            "description_width": ""
          }
        },
        "197872c006b74a1e94badaec9821fca4": {
          "model_module": "@jupyter-widgets/controls",
          "model_name": "HBoxModel",
          "model_module_version": "1.5.0",
          "state": {
            "_dom_classes": [],
            "_model_module": "@jupyter-widgets/controls",
            "_model_module_version": "1.5.0",
            "_model_name": "HBoxModel",
            "_view_count": null,
            "_view_module": "@jupyter-widgets/controls",
            "_view_module_version": "1.5.0",
            "_view_name": "HBoxView",
            "box_style": "",
            "children": [
              "IPY_MODEL_d204985db8464814840fcd5a53337587",
              "IPY_MODEL_7e692c53ef2341d88b8616a26e94a21a",
              "IPY_MODEL_114f73f7711c4111ba7360e0e8ec3f7b"
            ],
            "layout": "IPY_MODEL_92654a1ac7d541ce85e787095becff14"
          }
        },
        "d204985db8464814840fcd5a53337587": {
          "model_module": "@jupyter-widgets/controls",
          "model_name": "HTMLModel",
          "model_module_version": "1.5.0",
          "state": {
            "_dom_classes": [],
            "_model_module": "@jupyter-widgets/controls",
            "_model_module_version": "1.5.0",
            "_model_name": "HTMLModel",
            "_view_count": null,
            "_view_module": "@jupyter-widgets/controls",
            "_view_module_version": "1.5.0",
            "_view_name": "HTMLView",
            "description": "",
            "description_tooltip": null,
            "layout": "IPY_MODEL_b9d40cd9709246b8bb0ed64124083c97",
            "placeholder": "​",
            "style": "IPY_MODEL_78f7b4b7d5984e44912c1e1c3f80491f",
            "value": "100%"
          }
        },
        "7e692c53ef2341d88b8616a26e94a21a": {
          "model_module": "@jupyter-widgets/controls",
          "model_name": "FloatProgressModel",
          "model_module_version": "1.5.0",
          "state": {
            "_dom_classes": [],
            "_model_module": "@jupyter-widgets/controls",
            "_model_module_version": "1.5.0",
            "_model_name": "FloatProgressModel",
            "_view_count": null,
            "_view_module": "@jupyter-widgets/controls",
            "_view_module_version": "1.5.0",
            "_view_name": "ProgressView",
            "bar_style": "success",
            "description": "",
            "description_tooltip": null,
            "layout": "IPY_MODEL_f561d894a2524baaad250ee4dd19e9ec",
            "max": 2425,
            "min": 0,
            "orientation": "horizontal",
            "style": "IPY_MODEL_f26fb27b6c5049aabede248580030d55",
            "value": 2425
          }
        },
        "114f73f7711c4111ba7360e0e8ec3f7b": {
          "model_module": "@jupyter-widgets/controls",
          "model_name": "HTMLModel",
          "model_module_version": "1.5.0",
          "state": {
            "_dom_classes": [],
            "_model_module": "@jupyter-widgets/controls",
            "_model_module_version": "1.5.0",
            "_model_name": "HTMLModel",
            "_view_count": null,
            "_view_module": "@jupyter-widgets/controls",
            "_view_module_version": "1.5.0",
            "_view_name": "HTMLView",
            "description": "",
            "description_tooltip": null,
            "layout": "IPY_MODEL_5601f1dcfc554bc1b1cff079f2d20eea",
            "placeholder": "​",
            "style": "IPY_MODEL_6f5f129723064f80bc2612480287593b",
            "value": " 2425/2425 [12:54&lt;00:00,  3.82it/s]"
          }
        },
        "92654a1ac7d541ce85e787095becff14": {
          "model_module": "@jupyter-widgets/base",
          "model_name": "LayoutModel",
          "model_module_version": "1.2.0",
          "state": {
            "_model_module": "@jupyter-widgets/base",
            "_model_module_version": "1.2.0",
            "_model_name": "LayoutModel",
            "_view_count": null,
            "_view_module": "@jupyter-widgets/base",
            "_view_module_version": "1.2.0",
            "_view_name": "LayoutView",
            "align_content": null,
            "align_items": null,
            "align_self": null,
            "border": null,
            "bottom": null,
            "display": null,
            "flex": null,
            "flex_flow": null,
            "grid_area": null,
            "grid_auto_columns": null,
            "grid_auto_flow": null,
            "grid_auto_rows": null,
            "grid_column": null,
            "grid_gap": null,
            "grid_row": null,
            "grid_template_areas": null,
            "grid_template_columns": null,
            "grid_template_rows": null,
            "height": null,
            "justify_content": null,
            "justify_items": null,
            "left": null,
            "margin": null,
            "max_height": null,
            "max_width": null,
            "min_height": null,
            "min_width": null,
            "object_fit": null,
            "object_position": null,
            "order": null,
            "overflow": null,
            "overflow_x": null,
            "overflow_y": null,
            "padding": null,
            "right": null,
            "top": null,
            "visibility": null,
            "width": null
          }
        },
        "b9d40cd9709246b8bb0ed64124083c97": {
          "model_module": "@jupyter-widgets/base",
          "model_name": "LayoutModel",
          "model_module_version": "1.2.0",
          "state": {
            "_model_module": "@jupyter-widgets/base",
            "_model_module_version": "1.2.0",
            "_model_name": "LayoutModel",
            "_view_count": null,
            "_view_module": "@jupyter-widgets/base",
            "_view_module_version": "1.2.0",
            "_view_name": "LayoutView",
            "align_content": null,
            "align_items": null,
            "align_self": null,
            "border": null,
            "bottom": null,
            "display": null,
            "flex": null,
            "flex_flow": null,
            "grid_area": null,
            "grid_auto_columns": null,
            "grid_auto_flow": null,
            "grid_auto_rows": null,
            "grid_column": null,
            "grid_gap": null,
            "grid_row": null,
            "grid_template_areas": null,
            "grid_template_columns": null,
            "grid_template_rows": null,
            "height": null,
            "justify_content": null,
            "justify_items": null,
            "left": null,
            "margin": null,
            "max_height": null,
            "max_width": null,
            "min_height": null,
            "min_width": null,
            "object_fit": null,
            "object_position": null,
            "order": null,
            "overflow": null,
            "overflow_x": null,
            "overflow_y": null,
            "padding": null,
            "right": null,
            "top": null,
            "visibility": null,
            "width": null
          }
        },
        "78f7b4b7d5984e44912c1e1c3f80491f": {
          "model_module": "@jupyter-widgets/controls",
          "model_name": "DescriptionStyleModel",
          "model_module_version": "1.5.0",
          "state": {
            "_model_module": "@jupyter-widgets/controls",
            "_model_module_version": "1.5.0",
            "_model_name": "DescriptionStyleModel",
            "_view_count": null,
            "_view_module": "@jupyter-widgets/base",
            "_view_module_version": "1.2.0",
            "_view_name": "StyleView",
            "description_width": ""
          }
        },
        "f561d894a2524baaad250ee4dd19e9ec": {
          "model_module": "@jupyter-widgets/base",
          "model_name": "LayoutModel",
          "model_module_version": "1.2.0",
          "state": {
            "_model_module": "@jupyter-widgets/base",
            "_model_module_version": "1.2.0",
            "_model_name": "LayoutModel",
            "_view_count": null,
            "_view_module": "@jupyter-widgets/base",
            "_view_module_version": "1.2.0",
            "_view_name": "LayoutView",
            "align_content": null,
            "align_items": null,
            "align_self": null,
            "border": null,
            "bottom": null,
            "display": null,
            "flex": null,
            "flex_flow": null,
            "grid_area": null,
            "grid_auto_columns": null,
            "grid_auto_flow": null,
            "grid_auto_rows": null,
            "grid_column": null,
            "grid_gap": null,
            "grid_row": null,
            "grid_template_areas": null,
            "grid_template_columns": null,
            "grid_template_rows": null,
            "height": null,
            "justify_content": null,
            "justify_items": null,
            "left": null,
            "margin": null,
            "max_height": null,
            "max_width": null,
            "min_height": null,
            "min_width": null,
            "object_fit": null,
            "object_position": null,
            "order": null,
            "overflow": null,
            "overflow_x": null,
            "overflow_y": null,
            "padding": null,
            "right": null,
            "top": null,
            "visibility": null,
            "width": null
          }
        },
        "f26fb27b6c5049aabede248580030d55": {
          "model_module": "@jupyter-widgets/controls",
          "model_name": "ProgressStyleModel",
          "model_module_version": "1.5.0",
          "state": {
            "_model_module": "@jupyter-widgets/controls",
            "_model_module_version": "1.5.0",
            "_model_name": "ProgressStyleModel",
            "_view_count": null,
            "_view_module": "@jupyter-widgets/base",
            "_view_module_version": "1.2.0",
            "_view_name": "StyleView",
            "bar_color": null,
            "description_width": ""
          }
        },
        "5601f1dcfc554bc1b1cff079f2d20eea": {
          "model_module": "@jupyter-widgets/base",
          "model_name": "LayoutModel",
          "model_module_version": "1.2.0",
          "state": {
            "_model_module": "@jupyter-widgets/base",
            "_model_module_version": "1.2.0",
            "_model_name": "LayoutModel",
            "_view_count": null,
            "_view_module": "@jupyter-widgets/base",
            "_view_module_version": "1.2.0",
            "_view_name": "LayoutView",
            "align_content": null,
            "align_items": null,
            "align_self": null,
            "border": null,
            "bottom": null,
            "display": null,
            "flex": null,
            "flex_flow": null,
            "grid_area": null,
            "grid_auto_columns": null,
            "grid_auto_flow": null,
            "grid_auto_rows": null,
            "grid_column": null,
            "grid_gap": null,
            "grid_row": null,
            "grid_template_areas": null,
            "grid_template_columns": null,
            "grid_template_rows": null,
            "height": null,
            "justify_content": null,
            "justify_items": null,
            "left": null,
            "margin": null,
            "max_height": null,
            "max_width": null,
            "min_height": null,
            "min_width": null,
            "object_fit": null,
            "object_position": null,
            "order": null,
            "overflow": null,
            "overflow_x": null,
            "overflow_y": null,
            "padding": null,
            "right": null,
            "top": null,
            "visibility": null,
            "width": null
          }
        },
        "6f5f129723064f80bc2612480287593b": {
          "model_module": "@jupyter-widgets/controls",
          "model_name": "DescriptionStyleModel",
          "model_module_version": "1.5.0",
          "state": {
            "_model_module": "@jupyter-widgets/controls",
            "_model_module_version": "1.5.0",
            "_model_name": "DescriptionStyleModel",
            "_view_count": null,
            "_view_module": "@jupyter-widgets/base",
            "_view_module_version": "1.2.0",
            "_view_name": "StyleView",
            "description_width": ""
          }
        },
        "17455302729045a19d2b617da401006d": {
          "model_module": "@jupyter-widgets/controls",
          "model_name": "HBoxModel",
          "model_module_version": "1.5.0",
          "state": {
            "_dom_classes": [],
            "_model_module": "@jupyter-widgets/controls",
            "_model_module_version": "1.5.0",
            "_model_name": "HBoxModel",
            "_view_count": null,
            "_view_module": "@jupyter-widgets/controls",
            "_view_module_version": "1.5.0",
            "_view_name": "HBoxView",
            "box_style": "",
            "children": [
              "IPY_MODEL_0e220578f51643e4838d435b6036efed",
              "IPY_MODEL_4bf8cb1a242f40cfb6b2b53df05147ec",
              "IPY_MODEL_1213fa6125d745fca1bdac8c66a05a65"
            ],
            "layout": "IPY_MODEL_86a15728a1364aa1b07e2f4086d194ca"
          }
        },
        "0e220578f51643e4838d435b6036efed": {
          "model_module": "@jupyter-widgets/controls",
          "model_name": "HTMLModel",
          "model_module_version": "1.5.0",
          "state": {
            "_dom_classes": [],
            "_model_module": "@jupyter-widgets/controls",
            "_model_module_version": "1.5.0",
            "_model_name": "HTMLModel",
            "_view_count": null,
            "_view_module": "@jupyter-widgets/controls",
            "_view_module_version": "1.5.0",
            "_view_name": "HTMLView",
            "description": "",
            "description_tooltip": null,
            "layout": "IPY_MODEL_00355add44f84abd9bb8c66d99575c7a",
            "placeholder": "​",
            "style": "IPY_MODEL_5e31333a2b124cc1b504f2b4d3bde494",
            "value": "100%"
          }
        },
        "4bf8cb1a242f40cfb6b2b53df05147ec": {
          "model_module": "@jupyter-widgets/controls",
          "model_name": "FloatProgressModel",
          "model_module_version": "1.5.0",
          "state": {
            "_dom_classes": [],
            "_model_module": "@jupyter-widgets/controls",
            "_model_module_version": "1.5.0",
            "_model_name": "FloatProgressModel",
            "_view_count": null,
            "_view_module": "@jupyter-widgets/controls",
            "_view_module_version": "1.5.0",
            "_view_name": "ProgressView",
            "bar_style": "success",
            "description": "",
            "description_tooltip": null,
            "layout": "IPY_MODEL_f82245a52e324ecfbfb8803b937dc22e",
            "max": 607,
            "min": 0,
            "orientation": "horizontal",
            "style": "IPY_MODEL_76dab9ca58324f809398a7ac49eb9b56",
            "value": 607
          }
        },
        "1213fa6125d745fca1bdac8c66a05a65": {
          "model_module": "@jupyter-widgets/controls",
          "model_name": "HTMLModel",
          "model_module_version": "1.5.0",
          "state": {
            "_dom_classes": [],
            "_model_module": "@jupyter-widgets/controls",
            "_model_module_version": "1.5.0",
            "_model_name": "HTMLModel",
            "_view_count": null,
            "_view_module": "@jupyter-widgets/controls",
            "_view_module_version": "1.5.0",
            "_view_name": "HTMLView",
            "description": "",
            "description_tooltip": null,
            "layout": "IPY_MODEL_09d9c5c54eb643449f189d21102e1215",
            "placeholder": "​",
            "style": "IPY_MODEL_1602bfd4e8b745b0a132d30fa91c9522",
            "value": " 607/607 [02:56&lt;00:00,  3.44it/s]"
          }
        },
        "86a15728a1364aa1b07e2f4086d194ca": {
          "model_module": "@jupyter-widgets/base",
          "model_name": "LayoutModel",
          "model_module_version": "1.2.0",
          "state": {
            "_model_module": "@jupyter-widgets/base",
            "_model_module_version": "1.2.0",
            "_model_name": "LayoutModel",
            "_view_count": null,
            "_view_module": "@jupyter-widgets/base",
            "_view_module_version": "1.2.0",
            "_view_name": "LayoutView",
            "align_content": null,
            "align_items": null,
            "align_self": null,
            "border": null,
            "bottom": null,
            "display": null,
            "flex": null,
            "flex_flow": null,
            "grid_area": null,
            "grid_auto_columns": null,
            "grid_auto_flow": null,
            "grid_auto_rows": null,
            "grid_column": null,
            "grid_gap": null,
            "grid_row": null,
            "grid_template_areas": null,
            "grid_template_columns": null,
            "grid_template_rows": null,
            "height": null,
            "justify_content": null,
            "justify_items": null,
            "left": null,
            "margin": null,
            "max_height": null,
            "max_width": null,
            "min_height": null,
            "min_width": null,
            "object_fit": null,
            "object_position": null,
            "order": null,
            "overflow": null,
            "overflow_x": null,
            "overflow_y": null,
            "padding": null,
            "right": null,
            "top": null,
            "visibility": null,
            "width": null
          }
        },
        "00355add44f84abd9bb8c66d99575c7a": {
          "model_module": "@jupyter-widgets/base",
          "model_name": "LayoutModel",
          "model_module_version": "1.2.0",
          "state": {
            "_model_module": "@jupyter-widgets/base",
            "_model_module_version": "1.2.0",
            "_model_name": "LayoutModel",
            "_view_count": null,
            "_view_module": "@jupyter-widgets/base",
            "_view_module_version": "1.2.0",
            "_view_name": "LayoutView",
            "align_content": null,
            "align_items": null,
            "align_self": null,
            "border": null,
            "bottom": null,
            "display": null,
            "flex": null,
            "flex_flow": null,
            "grid_area": null,
            "grid_auto_columns": null,
            "grid_auto_flow": null,
            "grid_auto_rows": null,
            "grid_column": null,
            "grid_gap": null,
            "grid_row": null,
            "grid_template_areas": null,
            "grid_template_columns": null,
            "grid_template_rows": null,
            "height": null,
            "justify_content": null,
            "justify_items": null,
            "left": null,
            "margin": null,
            "max_height": null,
            "max_width": null,
            "min_height": null,
            "min_width": null,
            "object_fit": null,
            "object_position": null,
            "order": null,
            "overflow": null,
            "overflow_x": null,
            "overflow_y": null,
            "padding": null,
            "right": null,
            "top": null,
            "visibility": null,
            "width": null
          }
        },
        "5e31333a2b124cc1b504f2b4d3bde494": {
          "model_module": "@jupyter-widgets/controls",
          "model_name": "DescriptionStyleModel",
          "model_module_version": "1.5.0",
          "state": {
            "_model_module": "@jupyter-widgets/controls",
            "_model_module_version": "1.5.0",
            "_model_name": "DescriptionStyleModel",
            "_view_count": null,
            "_view_module": "@jupyter-widgets/base",
            "_view_module_version": "1.2.0",
            "_view_name": "StyleView",
            "description_width": ""
          }
        },
        "f82245a52e324ecfbfb8803b937dc22e": {
          "model_module": "@jupyter-widgets/base",
          "model_name": "LayoutModel",
          "model_module_version": "1.2.0",
          "state": {
            "_model_module": "@jupyter-widgets/base",
            "_model_module_version": "1.2.0",
            "_model_name": "LayoutModel",
            "_view_count": null,
            "_view_module": "@jupyter-widgets/base",
            "_view_module_version": "1.2.0",
            "_view_name": "LayoutView",
            "align_content": null,
            "align_items": null,
            "align_self": null,
            "border": null,
            "bottom": null,
            "display": null,
            "flex": null,
            "flex_flow": null,
            "grid_area": null,
            "grid_auto_columns": null,
            "grid_auto_flow": null,
            "grid_auto_rows": null,
            "grid_column": null,
            "grid_gap": null,
            "grid_row": null,
            "grid_template_areas": null,
            "grid_template_columns": null,
            "grid_template_rows": null,
            "height": null,
            "justify_content": null,
            "justify_items": null,
            "left": null,
            "margin": null,
            "max_height": null,
            "max_width": null,
            "min_height": null,
            "min_width": null,
            "object_fit": null,
            "object_position": null,
            "order": null,
            "overflow": null,
            "overflow_x": null,
            "overflow_y": null,
            "padding": null,
            "right": null,
            "top": null,
            "visibility": null,
            "width": null
          }
        },
        "76dab9ca58324f809398a7ac49eb9b56": {
          "model_module": "@jupyter-widgets/controls",
          "model_name": "ProgressStyleModel",
          "model_module_version": "1.5.0",
          "state": {
            "_model_module": "@jupyter-widgets/controls",
            "_model_module_version": "1.5.0",
            "_model_name": "ProgressStyleModel",
            "_view_count": null,
            "_view_module": "@jupyter-widgets/base",
            "_view_module_version": "1.2.0",
            "_view_name": "StyleView",
            "bar_color": null,
            "description_width": ""
          }
        },
        "09d9c5c54eb643449f189d21102e1215": {
          "model_module": "@jupyter-widgets/base",
          "model_name": "LayoutModel",
          "model_module_version": "1.2.0",
          "state": {
            "_model_module": "@jupyter-widgets/base",
            "_model_module_version": "1.2.0",
            "_model_name": "LayoutModel",
            "_view_count": null,
            "_view_module": "@jupyter-widgets/base",
            "_view_module_version": "1.2.0",
            "_view_name": "LayoutView",
            "align_content": null,
            "align_items": null,
            "align_self": null,
            "border": null,
            "bottom": null,
            "display": null,
            "flex": null,
            "flex_flow": null,
            "grid_area": null,
            "grid_auto_columns": null,
            "grid_auto_flow": null,
            "grid_auto_rows": null,
            "grid_column": null,
            "grid_gap": null,
            "grid_row": null,
            "grid_template_areas": null,
            "grid_template_columns": null,
            "grid_template_rows": null,
            "height": null,
            "justify_content": null,
            "justify_items": null,
            "left": null,
            "margin": null,
            "max_height": null,
            "max_width": null,
            "min_height": null,
            "min_width": null,
            "object_fit": null,
            "object_position": null,
            "order": null,
            "overflow": null,
            "overflow_x": null,
            "overflow_y": null,
            "padding": null,
            "right": null,
            "top": null,
            "visibility": null,
            "width": null
          }
        },
        "1602bfd4e8b745b0a132d30fa91c9522": {
          "model_module": "@jupyter-widgets/controls",
          "model_name": "DescriptionStyleModel",
          "model_module_version": "1.5.0",
          "state": {
            "_model_module": "@jupyter-widgets/controls",
            "_model_module_version": "1.5.0",
            "_model_name": "DescriptionStyleModel",
            "_view_count": null,
            "_view_module": "@jupyter-widgets/base",
            "_view_module_version": "1.2.0",
            "_view_name": "StyleView",
            "description_width": ""
          }
        }
      }
    }
  },
  "cells": [
    {
      "cell_type": "markdown",
      "source": [
        "# skt kobert \n",
        "- batchsize=64, epoch=10, max_len=128\n",
        "- 세션 종료 후 [13.전이학습 및 예측] 진행시,\n",
        "  - [2.라이브러리 설치 및 불러오기]와 [4.토크나이징],[5.파라미터설정- 그래프 제외] 부분,  만들어놓은 class 들은 다 불러올것\n",
        "  - [10.훈련] 부분은 절대 돌리지말기!!\n",
        "- pre-trained 깃허브 : https://github.com/SKTBrain/KoBERT\n",
        "- 사용법  : https://velog.io/@m0oon0/KoBERT-%EC%82%AC%EC%9A%A9%EB%B2%95, https://velog.io/@danbibibi/KoBERT-fine-tuning-Sentiment-Analysis"
      ],
      "metadata": {
        "id": "hA6dIG3SY2g-"
      }
    },
    {
      "cell_type": "markdown",
      "source": [
        "## 1. 데이터 불러오기\n",
        "- 문장별 레이블링 처리된 데이터\n",
        "- 로컬에서는 일부 데이터만 train해보기\n",
        "- 이미 영어, 한자, 기타 불용어 제거된 데이터"
      ],
      "metadata": {
        "id": "pyd6YVfza8RR"
      }
    },
    {
      "cell_type": "code",
      "source": [
        "from google.colab import drive\n",
        "drive.mount('/content/drive')"
      ],
      "metadata": {
        "colab": {
          "base_uri": "https://localhost:8080/"
        },
        "id": "1nXQzdvdbSp6",
        "outputId": "ee2de576-1044-49a1-d59f-43e0ebd98b42"
      },
      "execution_count": null,
      "outputs": [
        {
          "output_type": "stream",
          "name": "stdout",
          "text": [
            "Mounted at /content/drive\n"
          ]
        }
      ]
    },
    {
      "cell_type": "code",
      "source": [
        "import pandas as pd\n",
        "data=pd.read_excel('/content/drive/MyDrive/modeling_yy/train_data2.xlsx')\n",
        "#test_=pd.read_excel('/content/drive/MyDrive/modeling_yy/test_data.xlsx')"
      ],
      "metadata": {
        "id": "yso1hFB6bKg7"
      },
      "execution_count": null,
      "outputs": []
    },
    {
      "cell_type": "code",
      "source": [
        "data.head()"
      ],
      "metadata": {
        "colab": {
          "base_uri": "https://localhost:8080/",
          "height": 206
        },
        "id": "Wy3szwbonTzW",
        "outputId": "e7b16711-9e56-4cc5-d638-1baef27e32e6"
      },
      "execution_count": null,
      "outputs": [
        {
          "output_type": "execute_result",
          "data": {
            "text/plain": [
              "                          doc  label\n",
              "0  손경식 회장 해외사업 공격적 확장 성장 가속화       1\n",
              "1   신입사원 연차 생기고 공공기관 채용 역대 최대      1\n",
              "2      2018년 채용연계형 인턴채용 문 열렸다      1\n",
              "3          무술년 채용연계형 인턴채용 스타트      1\n",
              "4       그냥 쉬었다 청년 30만명 역대 최고치      0"
            ],
            "text/html": [
              "\n",
              "  <div id=\"df-15d708fc-0745-4a2a-85e9-2fcf8e2002e2\">\n",
              "    <div class=\"colab-df-container\">\n",
              "      <div>\n",
              "<style scoped>\n",
              "    .dataframe tbody tr th:only-of-type {\n",
              "        vertical-align: middle;\n",
              "    }\n",
              "\n",
              "    .dataframe tbody tr th {\n",
              "        vertical-align: top;\n",
              "    }\n",
              "\n",
              "    .dataframe thead th {\n",
              "        text-align: right;\n",
              "    }\n",
              "</style>\n",
              "<table border=\"1\" class=\"dataframe\">\n",
              "  <thead>\n",
              "    <tr style=\"text-align: right;\">\n",
              "      <th></th>\n",
              "      <th>doc</th>\n",
              "      <th>label</th>\n",
              "    </tr>\n",
              "  </thead>\n",
              "  <tbody>\n",
              "    <tr>\n",
              "      <th>0</th>\n",
              "      <td>손경식 회장 해외사업 공격적 확장 성장 가속화</td>\n",
              "      <td>1</td>\n",
              "    </tr>\n",
              "    <tr>\n",
              "      <th>1</th>\n",
              "      <td>신입사원 연차 생기고 공공기관 채용 역대 최대</td>\n",
              "      <td>1</td>\n",
              "    </tr>\n",
              "    <tr>\n",
              "      <th>2</th>\n",
              "      <td>2018년 채용연계형 인턴채용 문 열렸다</td>\n",
              "      <td>1</td>\n",
              "    </tr>\n",
              "    <tr>\n",
              "      <th>3</th>\n",
              "      <td>무술년 채용연계형 인턴채용 스타트</td>\n",
              "      <td>1</td>\n",
              "    </tr>\n",
              "    <tr>\n",
              "      <th>4</th>\n",
              "      <td>그냥 쉬었다 청년 30만명 역대 최고치</td>\n",
              "      <td>0</td>\n",
              "    </tr>\n",
              "  </tbody>\n",
              "</table>\n",
              "</div>\n",
              "      <button class=\"colab-df-convert\" onclick=\"convertToInteractive('df-15d708fc-0745-4a2a-85e9-2fcf8e2002e2')\"\n",
              "              title=\"Convert this dataframe to an interactive table.\"\n",
              "              style=\"display:none;\">\n",
              "        \n",
              "  <svg xmlns=\"http://www.w3.org/2000/svg\" height=\"24px\"viewBox=\"0 0 24 24\"\n",
              "       width=\"24px\">\n",
              "    <path d=\"M0 0h24v24H0V0z\" fill=\"none\"/>\n",
              "    <path d=\"M18.56 5.44l.94 2.06.94-2.06 2.06-.94-2.06-.94-.94-2.06-.94 2.06-2.06.94zm-11 1L8.5 8.5l.94-2.06 2.06-.94-2.06-.94L8.5 2.5l-.94 2.06-2.06.94zm10 10l.94 2.06.94-2.06 2.06-.94-2.06-.94-.94-2.06-.94 2.06-2.06.94z\"/><path d=\"M17.41 7.96l-1.37-1.37c-.4-.4-.92-.59-1.43-.59-.52 0-1.04.2-1.43.59L10.3 9.45l-7.72 7.72c-.78.78-.78 2.05 0 2.83L4 21.41c.39.39.9.59 1.41.59.51 0 1.02-.2 1.41-.59l7.78-7.78 2.81-2.81c.8-.78.8-2.07 0-2.86zM5.41 20L4 18.59l7.72-7.72 1.47 1.35L5.41 20z\"/>\n",
              "  </svg>\n",
              "      </button>\n",
              "      \n",
              "  <style>\n",
              "    .colab-df-container {\n",
              "      display:flex;\n",
              "      flex-wrap:wrap;\n",
              "      gap: 12px;\n",
              "    }\n",
              "\n",
              "    .colab-df-convert {\n",
              "      background-color: #E8F0FE;\n",
              "      border: none;\n",
              "      border-radius: 50%;\n",
              "      cursor: pointer;\n",
              "      display: none;\n",
              "      fill: #1967D2;\n",
              "      height: 32px;\n",
              "      padding: 0 0 0 0;\n",
              "      width: 32px;\n",
              "    }\n",
              "\n",
              "    .colab-df-convert:hover {\n",
              "      background-color: #E2EBFA;\n",
              "      box-shadow: 0px 1px 2px rgba(60, 64, 67, 0.3), 0px 1px 3px 1px rgba(60, 64, 67, 0.15);\n",
              "      fill: #174EA6;\n",
              "    }\n",
              "\n",
              "    [theme=dark] .colab-df-convert {\n",
              "      background-color: #3B4455;\n",
              "      fill: #D2E3FC;\n",
              "    }\n",
              "\n",
              "    [theme=dark] .colab-df-convert:hover {\n",
              "      background-color: #434B5C;\n",
              "      box-shadow: 0px 1px 3px 1px rgba(0, 0, 0, 0.15);\n",
              "      filter: drop-shadow(0px 1px 2px rgba(0, 0, 0, 0.3));\n",
              "      fill: #FFFFFF;\n",
              "    }\n",
              "  </style>\n",
              "\n",
              "      <script>\n",
              "        const buttonEl =\n",
              "          document.querySelector('#df-15d708fc-0745-4a2a-85e9-2fcf8e2002e2 button.colab-df-convert');\n",
              "        buttonEl.style.display =\n",
              "          google.colab.kernel.accessAllowed ? 'block' : 'none';\n",
              "\n",
              "        async function convertToInteractive(key) {\n",
              "          const element = document.querySelector('#df-15d708fc-0745-4a2a-85e9-2fcf8e2002e2');\n",
              "          const dataTable =\n",
              "            await google.colab.kernel.invokeFunction('convertToInteractive',\n",
              "                                                     [key], {});\n",
              "          if (!dataTable) return;\n",
              "\n",
              "          const docLinkHtml = 'Like what you see? Visit the ' +\n",
              "            '<a target=\"_blank\" href=https://colab.research.google.com/notebooks/data_table.ipynb>data table notebook</a>'\n",
              "            + ' to learn more about interactive tables.';\n",
              "          element.innerHTML = '';\n",
              "          dataTable['output_type'] = 'display_data';\n",
              "          await google.colab.output.renderOutput(dataTable, element);\n",
              "          const docLink = document.createElement('div');\n",
              "          docLink.innerHTML = docLinkHtml;\n",
              "          element.appendChild(docLink);\n",
              "        }\n",
              "      </script>\n",
              "    </div>\n",
              "  </div>\n",
              "  "
            ]
          },
          "metadata": {},
          "execution_count": 4
        }
      ]
    },
    {
      "cell_type": "code",
      "source": [
        "data.groupby(['label'])['label'].count()"
      ],
      "metadata": {
        "colab": {
          "base_uri": "https://localhost:8080/"
        },
        "id": "AAjAWDtk39Fm",
        "outputId": "458878bc-c83c-4c93-e648-11e535373c2c"
      },
      "execution_count": null,
      "outputs": [
        {
          "output_type": "execute_result",
          "data": {
            "text/plain": [
              "label\n",
              "0    97614\n",
              "1    96335\n",
              "Name: label, dtype: int64"
            ]
          },
          "metadata": {},
          "execution_count": 5
        }
      ]
    },
    {
      "cell_type": "code",
      "source": [
        "data.shape"
      ],
      "metadata": {
        "colab": {
          "base_uri": "https://localhost:8080/"
        },
        "id": "gwW6oSicnV2R",
        "outputId": "91b6fa41-12f9-4d9a-8c7c-bfc564fd45f2"
      },
      "execution_count": null,
      "outputs": [
        {
          "output_type": "execute_result",
          "data": {
            "text/plain": [
              "(193949, 2)"
            ]
          },
          "metadata": {},
          "execution_count": 6
        }
      ]
    },
    {
      "cell_type": "markdown",
      "source": [
        "## 2. 라이브러리 설치 및 불러오기\n",
        "- pytorch\n",
        "- kobert\n"
      ],
      "metadata": {
        "id": "QcvlBwwzZCAo"
      }
    },
    {
      "cell_type": "code",
      "source": [
        "#깃허브에서 KoBERT 파일 로드\n",
        "!pip install git+https://git@github.com/SKTBrain/KoBERT.git@master"
      ],
      "metadata": {
        "id": "IIynIdTtZH0h"
      },
      "execution_count": null,
      "outputs": []
    },
    {
      "cell_type": "code",
      "source": [
        "#==4.8.1"
      ],
      "metadata": {
        "id": "pIkcT_1E1xHz"
      },
      "execution_count": null,
      "outputs": []
    },
    {
      "cell_type": "code",
      "source": [
        "#cuda 에러 해결 참고 : https://stackoverflow.com/questions/69968477/runtimeerror-cuda-error-no-kernel-image-is-available-for-execution-on-the-devi\n",
        "#버전 에러발생으로 재설치\n",
        "!pip install torch torchvision torchaudio --extra-index-url https://download.pytorch.org/whl/cu116"
      ],
      "metadata": {
        "id": "gQUo03fRdeMX"
      },
      "execution_count": null,
      "outputs": []
    },
    {
      "cell_type": "code",
      "source": [
        "!pip install mxnet\n",
        "!pip install gluonnlp pandas tqdm\n",
        "!pip install sentencepiece\n",
        "!pip install transformers\n",
        "!pip install torch"
      ],
      "metadata": {
        "id": "9MV9FUjEdNJf"
      },
      "execution_count": null,
      "outputs": []
    },
    {
      "cell_type": "code",
      "source": [
        "import torch\n",
        "from torch import nn\n",
        "import torch.nn.functional as F\n",
        "import torch.optim as optim\n",
        "from torch.utils.data import Dataset, DataLoader\n",
        "import gluonnlp as nlp\n",
        "import numpy as np\n",
        "from tqdm import tqdm, tqdm_notebook\n",
        "\n",
        "#kobert\n",
        "from kobert.utils import get_tokenizer\n",
        "#from kobert.pytorch_kobert import get_kobert_model\n",
        "from kobert import get_pytorch_kobert_model\n",
        "\n",
        "#transformers\n",
        "from transformers import AdamW\n",
        "from transformers.optimization import get_cosine_schedule_with_warmup\n",
        "\n",
        "## CPU 사용시\n",
        "#device = torch.device(\"cpu\")\n",
        "\n",
        "#GPU 사용, 학습시간 단축\n",
        "device = torch.device(\"cuda:0\")\n",
        "\n",
        "#BERT 모델, Vocabulary 불러오기\n",
        "bertmodel, vocab = get_pytorch_kobert_model()\n"
      ],
      "metadata": {
        "colab": {
          "base_uri": "https://localhost:8080/"
        },
        "id": "i0roZ4End3iM",
        "outputId": "8d8bff82-1163-4833-b988-9de809cac065"
      },
      "execution_count": null,
      "outputs": [
        {
          "output_type": "stream",
          "name": "stdout",
          "text": [
            "/content/.cache/kobert_v1.zip[██████████████████████████████████████████████████]\n",
            "/content/.cache/kobert_news_wiki_ko_cased-1087f8699e.spiece[██████████████████████████████████████████████████]\n"
          ]
        }
      ]
    },
    {
      "cell_type": "markdown",
      "source": [
        "## 3. 학습용 데이터 리스트 처리 후 train, test split\n",
        "- skt kobert의 데이터형태\n",
        "\n",
        "![image.png](data:image/png;base64,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)"
      ],
      "metadata": {
        "id": "pJvYZGnNjvVW"
      }
    },
    {
      "cell_type": "code",
      "source": [
        "all_data_list = []\n",
        "\n",
        "for text, label in zip(data['doc'], data['label']):\n",
        "  all_data = []\n",
        "  all_data.append(text)\n",
        "  all_data.append(label)\n",
        "  all_data_list.append(all_data)\n",
        "\n",
        "len(all_data_list)"
      ],
      "metadata": {
        "colab": {
          "base_uri": "https://localhost:8080/"
        },
        "id": "afZy5AVmnQ-M",
        "outputId": "63968325-6305-4033-f213-fc245a9bfef4"
      },
      "execution_count": null,
      "outputs": [
        {
          "output_type": "execute_result",
          "data": {
            "text/plain": [
              "193949"
            ]
          },
          "metadata": {},
          "execution_count": 10
        }
      ]
    },
    {
      "cell_type": "code",
      "source": [
        "#len(all_data_list[:30000])"
      ],
      "metadata": {
        "id": "dYISHVqdoNcJ"
      },
      "execution_count": null,
      "outputs": []
    },
    {
      "cell_type": "code",
      "source": [
        "#data_for_train=all_data_list[:30000]"
      ],
      "metadata": {
        "id": "NswqLnu5oRBH"
      },
      "execution_count": null,
      "outputs": []
    },
    {
      "cell_type": "code",
      "source": [
        "all_data_list[:10]"
      ],
      "metadata": {
        "colab": {
          "base_uri": "https://localhost:8080/"
        },
        "id": "DXOOieZwyXXU",
        "outputId": "aa1e3af1-b9ae-485c-fdac-3eed4e838d9b"
      },
      "execution_count": null,
      "outputs": [
        {
          "output_type": "execute_result",
          "data": {
            "text/plain": [
              "[['손경식 회장 해외사업 공격적 확장 성장 가속화 ', 1],\n",
              " ['신입사원 연차 생기고 공공기관 채용 역대 최대', 1],\n",
              " ['2018년 채용연계형 인턴채용 문 열렸다', 1],\n",
              " ['무술년 채용연계형 인턴채용 스타트', 1],\n",
              " ['그냥 쉬었다 청년 30만명 역대 최고치', 0],\n",
              " ['청년 30만명 그냥 쉬었다 .최악 취업난에 니트족 증가', 0],\n",
              " ['하는 일 없이 그냥 쉬는 청년들 30만명 넘었다', 0],\n",
              " [' 최저임금 올라도 청년고용 영향 적어', 1],\n",
              " ['최악 취업난에 정부 대기업 채용 확대 초미관심', 1],\n",
              " ['원서 넣으면 뭐하나 실망실업자 48만 사상 최대 ', 0]]"
            ]
          },
          "metadata": {},
          "execution_count": 11
        }
      ]
    },
    {
      "cell_type": "code",
      "source": [
        "from sklearn.model_selection import train_test_split\n",
        "\n",
        "train, test = train_test_split(all_data_list, test_size = 0.2, shuffle=True, random_state = 2023)\n"
      ],
      "metadata": {
        "id": "CsIYp_sSnw5u"
      },
      "execution_count": null,
      "outputs": []
    },
    {
      "cell_type": "code",
      "source": [
        "data[['doc','label']]"
      ],
      "metadata": {
        "colab": {
          "base_uri": "https://localhost:8080/",
          "height": 424
        },
        "id": "3kDXETaDMJvV",
        "outputId": "ba40302a-f436-4d06-e21d-a2521d6af7d5"
      },
      "execution_count": null,
      "outputs": [
        {
          "output_type": "execute_result",
          "data": {
            "text/plain": [
              "                                         doc  label\n",
              "0                 손경식 회장 해외사업 공격적 확장 성장 가속화       1\n",
              "1                  신입사원 연차 생기고 공공기관 채용 역대 최대      1\n",
              "2                     2018년 채용연계형 인턴채용 문 열렸다      1\n",
              "3                         무술년 채용연계형 인턴채용 스타트      1\n",
              "4                      그냥 쉬었다 청년 30만명 역대 최고치      0\n",
              "...                                      ...    ...\n",
              "193944  디케이드 다음에 더블 다음에 오즈인데 더블은 조금밖에 안나오네요.      1\n",
              "193945                     인간이 문제지. 소는 뭔죄인가.      0\n",
              "193946       이게 뭐요? 한국인은 거들먹거리고 필리핀 혼혈은 착하다?      0\n",
              "193947           청춘 영화의 최고봉.방황과 우울했던 날들의 자화상      1\n",
              "193948              한국 영화 최초로 수간하는 내용이 담긴 영화      0\n",
              "\n",
              "[193949 rows x 2 columns]"
            ],
            "text/html": [
              "\n",
              "  <div id=\"df-6a331abb-0dc5-4732-a48d-98cca512ea68\">\n",
              "    <div class=\"colab-df-container\">\n",
              "      <div>\n",
              "<style scoped>\n",
              "    .dataframe tbody tr th:only-of-type {\n",
              "        vertical-align: middle;\n",
              "    }\n",
              "\n",
              "    .dataframe tbody tr th {\n",
              "        vertical-align: top;\n",
              "    }\n",
              "\n",
              "    .dataframe thead th {\n",
              "        text-align: right;\n",
              "    }\n",
              "</style>\n",
              "<table border=\"1\" class=\"dataframe\">\n",
              "  <thead>\n",
              "    <tr style=\"text-align: right;\">\n",
              "      <th></th>\n",
              "      <th>doc</th>\n",
              "      <th>label</th>\n",
              "    </tr>\n",
              "  </thead>\n",
              "  <tbody>\n",
              "    <tr>\n",
              "      <th>0</th>\n",
              "      <td>손경식 회장 해외사업 공격적 확장 성장 가속화</td>\n",
              "      <td>1</td>\n",
              "    </tr>\n",
              "    <tr>\n",
              "      <th>1</th>\n",
              "      <td>신입사원 연차 생기고 공공기관 채용 역대 최대</td>\n",
              "      <td>1</td>\n",
              "    </tr>\n",
              "    <tr>\n",
              "      <th>2</th>\n",
              "      <td>2018년 채용연계형 인턴채용 문 열렸다</td>\n",
              "      <td>1</td>\n",
              "    </tr>\n",
              "    <tr>\n",
              "      <th>3</th>\n",
              "      <td>무술년 채용연계형 인턴채용 스타트</td>\n",
              "      <td>1</td>\n",
              "    </tr>\n",
              "    <tr>\n",
              "      <th>4</th>\n",
              "      <td>그냥 쉬었다 청년 30만명 역대 최고치</td>\n",
              "      <td>0</td>\n",
              "    </tr>\n",
              "    <tr>\n",
              "      <th>...</th>\n",
              "      <td>...</td>\n",
              "      <td>...</td>\n",
              "    </tr>\n",
              "    <tr>\n",
              "      <th>193944</th>\n",
              "      <td>디케이드 다음에 더블 다음에 오즈인데 더블은 조금밖에 안나오네요.</td>\n",
              "      <td>1</td>\n",
              "    </tr>\n",
              "    <tr>\n",
              "      <th>193945</th>\n",
              "      <td>인간이 문제지. 소는 뭔죄인가.</td>\n",
              "      <td>0</td>\n",
              "    </tr>\n",
              "    <tr>\n",
              "      <th>193946</th>\n",
              "      <td>이게 뭐요? 한국인은 거들먹거리고 필리핀 혼혈은 착하다?</td>\n",
              "      <td>0</td>\n",
              "    </tr>\n",
              "    <tr>\n",
              "      <th>193947</th>\n",
              "      <td>청춘 영화의 최고봉.방황과 우울했던 날들의 자화상</td>\n",
              "      <td>1</td>\n",
              "    </tr>\n",
              "    <tr>\n",
              "      <th>193948</th>\n",
              "      <td>한국 영화 최초로 수간하는 내용이 담긴 영화</td>\n",
              "      <td>0</td>\n",
              "    </tr>\n",
              "  </tbody>\n",
              "</table>\n",
              "<p>193949 rows × 2 columns</p>\n",
              "</div>\n",
              "      <button class=\"colab-df-convert\" onclick=\"convertToInteractive('df-6a331abb-0dc5-4732-a48d-98cca512ea68')\"\n",
              "              title=\"Convert this dataframe to an interactive table.\"\n",
              "              style=\"display:none;\">\n",
              "        \n",
              "  <svg xmlns=\"http://www.w3.org/2000/svg\" height=\"24px\"viewBox=\"0 0 24 24\"\n",
              "       width=\"24px\">\n",
              "    <path d=\"M0 0h24v24H0V0z\" fill=\"none\"/>\n",
              "    <path d=\"M18.56 5.44l.94 2.06.94-2.06 2.06-.94-2.06-.94-.94-2.06-.94 2.06-2.06.94zm-11 1L8.5 8.5l.94-2.06 2.06-.94-2.06-.94L8.5 2.5l-.94 2.06-2.06.94zm10 10l.94 2.06.94-2.06 2.06-.94-2.06-.94-.94-2.06-.94 2.06-2.06.94z\"/><path d=\"M17.41 7.96l-1.37-1.37c-.4-.4-.92-.59-1.43-.59-.52 0-1.04.2-1.43.59L10.3 9.45l-7.72 7.72c-.78.78-.78 2.05 0 2.83L4 21.41c.39.39.9.59 1.41.59.51 0 1.02-.2 1.41-.59l7.78-7.78 2.81-2.81c.8-.78.8-2.07 0-2.86zM5.41 20L4 18.59l7.72-7.72 1.47 1.35L5.41 20z\"/>\n",
              "  </svg>\n",
              "      </button>\n",
              "      \n",
              "  <style>\n",
              "    .colab-df-container {\n",
              "      display:flex;\n",
              "      flex-wrap:wrap;\n",
              "      gap: 12px;\n",
              "    }\n",
              "\n",
              "    .colab-df-convert {\n",
              "      background-color: #E8F0FE;\n",
              "      border: none;\n",
              "      border-radius: 50%;\n",
              "      cursor: pointer;\n",
              "      display: none;\n",
              "      fill: #1967D2;\n",
              "      height: 32px;\n",
              "      padding: 0 0 0 0;\n",
              "      width: 32px;\n",
              "    }\n",
              "\n",
              "    .colab-df-convert:hover {\n",
              "      background-color: #E2EBFA;\n",
              "      box-shadow: 0px 1px 2px rgba(60, 64, 67, 0.3), 0px 1px 3px 1px rgba(60, 64, 67, 0.15);\n",
              "      fill: #174EA6;\n",
              "    }\n",
              "\n",
              "    [theme=dark] .colab-df-convert {\n",
              "      background-color: #3B4455;\n",
              "      fill: #D2E3FC;\n",
              "    }\n",
              "\n",
              "    [theme=dark] .colab-df-convert:hover {\n",
              "      background-color: #434B5C;\n",
              "      box-shadow: 0px 1px 3px 1px rgba(0, 0, 0, 0.15);\n",
              "      filter: drop-shadow(0px 1px 2px rgba(0, 0, 0, 0.3));\n",
              "      fill: #FFFFFF;\n",
              "    }\n",
              "  </style>\n",
              "\n",
              "      <script>\n",
              "        const buttonEl =\n",
              "          document.querySelector('#df-6a331abb-0dc5-4732-a48d-98cca512ea68 button.colab-df-convert');\n",
              "        buttonEl.style.display =\n",
              "          google.colab.kernel.accessAllowed ? 'block' : 'none';\n",
              "\n",
              "        async function convertToInteractive(key) {\n",
              "          const element = document.querySelector('#df-6a331abb-0dc5-4732-a48d-98cca512ea68');\n",
              "          const dataTable =\n",
              "            await google.colab.kernel.invokeFunction('convertToInteractive',\n",
              "                                                     [key], {});\n",
              "          if (!dataTable) return;\n",
              "\n",
              "          const docLinkHtml = 'Like what you see? Visit the ' +\n",
              "            '<a target=\"_blank\" href=https://colab.research.google.com/notebooks/data_table.ipynb>data table notebook</a>'\n",
              "            + ' to learn more about interactive tables.';\n",
              "          element.innerHTML = '';\n",
              "          dataTable['output_type'] = 'display_data';\n",
              "          await google.colab.output.renderOutput(dataTable, element);\n",
              "          const docLink = document.createElement('div');\n",
              "          docLink.innerHTML = docLinkHtml;\n",
              "          element.appendChild(docLink);\n",
              "        }\n",
              "      </script>\n",
              "    </div>\n",
              "  </div>\n",
              "  "
            ]
          },
          "metadata": {},
          "execution_count": 99
        }
      ]
    },
    {
      "cell_type": "markdown",
      "source": [
        "## 4. 토크나이징\n",
        "- kobert 토크나이저와 pre-trained model 불러오기"
      ],
      "metadata": {
        "id": "eTcaWMRgocr3"
      }
    },
    {
      "cell_type": "code",
      "source": [
        "#kobert\n",
        "from kobert.utils import get_tokenizer\n",
        "tokenizer = get_tokenizer()\n",
        "\n",
        "#BERT 모델, Vocabulary 불러오기\n",
        "bertmodel, vocab = get_pytorch_kobert_model()\n",
        "#lower=False 한글이니까 상관 없을듯..?\n",
        "tok = nlp.data.BERTSPTokenizer(tokenizer, vocab, lower=False)"
      ],
      "metadata": {
        "colab": {
          "base_uri": "https://localhost:8080/"
        },
        "id": "2ErcPldson19",
        "outputId": "37d804bc-8c58-4171-d85d-43b6c2d9b7c2"
      },
      "execution_count": null,
      "outputs": [
        {
          "output_type": "stream",
          "name": "stdout",
          "text": [
            "using cached model. /content/.cache/kobert_news_wiki_ko_cased-1087f8699e.spiece\n",
            "using cached model. /content/.cache/kobert_v1.zip\n",
            "using cached model. /content/.cache/kobert_news_wiki_ko_cased-1087f8699e.spiece\n"
          ]
        }
      ]
    },
    {
      "cell_type": "code",
      "source": [
        "vocab.idx_to_token[3]"
      ],
      "metadata": {
        "colab": {
          "base_uri": "https://localhost:8080/",
          "height": 35
        },
        "id": "N2UIVQyXouCy",
        "outputId": "9a212598-fa7d-4392-e2e7-b739aa91a11b"
      },
      "execution_count": null,
      "outputs": [
        {
          "output_type": "execute_result",
          "data": {
            "text/plain": [
              "'[SEP]'"
            ],
            "application/vnd.google.colaboratory.intrinsic+json": {
              "type": "string"
            }
          },
          "metadata": {},
          "execution_count": 14
        }
      ]
    },
    {
      "cell_type": "code",
      "source": [
        "vocab.idx_to_token[1]"
      ],
      "metadata": {
        "colab": {
          "base_uri": "https://localhost:8080/",
          "height": 35
        },
        "id": "IWI2WPVDgm4M",
        "outputId": "b3192260-f6b9-461f-e80a-b6576a8e4c19"
      },
      "execution_count": null,
      "outputs": [
        {
          "output_type": "execute_result",
          "data": {
            "text/plain": [
              "'[PAD]'"
            ],
            "application/vnd.google.colaboratory.intrinsic+json": {
              "type": "string"
            }
          },
          "metadata": {},
          "execution_count": 15
        }
      ]
    },
    {
      "cell_type": "code",
      "source": [
        "vocab.idx_to_token[2]"
      ],
      "metadata": {
        "colab": {
          "base_uri": "https://localhost:8080/",
          "height": 35
        },
        "id": "_XpUMiYegoCw",
        "outputId": "819bb932-8130-4a5d-c5d1-1da8c3f06494"
      },
      "execution_count": null,
      "outputs": [
        {
          "output_type": "execute_result",
          "data": {
            "text/plain": [
              "'[CLS]'"
            ],
            "application/vnd.google.colaboratory.intrinsic+json": {
              "type": "string"
            }
          },
          "metadata": {},
          "execution_count": 16
        }
      ]
    },
    {
      "cell_type": "code",
      "source": [
        "vocab.idx_to_token[0]"
      ],
      "metadata": {
        "colab": {
          "base_uri": "https://localhost:8080/",
          "height": 35
        },
        "id": "SmoQZ5-DguWV",
        "outputId": "17a6b30f-dec2-4319-f5b9-d27c1cf335e4"
      },
      "execution_count": null,
      "outputs": [
        {
          "output_type": "execute_result",
          "data": {
            "text/plain": [
              "'[UNK]'"
            ],
            "application/vnd.google.colaboratory.intrinsic+json": {
              "type": "string"
            }
          },
          "metadata": {},
          "execution_count": 17
        }
      ]
    },
    {
      "cell_type": "markdown",
      "source": [
        "## 5. 파라미터 설정\n"
      ],
      "metadata": {
        "id": "PiujUlxkqftw"
      }
    },
    {
      "cell_type": "code",
      "source": [
        "import matplotlib.pyplot as plt\n",
        "plt.hist([len(doc) for doc in data['doc']], bins = 20)\n",
        "plt.xlabel('length of samples'), plt.ylabel('number of samples');"
      ],
      "metadata": {
        "colab": {
          "base_uri": "https://localhost:8080/",
          "height": 279
        },
        "id": "PTK-8nB1rfpl",
        "outputId": "9fab8774-0203-426e-9f4d-bc7a446ae71a"
      },
      "execution_count": null,
      "outputs": [
        {
          "output_type": "display_data",
          "data": {
            "text/plain": [
              "<Figure size 432x288 with 1 Axes>"
            ],
            "image/png": "[encoded data removed]"
          },
          "metadata": {
            "needs_background": "light"
          }
        }
      ]
    },
    {
      "cell_type": "code",
      "source": [
        "max_len = 128 # max seqence length : 텍스트 데이터 최대 길이, 길이 200까지 대다수의 데이터가 분포\n",
        "batch_size = 64 #128 대부분 문장길이\n",
        "warmup_ratio = 0.1\n",
        "num_epochs = 10 #훈련 반복 횟수\n",
        "max_grad_norm = 1\n",
        "log_interval = 200\n",
        "learning_rate =  5e-5"
      ],
      "metadata": {
        "id": "2UpcATvfqhrm"
      },
      "execution_count": null,
      "outputs": []
    },
    {
      "cell_type": "code",
      "source": [
        "2425/64"
      ],
      "metadata": {
        "colab": {
          "base_uri": "https://localhost:8080/"
        },
        "id": "-8LMDgHfYN1s",
        "outputId": "20ffa618-188f-46f7-eae2-03065f69cdad"
      },
      "execution_count": 22,
      "outputs": [
        {
          "output_type": "execute_result",
          "data": {
            "text/plain": [
              "37.890625"
            ]
          },
          "metadata": {},
          "execution_count": 22
        }
      ]
    },
    {
      "cell_type": "markdown",
      "source": [
        "## 6. BERTDataset 만들기\n",
        "- 4.의 토크나이저 적용해서 토큰화\n",
        "- 정수 인코딩, padding 작업\n",
        "-  BERTDataset 클래스 이용, TensorDataset으로 만들어주기 \n",
        "- 0번째 index에 sentence,  1번째 index에 label"
      ],
      "metadata": {
        "id": "_Zd_FAJgygTY"
      }
    },
    {
      "cell_type": "code",
      "source": [
        "class BERTDataset(Dataset):\n",
        "    def __init__(self, dataset, sent_idx, label_idx, bert_tokenizer, max_len,\n",
        "                 pad, pair):\n",
        "        transform = nlp.data.BERTSentenceTransform(\n",
        "            bert_tokenizer, max_seq_length=max_len, pad=pad, pair=pair)\n",
        "\n",
        "        self.sentences = [transform([i[sent_idx]]) for i in dataset]\n",
        "        self.labels = [np.int32(i[label_idx]) for i in dataset]\n",
        "\n",
        "    def __getitem__(self, i):\n",
        "        return (self.sentences[i] + (self.labels[i], ))\n",
        "\n",
        "    def __len__(self):\n",
        "        return (len(self.labels))\n"
      ],
      "metadata": {
        "id": "ggXm3wx1ye6F"
      },
      "execution_count": null,
      "outputs": []
    },
    {
      "cell_type": "code",
      "source": [
        "data_train = BERTDataset(train, 0, 1, tok, max_len, True, False)\n",
        "data_test = BERTDataset(test, 0, 1, tok, max_len, True, False)"
      ],
      "metadata": {
        "id": "0muqDp9Qy5xe"
      },
      "execution_count": null,
      "outputs": []
    },
    {
      "cell_type": "code",
      "source": [
        "train[0]"
      ],
      "metadata": {
        "colab": {
          "base_uri": "https://localhost:8080/"
        },
        "id": "GhLL8JA2e1Ya",
        "outputId": "d8656779-e333-4cb9-81e7-b08240083dfd"
      },
      "execution_count": null,
      "outputs": [
        {
          "output_type": "execute_result",
          "data": {
            "text/plain": [
              "['애니메이션은 평타이상은 해주는것 같다.', 1]"
            ]
          },
          "metadata": {},
          "execution_count": 21
        }
      ]
    },
    {
      "cell_type": "code",
      "source": [
        "data_train.labels[0]"
      ],
      "metadata": {
        "colab": {
          "base_uri": "https://localhost:8080/"
        },
        "id": "nRzrrfRye2mN",
        "outputId": "03d4f5e7-e410-40c3-b28d-32f90cf42be2"
      },
      "execution_count": null,
      "outputs": [
        {
          "output_type": "execute_result",
          "data": {
            "text/plain": [
              "1"
            ]
          },
          "metadata": {},
          "execution_count": 22
        }
      ]
    },
    {
      "cell_type": "code",
      "source": [
        "data_train.sentences[0]"
      ],
      "metadata": {
        "colab": {
          "base_uri": "https://localhost:8080/"
        },
        "id": "7IBlntcge56P",
        "outputId": "486624e7-2bec-4307-ea1a-e78a67e4cb6e"
      },
      "execution_count": null,
      "outputs": [
        {
          "output_type": "execute_result",
          "data": {
            "text/plain": [
              "(array([   2, 3196, 7086, 4841, 7581, 7110, 7086,  517, 7857, 5398,  831,\n",
              "         517,   54,    3,    1,    1,    1,    1,    1,    1,    1,    1,\n",
              "           1,    1,    1,    1,    1,    1,    1,    1,    1,    1,    1,\n",
              "           1,    1,    1,    1,    1,    1,    1,    1,    1,    1,    1,\n",
              "           1,    1,    1,    1,    1,    1,    1,    1,    1,    1,    1,\n",
              "           1,    1,    1,    1,    1,    1,    1,    1,    1,    1,    1,\n",
              "           1,    1,    1,    1,    1,    1,    1,    1,    1,    1,    1,\n",
              "           1,    1,    1,    1,    1,    1,    1,    1,    1,    1,    1,\n",
              "           1,    1,    1,    1,    1,    1,    1,    1,    1,    1,    1,\n",
              "           1,    1,    1,    1,    1,    1,    1,    1,    1,    1,    1,\n",
              "           1,    1,    1,    1,    1,    1,    1,    1,    1,    1,    1,\n",
              "           1,    1,    1,    1,    1,    1,    1], dtype=int32),\n",
              " array(14, dtype=int32),\n",
              " array([0, 0, 0, 0, 0, 0, 0, 0, 0, 0, 0, 0, 0, 0, 0, 0, 0, 0, 0, 0, 0, 0,\n",
              "        0, 0, 0, 0, 0, 0, 0, 0, 0, 0, 0, 0, 0, 0, 0, 0, 0, 0, 0, 0, 0, 0,\n",
              "        0, 0, 0, 0, 0, 0, 0, 0, 0, 0, 0, 0, 0, 0, 0, 0, 0, 0, 0, 0, 0, 0,\n",
              "        0, 0, 0, 0, 0, 0, 0, 0, 0, 0, 0, 0, 0, 0, 0, 0, 0, 0, 0, 0, 0, 0,\n",
              "        0, 0, 0, 0, 0, 0, 0, 0, 0, 0, 0, 0, 0, 0, 0, 0, 0, 0, 0, 0, 0, 0,\n",
              "        0, 0, 0, 0, 0, 0, 0, 0, 0, 0, 0, 0, 0, 0, 0, 0, 0, 0], dtype=int32))"
            ]
          },
          "metadata": {},
          "execution_count": 23
        }
      ]
    },
    {
      "cell_type": "markdown",
      "source": [
        "## 7. data_load\n",
        "- BERTDataset을 이용하여 dataset을 만들어준 후 분석용 train, test 데이터 loader 만들기"
      ],
      "metadata": {
        "id": "-Gs3qO3Z1oR7"
      }
    },
    {
      "cell_type": "code",
      "source": [
        "# num_workers : how many subprocesses to use for data loading\n",
        "train_loader = torch.utils.data.DataLoader(data_train, batch_size=batch_size, num_workers=5)\n",
        "test_loader = torch.utils.data.DataLoader(data_test, batch_size=batch_size, num_workers=5)"
      ],
      "metadata": {
        "id": "1OLPIqeO1qpK"
      },
      "execution_count": null,
      "outputs": []
    },
    {
      "cell_type": "markdown",
      "source": [
        "## 8. 분류개수 설정 및 모델 설계\n",
        "- 파인튜닝fine-tuning을 위한 분류기 정의\n",
        "- bert 의 최종 결과값 : 마지막 은닉state의 첫 토큰, 마지막 은닉state \n",
        "- 이진 감성분석이므로 num_classes=2,"
      ],
      "metadata": {
        "id": "tyd_n8VGqqks"
      }
    },
    {
      "cell_type": "code",
      "source": [
        "class BERTClassifier(nn.Module):\n",
        "  def __init__(self, bert, hidden_size=768, num_classes=2, dr_rate=None, params=None):\n",
        "    super(BERTClassifier, self).__init__()\n",
        "    self.bert = bert\n",
        "    self.dr_rate = dr_rate\n",
        "\n",
        "    self.classifier = nn.Linear(hidden_size , num_classes)\n",
        "    if dr_rate:\n",
        "      self.dropout = nn.Dropout(p=dr_rate)\n",
        "\n",
        "  def gen_attention_mask(self, token_ids, valid_length):\n",
        "    attention_mask = torch.zeros_like(token_ids)\n",
        "    for i, v in enumerate(valid_length):\n",
        "      attention_mask[i][:v] = 1\n",
        "    return attention_mask.float()\n",
        "\n",
        "  def forward(self, token_ids, valid_length, segment_ids):\n",
        "    attention_mask = self.gen_attention_mask(token_ids, valid_length)\n",
        "    _, pooler = self.bert(input_ids = token_ids, token_type_ids = segment_ids.long(), attention_mask = attention_mask.float().to(token_ids.device))\n",
        "    if self.dr_rate:\n",
        "        out = self.dropout(pooler)\n",
        "    else:\n",
        "        out = pooler\n",
        "    return self.classifier(out)"
      ],
      "metadata": {
        "id": "YTv9u0coqsLm"
      },
      "execution_count": null,
      "outputs": []
    },
    {
      "cell_type": "markdown",
      "source": [
        "## 9. 옵티마이저, 스케줄 및 정확도 함수 설정"
      ],
      "metadata": {
        "id": "liQrJWF33BGk"
      }
    },
    {
      "cell_type": "code",
      "source": [
        "# 설계한 bert 모델 불러오기 #gpu 연결됐는지 확인필수!!!\n",
        "model = BERTClassifier(bertmodel,  dr_rate=0.5).to(device)"
      ],
      "metadata": {
        "id": "Bl-bllv72qsR"
      },
      "execution_count": null,
      "outputs": []
    },
    {
      "cell_type": "markdown",
      "source": [
        "### optimizer, schedule (linear warmup and decay) 설정\n",
        "- optimizer : AdamW-> L2 regularization과 weight decay 관점에서 SGD에 비해 일반화 능력이 떨어지는 문제점을 해결\n",
        "- schedule : Learning rate schedule-> 미리 학습 일정을 정해두고, 그 일정에 따라 학습률을 조정하는 방법임. 학습이 진행됨에 따라 epoch 또는 iteration 간에 학습률을 조정하는 사전 정의된 프레임워크(스케쥴 개념 참고 : https://ai4nlp.tistory.com/8)\n",
        "- loss fcn : 이진분류이므로 crossentropyloss "
      ],
      "metadata": {
        "id": "fCNAiW0y3lNQ"
      }
    },
    {
      "cell_type": "code",
      "source": [
        "# Prepare optimizer and schedule (linear warmup and decay)\n",
        "# 최적화해야 할 parameter를 optimizer에게 알림\n",
        "no_decay = ['bias', 'LayerNorm.weight']\n",
        "optimizer_grouped_parameters = [\n",
        "    {'params': [p for n, p in model.named_parameters() if not any(nd in n for nd in no_decay)], 'weight_decay': 0.01},\n",
        "    {'params': [p for n, p in model.named_parameters() if any(nd in n for nd in no_decay)], 'weight_decay': 0.0}\n",
        "]\n",
        "\n",
        "#옵티마이저, 손실함수 지정\n",
        "optimizer = AdamW(optimizer_grouped_parameters, lr=learning_rate)\n",
        "loss_fn = nn.CrossEntropyLoss()\n",
        "\n",
        "t_total = len(train_loader) * num_epochs\n",
        "warmup_step = int(t_total * warmup_ratio)\n",
        "\n",
        "scheduler = get_cosine_schedule_with_warmup(optimizer, num_warmup_steps=warmup_step, num_training_steps=t_total)"
      ],
      "metadata": {
        "id": "g2eUM9MG7Nt5"
      },
      "execution_count": null,
      "outputs": []
    },
    {
      "cell_type": "markdown",
      "source": [
        "### 정확도 함수 정의"
      ],
      "metadata": {
        "id": "5-Q60wj89SH7"
      }
    },
    {
      "cell_type": "code",
      "source": [
        "def calc_accuracy(X,Y):\n",
        "    max_vals, max_indices = torch.max(X, 1)\n",
        "    train_acc = (max_indices == Y).sum().data.cpu().numpy()/max_indices.size()[0]\n",
        "    return train_acc"
      ],
      "metadata": {
        "id": "F7Guk7H3-HRi"
      },
      "execution_count": null,
      "outputs": []
    },
    {
      "cell_type": "markdown",
      "source": [
        "## 10. 훈련 진행 및 epoch 별 정확도 측정\n",
        "- num_epochs = 10 훈련 반복 횟수"
      ],
      "metadata": {
        "id": "1OHmRR2F8ARQ"
      }
    },
    {
      "cell_type": "code",
      "source": [
        "####################################################################################\n",
        "#정확도 비교후 모델 업데이트 및 복사 \n",
        "# deepcopy를 사용해야 모델이 온전히 복사가 됨. 일반 copy와는 다름.\n",
        "###################################################################################\n",
        "\n",
        "# checkpoint\n",
        "from copy import deepcopy\n",
        "best_acc = 0\n",
        "best_acc_model = None \n",
        "\n",
        "#epoch 별 정확도 도출 \n",
        "\n",
        "train_history=[]#train acc\n",
        "test_history=[] #test acc\n",
        "loss_history=[] # 전체 loss \n",
        "avg_loss_hisroty=[] #epoch별 평균 loss\n",
        "test_loss_history=[]\n",
        "\n",
        "for e in range(num_epochs):\n",
        "    total_loss=0.0\n",
        "    train_acc = 0.0\n",
        "    test_acc = 0.0\n",
        "    test_total_loss=0.0\n",
        "    \n",
        "    model.train() #훈련 선언\n",
        "    for batch_id, (token_ids, valid_length, segment_ids, label) in enumerate(tqdm_notebook(train_loader)): # len(train_loader)=2425\n",
        "        optimizer.zero_grad()\n",
        "        token_ids = token_ids.long().to(device)\n",
        "        segment_ids = segment_ids.long().to(device)\n",
        "        valid_length= valid_length\n",
        "        label = label.long().to(device)\n",
        "        out = model(token_ids, valid_length, segment_ids)\n",
        "         \n",
        "        #print(label.shape,out.shape)\n",
        "        loss = loss_fn(out, label)\n",
        "        loss.backward()\n",
        "        torch.nn.utils.clip_grad_norm_(model.parameters(), max_grad_norm)\n",
        "        optimizer.step()\n",
        "        scheduler.step()  # Update learning rate schedule\n",
        "        train_acc += calc_accuracy(out, label)\n",
        "\n",
        "        if batch_id % log_interval == 0:\n",
        "            print(\"epoch {} batch id {} loss {} train acc {}\".format(e+1, batch_id+1, loss.data.cpu().numpy(), train_acc / (batch_id+1)))\n",
        "            train_history.append(train_acc / (batch_id+1))\n",
        "            loss_history.append(loss.data.cpu().numpy())\n",
        "            total_loss+=loss.data.cpu().numpy()\n",
        "\n",
        "    print(\"epoch {} train acc {}\".format(e+1, train_acc / (batch_id+1)))\n",
        "\n",
        "    avg_loss=total_loss/len(train_loader) #epoch별 평균 loss값\n",
        "    avg_loss_hisroty.append(avg_loss)\n",
        "    train_history.append(train_acc / (batch_id+1))\n",
        "    \n",
        "    model.eval() #모델평가\n",
        "    for batch_id, (token_ids, valid_length, segment_ids, label) in enumerate(tqdm_notebook(test_loader)):\n",
        "        token_ids = token_ids.long().to(device)\n",
        "        segment_ids = segment_ids.long().to(device)\n",
        "        valid_length= valid_length\n",
        "        label = label.long().to(device)\n",
        "        out = model(token_ids, valid_length, segment_ids)\n",
        "        loss = loss_fn(out, label)\n",
        "        loss.backward()\n",
        "        test_acc += calc_accuracy(out, label)\n",
        "        test_total_loss+=loss.data.cpu().numpy()\n",
        "  \n",
        "    print(\"epoch {} test acc {}\".format(e+1, test_acc / (batch_id+1)))\n",
        "    test_history.append(test_acc / (batch_id+1))\n",
        "    test_avg_loss=test_total_loss/len(test_loader)\n",
        "    test_loss_history.append(test_avg_loss)\n",
        "\n",
        "\n",
        "    \n",
        "    if (test_acc / (batch_id+1)) > best_acc:\n",
        "          best_acc = (test_acc / (batch_id+1))\n",
        "          best_acc_model = deepcopy(model)  \n",
        "\n",
        "\n",
        "    print(\"epoch {} test acc {} acc {}\".format(e+1, test_acc / (batch_id+1), test_acc / (batch_id+1)))\n",
        " "
      ],
      "metadata": {
        "colab": {
          "base_uri": "https://localhost:8080/",
          "height": 1000,
          "referenced_widgets": [
            "7e2297d41a1549d086c19dd6f799ddee",
            "0936bb11de19438081140f8e0d6e29ef",
            "f510fc4a12df4e56a02ad48da8285cdd",
            "b0e130ac8a334a88992ad21cf23218f2",
            "9c576ce0c78243cea5a88ad89988f45c",
            "4b5c54e640c94e13ba3e10e27f6c040f",
            "e40c60d3da014b728882ff5e2585c96e",
            "4c7edd0a4ca547b686127c8c17abfd97",
            "cf35ed77e62549a0b5c814f3e1f2441d",
            "eaef3b4089cc437094dfc6daca223e49",
            "bd007bdcb0634a119b04880ca0fab2cd",
            "856ad769f14c417683e898a3910d5fbb",
            "1e1d586faad7494684b57531242b0c01",
            "589b927e84d4415297789addc07d9235",
            "16592637c7e54a37beb8f838f09fb37e",
            "1176dd78ee204780ad297c7b162877bd",
            "0890496144d948ffb1def71aef52367f",
            "35644638b9b74d93aede9c6eff9c4e6f",
            "87ec9fa151954955a9eee7b9a501d969",
            "1c6a71744df742c19b2fa7f7cea3e6a1",
            "81ad2d6047f2466cbde1ca8a90f5970d",
            "e4217a4e31ef4fc0a60e0854ebc5dc0d",
            "bab949856774412395b6ee06f03392c8",
            "1621e7bc73a24f7b895a26b828c093f5",
            "a206885cbb7b4ee59e24d854cc7eb943",
            "186512d6a4234f4c837fb6f46e4b1d4e",
            "cddbbd4c169d41feb69f37b63cac4939",
            "20452e7062774e60885a688b3b312bed",
            "ff4aa0d60b3440da8d9779f477f5398e",
            "82b5af403b664819ae462f9419a21927",
            "1a1f0dc0c0824005b9bcd6ed4a7790fc",
            "4dc3df5109ec44babeed24d0f9231d3a",
            "2845db8048174e989103682759782532",
            "c2ebba9557344d689b614a86249bd0c9",
            "8b22bf6deb8c43eba1ed8135d097aa0c",
            "cc44041695514dd6a4d3ee2f5365f085",
            "559ec01ecf66480c915a44236b7065f0",
            "467e1aec9fea4546a7f6996b9495a0b8",
            "cd143e568ae7499898896d86179cfd36",
            "7c4ebc43a03848c081d185f3eeb1d4aa",
            "c7b27045f6214313aa0ca20398ef8e95",
            "f4896d8c893f46adb2b21fa4577feec0",
            "fc194c7b3833400fb85a333eafb39c50",
            "2533cf6e7fc7486780201f134238f17a",
            "c448407d0df74f289b2ef51d5b0113f0",
            "ff767c420355490cab7c41f82a264481",
            "d1ae29460b734f06bf65b898ad3a1707",
            "0265e877463544a4a4c023b128f5abe0",
            "d775f73edbf94d2bb73561c308f145df",
            "15afcdf9dd5d41cc90b0776e00378378",
            "8d05c79de700449692f548ef8bd592f8",
            "d78f6dd8d3ff4808a7c7c8f9a108e505",
            "182bcc4cf4d54f06ba68d71e68fb40ac",
            "b611d1091a0b45dd8af5ba85e3d8433a",
            "cf141d4450904a979b87453edba1e2aa",
            "96073a5ab9234adcbfc62aff66d861fc",
            "cdc6adebab38429389a5d2bc15e809d1",
            "fa07fe30840e4d2fb746cd0acb65a628",
            "84fdb741c15d4c8fa4b50d01d56aa0f6",
            "ce07a2c466fc4bf590aec849de5c5ffa",
            "d0b5ca842c02477e9497e123bcc287c5",
            "00d5df6a55fd4a189fde7f982d4a9325",
            "8f6b30f282344a9788ce2f86028bd64d",
            "a7c2bc938c864d40951f19a1e699b592",
            "78d59e13613a4a46938f0e7fe125b611",
            "a021535b6dec4521aec147e7c7c7494d",
            "c04b3881165c40f2b7df7f0197c80739",
            "6e94c56514ea4b7abed37bea93162ac5",
            "60a14a8f708940f3906c2fd1ebb600e2",
            "e6df8c06d6964d2faad5100895de7a8c",
            "03567aa548c24c07b790cf256d26cf89",
            "f3347d31e2f54bea8f42c7cd0fbf031d",
            "790c0f30ab204996bc70d64a686e8a1e",
            "c6e9f1e69e794e9f923d3b4456944fbf",
            "18af60cf7e4749e0a61154c0cbf6d5c1",
            "2a5f602ef4824743a12bb2a1d3faa892",
            "f7cc8d38095b44dba79fc57926750d24",
            "4915680e1dc54d28b727cb4b107fbf48",
            "fde4596149d74d7ebe3d6005753e9276",
            "bbd79ca70c6f430eb658fb44cc5e6983",
            "7e2b7f0c184f42adb94234149adeefce",
            "665db5009e2f47c3ad685ff78c4ed8f7",
            "4dd79f79f6fe47718bc379c3171e506b",
            "e38ead47015b4d9ab2013dffaebab827",
            "d51b343f62f94312b23377498a4d53f1",
            "48eb28f81b4146a88aa2db6bea8a8f2f",
            "13e6b1865a004dc89d4cf93d78ea5260",
            "1006493818ec4657a5f79addfb55dcf9",
            "d6b32508a35d41c7a40dfa173353ae7c",
            "9f07c736a1cb484f8a087c15f27a7581",
            "6c80614173e843b0a08495198a722702",
            "a1bc4e9ab52f4fcc8039bf45a6ba59fe",
            "ff095e591695434dad331cf00df0ddf4",
            "1f1302c3c9de448e88d9053f213f763c",
            "f2995f18d40f40dc97e312e305669c56",
            "d475ec622b99418eb50e95477731b392",
            "dc9d5652b4324e6fbfffa94c4658b1d1",
            "6c74a0364bfd4d5796ed81a81ae65105",
            "e7a808c540a8465bb98ad4d46b46b8fd",
            "67bd17c0c69f420084c17c49d052f43c",
            "fb696c708bc048ef8e476134b4290c9d",
            "177aca74ab274f6ca9f6ffb88cddc0b6",
            "8647498f9f21460083b5c446968056a7",
            "aaf73d9a907d42608c5e2a46b536e682",
            "c9c4809e55194e16be6acba722f45b86",
            "05e76453365346ddbde6b50c730a5ea2",
            "91ce97ef3a5145e6b9a7a9c22d9eb592",
            "e0158877db71402d8c771dd6bcc9135d",
            "895de287892e4e62b1c380afbe14daab",
            "55959d64ca35497cbbe22d418cdedeb1",
            "d38e37eb41fa4ed4953683f413a192ea",
            "40be5cd35e2a48399946814caad3eb9b",
            "51e774be0e7b4447a46a5647e3ed5124",
            "ef7030e7fcef4d1bbb3d3ea2ad0242a5",
            "4488851405fb4e53982d2d0d2b30d0bd",
            "9026404a06c541698b7b678b186cd20d",
            "71bba7141b224eaabf058ceca560a305",
            "4c9fca9778af43c186a4d05bfa63c939",
            "5b06e9b227ae4bb7bc36b2bedc85cae0",
            "3281b6d3b9464a4c8d26c67ab1efcc20",
            "97342a25465d46189b6008fb1f13f00f",
            "c88b1097c35d4bb08199a784fe78c22a",
            "2e34624240db46fbb2a27940aeb75589",
            "4421ffdced96440192acfb38c8da52da",
            "00056d5dae76431d96fce637cee56fdc",
            "3d330054ecc545a8abc52ea4ee18f418",
            "09fc252d53eb47b0afb1b8511888325b",
            "de15f99b33654838825d136f5e6da84e",
            "935bef070aaf4043a7967e36179207f6",
            "cecfda7953284a9e8590071846baa320",
            "138a956e1e264937a2d44cc6ac1adac8",
            "0ebcec83d2524a0089a4ad397891cc07",
            "de6cbeab6da24420b41d6c72eeae3875",
            "a03e65423857416ebf3ea5c9d6d94eda",
            "3ee1b987baa046ffab4683c4c30b525a",
            "750db9f72d9a47d98ed7739a08224d2f",
            "f3bec08ae3334c75a973f8600e535217",
            "98af8b2eb7874869bc2d274536f1e728",
            "7a5d4867c02243218a4ad14bfc280066",
            "fff9a845055145018ce3d73125731713",
            "3f8ddada8c9b4475bd155e6a2a721ec5",
            "4664108518874f6b9aae70011b9af23e",
            "6dc46cce26b64b7da439b18291f2e576",
            "2733014c012b44268ddbe5752a6b6782",
            "319fbe28c8d340578d5f969e0acea5be",
            "38e86c89417e4ea78c366f83f5dcd0eb",
            "0f154146dbbb4537acbedba447190964",
            "f2f0b3ff641e451eb294327b551f1c81",
            "8e61ed2cf25a4321b4dac380ebf2894e",
            "d19d6efdcea84819af2d932a3a26e45f",
            "153a09fe0f03466a87069f4e77d671f0",
            "e4ca5eb2b3134195b5ef9ae8c39b11b5",
            "2b34c699b86344d0a8f99e41740a4d34",
            "1dab51b6c4114827bfd8760ea817d2f4",
            "ff666ae4fb934440954f2e651a813eec",
            "6769a9114a41431ea0697d79d8943fb6",
            "855e708d53e2432e8337b600c29674bf",
            "243ca3ce60da49b9a328328f00d80b38",
            "1643a35053ca4154808a90d16902705b",
            "59959b8b0bb1445c926a07442094b3e1",
            "8007455e4ce74ac482f3e24898720d65",
            "5fe9fa08a1f94e4f8e2497c478ac38ec",
            "43ec51885d2e4f98bc24721a41c200d1",
            "a2835746bb694d0088f8fc4454c5d27e",
            "5fd74bfd0cca41449ee2f843114b632c",
            "d915fd24e1c14031ae9e691acd053ccb",
            "49dd4e28f1734f81a610c46e26ef90bc",
            "26cb729d7f464a3e8004af705bde531d",
            "1734cbe484a84d889c2f0c0d5556084b",
            "493639dd61944023b2f9493bc6f1fe91",
            "b73ac0d7f0f84467900f879ba11722ed",
            "4666b06086714c70a51ff9e5bd579c28",
            "3e885ab818af4a82a94470f50f59bc41",
            "57354ac374a44e8982bfb196fa9e1245",
            "9659329efe344577b15fc17e7fa9c7d5",
            "1f35a06a8c014db0ad2171256e5fab82",
            "4670020b94da449a9daee9e127deda67",
            "7faf3d51cda14ed5bc6e31fc9e9faa75",
            "c7321275426f48c487d4254a73a7d501",
            "24e8614a51384e5caf2b85e6529e0c52",
            "f6b850d42ae74ef8a72e1e9491758521",
            "9723a426cdb9495ab4ac0a5c8b584c11",
            "99ce9677b46f42ebb64beadf165b066d",
            "7a7dbe931a6647fd882511636aea11be",
            "921ff2be4ff8469faf3244688c1d8bcc",
            "4cef2eca857e4e9184733c1eab138843",
            "0e3035a1522a4bf595206d16b95311b9",
            "af72af91078045b2b6e638517402bf3e",
            "afe1a1458cf44103b03ca6ca9acfb34c",
            "0e5fc81d7a3e4632800433cacff703ee",
            "78c6f84b82774a6a924f73ef0ac28bac",
            "f20ec40a7bcc459296d28bfc7fd1be5b",
            "1d0075fe5957491dbececdf05932527d",
            "df74675b32f14bd6a28936e1a2610925",
            "abf7a8d3d4be421a8bcd8d45f1033a2b",
            "d0a3d4df62a944ee82d3246e007ff2ce",
            "7e50112d117b48c09e88784261ded243",
            "878d69e5165045538c7d177ca103b240",
            "197872c006b74a1e94badaec9821fca4",
            "d204985db8464814840fcd5a53337587",
            "7e692c53ef2341d88b8616a26e94a21a",
            "114f73f7711c4111ba7360e0e8ec3f7b",
            "92654a1ac7d541ce85e787095becff14",
            "b9d40cd9709246b8bb0ed64124083c97",
            "78f7b4b7d5984e44912c1e1c3f80491f",
            "f561d894a2524baaad250ee4dd19e9ec",
            "f26fb27b6c5049aabede248580030d55",
            "5601f1dcfc554bc1b1cff079f2d20eea",
            "6f5f129723064f80bc2612480287593b",
            "17455302729045a19d2b617da401006d",
            "0e220578f51643e4838d435b6036efed",
            "4bf8cb1a242f40cfb6b2b53df05147ec",
            "1213fa6125d745fca1bdac8c66a05a65",
            "86a15728a1364aa1b07e2f4086d194ca",
            "00355add44f84abd9bb8c66d99575c7a",
            "5e31333a2b124cc1b504f2b4d3bde494",
            "f82245a52e324ecfbfb8803b937dc22e",
            "76dab9ca58324f809398a7ac49eb9b56",
            "09d9c5c54eb643449f189d21102e1215",
            "1602bfd4e8b745b0a132d30fa91c9522"
          ]
        },
        "id": "hiKS0rorqxux",
        "outputId": "35bd7853-0494-4a60-c4e8-0591e0e16f13"
      },
      "execution_count": null,
      "outputs": [
        {
          "output_type": "stream",
          "name": "stderr",
          "text": [
            "<ipython-input-29-7868592a924f>:25: TqdmDeprecationWarning: This function will be removed in tqdm==5.0.0\n",
            "Please use `tqdm.notebook.tqdm` instead of `tqdm.tqdm_notebook`\n",
            "  for batch_id, (token_ids, valid_length, segment_ids, label) in enumerate(tqdm_notebook(train_loader)):\n"
          ]
        },
        {
          "output_type": "display_data",
          "data": {
            "text/plain": [
              "  0%|          | 0/2425 [00:00<?, ?it/s]"
            ],
            "application/vnd.jupyter.widget-view+json": {
              "version_major": 2,
              "version_minor": 0,
              "model_id": "7e2297d41a1549d086c19dd6f799ddee"
            }
          },
          "metadata": {}
        },
        {
          "output_type": "stream",
          "name": "stdout",
          "text": [
            "epoch 1 batch id 1 loss 0.715749204158783 train acc 0.453125\n",
            "epoch 1 batch id 201 loss 0.6577898859977722 train acc 0.519356343283582\n",
            "epoch 1 batch id 401 loss 0.6907530426979065 train acc 0.5915679551122195\n",
            "epoch 1 batch id 601 loss 0.49157267808914185 train acc 0.6488404742096506\n",
            "epoch 1 batch id 801 loss 0.36374831199645996 train acc 0.6815308988764045\n",
            "epoch 1 batch id 1001 loss 0.3432456851005554 train acc 0.7051542207792207\n",
            "epoch 1 batch id 1201 loss 0.38049784302711487 train acc 0.7220415278934221\n",
            "epoch 1 batch id 1401 loss 0.35644859075546265 train acc 0.7344196109921485\n",
            "epoch 1 batch id 1601 loss 0.3535093665122986 train acc 0.7438905371642723\n",
            "epoch 1 batch id 1801 loss 0.47414055466651917 train acc 0.7516310383120489\n",
            "epoch 1 batch id 2001 loss 0.3649432063102722 train acc 0.7588002873563219\n",
            "epoch 1 batch id 2201 loss 0.4355073869228363 train acc 0.7651138686960473\n",
            "epoch 1 batch id 2401 loss 0.341129869222641 train acc 0.7695491461890879\n",
            "epoch 1 train acc 0.7701910578216047\n"
          ]
        },
        {
          "output_type": "stream",
          "name": "stderr",
          "text": [
            "<ipython-input-29-7868592a924f>:53: TqdmDeprecationWarning: This function will be removed in tqdm==5.0.0\n",
            "Please use `tqdm.notebook.tqdm` instead of `tqdm.tqdm_notebook`\n",
            "  for batch_id, (token_ids, valid_length, segment_ids, label) in enumerate(tqdm_notebook(test_loader)):\n"
          ]
        },
        {
          "output_type": "display_data",
          "data": {
            "text/plain": [
              "  0%|          | 0/607 [00:00<?, ?it/s]"
            ],
            "application/vnd.jupyter.widget-view+json": {
              "version_major": 2,
              "version_minor": 0,
              "model_id": "856ad769f14c417683e898a3910d5fbb"
            }
          },
          "metadata": {}
        },
        {
          "output_type": "stream",
          "name": "stdout",
          "text": [
            "epoch 1 test acc 0.8202996293245469\n",
            "epoch 1 test acc 0.8202996293245469 acc 0.8202996293245469\n"
          ]
        },
        {
          "output_type": "display_data",
          "data": {
            "text/plain": [
              "  0%|          | 0/2425 [00:00<?, ?it/s]"
            ],
            "application/vnd.jupyter.widget-view+json": {
              "version_major": 2,
              "version_minor": 0,
              "model_id": "bab949856774412395b6ee06f03392c8"
            }
          },
          "metadata": {}
        },
        {
          "output_type": "stream",
          "name": "stdout",
          "text": [
            "epoch 2 batch id 1 loss 0.4531646966934204 train acc 0.796875\n",
            "epoch 2 batch id 201 loss 0.3424897789955139 train acc 0.826181592039801\n",
            "epoch 2 batch id 401 loss 0.5466539263725281 train acc 0.8264884663341646\n",
            "epoch 2 batch id 601 loss 0.3983834683895111 train acc 0.8278650166389351\n",
            "epoch 2 batch id 801 loss 0.3506174385547638 train acc 0.8296855493133583\n",
            "epoch 2 batch id 1001 loss 0.2946314513683319 train acc 0.8323707542457542\n",
            "epoch 2 batch id 1201 loss 0.3054751455783844 train acc 0.8344088259783514\n",
            "epoch 2 batch id 1401 loss 0.26191774010658264 train acc 0.8352739114917915\n",
            "epoch 2 batch id 1601 loss 0.273233562707901 train acc 0.8372013585259213\n",
            "epoch 2 batch id 1801 loss 0.3116268515586853 train acc 0.8385879372570794\n",
            "epoch 2 batch id 2001 loss 0.2717352509498596 train acc 0.8405094327836082\n",
            "epoch 2 batch id 2201 loss 0.2819337248802185 train acc 0.8429833030440709\n",
            "epoch 2 batch id 2401 loss 0.19014374911785126 train acc 0.8444333090379009\n",
            "epoch 2 train acc 0.8447708426714479\n"
          ]
        },
        {
          "output_type": "display_data",
          "data": {
            "text/plain": [
              "  0%|          | 0/607 [00:00<?, ?it/s]"
            ],
            "application/vnd.jupyter.widget-view+json": {
              "version_major": 2,
              "version_minor": 0,
              "model_id": "c2ebba9557344d689b614a86249bd0c9"
            }
          },
          "metadata": {}
        },
        {
          "output_type": "stream",
          "name": "stdout",
          "text": [
            "epoch 2 test acc 0.825447899505766\n",
            "epoch 2 test acc 0.825447899505766 acc 0.825447899505766\n"
          ]
        },
        {
          "output_type": "display_data",
          "data": {
            "text/plain": [
              "  0%|          | 0/2425 [00:00<?, ?it/s]"
            ],
            "application/vnd.jupyter.widget-view+json": {
              "version_major": 2,
              "version_minor": 0,
              "model_id": "c448407d0df74f289b2ef51d5b0113f0"
            }
          },
          "metadata": {}
        },
        {
          "output_type": "stream",
          "name": "stdout",
          "text": [
            "epoch 3 batch id 1 loss 0.274985671043396 train acc 0.875\n",
            "epoch 3 batch id 201 loss 0.24333816766738892 train acc 0.8648942786069652\n",
            "epoch 3 batch id 401 loss 0.36206239461898804 train acc 0.8661938902743143\n",
            "epoch 3 batch id 601 loss 0.2872219383716583 train acc 0.8685524126455907\n",
            "epoch 3 batch id 801 loss 0.18542994558811188 train acc 0.8697721598002497\n",
            "epoch 3 batch id 1001 loss 0.21301919221878052 train acc 0.8717064185814186\n",
            "epoch 3 batch id 1201 loss 0.24573063850402832 train acc 0.8739201706910907\n",
            "epoch 3 batch id 1401 loss 0.19386537373065948 train acc 0.8755130264097074\n",
            "epoch 3 batch id 1601 loss 0.35561078786849976 train acc 0.8774008432229856\n",
            "epoch 3 batch id 1801 loss 0.24926747381687164 train acc 0.8786871876735147\n",
            "epoch 3 batch id 2001 loss 0.22604236006736755 train acc 0.8803566966516742\n",
            "epoch 3 batch id 2201 loss 0.19566720724105835 train acc 0.882446899136756\n",
            "epoch 3 batch id 2401 loss 0.1744285672903061 train acc 0.8832062161599333\n",
            "epoch 3 train acc 0.8833611609143882\n"
          ]
        },
        {
          "output_type": "display_data",
          "data": {
            "text/plain": [
              "  0%|          | 0/607 [00:00<?, ?it/s]"
            ],
            "application/vnd.jupyter.widget-view+json": {
              "version_major": 2,
              "version_minor": 0,
              "model_id": "96073a5ab9234adcbfc62aff66d861fc"
            }
          },
          "metadata": {}
        },
        {
          "output_type": "stream",
          "name": "stdout",
          "text": [
            "epoch 3 test acc 0.8393739703459637\n",
            "epoch 3 test acc 0.8393739703459637 acc 0.8393739703459637\n"
          ]
        },
        {
          "output_type": "display_data",
          "data": {
            "text/plain": [
              "  0%|          | 0/2425 [00:00<?, ?it/s]"
            ],
            "application/vnd.jupyter.widget-view+json": {
              "version_major": 2,
              "version_minor": 0,
              "model_id": "c04b3881165c40f2b7df7f0197c80739"
            }
          },
          "metadata": {}
        },
        {
          "output_type": "stream",
          "name": "stdout",
          "text": [
            "epoch 4 batch id 1 loss 0.2691895663738251 train acc 0.90625\n",
            "epoch 4 batch id 201 loss 0.1454486846923828 train acc 0.9007307213930348\n",
            "epoch 4 batch id 401 loss 0.2633809447288513 train acc 0.9015741895261845\n",
            "epoch 4 batch id 601 loss 0.286298930644989 train acc 0.9024802412645591\n",
            "epoch 4 batch id 801 loss 0.19270597398281097 train acc 0.9036555867665418\n",
            "epoch 4 batch id 1001 loss 0.14027424156665802 train acc 0.9053758741258742\n",
            "epoch 4 batch id 1201 loss 0.14314578473567963 train acc 0.9080193588676103\n",
            "epoch 4 batch id 1401 loss 0.20869216322898865 train acc 0.9087259100642399\n",
            "epoch 4 batch id 1601 loss 0.1531006246805191 train acc 0.9101342910680824\n",
            "epoch 4 batch id 1801 loss 0.18947969377040863 train acc 0.9114033870072182\n",
            "epoch 4 batch id 2001 loss 0.162620410323143 train acc 0.9128170289855072\n",
            "epoch 4 batch id 2201 loss 0.17504572868347168 train acc 0.9146907655611086\n",
            "epoch 4 batch id 2401 loss 0.04703956097364426 train acc 0.9156536339025406\n",
            "epoch 4 train acc 0.9158970192738682\n"
          ]
        },
        {
          "output_type": "display_data",
          "data": {
            "text/plain": [
              "  0%|          | 0/607 [00:00<?, ?it/s]"
            ],
            "application/vnd.jupyter.widget-view+json": {
              "version_major": 2,
              "version_minor": 0,
              "model_id": "4915680e1dc54d28b727cb4b107fbf48"
            }
          },
          "metadata": {}
        },
        {
          "output_type": "stream",
          "name": "stdout",
          "text": [
            "epoch 4 test acc 0.8373918863261944\n",
            "epoch 4 test acc 0.8373918863261944 acc 0.8373918863261944\n"
          ]
        },
        {
          "output_type": "display_data",
          "data": {
            "text/plain": [
              "  0%|          | 0/2425 [00:00<?, ?it/s]"
            ],
            "application/vnd.jupyter.widget-view+json": {
              "version_major": 2,
              "version_minor": 0,
              "model_id": "d6b32508a35d41c7a40dfa173353ae7c"
            }
          },
          "metadata": {}
        },
        {
          "output_type": "stream",
          "name": "stdout",
          "text": [
            "epoch 5 batch id 1 loss 0.11449109762907028 train acc 0.953125\n",
            "epoch 5 batch id 201 loss 0.22401604056358337 train acc 0.9288712686567164\n",
            "epoch 5 batch id 401 loss 0.21937289834022522 train acc 0.9283042394014963\n",
            "epoch 5 batch id 601 loss 0.29202279448509216 train acc 0.9299344841930116\n",
            "epoch 5 batch id 801 loss 0.15012355148792267 train acc 0.9313163233458177\n",
            "epoch 5 batch id 1001 loss 0.11876276135444641 train acc 0.9320991508491508\n",
            "epoch 5 batch id 1201 loss 0.10408081114292145 train acc 0.934039342214821\n",
            "epoch 5 batch id 1401 loss 0.05893952026963234 train acc 0.9355148108493933\n",
            "epoch 5 batch id 1601 loss 0.13763627409934998 train acc 0.9362800593379138\n",
            "epoch 5 batch id 1801 loss 0.17550504207611084 train acc 0.9373698639644642\n",
            "epoch 5 batch id 2001 loss 0.08312709629535675 train acc 0.9383589455272364\n",
            "epoch 5 batch id 2201 loss 0.0553341880440712 train acc 0.9394309404815993\n",
            "epoch 5 batch id 2401 loss 0.02886958047747612 train acc 0.9399729279466889\n",
            "epoch 5 train acc 0.9401159793814433\n"
          ]
        },
        {
          "output_type": "display_data",
          "data": {
            "text/plain": [
              "  0%|          | 0/607 [00:00<?, ?it/s]"
            ],
            "application/vnd.jupyter.widget-view+json": {
              "version_major": 2,
              "version_minor": 0,
              "model_id": "67bd17c0c69f420084c17c49d052f43c"
            }
          },
          "metadata": {}
        },
        {
          "output_type": "stream",
          "name": "stdout",
          "text": [
            "epoch 5 test acc 0.837005766062603\n",
            "epoch 5 test acc 0.837005766062603 acc 0.837005766062603\n"
          ]
        },
        {
          "output_type": "display_data",
          "data": {
            "text/plain": [
              "  0%|          | 0/2425 [00:00<?, ?it/s]"
            ],
            "application/vnd.jupyter.widget-view+json": {
              "version_major": 2,
              "version_minor": 0,
              "model_id": "d38e37eb41fa4ed4953683f413a192ea"
            }
          },
          "metadata": {}
        },
        {
          "output_type": "stream",
          "name": "stdout",
          "text": [
            "epoch 6 batch id 1 loss 0.09525757282972336 train acc 0.953125\n",
            "epoch 6 batch id 201 loss 0.05617082118988037 train acc 0.9521144278606966\n",
            "epoch 6 batch id 401 loss 0.17070458829402924 train acc 0.9501246882793017\n",
            "epoch 6 batch id 601 loss 0.24204279482364655 train acc 0.9509671381031614\n",
            "epoch 6 batch id 801 loss 0.13931488990783691 train acc 0.9533785892634207\n",
            "epoch 6 batch id 1001 loss 0.13800159096717834 train acc 0.9537025474525475\n",
            "epoch 6 batch id 1201 loss 0.06911607831716537 train acc 0.9548293089092423\n",
            "epoch 6 batch id 1401 loss 0.022279201075434685 train acc 0.9555005353319058\n",
            "epoch 6 batch id 1601 loss 0.10117615759372711 train acc 0.9563358838226109\n",
            "epoch 6 batch id 1801 loss 0.160425066947937 train acc 0.9575062465297057\n",
            "epoch 6 batch id 2001 loss 0.03474828600883484 train acc 0.958473888055972\n",
            "epoch 6 batch id 2201 loss 0.03437856212258339 train acc 0.9591023966378919\n",
            "epoch 6 batch id 2401 loss 0.004975138697773218 train acc 0.9595871511870054\n",
            "epoch 6 train acc 0.9596585051546391\n"
          ]
        },
        {
          "output_type": "display_data",
          "data": {
            "text/plain": [
              "  0%|          | 0/607 [00:00<?, ?it/s]"
            ],
            "application/vnd.jupyter.widget-view+json": {
              "version_major": 2,
              "version_minor": 0,
              "model_id": "c88b1097c35d4bb08199a784fe78c22a"
            }
          },
          "metadata": {}
        },
        {
          "output_type": "stream",
          "name": "stdout",
          "text": [
            "epoch 6 test acc 0.8359246293245469\n",
            "epoch 6 test acc 0.8359246293245469 acc 0.8359246293245469\n"
          ]
        },
        {
          "output_type": "display_data",
          "data": {
            "text/plain": [
              "  0%|          | 0/2425 [00:00<?, ?it/s]"
            ],
            "application/vnd.jupyter.widget-view+json": {
              "version_major": 2,
              "version_minor": 0,
              "model_id": "de6cbeab6da24420b41d6c72eeae3875"
            }
          },
          "metadata": {}
        },
        {
          "output_type": "stream",
          "name": "stdout",
          "text": [
            "epoch 7 batch id 1 loss 0.02976604364812374 train acc 1.0\n",
            "epoch 7 batch id 201 loss 0.0984787866473198 train acc 0.9688277363184079\n",
            "epoch 7 batch id 401 loss 0.13615797460079193 train acc 0.9686720698254364\n",
            "epoch 7 batch id 601 loss 0.20821340382099152 train acc 0.9691139767054908\n",
            "epoch 7 batch id 801 loss 0.07673327624797821 train acc 0.9704666042446941\n",
            "epoch 7 batch id 1001 loss 0.10766200721263885 train acc 0.970388986013986\n",
            "epoch 7 batch id 1201 loss 0.04954177141189575 train acc 0.9708966486261449\n",
            "epoch 7 batch id 1401 loss 0.010329153388738632 train acc 0.9711701463240543\n",
            "epoch 7 batch id 1601 loss 0.03981757536530495 train acc 0.9717559337913804\n",
            "epoch 7 batch id 1801 loss 0.10747577250003815 train acc 0.9722116185452526\n",
            "epoch 7 batch id 2001 loss 0.04507261514663696 train acc 0.9727011494252874\n",
            "epoch 7 batch id 2201 loss 0.05372748151421547 train acc 0.973264993184916\n",
            "epoch 7 batch id 2401 loss 0.0054765669628977776 train acc 0.9735136401499376\n",
            "epoch 7 train acc 0.9735631443298969\n"
          ]
        },
        {
          "output_type": "display_data",
          "data": {
            "text/plain": [
              "  0%|          | 0/607 [00:00<?, ?it/s]"
            ],
            "application/vnd.jupyter.widget-view+json": {
              "version_major": 2,
              "version_minor": 0,
              "model_id": "2733014c012b44268ddbe5752a6b6782"
            }
          },
          "metadata": {}
        },
        {
          "output_type": "stream",
          "name": "stdout",
          "text": [
            "epoch 7 test acc 0.836748352553542\n",
            "epoch 7 test acc 0.836748352553542 acc 0.836748352553542\n"
          ]
        },
        {
          "output_type": "display_data",
          "data": {
            "text/plain": [
              "  0%|          | 0/2425 [00:00<?, ?it/s]"
            ],
            "application/vnd.jupyter.widget-view+json": {
              "version_major": 2,
              "version_minor": 0,
              "model_id": "ff666ae4fb934440954f2e651a813eec"
            }
          },
          "metadata": {}
        },
        {
          "output_type": "stream",
          "name": "stdout",
          "text": [
            "epoch 8 batch id 1 loss 0.00920076109468937 train acc 1.0\n",
            "epoch 8 batch id 201 loss 0.009333215653896332 train acc 0.9774564676616916\n",
            "epoch 8 batch id 401 loss 0.054362185299396515 train acc 0.9767378428927681\n",
            "epoch 8 batch id 601 loss 0.31638896465301514 train acc 0.9785253743760399\n",
            "epoch 8 batch id 801 loss 0.07272660732269287 train acc 0.97979088639201\n",
            "epoch 8 batch id 1001 loss 0.06413081288337708 train acc 0.9799419330669331\n",
            "epoch 8 batch id 1201 loss 0.0055249640718102455 train acc 0.9804329725228976\n",
            "epoch 8 batch id 1401 loss 0.006297077983617783 train acc 0.9808172733761599\n",
            "epoch 8 batch id 1601 loss 0.036329980939626694 train acc 0.9812812304809494\n",
            "epoch 8 batch id 1801 loss 0.1638081818819046 train acc 0.9816074403109384\n",
            "epoch 8 batch id 2001 loss 0.004045719746500254 train acc 0.9820714642678661\n",
            "epoch 8 batch id 2201 loss 0.00427300063893199 train acc 0.9825221490231713\n",
            "epoch 8 batch id 2401 loss 0.0221102274954319 train acc 0.9827480737192836\n",
            "epoch 8 train acc 0.9828157216494845\n"
          ]
        },
        {
          "output_type": "display_data",
          "data": {
            "text/plain": [
              "  0%|          | 0/607 [00:00<?, ?it/s]"
            ],
            "application/vnd.jupyter.widget-view+json": {
              "version_major": 2,
              "version_minor": 0,
              "model_id": "d915fd24e1c14031ae9e691acd053ccb"
            }
          },
          "metadata": {}
        },
        {
          "output_type": "stream",
          "name": "stdout",
          "text": [
            "epoch 8 test acc 0.8393997116968699\n",
            "epoch 8 test acc 0.8393997116968699 acc 0.8393997116968699\n"
          ]
        },
        {
          "output_type": "display_data",
          "data": {
            "text/plain": [
              "  0%|          | 0/2425 [00:00<?, ?it/s]"
            ],
            "application/vnd.jupyter.widget-view+json": {
              "version_major": 2,
              "version_minor": 0,
              "model_id": "4670020b94da449a9daee9e127deda67"
            }
          },
          "metadata": {}
        },
        {
          "output_type": "stream",
          "name": "stdout",
          "text": [
            "epoch 9 batch id 1 loss 0.03647279366850853 train acc 0.96875\n",
            "epoch 9 batch id 201 loss 0.002964852610602975 train acc 0.9856187810945274\n",
            "epoch 9 batch id 401 loss 0.05077647045254707 train acc 0.9862063591022444\n",
            "epoch 9 batch id 601 loss 0.28828978538513184 train acc 0.986662853577371\n",
            "epoch 9 batch id 801 loss 0.0407438799738884 train acc 0.9867158239700374\n",
            "epoch 9 batch id 1001 loss 0.04305408522486687 train acc 0.9869037212787213\n",
            "epoch 9 batch id 1201 loss 0.005667549557983875 train acc 0.9869639883430474\n",
            "epoch 9 batch id 1401 loss 0.005012399051338434 train acc 0.9869958957887224\n",
            "epoch 9 batch id 1601 loss 0.032289519906044006 train acc 0.9873809337913804\n",
            "epoch 9 batch id 1801 loss 0.11785639077425003 train acc 0.9876631038312049\n",
            "epoch 9 batch id 2001 loss 0.002823994727805257 train acc 0.987888868065967\n",
            "epoch 9 batch id 2201 loss 0.05008646845817566 train acc 0.9880594048159927\n",
            "epoch 9 batch id 2401 loss 0.001589550287462771 train acc 0.9880713765097876\n",
            "epoch 9 train acc 0.9880734536082474\n"
          ]
        },
        {
          "output_type": "display_data",
          "data": {
            "text/plain": [
              "  0%|          | 0/607 [00:00<?, ?it/s]"
            ],
            "application/vnd.jupyter.widget-view+json": {
              "version_major": 2,
              "version_minor": 0,
              "model_id": "af72af91078045b2b6e638517402bf3e"
            }
          },
          "metadata": {}
        },
        {
          "output_type": "stream",
          "name": "stdout",
          "text": [
            "epoch 9 test acc 0.8406610378912686\n",
            "epoch 9 test acc 0.8406610378912686 acc 0.8406610378912686\n"
          ]
        },
        {
          "output_type": "display_data",
          "data": {
            "text/plain": [
              "  0%|          | 0/2425 [00:00<?, ?it/s]"
            ],
            "application/vnd.jupyter.widget-view+json": {
              "version_major": 2,
              "version_minor": 0,
              "model_id": "197872c006b74a1e94badaec9821fca4"
            }
          },
          "metadata": {}
        },
        {
          "output_type": "stream",
          "name": "stdout",
          "text": [
            "epoch 10 batch id 1 loss 0.09647905826568604 train acc 0.984375\n",
            "epoch 10 batch id 201 loss 0.00246406439691782 train acc 0.9890391791044776\n",
            "epoch 10 batch id 401 loss 0.01739874854683876 train acc 0.9881546134663342\n",
            "epoch 10 batch id 601 loss 0.2686499357223511 train acc 0.9884827371048253\n",
            "epoch 10 batch id 801 loss 0.08723697066307068 train acc 0.9890761548064919\n",
            "epoch 10 batch id 1001 loss 0.0018986028153449297 train acc 0.9892607392607392\n",
            "epoch 10 batch id 1201 loss 0.004242097493261099 train acc 0.9895920066611157\n",
            "epoch 10 batch id 1401 loss 0.0017791322898119688 train acc 0.989549875089222\n",
            "epoch 10 batch id 1601 loss 0.005489513278007507 train acc 0.9898500936914428\n",
            "epoch 10 batch id 1801 loss 0.1374543011188507 train acc 0.9901096612992781\n",
            "epoch 10 batch id 2001 loss 0.0073298318311572075 train acc 0.9901143178410795\n",
            "epoch 10 batch id 2201 loss 0.0021558310836553574 train acc 0.9903098023625625\n",
            "epoch 10 batch id 2401 loss 0.0017029719892889261 train acc 0.9903425655976676\n",
            "epoch 10 train acc 0.990354381443299\n"
          ]
        },
        {
          "output_type": "display_data",
          "data": {
            "text/plain": [
              "  0%|          | 0/607 [00:00<?, ?it/s]"
            ],
            "application/vnd.jupyter.widget-view+json": {
              "version_major": 2,
              "version_minor": 0,
              "model_id": "17455302729045a19d2b617da401006d"
            }
          },
          "metadata": {}
        },
        {
          "output_type": "stream",
          "name": "stdout",
          "text": [
            "epoch 10 test acc 0.8394254530477759\n",
            "epoch 10 test acc 0.8394254530477759 acc 0.8394254530477759\n"
          ]
        }
      ]
    },
    {
      "cell_type": "code",
      "source": [
        "train_history"
      ],
      "metadata": {
        "id": "hCfiIZ5wxamM",
        "colab": {
          "base_uri": "https://localhost:8080/"
        },
        "outputId": "5d5b6d87-d453-4b4c-f910-49d86730117e"
      },
      "execution_count": null,
      "outputs": [
        {
          "output_type": "execute_result",
          "data": {
            "text/plain": [
              "[0.453125,\n",
              " 0.519356343283582,\n",
              " 0.5915679551122195,\n",
              " 0.6488404742096506,\n",
              " 0.6815308988764045,\n",
              " 0.7051542207792207,\n",
              " 0.7220415278934221,\n",
              " 0.7344196109921485,\n",
              " 0.7438905371642723,\n",
              " 0.7516310383120489,\n",
              " 0.7588002873563219,\n",
              " 0.7651138686960473,\n",
              " 0.7695491461890879,\n",
              " 0.7701910578216047,\n",
              " 0.796875,\n",
              " 0.826181592039801,\n",
              " 0.8264884663341646,\n",
              " 0.8278650166389351,\n",
              " 0.8296855493133583,\n",
              " 0.8323707542457542,\n",
              " 0.8344088259783514,\n",
              " 0.8352739114917915,\n",
              " 0.8372013585259213,\n",
              " 0.8385879372570794,\n",
              " 0.8405094327836082,\n",
              " 0.8429833030440709,\n",
              " 0.8444333090379009,\n",
              " 0.8447708426714479,\n",
              " 0.875,\n",
              " 0.8648942786069652,\n",
              " 0.8661938902743143,\n",
              " 0.8685524126455907,\n",
              " 0.8697721598002497,\n",
              " 0.8717064185814186,\n",
              " 0.8739201706910907,\n",
              " 0.8755130264097074,\n",
              " 0.8774008432229856,\n",
              " 0.8786871876735147,\n",
              " 0.8803566966516742,\n",
              " 0.882446899136756,\n",
              " 0.8832062161599333,\n",
              " 0.8833611609143882,\n",
              " 0.90625,\n",
              " 0.9007307213930348,\n",
              " 0.9015741895261845,\n",
              " 0.9024802412645591,\n",
              " 0.9036555867665418,\n",
              " 0.9053758741258742,\n",
              " 0.9080193588676103,\n",
              " 0.9087259100642399,\n",
              " 0.9101342910680824,\n",
              " 0.9114033870072182,\n",
              " 0.9128170289855072,\n",
              " 0.9146907655611086,\n",
              " 0.9156536339025406,\n",
              " 0.9158970192738682,\n",
              " 0.953125,\n",
              " 0.9288712686567164,\n",
              " 0.9283042394014963,\n",
              " 0.9299344841930116,\n",
              " 0.9313163233458177,\n",
              " 0.9320991508491508,\n",
              " 0.934039342214821,\n",
              " 0.9355148108493933,\n",
              " 0.9362800593379138,\n",
              " 0.9373698639644642,\n",
              " 0.9383589455272364,\n",
              " 0.9394309404815993,\n",
              " 0.9399729279466889,\n",
              " 0.9401159793814433,\n",
              " 0.953125,\n",
              " 0.9521144278606966,\n",
              " 0.9501246882793017,\n",
              " 0.9509671381031614,\n",
              " 0.9533785892634207,\n",
              " 0.9537025474525475,\n",
              " 0.9548293089092423,\n",
              " 0.9555005353319058,\n",
              " 0.9563358838226109,\n",
              " 0.9575062465297057,\n",
              " 0.958473888055972,\n",
              " 0.9591023966378919,\n",
              " 0.9595871511870054,\n",
              " 0.9596585051546391,\n",
              " 1.0,\n",
              " 0.9688277363184079,\n",
              " 0.9686720698254364,\n",
              " 0.9691139767054908,\n",
              " 0.9704666042446941,\n",
              " 0.970388986013986,\n",
              " 0.9708966486261449,\n",
              " 0.9711701463240543,\n",
              " 0.9717559337913804,\n",
              " 0.9722116185452526,\n",
              " 0.9727011494252874,\n",
              " 0.973264993184916,\n",
              " 0.9735136401499376,\n",
              " 0.9735631443298969,\n",
              " 1.0,\n",
              " 0.9774564676616916,\n",
              " 0.9767378428927681,\n",
              " 0.9785253743760399,\n",
              " 0.97979088639201,\n",
              " 0.9799419330669331,\n",
              " 0.9804329725228976,\n",
              " 0.9808172733761599,\n",
              " 0.9812812304809494,\n",
              " 0.9816074403109384,\n",
              " 0.9820714642678661,\n",
              " 0.9825221490231713,\n",
              " 0.9827480737192836,\n",
              " 0.9828157216494845,\n",
              " 0.96875,\n",
              " 0.9856187810945274,\n",
              " 0.9862063591022444,\n",
              " 0.986662853577371,\n",
              " 0.9867158239700374,\n",
              " 0.9869037212787213,\n",
              " 0.9869639883430474,\n",
              " 0.9869958957887224,\n",
              " 0.9873809337913804,\n",
              " 0.9876631038312049,\n",
              " 0.987888868065967,\n",
              " 0.9880594048159927,\n",
              " 0.9880713765097876,\n",
              " 0.9880734536082474,\n",
              " 0.984375,\n",
              " 0.9890391791044776,\n",
              " 0.9881546134663342,\n",
              " 0.9884827371048253,\n",
              " 0.9890761548064919,\n",
              " 0.9892607392607392,\n",
              " 0.9895920066611157,\n",
              " 0.989549875089222,\n",
              " 0.9898500936914428,\n",
              " 0.9901096612992781,\n",
              " 0.9901143178410795,\n",
              " 0.9903098023625625,\n",
              " 0.9903425655976676,\n",
              " 0.990354381443299]"
            ]
          },
          "metadata": {},
          "execution_count": 30
        }
      ]
    },
    {
      "cell_type": "code",
      "source": [
        "test_history"
      ],
      "metadata": {
        "id": "eCKvnUCHxeDt",
        "colab": {
          "base_uri": "https://localhost:8080/"
        },
        "outputId": "f0e84a90-5caa-426b-bfe4-ab33f80f9d81"
      },
      "execution_count": null,
      "outputs": [
        {
          "output_type": "execute_result",
          "data": {
            "text/plain": [
              "[0.8202996293245469,\n",
              " 0.825447899505766,\n",
              " 0.8393739703459637,\n",
              " 0.8373918863261944,\n",
              " 0.837005766062603,\n",
              " 0.8359246293245469,\n",
              " 0.836748352553542,\n",
              " 0.8393997116968699,\n",
              " 0.8406610378912686,\n",
              " 0.8394254530477759]"
            ]
          },
          "metadata": {},
          "execution_count": 31
        }
      ]
    },
    {
      "cell_type": "code",
      "source": [
        "loss_history"
      ],
      "metadata": {
        "id": "3c-9Yjb2xfI5",
        "colab": {
          "base_uri": "https://localhost:8080/"
        },
        "outputId": "3f344112-ba2c-4e70-fff5-a6f5434e4c28"
      },
      "execution_count": null,
      "outputs": [
        {
          "output_type": "execute_result",
          "data": {
            "text/plain": [
              "[array(0.7157492, dtype=float32),\n",
              " array(0.6577899, dtype=float32),\n",
              " array(0.69075304, dtype=float32),\n",
              " array(0.49157268, dtype=float32),\n",
              " array(0.3637483, dtype=float32),\n",
              " array(0.3432457, dtype=float32),\n",
              " array(0.38049784, dtype=float32),\n",
              " array(0.3564486, dtype=float32),\n",
              " array(0.35350937, dtype=float32),\n",
              " array(0.47414055, dtype=float32),\n",
              " array(0.3649432, dtype=float32),\n",
              " array(0.4355074, dtype=float32),\n",
              " array(0.34112987, dtype=float32),\n",
              " array(0.4531647, dtype=float32),\n",
              " array(0.34248978, dtype=float32),\n",
              " array(0.5466539, dtype=float32),\n",
              " array(0.39838347, dtype=float32),\n",
              " array(0.35061744, dtype=float32),\n",
              " array(0.29463145, dtype=float32),\n",
              " array(0.30547515, dtype=float32),\n",
              " array(0.26191774, dtype=float32),\n",
              " array(0.27323356, dtype=float32),\n",
              " array(0.31162685, dtype=float32),\n",
              " array(0.27173525, dtype=float32),\n",
              " array(0.28193372, dtype=float32),\n",
              " array(0.19014375, dtype=float32),\n",
              " array(0.27498567, dtype=float32),\n",
              " array(0.24333817, dtype=float32),\n",
              " array(0.3620624, dtype=float32),\n",
              " array(0.28722194, dtype=float32),\n",
              " array(0.18542995, dtype=float32),\n",
              " array(0.21301919, dtype=float32),\n",
              " array(0.24573064, dtype=float32),\n",
              " array(0.19386537, dtype=float32),\n",
              " array(0.3556108, dtype=float32),\n",
              " array(0.24926747, dtype=float32),\n",
              " array(0.22604236, dtype=float32),\n",
              " array(0.1956672, dtype=float32),\n",
              " array(0.17442857, dtype=float32),\n",
              " array(0.26918957, dtype=float32),\n",
              " array(0.14544868, dtype=float32),\n",
              " array(0.26338094, dtype=float32),\n",
              " array(0.28629893, dtype=float32),\n",
              " array(0.19270597, dtype=float32),\n",
              " array(0.14027424, dtype=float32),\n",
              " array(0.14314578, dtype=float32),\n",
              " array(0.20869216, dtype=float32),\n",
              " array(0.15310062, dtype=float32),\n",
              " array(0.1894797, dtype=float32),\n",
              " array(0.16262041, dtype=float32),\n",
              " array(0.17504573, dtype=float32),\n",
              " array(0.04703956, dtype=float32),\n",
              " array(0.1144911, dtype=float32),\n",
              " array(0.22401604, dtype=float32),\n",
              " array(0.2193729, dtype=float32),\n",
              " array(0.2920228, dtype=float32),\n",
              " array(0.15012355, dtype=float32),\n",
              " array(0.11876276, dtype=float32),\n",
              " array(0.10408081, dtype=float32),\n",
              " array(0.05893952, dtype=float32),\n",
              " array(0.13763627, dtype=float32),\n",
              " array(0.17550504, dtype=float32),\n",
              " array(0.0831271, dtype=float32),\n",
              " array(0.05533419, dtype=float32),\n",
              " array(0.02886958, dtype=float32),\n",
              " array(0.09525757, dtype=float32),\n",
              " array(0.05617082, dtype=float32),\n",
              " array(0.17070459, dtype=float32),\n",
              " array(0.2420428, dtype=float32),\n",
              " array(0.13931489, dtype=float32),\n",
              " array(0.13800159, dtype=float32),\n",
              " array(0.06911608, dtype=float32),\n",
              " array(0.0222792, dtype=float32),\n",
              " array(0.10117616, dtype=float32),\n",
              " array(0.16042507, dtype=float32),\n",
              " array(0.03474829, dtype=float32),\n",
              " array(0.03437856, dtype=float32),\n",
              " array(0.00497514, dtype=float32),\n",
              " array(0.02976604, dtype=float32),\n",
              " array(0.09847879, dtype=float32),\n",
              " array(0.13615797, dtype=float32),\n",
              " array(0.2082134, dtype=float32),\n",
              " array(0.07673328, dtype=float32),\n",
              " array(0.10766201, dtype=float32),\n",
              " array(0.04954177, dtype=float32),\n",
              " array(0.01032915, dtype=float32),\n",
              " array(0.03981758, dtype=float32),\n",
              " array(0.10747577, dtype=float32),\n",
              " array(0.04507262, dtype=float32),\n",
              " array(0.05372748, dtype=float32),\n",
              " array(0.00547657, dtype=float32),\n",
              " array(0.00920076, dtype=float32),\n",
              " array(0.00933322, dtype=float32),\n",
              " array(0.05436219, dtype=float32),\n",
              " array(0.31638896, dtype=float32),\n",
              " array(0.07272661, dtype=float32),\n",
              " array(0.06413081, dtype=float32),\n",
              " array(0.00552496, dtype=float32),\n",
              " array(0.00629708, dtype=float32),\n",
              " array(0.03632998, dtype=float32),\n",
              " array(0.16380818, dtype=float32),\n",
              " array(0.00404572, dtype=float32),\n",
              " array(0.004273, dtype=float32),\n",
              " array(0.02211023, dtype=float32),\n",
              " array(0.03647279, dtype=float32),\n",
              " array(0.00296485, dtype=float32),\n",
              " array(0.05077647, dtype=float32),\n",
              " array(0.2882898, dtype=float32),\n",
              " array(0.04074388, dtype=float32),\n",
              " array(0.04305409, dtype=float32),\n",
              " array(0.00566755, dtype=float32),\n",
              " array(0.0050124, dtype=float32),\n",
              " array(0.03228952, dtype=float32),\n",
              " array(0.11785639, dtype=float32),\n",
              " array(0.00282399, dtype=float32),\n",
              " array(0.05008647, dtype=float32),\n",
              " array(0.00158955, dtype=float32),\n",
              " array(0.09647906, dtype=float32),\n",
              " array(0.00246406, dtype=float32),\n",
              " array(0.01739875, dtype=float32),\n",
              " array(0.26864994, dtype=float32),\n",
              " array(0.08723697, dtype=float32),\n",
              " array(0.0018986, dtype=float32),\n",
              " array(0.0042421, dtype=float32),\n",
              " array(0.00177913, dtype=float32),\n",
              " array(0.00548951, dtype=float32),\n",
              " array(0.1374543, dtype=float32),\n",
              " array(0.00732983, dtype=float32),\n",
              " array(0.00215583, dtype=float32),\n",
              " array(0.00170297, dtype=float32)]"
            ]
          },
          "metadata": {},
          "execution_count": 34
        }
      ]
    },
    {
      "cell_type": "code",
      "source": [
        "len(loss_history)"
      ],
      "metadata": {
        "colab": {
          "base_uri": "https://localhost:8080/"
        },
        "id": "QfyuwrAEOUQn",
        "outputId": "73ad6ee4-53a8-474b-b307-a6045389cbc8"
      },
      "execution_count": null,
      "outputs": [
        {
          "output_type": "execute_result",
          "data": {
            "text/plain": [
              "130"
            ]
          },
          "metadata": {},
          "execution_count": 35
        }
      ]
    },
    {
      "cell_type": "code",
      "source": [
        "avg_loss_hisroty"
      ],
      "metadata": {
        "id": "165yTpwdzFl_",
        "colab": {
          "base_uri": "https://localhost:8080/"
        },
        "outputId": "58dde1ea-c592-4151-e9c6-07a99a884237"
      },
      "execution_count": null,
      "outputs": [
        {
          "output_type": "execute_result",
          "data": {
            "text/plain": [
              "[0.0024614579898794902,\n",
              " 0.0017657759939272378,\n",
              " 0.0013223380280524184,\n",
              " 0.000979967962220772,\n",
              " 0.0007267140850578386,\n",
              " 0.0005231302056807218,\n",
              " 0.00039936182617219455,\n",
              " 0.00031692028852160444,\n",
              " 0.0002794341196200436,\n",
              " 0.00026155919979144003]"
            ]
          },
          "metadata": {},
          "execution_count": 33
        }
      ]
    },
    {
      "cell_type": "markdown",
      "source": [
        "- 테스트 데이터 기준 최고 정확도"
      ],
      "metadata": {
        "id": "oV6jkrYrUAEL"
      }
    },
    {
      "cell_type": "code",
      "source": [
        "# 테스트 데이터 기준 최고 정확도\n",
        "best_acc"
      ],
      "metadata": {
        "id": "Yp7iK_r01ToC",
        "colab": {
          "base_uri": "https://localhost:8080/"
        },
        "outputId": "b50d389c-2007-43c9-d6b1-635920d7b62d"
      },
      "execution_count": null,
      "outputs": [
        {
          "output_type": "execute_result",
          "data": {
            "text/plain": [
              "0.8406610378912686"
            ]
          },
          "metadata": {},
          "execution_count": 36
        }
      ]
    },
    {
      "cell_type": "code",
      "source": [
        "# 테스트 데이터 기준 최고 정확도에 해당하는 모델\n",
        "#acc : 0.8406610378912686\n",
        "best_acc_model"
      ],
      "metadata": {
        "id": "C8dTUupd1WyJ",
        "colab": {
          "base_uri": "https://localhost:8080/"
        },
        "outputId": "1d3f1e28-683c-4cc9-9911-4b69d13fb719"
      },
      "execution_count": null,
      "outputs": [
        {
          "output_type": "execute_result",
          "data": {
            "text/plain": [
              "BERTClassifier(\n",
              "  (bert): BertModel(\n",
              "    (embeddings): BertEmbeddings(\n",
              "      (word_embeddings): Embedding(8002, 768, padding_idx=1)\n",
              "      (position_embeddings): Embedding(512, 768)\n",
              "      (token_type_embeddings): Embedding(2, 768)\n",
              "      (LayerNorm): LayerNorm((768,), eps=1e-12, elementwise_affine=True)\n",
              "      (dropout): Dropout(p=0.1, inplace=False)\n",
              "    )\n",
              "    (encoder): BertEncoder(\n",
              "      (layer): ModuleList(\n",
              "        (0): BertLayer(\n",
              "          (attention): BertAttention(\n",
              "            (self): BertSelfAttention(\n",
              "              (query): Linear(in_features=768, out_features=768, bias=True)\n",
              "              (key): Linear(in_features=768, out_features=768, bias=True)\n",
              "              (value): Linear(in_features=768, out_features=768, bias=True)\n",
              "              (dropout): Dropout(p=0.1, inplace=False)\n",
              "            )\n",
              "            (output): BertSelfOutput(\n",
              "              (dense): Linear(in_features=768, out_features=768, bias=True)\n",
              "              (LayerNorm): LayerNorm((768,), eps=1e-12, elementwise_affine=True)\n",
              "              (dropout): Dropout(p=0.1, inplace=False)\n",
              "            )\n",
              "          )\n",
              "          (intermediate): BertIntermediate(\n",
              "            (dense): Linear(in_features=768, out_features=3072, bias=True)\n",
              "          )\n",
              "          (output): BertOutput(\n",
              "            (dense): Linear(in_features=3072, out_features=768, bias=True)\n",
              "            (LayerNorm): LayerNorm((768,), eps=1e-12, elementwise_affine=True)\n",
              "            (dropout): Dropout(p=0.1, inplace=False)\n",
              "          )\n",
              "        )\n",
              "        (1): BertLayer(\n",
              "          (attention): BertAttention(\n",
              "            (self): BertSelfAttention(\n",
              "              (query): Linear(in_features=768, out_features=768, bias=True)\n",
              "              (key): Linear(in_features=768, out_features=768, bias=True)\n",
              "              (value): Linear(in_features=768, out_features=768, bias=True)\n",
              "              (dropout): Dropout(p=0.1, inplace=False)\n",
              "            )\n",
              "            (output): BertSelfOutput(\n",
              "              (dense): Linear(in_features=768, out_features=768, bias=True)\n",
              "              (LayerNorm): LayerNorm((768,), eps=1e-12, elementwise_affine=True)\n",
              "              (dropout): Dropout(p=0.1, inplace=False)\n",
              "            )\n",
              "          )\n",
              "          (intermediate): BertIntermediate(\n",
              "            (dense): Linear(in_features=768, out_features=3072, bias=True)\n",
              "          )\n",
              "          (output): BertOutput(\n",
              "            (dense): Linear(in_features=3072, out_features=768, bias=True)\n",
              "            (LayerNorm): LayerNorm((768,), eps=1e-12, elementwise_affine=True)\n",
              "            (dropout): Dropout(p=0.1, inplace=False)\n",
              "          )\n",
              "        )\n",
              "        (2): BertLayer(\n",
              "          (attention): BertAttention(\n",
              "            (self): BertSelfAttention(\n",
              "              (query): Linear(in_features=768, out_features=768, bias=True)\n",
              "              (key): Linear(in_features=768, out_features=768, bias=True)\n",
              "              (value): Linear(in_features=768, out_features=768, bias=True)\n",
              "              (dropout): Dropout(p=0.1, inplace=False)\n",
              "            )\n",
              "            (output): BertSelfOutput(\n",
              "              (dense): Linear(in_features=768, out_features=768, bias=True)\n",
              "              (LayerNorm): LayerNorm((768,), eps=1e-12, elementwise_affine=True)\n",
              "              (dropout): Dropout(p=0.1, inplace=False)\n",
              "            )\n",
              "          )\n",
              "          (intermediate): BertIntermediate(\n",
              "            (dense): Linear(in_features=768, out_features=3072, bias=True)\n",
              "          )\n",
              "          (output): BertOutput(\n",
              "            (dense): Linear(in_features=3072, out_features=768, bias=True)\n",
              "            (LayerNorm): LayerNorm((768,), eps=1e-12, elementwise_affine=True)\n",
              "            (dropout): Dropout(p=0.1, inplace=False)\n",
              "          )\n",
              "        )\n",
              "        (3): BertLayer(\n",
              "          (attention): BertAttention(\n",
              "            (self): BertSelfAttention(\n",
              "              (query): Linear(in_features=768, out_features=768, bias=True)\n",
              "              (key): Linear(in_features=768, out_features=768, bias=True)\n",
              "              (value): Linear(in_features=768, out_features=768, bias=True)\n",
              "              (dropout): Dropout(p=0.1, inplace=False)\n",
              "            )\n",
              "            (output): BertSelfOutput(\n",
              "              (dense): Linear(in_features=768, out_features=768, bias=True)\n",
              "              (LayerNorm): LayerNorm((768,), eps=1e-12, elementwise_affine=True)\n",
              "              (dropout): Dropout(p=0.1, inplace=False)\n",
              "            )\n",
              "          )\n",
              "          (intermediate): BertIntermediate(\n",
              "            (dense): Linear(in_features=768, out_features=3072, bias=True)\n",
              "          )\n",
              "          (output): BertOutput(\n",
              "            (dense): Linear(in_features=3072, out_features=768, bias=True)\n",
              "            (LayerNorm): LayerNorm((768,), eps=1e-12, elementwise_affine=True)\n",
              "            (dropout): Dropout(p=0.1, inplace=False)\n",
              "          )\n",
              "        )\n",
              "        (4): BertLayer(\n",
              "          (attention): BertAttention(\n",
              "            (self): BertSelfAttention(\n",
              "              (query): Linear(in_features=768, out_features=768, bias=True)\n",
              "              (key): Linear(in_features=768, out_features=768, bias=True)\n",
              "              (value): Linear(in_features=768, out_features=768, bias=True)\n",
              "              (dropout): Dropout(p=0.1, inplace=False)\n",
              "            )\n",
              "            (output): BertSelfOutput(\n",
              "              (dense): Linear(in_features=768, out_features=768, bias=True)\n",
              "              (LayerNorm): LayerNorm((768,), eps=1e-12, elementwise_affine=True)\n",
              "              (dropout): Dropout(p=0.1, inplace=False)\n",
              "            )\n",
              "          )\n",
              "          (intermediate): BertIntermediate(\n",
              "            (dense): Linear(in_features=768, out_features=3072, bias=True)\n",
              "          )\n",
              "          (output): BertOutput(\n",
              "            (dense): Linear(in_features=3072, out_features=768, bias=True)\n",
              "            (LayerNorm): LayerNorm((768,), eps=1e-12, elementwise_affine=True)\n",
              "            (dropout): Dropout(p=0.1, inplace=False)\n",
              "          )\n",
              "        )\n",
              "        (5): BertLayer(\n",
              "          (attention): BertAttention(\n",
              "            (self): BertSelfAttention(\n",
              "              (query): Linear(in_features=768, out_features=768, bias=True)\n",
              "              (key): Linear(in_features=768, out_features=768, bias=True)\n",
              "              (value): Linear(in_features=768, out_features=768, bias=True)\n",
              "              (dropout): Dropout(p=0.1, inplace=False)\n",
              "            )\n",
              "            (output): BertSelfOutput(\n",
              "              (dense): Linear(in_features=768, out_features=768, bias=True)\n",
              "              (LayerNorm): LayerNorm((768,), eps=1e-12, elementwise_affine=True)\n",
              "              (dropout): Dropout(p=0.1, inplace=False)\n",
              "            )\n",
              "          )\n",
              "          (intermediate): BertIntermediate(\n",
              "            (dense): Linear(in_features=768, out_features=3072, bias=True)\n",
              "          )\n",
              "          (output): BertOutput(\n",
              "            (dense): Linear(in_features=3072, out_features=768, bias=True)\n",
              "            (LayerNorm): LayerNorm((768,), eps=1e-12, elementwise_affine=True)\n",
              "            (dropout): Dropout(p=0.1, inplace=False)\n",
              "          )\n",
              "        )\n",
              "        (6): BertLayer(\n",
              "          (attention): BertAttention(\n",
              "            (self): BertSelfAttention(\n",
              "              (query): Linear(in_features=768, out_features=768, bias=True)\n",
              "              (key): Linear(in_features=768, out_features=768, bias=True)\n",
              "              (value): Linear(in_features=768, out_features=768, bias=True)\n",
              "              (dropout): Dropout(p=0.1, inplace=False)\n",
              "            )\n",
              "            (output): BertSelfOutput(\n",
              "              (dense): Linear(in_features=768, out_features=768, bias=True)\n",
              "              (LayerNorm): LayerNorm((768,), eps=1e-12, elementwise_affine=True)\n",
              "              (dropout): Dropout(p=0.1, inplace=False)\n",
              "            )\n",
              "          )\n",
              "          (intermediate): BertIntermediate(\n",
              "            (dense): Linear(in_features=768, out_features=3072, bias=True)\n",
              "          )\n",
              "          (output): BertOutput(\n",
              "            (dense): Linear(in_features=3072, out_features=768, bias=True)\n",
              "            (LayerNorm): LayerNorm((768,), eps=1e-12, elementwise_affine=True)\n",
              "            (dropout): Dropout(p=0.1, inplace=False)\n",
              "          )\n",
              "        )\n",
              "        (7): BertLayer(\n",
              "          (attention): BertAttention(\n",
              "            (self): BertSelfAttention(\n",
              "              (query): Linear(in_features=768, out_features=768, bias=True)\n",
              "              (key): Linear(in_features=768, out_features=768, bias=True)\n",
              "              (value): Linear(in_features=768, out_features=768, bias=True)\n",
              "              (dropout): Dropout(p=0.1, inplace=False)\n",
              "            )\n",
              "            (output): BertSelfOutput(\n",
              "              (dense): Linear(in_features=768, out_features=768, bias=True)\n",
              "              (LayerNorm): LayerNorm((768,), eps=1e-12, elementwise_affine=True)\n",
              "              (dropout): Dropout(p=0.1, inplace=False)\n",
              "            )\n",
              "          )\n",
              "          (intermediate): BertIntermediate(\n",
              "            (dense): Linear(in_features=768, out_features=3072, bias=True)\n",
              "          )\n",
              "          (output): BertOutput(\n",
              "            (dense): Linear(in_features=3072, out_features=768, bias=True)\n",
              "            (LayerNorm): LayerNorm((768,), eps=1e-12, elementwise_affine=True)\n",
              "            (dropout): Dropout(p=0.1, inplace=False)\n",
              "          )\n",
              "        )\n",
              "        (8): BertLayer(\n",
              "          (attention): BertAttention(\n",
              "            (self): BertSelfAttention(\n",
              "              (query): Linear(in_features=768, out_features=768, bias=True)\n",
              "              (key): Linear(in_features=768, out_features=768, bias=True)\n",
              "              (value): Linear(in_features=768, out_features=768, bias=True)\n",
              "              (dropout): Dropout(p=0.1, inplace=False)\n",
              "            )\n",
              "            (output): BertSelfOutput(\n",
              "              (dense): Linear(in_features=768, out_features=768, bias=True)\n",
              "              (LayerNorm): LayerNorm((768,), eps=1e-12, elementwise_affine=True)\n",
              "              (dropout): Dropout(p=0.1, inplace=False)\n",
              "            )\n",
              "          )\n",
              "          (intermediate): BertIntermediate(\n",
              "            (dense): Linear(in_features=768, out_features=3072, bias=True)\n",
              "          )\n",
              "          (output): BertOutput(\n",
              "            (dense): Linear(in_features=3072, out_features=768, bias=True)\n",
              "            (LayerNorm): LayerNorm((768,), eps=1e-12, elementwise_affine=True)\n",
              "            (dropout): Dropout(p=0.1, inplace=False)\n",
              "          )\n",
              "        )\n",
              "        (9): BertLayer(\n",
              "          (attention): BertAttention(\n",
              "            (self): BertSelfAttention(\n",
              "              (query): Linear(in_features=768, out_features=768, bias=True)\n",
              "              (key): Linear(in_features=768, out_features=768, bias=True)\n",
              "              (value): Linear(in_features=768, out_features=768, bias=True)\n",
              "              (dropout): Dropout(p=0.1, inplace=False)\n",
              "            )\n",
              "            (output): BertSelfOutput(\n",
              "              (dense): Linear(in_features=768, out_features=768, bias=True)\n",
              "              (LayerNorm): LayerNorm((768,), eps=1e-12, elementwise_affine=True)\n",
              "              (dropout): Dropout(p=0.1, inplace=False)\n",
              "            )\n",
              "          )\n",
              "          (intermediate): BertIntermediate(\n",
              "            (dense): Linear(in_features=768, out_features=3072, bias=True)\n",
              "          )\n",
              "          (output): BertOutput(\n",
              "            (dense): Linear(in_features=3072, out_features=768, bias=True)\n",
              "            (LayerNorm): LayerNorm((768,), eps=1e-12, elementwise_affine=True)\n",
              "            (dropout): Dropout(p=0.1, inplace=False)\n",
              "          )\n",
              "        )\n",
              "        (10): BertLayer(\n",
              "          (attention): BertAttention(\n",
              "            (self): BertSelfAttention(\n",
              "              (query): Linear(in_features=768, out_features=768, bias=True)\n",
              "              (key): Linear(in_features=768, out_features=768, bias=True)\n",
              "              (value): Linear(in_features=768, out_features=768, bias=True)\n",
              "              (dropout): Dropout(p=0.1, inplace=False)\n",
              "            )\n",
              "            (output): BertSelfOutput(\n",
              "              (dense): Linear(in_features=768, out_features=768, bias=True)\n",
              "              (LayerNorm): LayerNorm((768,), eps=1e-12, elementwise_affine=True)\n",
              "              (dropout): Dropout(p=0.1, inplace=False)\n",
              "            )\n",
              "          )\n",
              "          (intermediate): BertIntermediate(\n",
              "            (dense): Linear(in_features=768, out_features=3072, bias=True)\n",
              "          )\n",
              "          (output): BertOutput(\n",
              "            (dense): Linear(in_features=3072, out_features=768, bias=True)\n",
              "            (LayerNorm): LayerNorm((768,), eps=1e-12, elementwise_affine=True)\n",
              "            (dropout): Dropout(p=0.1, inplace=False)\n",
              "          )\n",
              "        )\n",
              "        (11): BertLayer(\n",
              "          (attention): BertAttention(\n",
              "            (self): BertSelfAttention(\n",
              "              (query): Linear(in_features=768, out_features=768, bias=True)\n",
              "              (key): Linear(in_features=768, out_features=768, bias=True)\n",
              "              (value): Linear(in_features=768, out_features=768, bias=True)\n",
              "              (dropout): Dropout(p=0.1, inplace=False)\n",
              "            )\n",
              "            (output): BertSelfOutput(\n",
              "              (dense): Linear(in_features=768, out_features=768, bias=True)\n",
              "              (LayerNorm): LayerNorm((768,), eps=1e-12, elementwise_affine=True)\n",
              "              (dropout): Dropout(p=0.1, inplace=False)\n",
              "            )\n",
              "          )\n",
              "          (intermediate): BertIntermediate(\n",
              "            (dense): Linear(in_features=768, out_features=3072, bias=True)\n",
              "          )\n",
              "          (output): BertOutput(\n",
              "            (dense): Linear(in_features=3072, out_features=768, bias=True)\n",
              "            (LayerNorm): LayerNorm((768,), eps=1e-12, elementwise_affine=True)\n",
              "            (dropout): Dropout(p=0.1, inplace=False)\n",
              "          )\n",
              "        )\n",
              "      )\n",
              "    )\n",
              "    (pooler): BertPooler(\n",
              "      (dense): Linear(in_features=768, out_features=768, bias=True)\n",
              "      (activation): Tanh()\n",
              "    )\n",
              "  )\n",
              "  (classifier): Linear(in_features=768, out_features=2, bias=True)\n",
              "  (dropout): Dropout(p=0.5, inplace=False)\n",
              ")"
            ]
          },
          "metadata": {},
          "execution_count": 37
        }
      ]
    },
    {
      "cell_type": "markdown",
      "source": [
        "## 11. 모델검증"
      ],
      "metadata": {
        "id": "9XcgtEXuAdhy"
      }
    },
    {
      "cell_type": "code",
      "source": [
        "import matplotlib.pyplot as plt\n",
        "epoch = range(1, 10+1) #epoch 숫자만큼\n",
        "plt.plot(epoch, avg_loss_history,'-bo', label='Loss')\n",
        "plt.plot(epoch, test_history, '-ro', label='Accuracy')\n",
        "plt.legend(), plt.xlabel('Epoch'), plt.ylabel('Loss  /  Accuracy');\n",
        "print(f'Best_Accuracy : {round(0.8406610378912686, 2)}')"
      ],
      "metadata": {
        "id": "UUQTaYtNAe8L",
        "colab": {
          "base_uri": "https://localhost:8080/",
          "height": 297
        },
        "outputId": "10bcc03e-0753-434f-f18f-6624939080cd"
      },
      "execution_count": 19,
      "outputs": [
        {
          "output_type": "stream",
          "name": "stdout",
          "text": [
            "Best_Accuracy : 0.84\n"
          ]
        },
        {
          "output_type": "display_data",
          "data": {
            "text/plain": [
              "<Figure size 432x288 with 1 Axes>"
            ],
            "image/png": "[encoded data removed]"
          },
          "metadata": {
            "needs_background": "light"
          }
        }
      ]
    },
    {
      "cell_type": "markdown",
      "source": [
        "- epoch 별 acc "
      ],
      "metadata": {
        "id": "ZMj-czeOKB6v"
      }
    },
    {
      "cell_type": "code",
      "source": [
        "test_history=[0.8202996293245469,\n",
        " 0.825447899505766,\n",
        " 0.8393739703459637,\n",
        " 0.8373918863261944,\n",
        " 0.837005766062603,\n",
        " 0.8359246293245469,\n",
        " 0.836748352553542,\n",
        " 0.8393997116968699,\n",
        " 0.8406610378912686,\n",
        " 0.8394254530477759]"
      ],
      "metadata": {
        "id": "TdNhiTvVKKzq"
      },
      "execution_count": 1,
      "outputs": []
    },
    {
      "cell_type": "code",
      "source": [
        "import matplotlib.pyplot as plt \n",
        "epoch = range(1, 10+1) \n",
        "plt.plot(epoch, test_history,'-ro', label='Acc')\n",
        "plt.legend(), plt.xlabel('Epoch'), plt.ylabel('Acc ');\n",
        "print(f'Best_Accuracy : {round(0.8406610378912686, 2)}')"
      ],
      "metadata": {
        "colab": {
          "base_uri": "https://localhost:8080/",
          "height": 297
        },
        "id": "-zufqNzYKFko",
        "outputId": "767bcae7-2306-4a5b-e996-822aaa96ed8b"
      },
      "execution_count": 7,
      "outputs": [
        {
          "output_type": "stream",
          "name": "stdout",
          "text": [
            "Best_Accuracy : 0.84\n"
          ]
        },
        {
          "output_type": "display_data",
          "data": {
            "text/plain": [
              "<Figure size 432x288 with 1 Axes>"
            ],
            "image/png": "[encoded data removed]"
          },
          "metadata": {
            "needs_background": "light"
          }
        }
      ]
    },
    {
      "cell_type": "markdown",
      "source": [
        "- epoch 별 loss"
      ],
      "metadata": {
        "id": "Ok6qhAzWLb8L"
      }
    },
    {
      "cell_type": "code",
      "source": [
        "avg_loss_history=[0.0024614579898794902,\n",
        " 0.0017657759939272378,\n",
        " 0.0013223380280524184,\n",
        " 0.000979967962220772,\n",
        " 0.0007267140850578386,\n",
        " 0.0005231302056807218,\n",
        " 0.00039936182617219455,\n",
        " 0.00031692028852160444,\n",
        " 0.0002794341196200436,\n",
        " 0.00026155919979144003]"
      ],
      "metadata": {
        "id": "aHkck33ALesD"
      },
      "execution_count": 16,
      "outputs": []
    },
    {
      "cell_type": "code",
      "source": [
        "import matplotlib.pyplot as plt \n",
        "epoch = range(1, 10+1) \n",
        "plt.plot(epoch, avg_loss_history,'-bo', label='Loss')\n",
        "plt.legend(), plt.xlabel('Epoch'), plt.ylabel('Loss ');\n",
        "print(f'Best_Accuracy : {round(0.8406610378912686, 2)}')"
      ],
      "metadata": {
        "colab": {
          "base_uri": "https://localhost:8080/",
          "height": 297
        },
        "id": "G8aRHH66MrNf",
        "outputId": "66908c66-cd6a-4284-e251-ca5b5ebf202b"
      },
      "execution_count": 17,
      "outputs": [
        {
          "output_type": "stream",
          "name": "stdout",
          "text": [
            "Best_Accuracy : 0.84\n"
          ]
        },
        {
          "output_type": "display_data",
          "data": {
            "text/plain": [
              "<Figure size 432x288 with 1 Axes>"
            ],
            "image/png": "[encoded data removed]"
          },
          "metadata": {
            "needs_background": "light"
          }
        }
      ]
    },
    {
      "cell_type": "markdown",
      "source": [
        "- f1_score, accuracy , confusion matrix(y_test, y_pred)"
      ],
      "metadata": {
        "id": "Dh6-pGF_y9kM"
      }
    },
    {
      "cell_type": "code",
      "source": [
        "test_frame=pd.DataFrame(test,columns=['doc','label'])\n",
        "\n",
        "test_frame.groupby(['label'])['label'].count()"
      ],
      "metadata": {
        "colab": {
          "base_uri": "https://localhost:8080/"
        },
        "id": "KBvD7rUvOw-z",
        "outputId": "7e38954f-7fea-4253-ca02-e34b6214ca14"
      },
      "execution_count": null,
      "outputs": [
        {
          "output_type": "execute_result",
          "data": {
            "text/plain": [
              "label\n",
              "0    19398\n",
              "1    19392\n",
              "Name: label, dtype: int64"
            ]
          },
          "metadata": {},
          "execution_count": 41
        }
      ]
    },
    {
      "cell_type": "code",
      "source": [
        "#f1 score 용 pred 예측진행\n",
        "# best_acc_model\n",
        "# 문장별 예측함수(1,0)\n",
        "\n",
        "def predict(sentence):\n",
        "  data = [sentence, '0']\n",
        "  dataset_another = [data]\n",
        "  logits = 0 #예측값 임의지정 \n",
        "  another_test = BERTDataset(dataset_another, 0, 1, tok, max_len, True, False) #bert 데이터형식으로 만들기\n",
        "  test_dataloader = torch.utils.data.DataLoader(another_test, batch_size=batch_size, num_workers=5)\n",
        "  \n",
        "  model.eval()\n",
        "\n",
        "  for batch_id, (token_ids, valid_length, segment_ids, label) in enumerate(test_dataloader):\n",
        "      token_ids = token_ids.long().to(device)\n",
        "      segment_ids = segment_ids.long().to(device)\n",
        "\n",
        "      valid_length= valid_length\n",
        "      label = label.long().to(device)\n",
        "\n",
        "      out = model(token_ids, valid_length, segment_ids) #예측 결과 리스트\n",
        "\n",
        "      for i in out:\n",
        "        logits = i\n",
        "        logits = logits.detach().cpu().numpy()\n",
        "        logits = np.argmax(logits) #1,0 분류값\n",
        "\n",
        "  return logits"
      ],
      "metadata": {
        "id": "9L8GVC6KPq1C"
      },
      "execution_count": null,
      "outputs": []
    },
    {
      "cell_type": "code",
      "source": [
        "# train_test_split 진행했던 기존 라벨링된 test 데이터로 predict 진행, by best_acc_model\n",
        "\n",
        "# batch_size 수정 코드\n",
        "batch_size = 64 #128로 할 경우 gpu 터질수 있음\n",
        "max_len=128 #학습모델과 맞춰주기\n",
        "\n",
        "\n",
        "\n",
        "#test_data['label']=5 #임의지정해도 영향없음, bert 함수에 해당하는 데이터 형식 맞춰주기위함\n",
        "\n",
        "test_data3 = test_frame.copy()\n",
        "test_data3 = test_data3.reset_index(drop=True )\n",
        "test_data3['pred'] = ''\n",
        "\n",
        "\n",
        "\n",
        "best_acc_model.eval() #model=훈련한 best_acc_model (acc : 0.8406610378912686)에 대한 평가모드\n",
        "\n",
        "\n",
        "\n",
        "\n",
        "unseen_values = test_data3[['doc', 'label']].values\n",
        "\n",
        "\n",
        "test_set = BERTDataset(unseen_values, 0, 1, tok, max_len, True, False)\n",
        "test_input = torch.utils.data.DataLoader(test_set, batch_size=batch_size, num_workers=5)\n",
        "for batch_id, (token_ids, valid_length, segment_ids, label) in tqdm(enumerate(test_input)):\n",
        "  token_ids = token_ids.long().to(device)\n",
        "  segment_ids = segment_ids.long().to(device)\n",
        "  valid_length= valid_length\n",
        "  out = model(token_ids, valid_length, segment_ids)\n",
        "  for outn in range(len(out)) :\n",
        "    pred = int(out[outn].argmax().cpu().numpy())\n",
        "    idx = batch_size * batch_id + outn\n",
        "    test_data3.iloc[idx, -1] = pred\n",
        "\n",
        " # 5000개 단위로 예측값 및 진행도 출력\n",
        "    if idx % 5000 == 0 :\n",
        "      print(idx, pred)\n",
        "\n",
        "\n",
        "test_data3.head(20)\n"
      ],
      "metadata": {
        "colab": {
          "base_uri": "https://localhost:8080/",
          "height": 199
        },
        "id": "hPNqMvGjRxgv",
        "outputId": "061a5631-ce70-49d6-d204-87d6d8cdf155"
      },
      "execution_count": null,
      "outputs": [
        {
          "output_type": "stream",
          "name": "stderr",
          "text": [
            "1it [00:00,  4.99it/s]"
          ]
        },
        {
          "output_type": "stream",
          "name": "stdout",
          "text": [
            "0 1\n"
          ]
        },
        {
          "output_type": "stream",
          "name": "stderr",
          "text": [
            "79it [00:12,  6.39it/s]"
          ]
        },
        {
          "output_type": "stream",
          "name": "stdout",
          "text": [
            "5000 0\n"
          ]
        },
        {
          "output_type": "stream",
          "name": "stderr",
          "text": [
            "158it [00:24,  6.43it/s]"
          ]
        },
        {
          "output_type": "stream",
          "name": "stdout",
          "text": [
            "10000 1\n"
          ]
        },
        {
          "output_type": "stream",
          "name": "stderr",
          "text": [
            "236it [00:36,  6.55it/s]"
          ]
        },
        {
          "output_type": "stream",
          "name": "stdout",
          "text": [
            "15000 1\n"
          ]
        },
        {
          "output_type": "stream",
          "name": "stderr",
          "text": [
            "314it [00:48,  6.57it/s]"
          ]
        },
        {
          "output_type": "stream",
          "name": "stdout",
          "text": [
            "20000 0\n"
          ]
        },
        {
          "output_type": "stream",
          "name": "stderr",
          "text": [
            "392it [01:00,  6.64it/s]"
          ]
        },
        {
          "output_type": "stream",
          "name": "stdout",
          "text": [
            "25000 1\n"
          ]
        },
        {
          "output_type": "stream",
          "name": "stderr",
          "text": [
            "470it [01:12,  6.74it/s]"
          ]
        },
        {
          "output_type": "stream",
          "name": "stdout",
          "text": [
            "30000 1\n"
          ]
        },
        {
          "output_type": "stream",
          "name": "stderr",
          "text": [
            "548it [01:23,  6.75it/s]"
          ]
        },
        {
          "output_type": "stream",
          "name": "stdout",
          "text": [
            "35000 1\n"
          ]
        },
        {
          "output_type": "stream",
          "name": "stderr",
          "text": [
            "607it [01:32,  6.57it/s]\n"
          ]
        },
        {
          "output_type": "execute_result",
          "data": {
            "text/plain": [
              "'\\n인덱스 5000개 단위로 예측값이 나오며 진행도를 보여줍니다.\\n모델 예측값은 pred 컬럼으로 나옵니다.\\n'"
            ],
            "application/vnd.google.colaboratory.intrinsic+json": {
              "type": "string"
            }
          },
          "metadata": {},
          "execution_count": 44
        }
      ]
    },
    {
      "cell_type": "code",
      "source": [
        "test_data3"
      ],
      "metadata": {
        "colab": {
          "base_uri": "https://localhost:8080/",
          "height": 424
        },
        "id": "571IIr68Shh4",
        "outputId": "f75af798-5fc1-41af-8a95-8a7634548940"
      },
      "execution_count": null,
      "outputs": [
        {
          "output_type": "execute_result",
          "data": {
            "text/plain": [
              "                                                     doc  label pred\n",
              "0         가스공사 지역공사등에 납품하는 안정적인 기업이다 남북 통일되면 성장이 기대되는 회사      0    1\n",
              "1      편하게 일하는 부서가 많고 제대로 일하는 사람이 정당한 대우를 받고 있는가에 대한 ...      0    1\n",
              "2                          정규직은 중견이라 썩 괜찮은 조건이지만 계약직은 글쎄      0    1\n",
              "3                                 머리쓰는 추격전이었다면 더 잼있었을텐데.      0    1\n",
              "4       다른걸 다 떠나서 제목이 새크레이드 가 뭐냐.네이버 영어사전만 찾아봐도 세이크리드...      0    0\n",
              "...                                                  ...    ...  ...\n",
              "38785                      그럴듯하지만 글쎄요뒤통수맞은 직원들은 마음이 아픕니다      0    0\n",
              "38786                      남경 학살 주장은 중국의 날조된 거짓으로 드러났어요.      0    0\n",
              "38787  하. 내가 예고편 보고 끄긴 처음이다. 정말 예고편이라도 재밌으면 보기라도 할텐데....      0    0\n",
              "38788                                     그래도 10점을 주고 싶다      1    1\n",
              "38789                         진짜 재밌게 보고있어요 재방송좀 마니 해주시지요      1    1\n",
              "\n",
              "[38790 rows x 3 columns]"
            ],
            "text/html": [
              "\n",
              "  <div id=\"df-cfa7aa31-e9e4-4c04-bc1b-16685ad8d7e5\">\n",
              "    <div class=\"colab-df-container\">\n",
              "      <div>\n",
              "<style scoped>\n",
              "    .dataframe tbody tr th:only-of-type {\n",
              "        vertical-align: middle;\n",
              "    }\n",
              "\n",
              "    .dataframe tbody tr th {\n",
              "        vertical-align: top;\n",
              "    }\n",
              "\n",
              "    .dataframe thead th {\n",
              "        text-align: right;\n",
              "    }\n",
              "</style>\n",
              "<table border=\"1\" class=\"dataframe\">\n",
              "  <thead>\n",
              "    <tr style=\"text-align: right;\">\n",
              "      <th></th>\n",
              "      <th>doc</th>\n",
              "      <th>label</th>\n",
              "      <th>pred</th>\n",
              "    </tr>\n",
              "  </thead>\n",
              "  <tbody>\n",
              "    <tr>\n",
              "      <th>0</th>\n",
              "      <td>가스공사 지역공사등에 납품하는 안정적인 기업이다 남북 통일되면 성장이 기대되는 회사</td>\n",
              "      <td>0</td>\n",
              "      <td>1</td>\n",
              "    </tr>\n",
              "    <tr>\n",
              "      <th>1</th>\n",
              "      <td>편하게 일하는 부서가 많고 제대로 일하는 사람이 정당한 대우를 받고 있는가에 대한 ...</td>\n",
              "      <td>0</td>\n",
              "      <td>1</td>\n",
              "    </tr>\n",
              "    <tr>\n",
              "      <th>2</th>\n",
              "      <td>정규직은 중견이라 썩 괜찮은 조건이지만 계약직은 글쎄</td>\n",
              "      <td>0</td>\n",
              "      <td>1</td>\n",
              "    </tr>\n",
              "    <tr>\n",
              "      <th>3</th>\n",
              "      <td>머리쓰는 추격전이었다면 더 잼있었을텐데.</td>\n",
              "      <td>0</td>\n",
              "      <td>1</td>\n",
              "    </tr>\n",
              "    <tr>\n",
              "      <th>4</th>\n",
              "      <td>다른걸 다 떠나서 제목이 새크레이드 가 뭐냐.네이버 영어사전만 찾아봐도 세이크리드...</td>\n",
              "      <td>0</td>\n",
              "      <td>0</td>\n",
              "    </tr>\n",
              "    <tr>\n",
              "      <th>...</th>\n",
              "      <td>...</td>\n",
              "      <td>...</td>\n",
              "      <td>...</td>\n",
              "    </tr>\n",
              "    <tr>\n",
              "      <th>38785</th>\n",
              "      <td>그럴듯하지만 글쎄요뒤통수맞은 직원들은 마음이 아픕니다</td>\n",
              "      <td>0</td>\n",
              "      <td>0</td>\n",
              "    </tr>\n",
              "    <tr>\n",
              "      <th>38786</th>\n",
              "      <td>남경 학살 주장은 중국의 날조된 거짓으로 드러났어요.</td>\n",
              "      <td>0</td>\n",
              "      <td>0</td>\n",
              "    </tr>\n",
              "    <tr>\n",
              "      <th>38787</th>\n",
              "      <td>하. 내가 예고편 보고 끄긴 처음이다. 정말 예고편이라도 재밌으면 보기라도 할텐데....</td>\n",
              "      <td>0</td>\n",
              "      <td>0</td>\n",
              "    </tr>\n",
              "    <tr>\n",
              "      <th>38788</th>\n",
              "      <td>그래도 10점을 주고 싶다</td>\n",
              "      <td>1</td>\n",
              "      <td>1</td>\n",
              "    </tr>\n",
              "    <tr>\n",
              "      <th>38789</th>\n",
              "      <td>진짜 재밌게 보고있어요 재방송좀 마니 해주시지요</td>\n",
              "      <td>1</td>\n",
              "      <td>1</td>\n",
              "    </tr>\n",
              "  </tbody>\n",
              "</table>\n",
              "<p>38790 rows × 3 columns</p>\n",
              "</div>\n",
              "      <button class=\"colab-df-convert\" onclick=\"convertToInteractive('df-cfa7aa31-e9e4-4c04-bc1b-16685ad8d7e5')\"\n",
              "              title=\"Convert this dataframe to an interactive table.\"\n",
              "              style=\"display:none;\">\n",
              "        \n",
              "  <svg xmlns=\"http://www.w3.org/2000/svg\" height=\"24px\"viewBox=\"0 0 24 24\"\n",
              "       width=\"24px\">\n",
              "    <path d=\"M0 0h24v24H0V0z\" fill=\"none\"/>\n",
              "    <path d=\"M18.56 5.44l.94 2.06.94-2.06 2.06-.94-2.06-.94-.94-2.06-.94 2.06-2.06.94zm-11 1L8.5 8.5l.94-2.06 2.06-.94-2.06-.94L8.5 2.5l-.94 2.06-2.06.94zm10 10l.94 2.06.94-2.06 2.06-.94-2.06-.94-.94-2.06-.94 2.06-2.06.94z\"/><path d=\"M17.41 7.96l-1.37-1.37c-.4-.4-.92-.59-1.43-.59-.52 0-1.04.2-1.43.59L10.3 9.45l-7.72 7.72c-.78.78-.78 2.05 0 2.83L4 21.41c.39.39.9.59 1.41.59.51 0 1.02-.2 1.41-.59l7.78-7.78 2.81-2.81c.8-.78.8-2.07 0-2.86zM5.41 20L4 18.59l7.72-7.72 1.47 1.35L5.41 20z\"/>\n",
              "  </svg>\n",
              "      </button>\n",
              "      \n",
              "  <style>\n",
              "    .colab-df-container {\n",
              "      display:flex;\n",
              "      flex-wrap:wrap;\n",
              "      gap: 12px;\n",
              "    }\n",
              "\n",
              "    .colab-df-convert {\n",
              "      background-color: #E8F0FE;\n",
              "      border: none;\n",
              "      border-radius: 50%;\n",
              "      cursor: pointer;\n",
              "      display: none;\n",
              "      fill: #1967D2;\n",
              "      height: 32px;\n",
              "      padding: 0 0 0 0;\n",
              "      width: 32px;\n",
              "    }\n",
              "\n",
              "    .colab-df-convert:hover {\n",
              "      background-color: #E2EBFA;\n",
              "      box-shadow: 0px 1px 2px rgba(60, 64, 67, 0.3), 0px 1px 3px 1px rgba(60, 64, 67, 0.15);\n",
              "      fill: #174EA6;\n",
              "    }\n",
              "\n",
              "    [theme=dark] .colab-df-convert {\n",
              "      background-color: #3B4455;\n",
              "      fill: #D2E3FC;\n",
              "    }\n",
              "\n",
              "    [theme=dark] .colab-df-convert:hover {\n",
              "      background-color: #434B5C;\n",
              "      box-shadow: 0px 1px 3px 1px rgba(0, 0, 0, 0.15);\n",
              "      filter: drop-shadow(0px 1px 2px rgba(0, 0, 0, 0.3));\n",
              "      fill: #FFFFFF;\n",
              "    }\n",
              "  </style>\n",
              "\n",
              "      <script>\n",
              "        const buttonEl =\n",
              "          document.querySelector('#df-cfa7aa31-e9e4-4c04-bc1b-16685ad8d7e5 button.colab-df-convert');\n",
              "        buttonEl.style.display =\n",
              "          google.colab.kernel.accessAllowed ? 'block' : 'none';\n",
              "\n",
              "        async function convertToInteractive(key) {\n",
              "          const element = document.querySelector('#df-cfa7aa31-e9e4-4c04-bc1b-16685ad8d7e5');\n",
              "          const dataTable =\n",
              "            await google.colab.kernel.invokeFunction('convertToInteractive',\n",
              "                                                     [key], {});\n",
              "          if (!dataTable) return;\n",
              "\n",
              "          const docLinkHtml = 'Like what you see? Visit the ' +\n",
              "            '<a target=\"_blank\" href=https://colab.research.google.com/notebooks/data_table.ipynb>data table notebook</a>'\n",
              "            + ' to learn more about interactive tables.';\n",
              "          element.innerHTML = '';\n",
              "          dataTable['output_type'] = 'display_data';\n",
              "          await google.colab.output.renderOutput(dataTable, element);\n",
              "          const docLink = document.createElement('div');\n",
              "          docLink.innerHTML = docLinkHtml;\n",
              "          element.appendChild(docLink);\n",
              "        }\n",
              "      </script>\n",
              "    </div>\n",
              "  </div>\n",
              "  "
            ]
          },
          "metadata": {},
          "execution_count": 45
        }
      ]
    },
    {
      "cell_type": "code",
      "source": [
        "test_data3.to_excel('/content/drive/MyDrive/modeling_yy/kobert_trainDT_predict_ver2.xlsx')"
      ],
      "metadata": {
        "id": "TV7VpMcRUyR9"
      },
      "execution_count": null,
      "outputs": []
    },
    {
      "cell_type": "code",
      "source": [
        "y_test=test_frame['label']\n",
        "y_pred=list(test_data3['pred'])"
      ],
      "metadata": {
        "id": "wTI_Fd_pPjaR"
      },
      "execution_count": null,
      "outputs": []
    },
    {
      "cell_type": "code",
      "source": [
        "from sklearn.metrics import accuracy_score,classification_report\n",
        "from sklearn.metrics import f1_score,confusion_matrix\n",
        "print(classification_report(y_test,y_pred))\n"
      ],
      "metadata": {
        "colab": {
          "base_uri": "https://localhost:8080/"
        },
        "id": "3XpDOV5wzFLH",
        "outputId": "63903bfa-9b7a-46dc-e11d-0b08c477dc79"
      },
      "execution_count": null,
      "outputs": [
        {
          "output_type": "stream",
          "name": "stdout",
          "text": [
            "              precision    recall  f1-score   support\n",
            "\n",
            "           0       0.84      0.83      0.84     19398\n",
            "           1       0.84      0.84      0.84     19392\n",
            "\n",
            "    accuracy                           0.84     38790\n",
            "   macro avg       0.84      0.84      0.84     38790\n",
            "weighted avg       0.84      0.84      0.84     38790\n",
            "\n"
          ]
        }
      ]
    },
    {
      "cell_type": "code",
      "source": [
        "print(confusion_matrix(y_test, y_pred)) # 1,0의 비율이 비슷함\n"
      ],
      "metadata": {
        "colab": {
          "base_uri": "https://localhost:8080/"
        },
        "id": "yEPk5UtaUjbj",
        "outputId": "8521329e-432c-4b40-83f0-49dc76f8ee07"
      },
      "execution_count": null,
      "outputs": [
        {
          "output_type": "stream",
          "name": "stdout",
          "text": [
            "[[16183  3215]\n",
            " [ 3023 16369]]\n"
          ]
        }
      ]
    },
    {
      "cell_type": "code",
      "source": [
        "accuracy_score(y_test,y_pred)"
      ],
      "metadata": {
        "colab": {
          "base_uri": "https://localhost:8080/"
        },
        "id": "6a9i83yLUpCy",
        "outputId": "b48f3ae1-058c-46d6-bdec-fb481fcff192"
      },
      "execution_count": null,
      "outputs": [
        {
          "output_type": "execute_result",
          "data": {
            "text/plain": [
              "0.8391853570507863"
            ]
          },
          "metadata": {},
          "execution_count": 60
        }
      ]
    },
    {
      "cell_type": "code",
      "source": [
        "f1_score(y_test,y_pred)"
      ],
      "metadata": {
        "colab": {
          "base_uri": "https://localhost:8080/"
        },
        "id": "5SevAIzEUrD6",
        "outputId": "36486226-9f38-414e-a258-1fb227b5f7c3"
      },
      "execution_count": null,
      "outputs": [
        {
          "output_type": "execute_result",
          "data": {
            "text/plain": [
              "0.8399527914614122"
            ]
          },
          "metadata": {},
          "execution_count": 62
        }
      ]
    },
    {
      "cell_type": "markdown",
      "source": [
        "## 12. 모델저장\n"
      ],
      "metadata": {
        "id": "D3-l9MEd-_1Q"
      }
    },
    {
      "cell_type": "code",
      "source": [
        "from google.colab import drive\n",
        "drive.mount('/content/drive')"
      ],
      "metadata": {
        "id": "QwUjL1P3I6FE"
      },
      "execution_count": null,
      "outputs": []
    },
    {
      "cell_type": "markdown",
      "source": [
        "- 경로설정 오류시 PATH = '/content/drive/MyDrive/modeling_yy/'"
      ],
      "metadata": {
        "id": "d7HdFrWN-xis"
      }
    },
    {
      "cell_type": "code",
      "source": [
        "#경로설정 오류시 PATH = '/content/drive/MyDrive/modeling_yy/'\n",
        "PATH = '/content/drive/MyDrive/modeling_yy/'\n",
        "torch.save(best_acc_model, PATH + 'bert_model_ver2.pt')  # 전체 모델 저장\n",
        "torch.save(best_acc_model.state_dict(), PATH + 'bert_model_state_dict_ver2.pt')  # 모델 객체의 state_dict 저장\n",
        "torch.save({'model': best_acc_model.state_dict(), 'optimizer': optimizer.state_dict()}, PATH + 'bert_all_ver2.tar')  "
      ],
      "metadata": {
        "id": "EotSp4Ao-lX4"
      },
      "execution_count": null,
      "outputs": []
    },
    {
      "cell_type": "code",
      "source": [
        "#PATH = '/content/drive/MyDrive/modeling_yy/'\n",
        "#torch.save(model.state_dict(), PATH + 'sentiment_kobert_ver1.pt')"
      ],
      "metadata": {
        "id": "COziSqP8_BLG"
      },
      "execution_count": null,
      "outputs": []
    },
    {
      "cell_type": "markdown",
      "source": [
        "## 13. 전이학습 및 예측 "
      ],
      "metadata": {
        "id": "mf6Oae2XG0gq"
      }
    },
    {
      "cell_type": "code",
      "source": [
        "#깃허브에서 KoBERT 파일 로드\n",
        "!pip install git+https://git@github.com/SKTBrain/KoBERT.git@master"
      ],
      "metadata": {
        "id": "R9HHzwSmbAIl"
      },
      "execution_count": null,
      "outputs": []
    },
    {
      "cell_type": "code",
      "source": [
        "#cuda 에러 해결 참고 : https://stackoverflow.com/questions/69968477/runtimeerror-cuda-error-no-kernel-image-is-available-for-execution-on-the-devi\n",
        "#버전 에러발생으로 재설치\n",
        "!pip install torch torchvision torchaudio --extra-index-url https://download.pytorch.org/whl/cu116"
      ],
      "metadata": {
        "id": "GDj9cltEbGAD"
      },
      "execution_count": null,
      "outputs": []
    },
    {
      "cell_type": "code",
      "source": [
        "import torch\n",
        "from torch import nn\n",
        "import torch.nn.functional as F\n",
        "import torch.optim as optim\n",
        "from torch.utils.data import Dataset, DataLoader\n",
        "import gluonnlp as nlp\n",
        "import numpy as np\n",
        "from tqdm import tqdm, tqdm_notebook\n",
        "\n",
        "#kobert\n",
        "from kobert.utils import get_tokenizer\n",
        "#from kobert.pytorch_kobert import get_kobert_model\n",
        "from kobert import get_pytorch_kobert_model\n",
        "\n",
        "#transformers\n",
        "from transformers import AdamW\n",
        "from transformers.optimization import get_cosine_schedule_with_warmup\n",
        "\n",
        "## CPU 사용시\n",
        "#device = torch.device(\"cpu\")\n",
        "\n",
        "#GPU 사용\n",
        "device = torch.device(\"cuda:0\")\n",
        "\n",
        "#BERT 모델, Vocabulary 불러오기\n",
        "bertmodel, vocab = get_pytorch_kobert_model()\n"
      ],
      "metadata": {
        "id": "DtEbvkcVbNy5",
        "colab": {
          "base_uri": "https://localhost:8080/"
        },
        "outputId": "5488bd4c-3869-4d38-e2b4-b7fc3a036030"
      },
      "execution_count": null,
      "outputs": [
        {
          "output_type": "stream",
          "name": "stdout",
          "text": [
            "/content/.cache/kobert_v1.zip[██████████████████████████████████████████████████]\n",
            "/content/.cache/kobert_news_wiki_ko_cased-1087f8699e.spiece[██████████████████████████████████████████████████]\n"
          ]
        }
      ]
    },
    {
      "cell_type": "code",
      "source": [
        "#kobert\n",
        "from kobert.utils import get_tokenizer\n",
        "tokenizer = get_tokenizer()\n",
        "\n",
        "#BERT 모델, Vocabulary 불러오기\n",
        "bertmodel, vocab = get_pytorch_kobert_model()\n",
        "#lower=False 한글이니까 상관 없을듯..?\n",
        "tok = nlp.data.BERTSPTokenizer(tokenizer, vocab, lower=False)"
      ],
      "metadata": {
        "id": "wdmuIXp-bSf2",
        "colab": {
          "base_uri": "https://localhost:8080/"
        },
        "outputId": "9a57f230-4501-4705-b32d-e7f7a7d3e60a"
      },
      "execution_count": null,
      "outputs": [
        {
          "output_type": "stream",
          "name": "stdout",
          "text": [
            "using cached model. /content/.cache/kobert_news_wiki_ko_cased-1087f8699e.spiece\n",
            "using cached model. /content/.cache/kobert_v1.zip\n",
            "using cached model. /content/.cache/kobert_news_wiki_ko_cased-1087f8699e.spiece\n"
          ]
        }
      ]
    },
    {
      "cell_type": "code",
      "source": [
        "class BERTDataset(Dataset):\n",
        "    def __init__(self, dataset, sent_idx, label_idx, bert_tokenizer, max_len,\n",
        "                 pad, pair):\n",
        "        transform = nlp.data.BERTSentenceTransform(\n",
        "            bert_tokenizer, max_seq_length=max_len, pad=pad, pair=pair)\n",
        "\n",
        "        self.sentences = [transform([i[sent_idx]]) for i in dataset]\n",
        "        self.labels = [np.int32(i[label_idx]) for i in dataset]\n",
        "\n",
        "    def __getitem__(self, i):\n",
        "        return (self.sentences[i] + (self.labels[i], ))\n",
        "\n",
        "    def __len__(self):\n",
        "        return (len(self.labels))\n"
      ],
      "metadata": {
        "id": "l5HVadFpbczY"
      },
      "execution_count": null,
      "outputs": []
    },
    {
      "cell_type": "code",
      "source": [
        "class BERTClassifier(nn.Module):\n",
        "  def __init__(self, bert, hidden_size=768, num_classes=2, dr_rate=None, params=None):\n",
        "    super(BERTClassifier, self).__init__()\n",
        "    self.bert = bert\n",
        "    self.dr_rate = dr_rate\n",
        "\n",
        "    self.classifier = nn.Linear(hidden_size , num_classes)\n",
        "    if dr_rate:\n",
        "      self.dropout = nn.Dropout(p=dr_rate)\n",
        "\n",
        "  def gen_attention_mask(self, token_ids, valid_length):\n",
        "    attention_mask = torch.zeros_like(token_ids)\n",
        "    for i, v in enumerate(valid_length):\n",
        "      attention_mask[i][:v] = 1\n",
        "    return attention_mask.float()\n",
        "\n",
        "  def forward(self, token_ids, valid_length, segment_ids):\n",
        "    attention_mask = self.gen_attention_mask(token_ids, valid_length)\n",
        "    _, pooler = self.bert(input_ids = token_ids, token_type_ids = segment_ids.long(), attention_mask = attention_mask.float().to(token_ids.device))\n",
        "    if self.dr_rate:\n",
        "        out = self.dropout(pooler)\n",
        "    else:\n",
        "        out = pooler\n",
        "    return self.classifier(out)"
      ],
      "metadata": {
        "id": "HOXmxXPcbkGm"
      },
      "execution_count": null,
      "outputs": []
    },
    {
      "cell_type": "code",
      "source": [
        "def calc_accuracy(X,Y):\n",
        "    max_vals, max_indices = torch.max(X, 1)\n",
        "    train_acc = (max_indices == Y).sum().data.cpu().numpy()/max_indices.size()[0]\n",
        "    return train_acc"
      ],
      "metadata": {
        "id": "2RbVMuOzb_F2"
      },
      "execution_count": null,
      "outputs": []
    },
    {
      "cell_type": "code",
      "source": [
        "from google.colab import drive\n",
        "drive.mount('/content/drive')"
      ],
      "metadata": {
        "id": "9FirI1yAarv6",
        "colab": {
          "base_uri": "https://localhost:8080/"
        },
        "outputId": "b7c1a265-d312-4e40-b095-e35c32fff321"
      },
      "execution_count": null,
      "outputs": [
        {
          "output_type": "stream",
          "name": "stdout",
          "text": [
            "Mounted at /content/drive\n"
          ]
        }
      ]
    },
    {
      "cell_type": "code",
      "source": [
        "#모델변수 코드 추가\n",
        "import torch\n",
        "PATH = '/content/drive/MyDrive/modeling_yy/'\n",
        "model = torch.load(PATH + 'bert_model_ver2.pt')\n",
        "\n",
        "learning_rate =  5e-5\n",
        "\n",
        "no_decay = ['bias', 'LayerNorm.weight']\n",
        "optimizer_grouped_parameters = [\n",
        "    {'params': [p for n, p in model.named_parameters() if not any(nd in n for nd in no_decay)], 'weight_decay': 0.01},\n",
        "    {'params': [p for n, p in model.named_parameters() if any(nd in n for nd in no_decay)], 'weight_decay': 0.0}\n",
        "]\n",
        "\n",
        "#옵티마이저, 손실함수 지정\n",
        "optimizer = AdamW(optimizer_grouped_parameters, lr=learning_rate)\n",
        "\n",
        "#model = torch.load(PATH + 'bert_model_ver2.pt')  # 모델 불러오기\n",
        "model.load_state_dict(torch.load( PATH + 'bert_model_state_dict_ver2.pt'))\n",
        "\n",
        "checkpoint = torch.load(PATH + 'bert_all_ver2.tar')   # dict 불러오기\n",
        "model.load_state_dict(checkpoint['model'])\n",
        "optimizer.load_state_dict(checkpoint['optimizer'])"
      ],
      "metadata": {
        "id": "b7WdlgNnGY5D"
      },
      "execution_count": null,
      "outputs": []
    },
    {
      "cell_type": "markdown",
      "source": [
        "- test (예측을 위해 수집한 데이터) 전처리(리스트화 및 토큰화)"
      ],
      "metadata": {
        "id": "5aU2EFTZKgbV"
      }
    },
    {
      "cell_type": "code",
      "source": [
        "import pandas as pd\n",
        "import matplotlib.pyplot as plt\n",
        "\n",
        "test_data=pd.read_excel('/content/drive/MyDrive/modeling_yy/test_data.xlsx')\n",
        "plt.hist([len(doc) for doc in test_data['doc']], bins = 20)\n",
        "plt.xlabel('length of samples'), plt.ylabel('number of samples');"
      ],
      "metadata": {
        "id": "NMAXczG3Kt4q",
        "colab": {
          "base_uri": "https://localhost:8080/",
          "height": 279
        },
        "outputId": "d22452ca-f614-4968-dd6c-c759d65134ec"
      },
      "execution_count": null,
      "outputs": [
        {
          "output_type": "display_data",
          "data": {
            "text/plain": [
              "<Figure size 432x288 with 1 Axes>"
            ],
            "image/png": "[encoded data removed]"
          },
          "metadata": {
            "needs_background": "light"
          }
        }
      ]
    },
    {
      "cell_type": "markdown",
      "source": [
        "* Predict 예측함수 정의"
      ],
      "metadata": {
        "id": "BrFL1C6SE3Ad"
      }
    },
    {
      "cell_type": "code",
      "source": [
        "# 문장별 예측함수(1,0)\n",
        "\n",
        "def predict(sentence):\n",
        "  data = [sentence, '0']\n",
        "  dataset_another = [data]\n",
        "  logits = 0 #예측값 임의지정 \n",
        "  another_test = BERTDataset(dataset_another, 0, 1, tok, max_len, True, False) #bert 데이터형식으로 만들기\n",
        "  test_dataloader = torch.utils.data.DataLoader(another_test, batch_size=batch_size, num_workers=5)\n",
        "  \n",
        "  model.eval()\n",
        "\n",
        "  for batch_id, (token_ids, valid_length, segment_ids, label) in enumerate(test_dataloader):\n",
        "      token_ids = token_ids.long().to(device)\n",
        "      segment_ids = segment_ids.long().to(device)\n",
        "\n",
        "      valid_length= valid_length\n",
        "      label = label.long().to(device)\n",
        "\n",
        "      out = model(token_ids, valid_length, segment_ids) #예측 결과 리스트\n",
        "\n",
        "      for i in out:\n",
        "        logits = i\n",
        "        logits = logits.detach().cpu().numpy()\n",
        "        logits = np.argmax(logits) #1,0 분류값\n",
        "\n",
        "  return logits"
      ],
      "metadata": {
        "id": "Lv9IJCaH4YsA"
      },
      "execution_count": null,
      "outputs": []
    },
    {
      "cell_type": "code",
      "source": [
        "PATH = '/content/drive/MyDrive/modeling_yy/'\n",
        "model = torch.load(PATH + 'bert_model_ver2.pt')  # 모델 불러오기\n",
        "#model.load_state_dict(torch.load( PATH + 'bert_model_state_dict.pt'))\n"
      ],
      "metadata": {
        "id": "WOc44s-BE44D"
      },
      "execution_count": null,
      "outputs": []
    },
    {
      "cell_type": "code",
      "source": [
        "import pandas as pd\n",
        "test_data=pd.read_excel('/content/drive/MyDrive/modeling_yy/test_data.xlsx')\n",
        "test_data"
      ],
      "metadata": {
        "colab": {
          "base_uri": "https://localhost:8080/",
          "height": 693
        },
        "id": "pNF643qpGBPm",
        "outputId": "dc764350-1a00-464e-bd1b-ddd46bd1a0f5"
      },
      "execution_count": null,
      "outputs": [
        {
          "output_type": "execute_result",
          "data": {
            "text/plain": [
              "         id  year                                                doc  \\\n",
              "0         1  2020  원수가 다니겠다고 하면 도시락 싸 들고 환영할 회사 중소기업의 흔한 사건사고 단점 ...   \n",
              "1         1  2020                             앞으로도 더 성장 할 가능성이 높은 회사   \n",
              "2         1  2020              블리츠웨이 300 꿈의 장난감 볼트론 피규어로 매출 100억원 기대   \n",
              "3         1  2020        배용준도 투자한 블리츠웨이 코스닥 예비심사 통과 정밀 피규어 최초 상장 기대    \n",
              "4         1  2020                대신밸런스제9호스팩 블리츠웨이와 합병 승인 12월 코스닥 상장    \n",
              "...     ...   ...                                                ...   \n",
              "71829  1382  2020                레미콘제조업체로 현상유지만 하고있음앞으로 전망은 낙관적이지 않음   \n",
              "71830  1382  2020  개 법인이 같이 운영되고 있음 그중 개는 죽쑤는중 덕원이랑 모헨즈가 이끌어감 덕원은...   \n",
              "71831  1382  2021      차산업 특성상 육체노동의 불가피함 진급욕심가득한 몇몇으로 인해 피해보는 직원 속출   \n",
              "71832  1382  2021                    사람을 가볍게 여기는 회사 임원진들만 잘먹고 잘사는 회사   \n",
              "71833  1382  2021                  안정적이고 급여도 괜찮지만 의사결정이 느리고 경직된 조직문화   \n",
              "\n",
              "                                                 content  ecnt  scnt  gcnt  \n",
              "0      장점  꼰대 문화가 별로 없고 변화와 발전 추구함 투자를 많이 받고 있기 때문에 사...     0     2     3  \n",
              "1      장점 직원들에게 많은 기회를 준다 한가지만 보지 않고 다양한 분야에서 어떻게 인재가...     0     0     2  \n",
              "2      피규어 전문제작사 블리츠웨이가 출시 예정인 볼트론이 사전예약 첫 날 자체 예약 최고...     0     0     0  \n",
              "3      피규어 개발 및 제작 전문 기업 블리츠웨이가 코스닥 상장을 위한 예비 심사를 통과했...     0     0     0  \n",
              "4       대신밸런스제9호스팩은 피규어 개발 제작 전문 기업 블리츠웨이 와 합병상장을 위한 ...     0     0     0  \n",
              "...                                                  ...   ...   ...   ...  \n",
              "71829  장점 공장은 장점 이 없고 서울본사는 근무할만 함빽있는 사람은 다닐만함 단점 빽없는...     0     0     3  \n",
              "71830  장점 중소기업치고 연봉이 높은편 대신 성과금이 없다 본사에입사하면 워라밸 가능함 공...     0     0     1  \n",
              "71831  장점 직원들 대부분의 성향이 밝은 쪽이 많음 적응하는 기간이 오래걸리지않고 형동생으...     0     1     1  \n",
              "71832  장점 월급이 밀리지 않고 제 때 들어오는것이 이 회사의 유일한 장점  단점 정해놓은...     0     0     1  \n",
              "71833  장점 연차를 눈치 안보고 쓸수 있음 업무가 단조로워 접근성이 쉬움 야근이 없음 사람...     0     0     1  \n",
              "\n",
              "[71834 rows x 7 columns]"
            ],
            "text/html": [
              "\n",
              "  <div id=\"df-6734e746-260c-401f-bd5b-15c1b4940ca1\">\n",
              "    <div class=\"colab-df-container\">\n",
              "      <div>\n",
              "<style scoped>\n",
              "    .dataframe tbody tr th:only-of-type {\n",
              "        vertical-align: middle;\n",
              "    }\n",
              "\n",
              "    .dataframe tbody tr th {\n",
              "        vertical-align: top;\n",
              "    }\n",
              "\n",
              "    .dataframe thead th {\n",
              "        text-align: right;\n",
              "    }\n",
              "</style>\n",
              "<table border=\"1\" class=\"dataframe\">\n",
              "  <thead>\n",
              "    <tr style=\"text-align: right;\">\n",
              "      <th></th>\n",
              "      <th>id</th>\n",
              "      <th>year</th>\n",
              "      <th>doc</th>\n",
              "      <th>content</th>\n",
              "      <th>ecnt</th>\n",
              "      <th>scnt</th>\n",
              "      <th>gcnt</th>\n",
              "    </tr>\n",
              "  </thead>\n",
              "  <tbody>\n",
              "    <tr>\n",
              "      <th>0</th>\n",
              "      <td>1</td>\n",
              "      <td>2020</td>\n",
              "      <td>원수가 다니겠다고 하면 도시락 싸 들고 환영할 회사 중소기업의 흔한 사건사고 단점 ...</td>\n",
              "      <td>장점  꼰대 문화가 별로 없고 변화와 발전 추구함 투자를 많이 받고 있기 때문에 사...</td>\n",
              "      <td>0</td>\n",
              "      <td>2</td>\n",
              "      <td>3</td>\n",
              "    </tr>\n",
              "    <tr>\n",
              "      <th>1</th>\n",
              "      <td>1</td>\n",
              "      <td>2020</td>\n",
              "      <td>앞으로도 더 성장 할 가능성이 높은 회사</td>\n",
              "      <td>장점 직원들에게 많은 기회를 준다 한가지만 보지 않고 다양한 분야에서 어떻게 인재가...</td>\n",
              "      <td>0</td>\n",
              "      <td>0</td>\n",
              "      <td>2</td>\n",
              "    </tr>\n",
              "    <tr>\n",
              "      <th>2</th>\n",
              "      <td>1</td>\n",
              "      <td>2020</td>\n",
              "      <td>블리츠웨이 300 꿈의 장난감 볼트론 피규어로 매출 100억원 기대</td>\n",
              "      <td>피규어 전문제작사 블리츠웨이가 출시 예정인 볼트론이 사전예약 첫 날 자체 예약 최고...</td>\n",
              "      <td>0</td>\n",
              "      <td>0</td>\n",
              "      <td>0</td>\n",
              "    </tr>\n",
              "    <tr>\n",
              "      <th>3</th>\n",
              "      <td>1</td>\n",
              "      <td>2020</td>\n",
              "      <td>배용준도 투자한 블리츠웨이 코스닥 예비심사 통과 정밀 피규어 최초 상장 기대</td>\n",
              "      <td>피규어 개발 및 제작 전문 기업 블리츠웨이가 코스닥 상장을 위한 예비 심사를 통과했...</td>\n",
              "      <td>0</td>\n",
              "      <td>0</td>\n",
              "      <td>0</td>\n",
              "    </tr>\n",
              "    <tr>\n",
              "      <th>4</th>\n",
              "      <td>1</td>\n",
              "      <td>2020</td>\n",
              "      <td>대신밸런스제9호스팩 블리츠웨이와 합병 승인 12월 코스닥 상장</td>\n",
              "      <td>대신밸런스제9호스팩은 피규어 개발 제작 전문 기업 블리츠웨이 와 합병상장을 위한 ...</td>\n",
              "      <td>0</td>\n",
              "      <td>0</td>\n",
              "      <td>0</td>\n",
              "    </tr>\n",
              "    <tr>\n",
              "      <th>...</th>\n",
              "      <td>...</td>\n",
              "      <td>...</td>\n",
              "      <td>...</td>\n",
              "      <td>...</td>\n",
              "      <td>...</td>\n",
              "      <td>...</td>\n",
              "      <td>...</td>\n",
              "    </tr>\n",
              "    <tr>\n",
              "      <th>71829</th>\n",
              "      <td>1382</td>\n",
              "      <td>2020</td>\n",
              "      <td>레미콘제조업체로 현상유지만 하고있음앞으로 전망은 낙관적이지 않음</td>\n",
              "      <td>장점 공장은 장점 이 없고 서울본사는 근무할만 함빽있는 사람은 다닐만함 단점 빽없는...</td>\n",
              "      <td>0</td>\n",
              "      <td>0</td>\n",
              "      <td>3</td>\n",
              "    </tr>\n",
              "    <tr>\n",
              "      <th>71830</th>\n",
              "      <td>1382</td>\n",
              "      <td>2020</td>\n",
              "      <td>개 법인이 같이 운영되고 있음 그중 개는 죽쑤는중 덕원이랑 모헨즈가 이끌어감 덕원은...</td>\n",
              "      <td>장점 중소기업치고 연봉이 높은편 대신 성과금이 없다 본사에입사하면 워라밸 가능함 공...</td>\n",
              "      <td>0</td>\n",
              "      <td>0</td>\n",
              "      <td>1</td>\n",
              "    </tr>\n",
              "    <tr>\n",
              "      <th>71831</th>\n",
              "      <td>1382</td>\n",
              "      <td>2021</td>\n",
              "      <td>차산업 특성상 육체노동의 불가피함 진급욕심가득한 몇몇으로 인해 피해보는 직원 속출</td>\n",
              "      <td>장점 직원들 대부분의 성향이 밝은 쪽이 많음 적응하는 기간이 오래걸리지않고 형동생으...</td>\n",
              "      <td>0</td>\n",
              "      <td>1</td>\n",
              "      <td>1</td>\n",
              "    </tr>\n",
              "    <tr>\n",
              "      <th>71832</th>\n",
              "      <td>1382</td>\n",
              "      <td>2021</td>\n",
              "      <td>사람을 가볍게 여기는 회사 임원진들만 잘먹고 잘사는 회사</td>\n",
              "      <td>장점 월급이 밀리지 않고 제 때 들어오는것이 이 회사의 유일한 장점  단점 정해놓은...</td>\n",
              "      <td>0</td>\n",
              "      <td>0</td>\n",
              "      <td>1</td>\n",
              "    </tr>\n",
              "    <tr>\n",
              "      <th>71833</th>\n",
              "      <td>1382</td>\n",
              "      <td>2021</td>\n",
              "      <td>안정적이고 급여도 괜찮지만 의사결정이 느리고 경직된 조직문화</td>\n",
              "      <td>장점 연차를 눈치 안보고 쓸수 있음 업무가 단조로워 접근성이 쉬움 야근이 없음 사람...</td>\n",
              "      <td>0</td>\n",
              "      <td>0</td>\n",
              "      <td>1</td>\n",
              "    </tr>\n",
              "  </tbody>\n",
              "</table>\n",
              "<p>71834 rows × 7 columns</p>\n",
              "</div>\n",
              "      <button class=\"colab-df-convert\" onclick=\"convertToInteractive('df-6734e746-260c-401f-bd5b-15c1b4940ca1')\"\n",
              "              title=\"Convert this dataframe to an interactive table.\"\n",
              "              style=\"display:none;\">\n",
              "        \n",
              "  <svg xmlns=\"http://www.w3.org/2000/svg\" height=\"24px\"viewBox=\"0 0 24 24\"\n",
              "       width=\"24px\">\n",
              "    <path d=\"M0 0h24v24H0V0z\" fill=\"none\"/>\n",
              "    <path d=\"M18.56 5.44l.94 2.06.94-2.06 2.06-.94-2.06-.94-.94-2.06-.94 2.06-2.06.94zm-11 1L8.5 8.5l.94-2.06 2.06-.94-2.06-.94L8.5 2.5l-.94 2.06-2.06.94zm10 10l.94 2.06.94-2.06 2.06-.94-2.06-.94-.94-2.06-.94 2.06-2.06.94z\"/><path d=\"M17.41 7.96l-1.37-1.37c-.4-.4-.92-.59-1.43-.59-.52 0-1.04.2-1.43.59L10.3 9.45l-7.72 7.72c-.78.78-.78 2.05 0 2.83L4 21.41c.39.39.9.59 1.41.59.51 0 1.02-.2 1.41-.59l7.78-7.78 2.81-2.81c.8-.78.8-2.07 0-2.86zM5.41 20L4 18.59l7.72-7.72 1.47 1.35L5.41 20z\"/>\n",
              "  </svg>\n",
              "      </button>\n",
              "      \n",
              "  <style>\n",
              "    .colab-df-container {\n",
              "      display:flex;\n",
              "      flex-wrap:wrap;\n",
              "      gap: 12px;\n",
              "    }\n",
              "\n",
              "    .colab-df-convert {\n",
              "      background-color: #E8F0FE;\n",
              "      border: none;\n",
              "      border-radius: 50%;\n",
              "      cursor: pointer;\n",
              "      display: none;\n",
              "      fill: #1967D2;\n",
              "      height: 32px;\n",
              "      padding: 0 0 0 0;\n",
              "      width: 32px;\n",
              "    }\n",
              "\n",
              "    .colab-df-convert:hover {\n",
              "      background-color: #E2EBFA;\n",
              "      box-shadow: 0px 1px 2px rgba(60, 64, 67, 0.3), 0px 1px 3px 1px rgba(60, 64, 67, 0.15);\n",
              "      fill: #174EA6;\n",
              "    }\n",
              "\n",
              "    [theme=dark] .colab-df-convert {\n",
              "      background-color: #3B4455;\n",
              "      fill: #D2E3FC;\n",
              "    }\n",
              "\n",
              "    [theme=dark] .colab-df-convert:hover {\n",
              "      background-color: #434B5C;\n",
              "      box-shadow: 0px 1px 3px 1px rgba(0, 0, 0, 0.15);\n",
              "      filter: drop-shadow(0px 1px 2px rgba(0, 0, 0, 0.3));\n",
              "      fill: #FFFFFF;\n",
              "    }\n",
              "  </style>\n",
              "\n",
              "      <script>\n",
              "        const buttonEl =\n",
              "          document.querySelector('#df-6734e746-260c-401f-bd5b-15c1b4940ca1 button.colab-df-convert');\n",
              "        buttonEl.style.display =\n",
              "          google.colab.kernel.accessAllowed ? 'block' : 'none';\n",
              "\n",
              "        async function convertToInteractive(key) {\n",
              "          const element = document.querySelector('#df-6734e746-260c-401f-bd5b-15c1b4940ca1');\n",
              "          const dataTable =\n",
              "            await google.colab.kernel.invokeFunction('convertToInteractive',\n",
              "                                                     [key], {});\n",
              "          if (!dataTable) return;\n",
              "\n",
              "          const docLinkHtml = 'Like what you see? Visit the ' +\n",
              "            '<a target=\"_blank\" href=https://colab.research.google.com/notebooks/data_table.ipynb>data table notebook</a>'\n",
              "            + ' to learn more about interactive tables.';\n",
              "          element.innerHTML = '';\n",
              "          dataTable['output_type'] = 'display_data';\n",
              "          await google.colab.output.renderOutput(dataTable, element);\n",
              "          const docLink = document.createElement('div');\n",
              "          docLink.innerHTML = docLinkHtml;\n",
              "          element.appendChild(docLink);\n",
              "        }\n",
              "      </script>\n",
              "    </div>\n",
              "  </div>\n",
              "  "
            ]
          },
          "metadata": {},
          "execution_count": 68
        }
      ]
    },
    {
      "cell_type": "code",
      "source": [
        "test_data['label']=5\n",
        "test_data"
      ],
      "metadata": {
        "colab": {
          "base_uri": "https://localhost:8080/",
          "height": 815
        },
        "id": "fWNYUKtgSLpl",
        "outputId": "5963bf20-c4df-4fad-b921-2bcb2ec50ad6"
      },
      "execution_count": null,
      "outputs": [
        {
          "output_type": "execute_result",
          "data": {
            "text/plain": [
              "         id  year                                                doc  \\\n",
              "0         1  2020  원수가 다니겠다고 하면 도시락 싸 들고 환영할 회사 중소기업의 흔한 사건사고 단점 ...   \n",
              "1         1  2020                             앞으로도 더 성장 할 가능성이 높은 회사   \n",
              "2         1  2020              블리츠웨이 300 꿈의 장난감 볼트론 피규어로 매출 100억원 기대   \n",
              "3         1  2020        배용준도 투자한 블리츠웨이 코스닥 예비심사 통과 정밀 피규어 최초 상장 기대    \n",
              "4         1  2020                대신밸런스제9호스팩 블리츠웨이와 합병 승인 12월 코스닥 상장    \n",
              "...     ...   ...                                                ...   \n",
              "71829  1382  2020                레미콘제조업체로 현상유지만 하고있음앞으로 전망은 낙관적이지 않음   \n",
              "71830  1382  2020  개 법인이 같이 운영되고 있음 그중 개는 죽쑤는중 덕원이랑 모헨즈가 이끌어감 덕원은...   \n",
              "71831  1382  2021      차산업 특성상 육체노동의 불가피함 진급욕심가득한 몇몇으로 인해 피해보는 직원 속출   \n",
              "71832  1382  2021                    사람을 가볍게 여기는 회사 임원진들만 잘먹고 잘사는 회사   \n",
              "71833  1382  2021                  안정적이고 급여도 괜찮지만 의사결정이 느리고 경직된 조직문화   \n",
              "\n",
              "                                                 content  ecnt  scnt  gcnt  \\\n",
              "0      장점  꼰대 문화가 별로 없고 변화와 발전 추구함 투자를 많이 받고 있기 때문에 사...     0     2     3   \n",
              "1      장점 직원들에게 많은 기회를 준다 한가지만 보지 않고 다양한 분야에서 어떻게 인재가...     0     0     2   \n",
              "2      피규어 전문제작사 블리츠웨이가 출시 예정인 볼트론이 사전예약 첫 날 자체 예약 최고...     0     0     0   \n",
              "3      피규어 개발 및 제작 전문 기업 블리츠웨이가 코스닥 상장을 위한 예비 심사를 통과했...     0     0     0   \n",
              "4       대신밸런스제9호스팩은 피규어 개발 제작 전문 기업 블리츠웨이 와 합병상장을 위한 ...     0     0     0   \n",
              "...                                                  ...   ...   ...   ...   \n",
              "71829  장점 공장은 장점 이 없고 서울본사는 근무할만 함빽있는 사람은 다닐만함 단점 빽없는...     0     0     3   \n",
              "71830  장점 중소기업치고 연봉이 높은편 대신 성과금이 없다 본사에입사하면 워라밸 가능함 공...     0     0     1   \n",
              "71831  장점 직원들 대부분의 성향이 밝은 쪽이 많음 적응하는 기간이 오래걸리지않고 형동생으...     0     1     1   \n",
              "71832  장점 월급이 밀리지 않고 제 때 들어오는것이 이 회사의 유일한 장점  단점 정해놓은...     0     0     1   \n",
              "71833  장점 연차를 눈치 안보고 쓸수 있음 업무가 단조로워 접근성이 쉬움 야근이 없음 사람...     0     0     1   \n",
              "\n",
              "       label  \n",
              "0          5  \n",
              "1          5  \n",
              "2          5  \n",
              "3          5  \n",
              "4          5  \n",
              "...      ...  \n",
              "71829      5  \n",
              "71830      5  \n",
              "71831      5  \n",
              "71832      5  \n",
              "71833      5  \n",
              "\n",
              "[71834 rows x 8 columns]"
            ],
            "text/html": [
              "\n",
              "  <div id=\"df-a52fdc33-29fc-4f4c-8c67-14cfaaad6d9c\">\n",
              "    <div class=\"colab-df-container\">\n",
              "      <div>\n",
              "<style scoped>\n",
              "    .dataframe tbody tr th:only-of-type {\n",
              "        vertical-align: middle;\n",
              "    }\n",
              "\n",
              "    .dataframe tbody tr th {\n",
              "        vertical-align: top;\n",
              "    }\n",
              "\n",
              "    .dataframe thead th {\n",
              "        text-align: right;\n",
              "    }\n",
              "</style>\n",
              "<table border=\"1\" class=\"dataframe\">\n",
              "  <thead>\n",
              "    <tr style=\"text-align: right;\">\n",
              "      <th></th>\n",
              "      <th>id</th>\n",
              "      <th>year</th>\n",
              "      <th>doc</th>\n",
              "      <th>content</th>\n",
              "      <th>ecnt</th>\n",
              "      <th>scnt</th>\n",
              "      <th>gcnt</th>\n",
              "      <th>label</th>\n",
              "    </tr>\n",
              "  </thead>\n",
              "  <tbody>\n",
              "    <tr>\n",
              "      <th>0</th>\n",
              "      <td>1</td>\n",
              "      <td>2020</td>\n",
              "      <td>원수가 다니겠다고 하면 도시락 싸 들고 환영할 회사 중소기업의 흔한 사건사고 단점 ...</td>\n",
              "      <td>장점  꼰대 문화가 별로 없고 변화와 발전 추구함 투자를 많이 받고 있기 때문에 사...</td>\n",
              "      <td>0</td>\n",
              "      <td>2</td>\n",
              "      <td>3</td>\n",
              "      <td>5</td>\n",
              "    </tr>\n",
              "    <tr>\n",
              "      <th>1</th>\n",
              "      <td>1</td>\n",
              "      <td>2020</td>\n",
              "      <td>앞으로도 더 성장 할 가능성이 높은 회사</td>\n",
              "      <td>장점 직원들에게 많은 기회를 준다 한가지만 보지 않고 다양한 분야에서 어떻게 인재가...</td>\n",
              "      <td>0</td>\n",
              "      <td>0</td>\n",
              "      <td>2</td>\n",
              "      <td>5</td>\n",
              "    </tr>\n",
              "    <tr>\n",
              "      <th>2</th>\n",
              "      <td>1</td>\n",
              "      <td>2020</td>\n",
              "      <td>블리츠웨이 300 꿈의 장난감 볼트론 피규어로 매출 100억원 기대</td>\n",
              "      <td>피규어 전문제작사 블리츠웨이가 출시 예정인 볼트론이 사전예약 첫 날 자체 예약 최고...</td>\n",
              "      <td>0</td>\n",
              "      <td>0</td>\n",
              "      <td>0</td>\n",
              "      <td>5</td>\n",
              "    </tr>\n",
              "    <tr>\n",
              "      <th>3</th>\n",
              "      <td>1</td>\n",
              "      <td>2020</td>\n",
              "      <td>배용준도 투자한 블리츠웨이 코스닥 예비심사 통과 정밀 피규어 최초 상장 기대</td>\n",
              "      <td>피규어 개발 및 제작 전문 기업 블리츠웨이가 코스닥 상장을 위한 예비 심사를 통과했...</td>\n",
              "      <td>0</td>\n",
              "      <td>0</td>\n",
              "      <td>0</td>\n",
              "      <td>5</td>\n",
              "    </tr>\n",
              "    <tr>\n",
              "      <th>4</th>\n",
              "      <td>1</td>\n",
              "      <td>2020</td>\n",
              "      <td>대신밸런스제9호스팩 블리츠웨이와 합병 승인 12월 코스닥 상장</td>\n",
              "      <td>대신밸런스제9호스팩은 피규어 개발 제작 전문 기업 블리츠웨이 와 합병상장을 위한 ...</td>\n",
              "      <td>0</td>\n",
              "      <td>0</td>\n",
              "      <td>0</td>\n",
              "      <td>5</td>\n",
              "    </tr>\n",
              "    <tr>\n",
              "      <th>...</th>\n",
              "      <td>...</td>\n",
              "      <td>...</td>\n",
              "      <td>...</td>\n",
              "      <td>...</td>\n",
              "      <td>...</td>\n",
              "      <td>...</td>\n",
              "      <td>...</td>\n",
              "      <td>...</td>\n",
              "    </tr>\n",
              "    <tr>\n",
              "      <th>71829</th>\n",
              "      <td>1382</td>\n",
              "      <td>2020</td>\n",
              "      <td>레미콘제조업체로 현상유지만 하고있음앞으로 전망은 낙관적이지 않음</td>\n",
              "      <td>장점 공장은 장점 이 없고 서울본사는 근무할만 함빽있는 사람은 다닐만함 단점 빽없는...</td>\n",
              "      <td>0</td>\n",
              "      <td>0</td>\n",
              "      <td>3</td>\n",
              "      <td>5</td>\n",
              "    </tr>\n",
              "    <tr>\n",
              "      <th>71830</th>\n",
              "      <td>1382</td>\n",
              "      <td>2020</td>\n",
              "      <td>개 법인이 같이 운영되고 있음 그중 개는 죽쑤는중 덕원이랑 모헨즈가 이끌어감 덕원은...</td>\n",
              "      <td>장점 중소기업치고 연봉이 높은편 대신 성과금이 없다 본사에입사하면 워라밸 가능함 공...</td>\n",
              "      <td>0</td>\n",
              "      <td>0</td>\n",
              "      <td>1</td>\n",
              "      <td>5</td>\n",
              "    </tr>\n",
              "    <tr>\n",
              "      <th>71831</th>\n",
              "      <td>1382</td>\n",
              "      <td>2021</td>\n",
              "      <td>차산업 특성상 육체노동의 불가피함 진급욕심가득한 몇몇으로 인해 피해보는 직원 속출</td>\n",
              "      <td>장점 직원들 대부분의 성향이 밝은 쪽이 많음 적응하는 기간이 오래걸리지않고 형동생으...</td>\n",
              "      <td>0</td>\n",
              "      <td>1</td>\n",
              "      <td>1</td>\n",
              "      <td>5</td>\n",
              "    </tr>\n",
              "    <tr>\n",
              "      <th>71832</th>\n",
              "      <td>1382</td>\n",
              "      <td>2021</td>\n",
              "      <td>사람을 가볍게 여기는 회사 임원진들만 잘먹고 잘사는 회사</td>\n",
              "      <td>장점 월급이 밀리지 않고 제 때 들어오는것이 이 회사의 유일한 장점  단점 정해놓은...</td>\n",
              "      <td>0</td>\n",
              "      <td>0</td>\n",
              "      <td>1</td>\n",
              "      <td>5</td>\n",
              "    </tr>\n",
              "    <tr>\n",
              "      <th>71833</th>\n",
              "      <td>1382</td>\n",
              "      <td>2021</td>\n",
              "      <td>안정적이고 급여도 괜찮지만 의사결정이 느리고 경직된 조직문화</td>\n",
              "      <td>장점 연차를 눈치 안보고 쓸수 있음 업무가 단조로워 접근성이 쉬움 야근이 없음 사람...</td>\n",
              "      <td>0</td>\n",
              "      <td>0</td>\n",
              "      <td>1</td>\n",
              "      <td>5</td>\n",
              "    </tr>\n",
              "  </tbody>\n",
              "</table>\n",
              "<p>71834 rows × 8 columns</p>\n",
              "</div>\n",
              "      <button class=\"colab-df-convert\" onclick=\"convertToInteractive('df-a52fdc33-29fc-4f4c-8c67-14cfaaad6d9c')\"\n",
              "              title=\"Convert this dataframe to an interactive table.\"\n",
              "              style=\"display:none;\">\n",
              "        \n",
              "  <svg xmlns=\"http://www.w3.org/2000/svg\" height=\"24px\"viewBox=\"0 0 24 24\"\n",
              "       width=\"24px\">\n",
              "    <path d=\"M0 0h24v24H0V0z\" fill=\"none\"/>\n",
              "    <path d=\"M18.56 5.44l.94 2.06.94-2.06 2.06-.94-2.06-.94-.94-2.06-.94 2.06-2.06.94zm-11 1L8.5 8.5l.94-2.06 2.06-.94-2.06-.94L8.5 2.5l-.94 2.06-2.06.94zm10 10l.94 2.06.94-2.06 2.06-.94-2.06-.94-.94-2.06-.94 2.06-2.06.94z\"/><path d=\"M17.41 7.96l-1.37-1.37c-.4-.4-.92-.59-1.43-.59-.52 0-1.04.2-1.43.59L10.3 9.45l-7.72 7.72c-.78.78-.78 2.05 0 2.83L4 21.41c.39.39.9.59 1.41.59.51 0 1.02-.2 1.41-.59l7.78-7.78 2.81-2.81c.8-.78.8-2.07 0-2.86zM5.41 20L4 18.59l7.72-7.72 1.47 1.35L5.41 20z\"/>\n",
              "  </svg>\n",
              "      </button>\n",
              "      \n",
              "  <style>\n",
              "    .colab-df-container {\n",
              "      display:flex;\n",
              "      flex-wrap:wrap;\n",
              "      gap: 12px;\n",
              "    }\n",
              "\n",
              "    .colab-df-convert {\n",
              "      background-color: #E8F0FE;\n",
              "      border: none;\n",
              "      border-radius: 50%;\n",
              "      cursor: pointer;\n",
              "      display: none;\n",
              "      fill: #1967D2;\n",
              "      height: 32px;\n",
              "      padding: 0 0 0 0;\n",
              "      width: 32px;\n",
              "    }\n",
              "\n",
              "    .colab-df-convert:hover {\n",
              "      background-color: #E2EBFA;\n",
              "      box-shadow: 0px 1px 2px rgba(60, 64, 67, 0.3), 0px 1px 3px 1px rgba(60, 64, 67, 0.15);\n",
              "      fill: #174EA6;\n",
              "    }\n",
              "\n",
              "    [theme=dark] .colab-df-convert {\n",
              "      background-color: #3B4455;\n",
              "      fill: #D2E3FC;\n",
              "    }\n",
              "\n",
              "    [theme=dark] .colab-df-convert:hover {\n",
              "      background-color: #434B5C;\n",
              "      box-shadow: 0px 1px 3px 1px rgba(0, 0, 0, 0.15);\n",
              "      filter: drop-shadow(0px 1px 2px rgba(0, 0, 0, 0.3));\n",
              "      fill: #FFFFFF;\n",
              "    }\n",
              "  </style>\n",
              "\n",
              "      <script>\n",
              "        const buttonEl =\n",
              "          document.querySelector('#df-a52fdc33-29fc-4f4c-8c67-14cfaaad6d9c button.colab-df-convert');\n",
              "        buttonEl.style.display =\n",
              "          google.colab.kernel.accessAllowed ? 'block' : 'none';\n",
              "\n",
              "        async function convertToInteractive(key) {\n",
              "          const element = document.querySelector('#df-a52fdc33-29fc-4f4c-8c67-14cfaaad6d9c');\n",
              "          const dataTable =\n",
              "            await google.colab.kernel.invokeFunction('convertToInteractive',\n",
              "                                                     [key], {});\n",
              "          if (!dataTable) return;\n",
              "\n",
              "          const docLinkHtml = 'Like what you see? Visit the ' +\n",
              "            '<a target=\"_blank\" href=https://colab.research.google.com/notebooks/data_table.ipynb>data table notebook</a>'\n",
              "            + ' to learn more about interactive tables.';\n",
              "          element.innerHTML = '';\n",
              "          dataTable['output_type'] = 'display_data';\n",
              "          await google.colab.output.renderOutput(dataTable, element);\n",
              "          const docLink = document.createElement('div');\n",
              "          docLink.innerHTML = docLinkHtml;\n",
              "          element.appendChild(docLink);\n",
              "        }\n",
              "      </script>\n",
              "    </div>\n",
              "  </div>\n",
              "  "
            ]
          },
          "metadata": {},
          "execution_count": 69
        }
      ]
    },
    {
      "cell_type": "code",
      "source": [
        "# batch_size 수정 코드\n",
        "\n",
        "batch_size = 64 #128이상으로 하면 gpu 터질수 있음\n",
        "max_len=128 #학습모델과 맞춰주기\n",
        "\n",
        "\n",
        "test_data['label']=5 #임의지정해도 영향없음, bert 함수에 해당하는 데이터 형식 맞춰주기위함\n",
        "\n",
        "test_data3 = test_data.copy()\n",
        "test_data3 = test_data3.reset_index(drop=True )\n",
        "test_data3['pred'] = ''\n",
        "\n",
        "\n",
        "model.eval() #model=훈련하고 저장한 best_acc_model (acc : 0.8406610378912686)에 대한 평가모드\n",
        "\n",
        "\n",
        "unseen_values = test_data3[['doc', 'label']].values\n",
        "\n",
        "\n",
        "test_set = BERTDataset(unseen_values, 0, 1, tok, max_len, True, False)\n",
        "test_input = torch.utils.data.DataLoader(test_set, batch_size=batch_size, num_workers=5)\n",
        "for batch_id, (token_ids, valid_length, segment_ids, label) in tqdm(enumerate(test_input)):\n",
        "  token_ids = token_ids.long().to(device)\n",
        "  segment_ids = segment_ids.long().to(device)\n",
        "  valid_length= valid_length\n",
        "  out = model(token_ids, valid_length, segment_ids)\n",
        "  for outn in range(len(out)) :\n",
        "    pred = int(out[outn].argmax().cpu().numpy())\n",
        "    idx = batch_size * batch_id + outn\n",
        "    test_data3.iloc[idx, -1] = pred\n",
        "\n",
        "    # 5000개 단위로 예측값 및 진행도 출력\n",
        "    if idx % 5000 == 0 :\n",
        "      print(idx, pred)\n",
        "\n",
        "\n",
        "test_data3.head(20)\n"
      ],
      "metadata": {
        "colab": {
          "base_uri": "https://localhost:8080/",
          "height": 326
        },
        "id": "MIgtvxc2PwHa",
        "outputId": "736ec369-005a-49e8-80e6-babe24ff48cd"
      },
      "execution_count": null,
      "outputs": [
        {
          "output_type": "stream",
          "name": "stderr",
          "text": [
            "1it [00:00,  4.58it/s]"
          ]
        },
        {
          "output_type": "stream",
          "name": "stdout",
          "text": [
            "0 0\n"
          ]
        },
        {
          "output_type": "stream",
          "name": "stderr",
          "text": [
            "79it [00:14,  5.46it/s]"
          ]
        },
        {
          "output_type": "stream",
          "name": "stdout",
          "text": [
            "5000 0\n"
          ]
        },
        {
          "output_type": "stream",
          "name": "stderr",
          "text": [
            "157it [00:28,  5.47it/s]"
          ]
        },
        {
          "output_type": "stream",
          "name": "stdout",
          "text": [
            "10000 1\n"
          ]
        },
        {
          "output_type": "stream",
          "name": "stderr",
          "text": [
            "235it [00:43,  5.46it/s]"
          ]
        },
        {
          "output_type": "stream",
          "name": "stdout",
          "text": [
            "15000 0\n"
          ]
        },
        {
          "output_type": "stream",
          "name": "stderr",
          "text": [
            "313it [00:57,  5.52it/s]"
          ]
        },
        {
          "output_type": "stream",
          "name": "stdout",
          "text": [
            "20000 1\n"
          ]
        },
        {
          "output_type": "stream",
          "name": "stderr",
          "text": [
            "391it [01:11,  5.55it/s]"
          ]
        },
        {
          "output_type": "stream",
          "name": "stdout",
          "text": [
            "25000 0\n"
          ]
        },
        {
          "output_type": "stream",
          "name": "stderr",
          "text": [
            "470it [01:25,  5.58it/s]"
          ]
        },
        {
          "output_type": "stream",
          "name": "stdout",
          "text": [
            "30000 0\n"
          ]
        },
        {
          "output_type": "stream",
          "name": "stderr",
          "text": [
            "548it [01:39,  5.56it/s]"
          ]
        },
        {
          "output_type": "stream",
          "name": "stdout",
          "text": [
            "35000 1\n"
          ]
        },
        {
          "output_type": "stream",
          "name": "stderr",
          "text": [
            "626it [01:53,  5.67it/s]"
          ]
        },
        {
          "output_type": "stream",
          "name": "stdout",
          "text": [
            "40000 0\n"
          ]
        },
        {
          "output_type": "stream",
          "name": "stderr",
          "text": [
            "704it [02:06,  5.70it/s]"
          ]
        },
        {
          "output_type": "stream",
          "name": "stdout",
          "text": [
            "45000 0\n"
          ]
        },
        {
          "output_type": "stream",
          "name": "stderr",
          "text": [
            "782it [02:20,  5.76it/s]"
          ]
        },
        {
          "output_type": "stream",
          "name": "stdout",
          "text": [
            "50000 1\n"
          ]
        },
        {
          "output_type": "stream",
          "name": "stderr",
          "text": [
            "860it [02:33,  5.79it/s]"
          ]
        },
        {
          "output_type": "stream",
          "name": "stdout",
          "text": [
            "55000 1\n"
          ]
        },
        {
          "output_type": "stream",
          "name": "stderr",
          "text": [
            "938it [02:47,  5.79it/s]"
          ]
        },
        {
          "output_type": "stream",
          "name": "stdout",
          "text": [
            "60000 1\n"
          ]
        },
        {
          "output_type": "stream",
          "name": "stderr",
          "text": [
            "1017it [03:00,  5.85it/s]"
          ]
        },
        {
          "output_type": "stream",
          "name": "stdout",
          "text": [
            "65000 1\n"
          ]
        },
        {
          "output_type": "stream",
          "name": "stderr",
          "text": [
            "1095it [03:14,  5.90it/s]"
          ]
        },
        {
          "output_type": "stream",
          "name": "stdout",
          "text": [
            "70000 0\n"
          ]
        },
        {
          "output_type": "stream",
          "name": "stderr",
          "text": [
            "1123it [03:18,  5.65it/s]\n"
          ]
        },
        {
          "output_type": "execute_result",
          "data": {
            "text/plain": [
              "'\\n인덱스 5000개 단위로 예측값이 나오며 진행도를 보여줍니다.\\n모델 예측값은 pred 컬럼으로 나옵니다.\\n'"
            ],
            "application/vnd.google.colaboratory.intrinsic+json": {
              "type": "string"
            }
          },
          "metadata": {},
          "execution_count": 70
        }
      ]
    },
    {
      "cell_type": "code",
      "source": [
        "test_data3"
      ],
      "metadata": {
        "colab": {
          "base_uri": "https://localhost:8080/",
          "height": 815
        },
        "id": "de2G0PhwTuV5",
        "outputId": "025b8361-5ae9-407c-c1d9-5baf61832aac"
      },
      "execution_count": null,
      "outputs": [
        {
          "output_type": "execute_result",
          "data": {
            "text/plain": [
              "         id  year                                                doc  \\\n",
              "0         1  2020  원수가 다니겠다고 하면 도시락 싸 들고 환영할 회사 중소기업의 흔한 사건사고 단점 ...   \n",
              "1         1  2020                             앞으로도 더 성장 할 가능성이 높은 회사   \n",
              "2         1  2020              블리츠웨이 300 꿈의 장난감 볼트론 피규어로 매출 100억원 기대   \n",
              "3         1  2020        배용준도 투자한 블리츠웨이 코스닥 예비심사 통과 정밀 피규어 최초 상장 기대    \n",
              "4         1  2020                대신밸런스제9호스팩 블리츠웨이와 합병 승인 12월 코스닥 상장    \n",
              "...     ...   ...                                                ...   \n",
              "71829  1382  2020                레미콘제조업체로 현상유지만 하고있음앞으로 전망은 낙관적이지 않음   \n",
              "71830  1382  2020  개 법인이 같이 운영되고 있음 그중 개는 죽쑤는중 덕원이랑 모헨즈가 이끌어감 덕원은...   \n",
              "71831  1382  2021      차산업 특성상 육체노동의 불가피함 진급욕심가득한 몇몇으로 인해 피해보는 직원 속출   \n",
              "71832  1382  2021                    사람을 가볍게 여기는 회사 임원진들만 잘먹고 잘사는 회사   \n",
              "71833  1382  2021                  안정적이고 급여도 괜찮지만 의사결정이 느리고 경직된 조직문화   \n",
              "\n",
              "                                                 content  ecnt  scnt  gcnt  \\\n",
              "0      장점  꼰대 문화가 별로 없고 변화와 발전 추구함 투자를 많이 받고 있기 때문에 사...     0     2     3   \n",
              "1      장점 직원들에게 많은 기회를 준다 한가지만 보지 않고 다양한 분야에서 어떻게 인재가...     0     0     2   \n",
              "2      피규어 전문제작사 블리츠웨이가 출시 예정인 볼트론이 사전예약 첫 날 자체 예약 최고...     0     0     0   \n",
              "3      피규어 개발 및 제작 전문 기업 블리츠웨이가 코스닥 상장을 위한 예비 심사를 통과했...     0     0     0   \n",
              "4       대신밸런스제9호스팩은 피규어 개발 제작 전문 기업 블리츠웨이 와 합병상장을 위한 ...     0     0     0   \n",
              "...                                                  ...   ...   ...   ...   \n",
              "71829  장점 공장은 장점 이 없고 서울본사는 근무할만 함빽있는 사람은 다닐만함 단점 빽없는...     0     0     3   \n",
              "71830  장점 중소기업치고 연봉이 높은편 대신 성과금이 없다 본사에입사하면 워라밸 가능함 공...     0     0     1   \n",
              "71831  장점 직원들 대부분의 성향이 밝은 쪽이 많음 적응하는 기간이 오래걸리지않고 형동생으...     0     1     1   \n",
              "71832  장점 월급이 밀리지 않고 제 때 들어오는것이 이 회사의 유일한 장점  단점 정해놓은...     0     0     1   \n",
              "71833  장점 연차를 눈치 안보고 쓸수 있음 업무가 단조로워 접근성이 쉬움 야근이 없음 사람...     0     0     1   \n",
              "\n",
              "       label pred  \n",
              "0          5    0  \n",
              "1          5    1  \n",
              "2          5    1  \n",
              "3          5    1  \n",
              "4          5    1  \n",
              "...      ...  ...  \n",
              "71829      5    0  \n",
              "71830      5    1  \n",
              "71831      5    0  \n",
              "71832      5    0  \n",
              "71833      5    1  \n",
              "\n",
              "[71834 rows x 9 columns]"
            ],
            "text/html": [
              "\n",
              "  <div id=\"df-546ae333-2867-41fe-90bf-f77de177b58b\">\n",
              "    <div class=\"colab-df-container\">\n",
              "      <div>\n",
              "<style scoped>\n",
              "    .dataframe tbody tr th:only-of-type {\n",
              "        vertical-align: middle;\n",
              "    }\n",
              "\n",
              "    .dataframe tbody tr th {\n",
              "        vertical-align: top;\n",
              "    }\n",
              "\n",
              "    .dataframe thead th {\n",
              "        text-align: right;\n",
              "    }\n",
              "</style>\n",
              "<table border=\"1\" class=\"dataframe\">\n",
              "  <thead>\n",
              "    <tr style=\"text-align: right;\">\n",
              "      <th></th>\n",
              "      <th>id</th>\n",
              "      <th>year</th>\n",
              "      <th>doc</th>\n",
              "      <th>content</th>\n",
              "      <th>ecnt</th>\n",
              "      <th>scnt</th>\n",
              "      <th>gcnt</th>\n",
              "      <th>label</th>\n",
              "      <th>pred</th>\n",
              "    </tr>\n",
              "  </thead>\n",
              "  <tbody>\n",
              "    <tr>\n",
              "      <th>0</th>\n",
              "      <td>1</td>\n",
              "      <td>2020</td>\n",
              "      <td>원수가 다니겠다고 하면 도시락 싸 들고 환영할 회사 중소기업의 흔한 사건사고 단점 ...</td>\n",
              "      <td>장점  꼰대 문화가 별로 없고 변화와 발전 추구함 투자를 많이 받고 있기 때문에 사...</td>\n",
              "      <td>0</td>\n",
              "      <td>2</td>\n",
              "      <td>3</td>\n",
              "      <td>5</td>\n",
              "      <td>0</td>\n",
              "    </tr>\n",
              "    <tr>\n",
              "      <th>1</th>\n",
              "      <td>1</td>\n",
              "      <td>2020</td>\n",
              "      <td>앞으로도 더 성장 할 가능성이 높은 회사</td>\n",
              "      <td>장점 직원들에게 많은 기회를 준다 한가지만 보지 않고 다양한 분야에서 어떻게 인재가...</td>\n",
              "      <td>0</td>\n",
              "      <td>0</td>\n",
              "      <td>2</td>\n",
              "      <td>5</td>\n",
              "      <td>1</td>\n",
              "    </tr>\n",
              "    <tr>\n",
              "      <th>2</th>\n",
              "      <td>1</td>\n",
              "      <td>2020</td>\n",
              "      <td>블리츠웨이 300 꿈의 장난감 볼트론 피규어로 매출 100억원 기대</td>\n",
              "      <td>피규어 전문제작사 블리츠웨이가 출시 예정인 볼트론이 사전예약 첫 날 자체 예약 최고...</td>\n",
              "      <td>0</td>\n",
              "      <td>0</td>\n",
              "      <td>0</td>\n",
              "      <td>5</td>\n",
              "      <td>1</td>\n",
              "    </tr>\n",
              "    <tr>\n",
              "      <th>3</th>\n",
              "      <td>1</td>\n",
              "      <td>2020</td>\n",
              "      <td>배용준도 투자한 블리츠웨이 코스닥 예비심사 통과 정밀 피규어 최초 상장 기대</td>\n",
              "      <td>피규어 개발 및 제작 전문 기업 블리츠웨이가 코스닥 상장을 위한 예비 심사를 통과했...</td>\n",
              "      <td>0</td>\n",
              "      <td>0</td>\n",
              "      <td>0</td>\n",
              "      <td>5</td>\n",
              "      <td>1</td>\n",
              "    </tr>\n",
              "    <tr>\n",
              "      <th>4</th>\n",
              "      <td>1</td>\n",
              "      <td>2020</td>\n",
              "      <td>대신밸런스제9호스팩 블리츠웨이와 합병 승인 12월 코스닥 상장</td>\n",
              "      <td>대신밸런스제9호스팩은 피규어 개발 제작 전문 기업 블리츠웨이 와 합병상장을 위한 ...</td>\n",
              "      <td>0</td>\n",
              "      <td>0</td>\n",
              "      <td>0</td>\n",
              "      <td>5</td>\n",
              "      <td>1</td>\n",
              "    </tr>\n",
              "    <tr>\n",
              "      <th>...</th>\n",
              "      <td>...</td>\n",
              "      <td>...</td>\n",
              "      <td>...</td>\n",
              "      <td>...</td>\n",
              "      <td>...</td>\n",
              "      <td>...</td>\n",
              "      <td>...</td>\n",
              "      <td>...</td>\n",
              "      <td>...</td>\n",
              "    </tr>\n",
              "    <tr>\n",
              "      <th>71829</th>\n",
              "      <td>1382</td>\n",
              "      <td>2020</td>\n",
              "      <td>레미콘제조업체로 현상유지만 하고있음앞으로 전망은 낙관적이지 않음</td>\n",
              "      <td>장점 공장은 장점 이 없고 서울본사는 근무할만 함빽있는 사람은 다닐만함 단점 빽없는...</td>\n",
              "      <td>0</td>\n",
              "      <td>0</td>\n",
              "      <td>3</td>\n",
              "      <td>5</td>\n",
              "      <td>0</td>\n",
              "    </tr>\n",
              "    <tr>\n",
              "      <th>71830</th>\n",
              "      <td>1382</td>\n",
              "      <td>2020</td>\n",
              "      <td>개 법인이 같이 운영되고 있음 그중 개는 죽쑤는중 덕원이랑 모헨즈가 이끌어감 덕원은...</td>\n",
              "      <td>장점 중소기업치고 연봉이 높은편 대신 성과금이 없다 본사에입사하면 워라밸 가능함 공...</td>\n",
              "      <td>0</td>\n",
              "      <td>0</td>\n",
              "      <td>1</td>\n",
              "      <td>5</td>\n",
              "      <td>1</td>\n",
              "    </tr>\n",
              "    <tr>\n",
              "      <th>71831</th>\n",
              "      <td>1382</td>\n",
              "      <td>2021</td>\n",
              "      <td>차산업 특성상 육체노동의 불가피함 진급욕심가득한 몇몇으로 인해 피해보는 직원 속출</td>\n",
              "      <td>장점 직원들 대부분의 성향이 밝은 쪽이 많음 적응하는 기간이 오래걸리지않고 형동생으...</td>\n",
              "      <td>0</td>\n",
              "      <td>1</td>\n",
              "      <td>1</td>\n",
              "      <td>5</td>\n",
              "      <td>0</td>\n",
              "    </tr>\n",
              "    <tr>\n",
              "      <th>71832</th>\n",
              "      <td>1382</td>\n",
              "      <td>2021</td>\n",
              "      <td>사람을 가볍게 여기는 회사 임원진들만 잘먹고 잘사는 회사</td>\n",
              "      <td>장점 월급이 밀리지 않고 제 때 들어오는것이 이 회사의 유일한 장점  단점 정해놓은...</td>\n",
              "      <td>0</td>\n",
              "      <td>0</td>\n",
              "      <td>1</td>\n",
              "      <td>5</td>\n",
              "      <td>0</td>\n",
              "    </tr>\n",
              "    <tr>\n",
              "      <th>71833</th>\n",
              "      <td>1382</td>\n",
              "      <td>2021</td>\n",
              "      <td>안정적이고 급여도 괜찮지만 의사결정이 느리고 경직된 조직문화</td>\n",
              "      <td>장점 연차를 눈치 안보고 쓸수 있음 업무가 단조로워 접근성이 쉬움 야근이 없음 사람...</td>\n",
              "      <td>0</td>\n",
              "      <td>0</td>\n",
              "      <td>1</td>\n",
              "      <td>5</td>\n",
              "      <td>1</td>\n",
              "    </tr>\n",
              "  </tbody>\n",
              "</table>\n",
              "<p>71834 rows × 9 columns</p>\n",
              "</div>\n",
              "      <button class=\"colab-df-convert\" onclick=\"convertToInteractive('df-546ae333-2867-41fe-90bf-f77de177b58b')\"\n",
              "              title=\"Convert this dataframe to an interactive table.\"\n",
              "              style=\"display:none;\">\n",
              "        \n",
              "  <svg xmlns=\"http://www.w3.org/2000/svg\" height=\"24px\"viewBox=\"0 0 24 24\"\n",
              "       width=\"24px\">\n",
              "    <path d=\"M0 0h24v24H0V0z\" fill=\"none\"/>\n",
              "    <path d=\"M18.56 5.44l.94 2.06.94-2.06 2.06-.94-2.06-.94-.94-2.06-.94 2.06-2.06.94zm-11 1L8.5 8.5l.94-2.06 2.06-.94-2.06-.94L8.5 2.5l-.94 2.06-2.06.94zm10 10l.94 2.06.94-2.06 2.06-.94-2.06-.94-.94-2.06-.94 2.06-2.06.94z\"/><path d=\"M17.41 7.96l-1.37-1.37c-.4-.4-.92-.59-1.43-.59-.52 0-1.04.2-1.43.59L10.3 9.45l-7.72 7.72c-.78.78-.78 2.05 0 2.83L4 21.41c.39.39.9.59 1.41.59.51 0 1.02-.2 1.41-.59l7.78-7.78 2.81-2.81c.8-.78.8-2.07 0-2.86zM5.41 20L4 18.59l7.72-7.72 1.47 1.35L5.41 20z\"/>\n",
              "  </svg>\n",
              "      </button>\n",
              "      \n",
              "  <style>\n",
              "    .colab-df-container {\n",
              "      display:flex;\n",
              "      flex-wrap:wrap;\n",
              "      gap: 12px;\n",
              "    }\n",
              "\n",
              "    .colab-df-convert {\n",
              "      background-color: #E8F0FE;\n",
              "      border: none;\n",
              "      border-radius: 50%;\n",
              "      cursor: pointer;\n",
              "      display: none;\n",
              "      fill: #1967D2;\n",
              "      height: 32px;\n",
              "      padding: 0 0 0 0;\n",
              "      width: 32px;\n",
              "    }\n",
              "\n",
              "    .colab-df-convert:hover {\n",
              "      background-color: #E2EBFA;\n",
              "      box-shadow: 0px 1px 2px rgba(60, 64, 67, 0.3), 0px 1px 3px 1px rgba(60, 64, 67, 0.15);\n",
              "      fill: #174EA6;\n",
              "    }\n",
              "\n",
              "    [theme=dark] .colab-df-convert {\n",
              "      background-color: #3B4455;\n",
              "      fill: #D2E3FC;\n",
              "    }\n",
              "\n",
              "    [theme=dark] .colab-df-convert:hover {\n",
              "      background-color: #434B5C;\n",
              "      box-shadow: 0px 1px 3px 1px rgba(0, 0, 0, 0.15);\n",
              "      filter: drop-shadow(0px 1px 2px rgba(0, 0, 0, 0.3));\n",
              "      fill: #FFFFFF;\n",
              "    }\n",
              "  </style>\n",
              "\n",
              "      <script>\n",
              "        const buttonEl =\n",
              "          document.querySelector('#df-546ae333-2867-41fe-90bf-f77de177b58b button.colab-df-convert');\n",
              "        buttonEl.style.display =\n",
              "          google.colab.kernel.accessAllowed ? 'block' : 'none';\n",
              "\n",
              "        async function convertToInteractive(key) {\n",
              "          const element = document.querySelector('#df-546ae333-2867-41fe-90bf-f77de177b58b');\n",
              "          const dataTable =\n",
              "            await google.colab.kernel.invokeFunction('convertToInteractive',\n",
              "                                                     [key], {});\n",
              "          if (!dataTable) return;\n",
              "\n",
              "          const docLinkHtml = 'Like what you see? Visit the ' +\n",
              "            '<a target=\"_blank\" href=https://colab.research.google.com/notebooks/data_table.ipynb>data table notebook</a>'\n",
              "            + ' to learn more about interactive tables.';\n",
              "          element.innerHTML = '';\n",
              "          dataTable['output_type'] = 'display_data';\n",
              "          await google.colab.output.renderOutput(dataTable, element);\n",
              "          const docLink = document.createElement('div');\n",
              "          docLink.innerHTML = docLinkHtml;\n",
              "          element.appendChild(docLink);\n",
              "        }\n",
              "      </script>\n",
              "    </div>\n",
              "  </div>\n",
              "  "
            ]
          },
          "metadata": {},
          "execution_count": 71
        }
      ]
    },
    {
      "cell_type": "code",
      "source": [
        "test_data3['pred'].value_counts(normalize=True)"
      ],
      "metadata": {
        "colab": {
          "base_uri": "https://localhost:8080/"
        },
        "id": "8VKHyQM-Ty4v",
        "outputId": "d54c828d-94ef-42f6-a76f-fd074fce01d7"
      },
      "execution_count": null,
      "outputs": [
        {
          "output_type": "execute_result",
          "data": {
            "text/plain": [
              "1    0.555308\n",
              "0    0.444692\n",
              "Name: pred, dtype: float64"
            ]
          },
          "metadata": {},
          "execution_count": 72
        }
      ]
    },
    {
      "cell_type": "code",
      "source": [
        "test_data3.to_excel('/content/drive/MyDrive/modeling_yy/kobert_predict_ver2.xlsx')"
      ],
      "metadata": {
        "id": "eGM49Qg6T4zk"
      },
      "execution_count": null,
      "outputs": []
    },
    {
      "cell_type": "markdown",
      "source": [
        "## 14. 성능 평가 : F1 Score\n",
        "F1 SCORE는 precision과 recall을 가중평균하여 계산.\n",
        "- recall : (모델이 TRUE라고 판정한 것의 숫자)/(전체 TRUE의 숫자)\n",
        "- precision : (진짜 TRUE) / (모델이 TRUE라고 판정한 것의 숫자)"
      ],
      "metadata": {
        "id": "MBaa_XrKNOMI"
      }
    },
    {
      "cell_type": "code",
      "source": [
        "# 훈련 모델의 예측 성능을 F1 SCORE로 체크하기 위한 작업\n",
        "\n",
        "def predict_convert_data(data_df):\n",
        "    global tokenizer\n",
        "    tokens, masks, segments = [], [], []\n",
        "    \n",
        "    for i in tqdm(range(len(data_df))):\n",
        "\n",
        "        token = tokenizer.encode(data_df[DATA_COLUMN][i], max_length=SEQ_LEN, truncation=True, padding='max_length')\n",
        "        num_zeros = token.count(0)\n",
        "        mask = [1]*(SEQ_LEN-num_zeros) + [0]*num_zeros\n",
        "        segment = [0]*SEQ_LEN\n",
        "\n",
        "        tokens.append(token)\n",
        "        segments.append(segment)\n",
        "        masks.append(mask)\n",
        "\n",
        "    tokens = np.array(tokens)\n",
        "    masks = np.array(masks)\n",
        "    segments = np.array(segments)\n",
        "    return [tokens, masks, segments]\n",
        "\n",
        "# 위에 정의한 convert_data 함수를 불러오는 함수를 정의\n",
        "def predict_load_data(pandas_dataframe):\n",
        "    data_df = pandas_dataframe\n",
        "    data_df[DATA_COLUMN] = data_df[DATA_COLUMN].astype(str)\n",
        "    data_x = predict_convert_data(data_df)\n",
        "    return data_x"
      ],
      "metadata": {
        "id": "K_Yp-BioUq79"
      },
      "execution_count": null,
      "outputs": []
    },
    {
      "cell_type": "code",
      "source": [
        "from sklearn.metrics import classification_report\n",
        "\n",
        "y_true = test['label']\n",
        "# F1 Score 확인\n",
        "print(classification_report(y_true, np.round(preds,0)))"
      ],
      "metadata": {
        "id": "0TpBcp5qOqvj"
      },
      "execution_count": null,
      "outputs": []
    }
  ]
}