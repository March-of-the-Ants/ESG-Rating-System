{
 "cells": [
  {
   "cell_type": "markdown",
   "id": "798e297c",
   "metadata": {},
   "source": [
    "## 1. 라이브러리 및 데이터 불러오기"
   ]
  },
  {
   "cell_type": "code",
   "execution_count": 2,
   "id": "70038a0a",
   "metadata": {},
   "outputs": [],
   "source": [
    "import pandas as pd\n",
    "from tqdm.notebook import tqdm\n",
    "import warnings\n",
    "warnings.filterwarnings('ignore')"
   ]
  },
  {
   "cell_type": "code",
   "execution_count": 97,
   "id": "2f39aa9e",
   "metadata": {},
   "outputs": [],
   "source": [
    "jobplanet = pd.read_excel('C:/Users/hanah/Desktop/workspace/Project/ESG/crawling/jobplanet/jobplanet_review.xlsx')"
   ]
  },
  {
   "cell_type": "markdown",
   "id": "cf72e3fb",
   "metadata": {},
   "source": [
    "## 2. 작성일자 기준으로 해당년도 구분"
   ]
  },
  {
   "cell_type": "code",
   "execution_count": 98,
   "id": "9137c42f",
   "metadata": {},
   "outputs": [],
   "source": [
    "jobplanet['no'] = 0\n",
    "cmp_dict = {}\n",
    "for i in range(len(jobplanet)):\n",
    "    cmp_dict[jobplanet.회사명[i]] = cmp_dict.get(jobplanet.회사명[i], 0) + 1 \n",
    "    jobplanet.loc[i, 'no'] = cmp_dict[jobplanet.회사명[i]]\n",
    "\n",
    "jobplanet.set_index(['회사명', 'no'], inplace=True)"
   ]
  },
  {
   "cell_type": "code",
   "execution_count": 99,
   "id": "9c16df49",
   "metadata": {},
   "outputs": [
    {
     "data": {
      "text/plain": [
       "MultiIndex([('블리츠웨이', 1),\n",
       "            ('블리츠웨이', 2),\n",
       "            ('블리츠웨이', 3),\n",
       "            ('블리츠웨이', 4),\n",
       "            ('석경에이티', 1),\n",
       "            ('석경에이티', 2),\n",
       "            ('석경에이티', 3),\n",
       "            ('석경에이티', 4),\n",
       "            ('석경에이티', 5),\n",
       "            ('석경에이티', 6),\n",
       "            ...\n",
       "            ('엠벤처투자', 3),\n",
       "            ('엠벤처투자', 4),\n",
       "            ('엠벤처투자', 5),\n",
       "            (  '모헨즈', 1),\n",
       "            (  '모헨즈', 2),\n",
       "            (  '모헨즈', 3),\n",
       "            (  '모헨즈', 4),\n",
       "            (  '모헨즈', 5),\n",
       "            (  '모헨즈', 6),\n",
       "            (  '모헨즈', 7)],\n",
       "           names=['회사명', 'no'], length=58793)"
      ]
     },
     "execution_count": 99,
     "metadata": {},
     "output_type": "execute_result"
    }
   ],
   "source": [
    "jobplanet.index"
   ]
  },
  {
   "cell_type": "code",
   "execution_count": 100,
   "id": "a776262e",
   "metadata": {},
   "outputs": [
    {
     "name": "stderr",
     "output_type": "stream",
     "text": [
      "C:\\Users\\hanah\\AppData\\Local\\Temp\\ipykernel_12056\\1182551494.py:4: SettingWithCopyWarning: \n",
      "A value is trying to be set on a copy of a slice from a DataFrame\n",
      "\n",
      "See the caveats in the documentation: https://pandas.pydata.org/pandas-docs/stable/user_guide/indexing.html#returning-a-view-versus-a-copy\n",
      "  jobplanet['작성년도'][i] = 2022\n"
     ]
    }
   ],
   "source": [
    "jobplanet['작성년도'] = 0\n",
    "for i in range(len(jobplanet)):\n",
    "    if jobplanet.index[i][1] <= cmp_dict[(jobplanet.index[i][0])]//2:\n",
    "        jobplanet['작성년도'][i] = 2022"
   ]
  },
  {
   "cell_type": "code",
   "execution_count": 111,
   "id": "b56a2244",
   "metadata": {},
   "outputs": [
    {
     "data": {
      "text/plain": [
       "2020    29608\n",
       "2021    29185\n",
       "Name: 작성년도, dtype: int64"
      ]
     },
     "execution_count": 111,
     "metadata": {},
     "output_type": "execute_result"
    }
   ],
   "source": [
    "jobplanet['작성년도'].value_counts()"
   ]
  },
  {
   "cell_type": "code",
   "execution_count": 114,
   "id": "de1274c3",
   "metadata": {},
   "outputs": [],
   "source": [
    "jobplanet.reset_index(inplace=True)\n",
    "jobplanet.drop(['no', '작성일'], axis=1, inplace=True)"
   ]
  },
  {
   "cell_type": "markdown",
   "id": "9cec485c",
   "metadata": {},
   "source": [
    "## 3. 리뷰별 평균평점 구하기"
   ]
  },
  {
   "cell_type": "code",
   "execution_count": 4,
   "id": "510af57f",
   "metadata": {},
   "outputs": [],
   "source": [
    "temp = jobplanet.iloc[:, :6]\n",
    "temp.replace('%','', regex=True, inplace=True)\n",
    "temp.iloc[:, 1:6] = temp.iloc[:, 1:6].astype(int)"
   ]
  },
  {
   "cell_type": "code",
   "execution_count": 5,
   "id": "49463b41",
   "metadata": {},
   "outputs": [
    {
     "data": {
      "text/html": [
       "<div>\n",
       "<style scoped>\n",
       "    .dataframe tbody tr th:only-of-type {\n",
       "        vertical-align: middle;\n",
       "    }\n",
       "\n",
       "    .dataframe tbody tr th {\n",
       "        vertical-align: top;\n",
       "    }\n",
       "\n",
       "    .dataframe thead th {\n",
       "        text-align: right;\n",
       "    }\n",
       "</style>\n",
       "<table border=\"1\" class=\"dataframe\">\n",
       "  <thead>\n",
       "    <tr style=\"text-align: right;\">\n",
       "      <th></th>\n",
       "      <th>회사명</th>\n",
       "      <th>승진 기회 및 가능성</th>\n",
       "      <th>복지 및 급여</th>\n",
       "      <th>업무와 삶의 균형</th>\n",
       "      <th>사내문화</th>\n",
       "      <th>경영진</th>\n",
       "      <th>총평</th>\n",
       "      <th>리뷰</th>\n",
       "      <th>작성년도</th>\n",
       "      <th>평균평점</th>\n",
       "    </tr>\n",
       "  </thead>\n",
       "  <tbody>\n",
       "    <tr>\n",
       "      <th>0</th>\n",
       "      <td>블리츠웨이</td>\n",
       "      <td>40</td>\n",
       "      <td>80</td>\n",
       "      <td>40</td>\n",
       "      <td>40</td>\n",
       "      <td>60</td>\n",
       "      <td>\"능력있는 사람에게는 기회나 보상이 주어지는 회사\"</td>\n",
       "      <td>장점다양한 경험 가능, 실무의 A부터  Z까지 배울수 있음, 서울에 회사 사옥이 있...</td>\n",
       "      <td>2021</td>\n",
       "      <td>52.0</td>\n",
       "    </tr>\n",
       "    <tr>\n",
       "      <th>1</th>\n",
       "      <td>블리츠웨이</td>\n",
       "      <td>20</td>\n",
       "      <td>20</td>\n",
       "      <td>20</td>\n",
       "      <td>80</td>\n",
       "      <td>20</td>\n",
       "      <td>\"성장하는 회사 그만큼 직원들을 굴리며 갈아버리는 회사.\"</td>\n",
       "      <td>장점팀 분위기가 좋다, 쾌적한 시설과 환경, 편리한 교통과 좋은 위치.단점워라밸 포...</td>\n",
       "      <td>2021</td>\n",
       "      <td>32.0</td>\n",
       "    </tr>\n",
       "    <tr>\n",
       "      <th>2</th>\n",
       "      <td>블리츠웨이</td>\n",
       "      <td>20</td>\n",
       "      <td>20</td>\n",
       "      <td>20</td>\n",
       "      <td>40</td>\n",
       "      <td>20</td>\n",
       "      <td>\"원수가 다니겠다고 하면 도시락 싸 들고 환영할 회사._x000D_중소기업의 흔한 ...</td>\n",
       "      <td>장점* 꼰대 문화가 별로 없고 변화와 발전 추구함. 투자를 많이 받고 있기 때문에 ...</td>\n",
       "      <td>2020</td>\n",
       "      <td>24.0</td>\n",
       "    </tr>\n",
       "    <tr>\n",
       "      <th>3</th>\n",
       "      <td>블리츠웨이</td>\n",
       "      <td>60</td>\n",
       "      <td>60</td>\n",
       "      <td>40</td>\n",
       "      <td>100</td>\n",
       "      <td>100</td>\n",
       "      <td>\"앞으로도 더 성장 할 가능성이 높은 회사\"</td>\n",
       "      <td>장점직원들에게 많은 기회를 준다. 한가지만 보지 않고 다양한 분야에서 어떻게 인재가...</td>\n",
       "      <td>2020</td>\n",
       "      <td>72.0</td>\n",
       "    </tr>\n",
       "    <tr>\n",
       "      <th>4</th>\n",
       "      <td>석경에이티</td>\n",
       "      <td>20</td>\n",
       "      <td>20</td>\n",
       "      <td>40</td>\n",
       "      <td>20</td>\n",
       "      <td>20</td>\n",
       "      <td>\"업무에 있어서 배울점은 많은곳 하지만 배운게 많아도 대우는 못받는곳\"</td>\n",
       "      <td>장점5일만 출근한다는개 장점 그외에는 어느 회사를 가든 다 있을 법한 텃새 혹은 꼰...</td>\n",
       "      <td>2021</td>\n",
       "      <td>24.0</td>\n",
       "    </tr>\n",
       "    <tr>\n",
       "      <th>...</th>\n",
       "      <td>...</td>\n",
       "      <td>...</td>\n",
       "      <td>...</td>\n",
       "      <td>...</td>\n",
       "      <td>...</td>\n",
       "      <td>...</td>\n",
       "      <td>...</td>\n",
       "      <td>...</td>\n",
       "      <td>...</td>\n",
       "      <td>...</td>\n",
       "    </tr>\n",
       "    <tr>\n",
       "      <th>58588</th>\n",
       "      <td>모헨즈</td>\n",
       "      <td>60</td>\n",
       "      <td>40</td>\n",
       "      <td>80</td>\n",
       "      <td>40</td>\n",
       "      <td>40</td>\n",
       "      <td>\"안정적이고 급여도 괜찮지만 의사결정이 느리고 경직된 조직문화\"</td>\n",
       "      <td>장점연차를 눈치 안보고 쓸수 있음. 업무가 단조로워 접근성이 쉬움. 야근이 없음. ...</td>\n",
       "      <td>2021</td>\n",
       "      <td>52.0</td>\n",
       "    </tr>\n",
       "    <tr>\n",
       "      <th>58589</th>\n",
       "      <td>모헨즈</td>\n",
       "      <td>100</td>\n",
       "      <td>80</td>\n",
       "      <td>40</td>\n",
       "      <td>40</td>\n",
       "      <td>80</td>\n",
       "      <td>\"넉넉한 급여와 충분한 복지를 누릴 수 있는곳, 다만 사내정치만 조금 조심하시길\"</td>\n",
       "      <td>장점남자로서 정말 열심히 일하면 적당한 보상이 따라오는곳, 레미콘회사치고 높은급여 ...</td>\n",
       "      <td>2020</td>\n",
       "      <td>68.0</td>\n",
       "    </tr>\n",
       "    <tr>\n",
       "      <th>58590</th>\n",
       "      <td>모헨즈</td>\n",
       "      <td>40</td>\n",
       "      <td>80</td>\n",
       "      <td>80</td>\n",
       "      <td>20</td>\n",
       "      <td>20</td>\n",
       "      <td>\"오래된 사고방식에서 벗어나지 못하는 보수주의 회사의 결정체\"</td>\n",
       "      <td>장점업무량대비 꽤 높은 임금 &amp; 꾸준한 임금 인상(재직당시 기준)단점비합리적인 인사...</td>\n",
       "      <td>2020</td>\n",
       "      <td>48.0</td>\n",
       "    </tr>\n",
       "    <tr>\n",
       "      <th>58591</th>\n",
       "      <td>모헨즈</td>\n",
       "      <td>40</td>\n",
       "      <td>40</td>\n",
       "      <td>20</td>\n",
       "      <td>20</td>\n",
       "      <td>20</td>\n",
       "      <td>\"레미콘제조업체로 현상유지만 하고있음.앞으로 전망은 낙관적이지 않음.\"</td>\n",
       "      <td>장점공장은 장점이 없고 서울본사는 근무할만 함.빽있는 사람은 다닐만함.단점빽없는 사...</td>\n",
       "      <td>2020</td>\n",
       "      <td>28.0</td>\n",
       "    </tr>\n",
       "    <tr>\n",
       "      <th>58592</th>\n",
       "      <td>모헨즈</td>\n",
       "      <td>80</td>\n",
       "      <td>60</td>\n",
       "      <td>60</td>\n",
       "      <td>40</td>\n",
       "      <td>20</td>\n",
       "      <td>\"5개 법인이 같이 운영되고 있음. 그중 3개는 죽쑤는중 덕원이랑 모헨즈가 이끌어감...</td>\n",
       "      <td>장점중소기업치고 연봉이 높은편 대신 성과금이 없다. 본사에입사하면 워라밸 가능함 공...</td>\n",
       "      <td>2020</td>\n",
       "      <td>52.0</td>\n",
       "    </tr>\n",
       "  </tbody>\n",
       "</table>\n",
       "<p>58593 rows × 10 columns</p>\n",
       "</div>"
      ],
      "text/plain": [
       "         회사명  승진 기회 및 가능성  복지 및 급여  업무와 삶의 균형  사내문화  경영진  \\\n",
       "0      블리츠웨이           40       80         40    40   60   \n",
       "1      블리츠웨이           20       20         20    80   20   \n",
       "2      블리츠웨이           20       20         20    40   20   \n",
       "3      블리츠웨이           60       60         40   100  100   \n",
       "4      석경에이티           20       20         40    20   20   \n",
       "...      ...          ...      ...        ...   ...  ...   \n",
       "58588    모헨즈           60       40         80    40   40   \n",
       "58589    모헨즈          100       80         40    40   80   \n",
       "58590    모헨즈           40       80         80    20   20   \n",
       "58591    모헨즈           40       40         20    20   20   \n",
       "58592    모헨즈           80       60         60    40   20   \n",
       "\n",
       "                                                      총평  \\\n",
       "0                           \"능력있는 사람에게는 기회나 보상이 주어지는 회사\"   \n",
       "1                       \"성장하는 회사 그만큼 직원들을 굴리며 갈아버리는 회사.\"   \n",
       "2      \"원수가 다니겠다고 하면 도시락 싸 들고 환영할 회사._x000D_중소기업의 흔한 ...   \n",
       "3                               \"앞으로도 더 성장 할 가능성이 높은 회사\"   \n",
       "4                \"업무에 있어서 배울점은 많은곳 하지만 배운게 많아도 대우는 못받는곳\"   \n",
       "...                                                  ...   \n",
       "58588                \"안정적이고 급여도 괜찮지만 의사결정이 느리고 경직된 조직문화\"   \n",
       "58589      \"넉넉한 급여와 충분한 복지를 누릴 수 있는곳, 다만 사내정치만 조금 조심하시길\"   \n",
       "58590                 \"오래된 사고방식에서 벗어나지 못하는 보수주의 회사의 결정체\"   \n",
       "58591            \"레미콘제조업체로 현상유지만 하고있음.앞으로 전망은 낙관적이지 않음.\"   \n",
       "58592  \"5개 법인이 같이 운영되고 있음. 그중 3개는 죽쑤는중 덕원이랑 모헨즈가 이끌어감...   \n",
       "\n",
       "                                                      리뷰  작성년도  평균평점  \n",
       "0      장점다양한 경험 가능, 실무의 A부터  Z까지 배울수 있음, 서울에 회사 사옥이 있...  2021  52.0  \n",
       "1      장점팀 분위기가 좋다, 쾌적한 시설과 환경, 편리한 교통과 좋은 위치.단점워라밸 포...  2021  32.0  \n",
       "2      장점* 꼰대 문화가 별로 없고 변화와 발전 추구함. 투자를 많이 받고 있기 때문에 ...  2020  24.0  \n",
       "3      장점직원들에게 많은 기회를 준다. 한가지만 보지 않고 다양한 분야에서 어떻게 인재가...  2020  72.0  \n",
       "4      장점5일만 출근한다는개 장점 그외에는 어느 회사를 가든 다 있을 법한 텃새 혹은 꼰...  2021  24.0  \n",
       "...                                                  ...   ...   ...  \n",
       "58588  장점연차를 눈치 안보고 쓸수 있음. 업무가 단조로워 접근성이 쉬움. 야근이 없음. ...  2021  52.0  \n",
       "58589  장점남자로서 정말 열심히 일하면 적당한 보상이 따라오는곳, 레미콘회사치고 높은급여 ...  2020  68.0  \n",
       "58590  장점업무량대비 꽤 높은 임금 & 꾸준한 임금 인상(재직당시 기준)단점비합리적인 인사...  2020  48.0  \n",
       "58591  장점공장은 장점이 없고 서울본사는 근무할만 함.빽있는 사람은 다닐만함.단점빽없는 사...  2020  28.0  \n",
       "58592  장점중소기업치고 연봉이 높은편 대신 성과금이 없다. 본사에입사하면 워라밸 가능함 공...  2020  52.0  \n",
       "\n",
       "[58593 rows x 10 columns]"
      ]
     },
     "execution_count": 5,
     "metadata": {},
     "output_type": "execute_result"
    }
   ],
   "source": [
    "jobplanet = jobplanet.iloc[:, 6:]\n",
    "jobplanet = pd.concat([temp, jobplanet], axis=1)\n",
    "jobplanet['평균평점'] = temp.mean(axis=1)\n",
    "# temp.groupby('회사명').mean().reset_index().mean(axis=1)\n",
    "jobplanet"
   ]
  },
  {
   "cell_type": "code",
   "execution_count": 6,
   "id": "ecf911a0",
   "metadata": {},
   "outputs": [],
   "source": [
    "jobplanet.to_excel('jobplanet.xlsx', index=False)"
   ]
  },
  {
   "cell_type": "code",
   "execution_count": null,
   "id": "f77aba90",
   "metadata": {},
   "outputs": [],
   "source": []
  }
 ],
 "metadata": {
  "kernelspec": {
   "display_name": "Python 3 (ipykernel)",
   "language": "python",
   "name": "python3"
  },
  "language_info": {
   "codemirror_mode": {
    "name": "ipython",
    "version": 3
   },
   "file_extension": ".py",
   "mimetype": "text/x-python",
   "name": "python",
   "nbconvert_exporter": "python",
   "pygments_lexer": "ipython3",
   "version": "3.10.7"
  }
 },
 "nbformat": 4,
 "nbformat_minor": 5
}
