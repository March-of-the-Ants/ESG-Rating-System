{
 "cells": [
  {
   "cell_type": "markdown",
   "id": "798e297c",
   "metadata": {},
   "source": [
    "## 1. 라이브러리 및 데이터 불러오기"
   ]
  },
  {
   "cell_type": "code",
   "execution_count": 1,
   "id": "70038a0a",
   "metadata": {},
   "outputs": [],
   "source": [
    "import pandas as pd\n",
    "from tqdm.notebook import tqdm"
   ]
  },
  {
   "cell_type": "code",
   "execution_count": 97,
   "id": "2f39aa9e",
   "metadata": {},
   "outputs": [],
   "source": [
    "jobplanet = pd.read_excel('C:/Users/hanah/Desktop/workspace/Project/ESG/crawling/jobplanet/jobplanet_review.xlsx')"
   ]
  },
  {
   "cell_type": "markdown",
   "id": "cf72e3fb",
   "metadata": {},
   "source": [
    "## 2. 작성일자 기준으로 해당년도 구분"
   ]
  },
  {
   "cell_type": "code",
   "execution_count": 98,
   "id": "9137c42f",
   "metadata": {},
   "outputs": [],
   "source": [
    "jobplanet['no'] = 0\n",
    "cmp_dict = {}\n",
    "for i in range(len(jobplanet)):\n",
    "    cmp_dict[jobplanet.회사명[i]] = cmp_dict.get(jobplanet.회사명[i], 0) + 1 \n",
    "    jobplanet.loc[i, 'no'] = cmp_dict[jobplanet.회사명[i]]\n",
    "\n",
    "jobplanet.set_index(['회사명', 'no'], inplace=True)"
   ]
  },
  {
   "cell_type": "code",
   "execution_count": 99,
   "id": "9c16df49",
   "metadata": {},
   "outputs": [
    {
     "data": {
      "text/plain": [
       "MultiIndex([('블리츠웨이', 1),\n",
       "            ('블리츠웨이', 2),\n",
       "            ('블리츠웨이', 3),\n",
       "            ('블리츠웨이', 4),\n",
       "            ('석경에이티', 1),\n",
       "            ('석경에이티', 2),\n",
       "            ('석경에이티', 3),\n",
       "            ('석경에이티', 4),\n",
       "            ('석경에이티', 5),\n",
       "            ('석경에이티', 6),\n",
       "            ...\n",
       "            ('엠벤처투자', 3),\n",
       "            ('엠벤처투자', 4),\n",
       "            ('엠벤처투자', 5),\n",
       "            (  '모헨즈', 1),\n",
       "            (  '모헨즈', 2),\n",
       "            (  '모헨즈', 3),\n",
       "            (  '모헨즈', 4),\n",
       "            (  '모헨즈', 5),\n",
       "            (  '모헨즈', 6),\n",
       "            (  '모헨즈', 7)],\n",
       "           names=['회사명', 'no'], length=58793)"
      ]
     },
     "execution_count": 99,
     "metadata": {},
     "output_type": "execute_result"
    }
   ],
   "source": [
    "jobplanet.index"
   ]
  },
  {
   "cell_type": "code",
   "execution_count": 100,
   "id": "a776262e",
   "metadata": {},
   "outputs": [
    {
     "name": "stderr",
     "output_type": "stream",
     "text": [
      "C:\\Users\\hanah\\AppData\\Local\\Temp\\ipykernel_12056\\1182551494.py:4: SettingWithCopyWarning: \n",
      "A value is trying to be set on a copy of a slice from a DataFrame\n",
      "\n",
      "See the caveats in the documentation: https://pandas.pydata.org/pandas-docs/stable/user_guide/indexing.html#returning-a-view-versus-a-copy\n",
      "  jobplanet['작성년도'][i] = 2022\n"
     ]
    }
   ],
   "source": [
    "jobplanet['작성년도'] = 0\n",
    "for i in range(len(jobplanet)):\n",
    "    if jobplanet.index[i][1] <= cmp_dict[(jobplanet.index[i][0])]//2:\n",
    "        jobplanet['작성년도'][i] = 2022"
   ]
  },
  {
   "cell_type": "code",
   "execution_count": 111,
   "id": "b56a2244",
   "metadata": {},
   "outputs": [
    {
     "data": {
      "text/plain": [
       "2020    29608\n",
       "2021    29185\n",
       "Name: 작성년도, dtype: int64"
      ]
     },
     "execution_count": 111,
     "metadata": {},
     "output_type": "execute_result"
    }
   ],
   "source": [
    "jobplanet['작성년도'].value_counts()"
   ]
  },
  {
   "cell_type": "code",
   "execution_count": 114,
   "id": "de1274c3",
   "metadata": {},
   "outputs": [],
   "source": [
    "jobplanet.reset_index(inplace=True)\n",
    "jobplanet.drop(['no', '작성일'], axis=1, inplace=True)"
   ]
  },
  {
   "cell_type": "code",
   "execution_count": 120,
   "id": "ecf911a0",
   "metadata": {},
   "outputs": [],
   "source": [
    "jobplanet.to_excel('jobplanet.xlsx', index=False)"
   ]
  }
 ],
 "metadata": {
  "kernelspec": {
   "display_name": "Python 3 (ipykernel)",
   "language": "python",
   "name": "python3"
  },
  "language_info": {
   "codemirror_mode": {
    "name": "ipython",
    "version": 3
   },
   "file_extension": ".py",
   "mimetype": "text/x-python",
   "name": "python",
   "nbconvert_exporter": "python",
   "pygments_lexer": "ipython3",
   "version": "3.10.7"
  }
 },
 "nbformat": 4,
 "nbformat_minor": 5
}
