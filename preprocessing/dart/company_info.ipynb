{
 "cells": [
  {
   "cell_type": "markdown",
   "id": "c0aeebc9",
   "metadata": {},
   "source": [
    "## 1. 라이브러리 및 데이터 불러오기"
   ]
  },
  {
   "cell_type": "code",
   "execution_count": 1,
   "id": "8024c26f",
   "metadata": {},
   "outputs": [],
   "source": [
    "import pandas as pd"
   ]
  },
  {
   "cell_type": "code",
   "execution_count": 164,
   "id": "86a8a1dc",
   "metadata": {},
   "outputs": [],
   "source": [
    "kosdaq = pd.read_excel(\"C:/Users/hanah/Desktop/workspace/Project/ESG/crawling/dart/kosdaq_report_final.xlsx\")\n",
    "ind_cd = pd.read_excel('한국표준산업분류(10차).xlsx')"
   ]
  },
  {
   "cell_type": "markdown",
   "id": "4405a676",
   "metadata": {},
   "source": [
    "## 2. 기업개요 중 업종코드 전처리"
   ]
  },
  {
   "cell_type": "code",
   "execution_count": 171,
   "id": "c2b7faad",
   "metadata": {},
   "outputs": [
    {
     "name": "stdout",
     "output_type": "stream",
     "text": [
      "<class 'pandas.core.frame.DataFrame'>\n",
      "RangeIndex: 1388 entries, 0 to 1387\n",
      "Data columns (total 13 columns):\n",
      " #   Column   Non-Null Count  Dtype         \n",
      "---  ------   --------------  -----         \n",
      " 0   고유번호     1388 non-null   int64         \n",
      " 1   사업자등록번호  1388 non-null   object        \n",
      " 2   종목코드     1388 non-null   int64         \n",
      " 3   회사명      1388 non-null   object        \n",
      " 4   업종       1388 non-null   object        \n",
      " 5   주요제품     1385 non-null   object        \n",
      " 6   상장일      1388 non-null   datetime64[ns]\n",
      " 7   대표자명     1388 non-null   object        \n",
      " 8   홈페이지     1324 non-null   object        \n",
      " 9   지역       1388 non-null   object        \n",
      " 10  주소       1388 non-null   object        \n",
      " 11  업종코드     1388 non-null   int64         \n",
      " 12  설립일      1388 non-null   int64         \n",
      "dtypes: datetime64[ns](1), int64(4), object(8)\n",
      "memory usage: 141.1+ KB\n"
     ]
    }
   ],
   "source": [
    "company_info = kosdaq.iloc[:,:13]\n",
    "company_info.info()"
   ]
  },
  {
   "cell_type": "code",
   "execution_count": 159,
   "id": "63f72fc7",
   "metadata": {},
   "outputs": [],
   "source": [
    "company_info['업종코드'] = company_info['업종코드'].astype('str')\n",
    "company_info['ind_code'] = company_info['업종코드'].str[:2]"
   ]
  },
  {
   "cell_type": "code",
   "execution_count": 160,
   "id": "a27dfb47",
   "metadata": {},
   "outputs": [],
   "source": [
    "ind_dict = dict([(str(idx), value) for idx, value in zip(ind_cd['코드'], ind_cd['항목명'])])\n",
    "for idx, code in enumerate(company_info['ind_code']):\n",
    "    company_info.loc[idx, 'ind_code'] = ind_dict[code]"
   ]
  },
  {
   "cell_type": "code",
   "execution_count": 161,
   "id": "d8e19c73",
   "metadata": {},
   "outputs": [
    {
     "data": {
      "text/plain": [
       "제조업                         918\n",
       "정보통신업                       205\n",
       "도매 및 소매업                     96\n",
       "전문, 과학 및 기술 서비스업             70\n",
       "금융 및 보험업                     39\n",
       "건설업                          28\n",
       "사업시설 관리, 사업 지원 및 임대 서비스업     12\n",
       "교육 서비스업                       8\n",
       "운수 및 창고업                      6\n",
       "예술, 스포츠 및 여가관련 서비스업           5\n",
       "숙박 및 음식점업                     3\n",
       "Name: ind_code, dtype: int64"
      ]
     },
     "execution_count": 161,
     "metadata": {},
     "output_type": "execute_result"
    }
   ],
   "source": [
    "company_info['ind_code'].value_counts()"
   ]
  },
  {
   "cell_type": "code",
   "execution_count": 162,
   "id": "28c6a7ce",
   "metadata": {},
   "outputs": [
    {
     "name": "stdout",
     "output_type": "stream",
     "text": [
      "<class 'pandas.core.frame.DataFrame'>\n",
      "RangeIndex: 1390 entries, 0 to 1389\n",
      "Data columns (total 8 columns):\n",
      " #   Column    Non-Null Count  Dtype \n",
      "---  ------    --------------  ----- \n",
      " 0   사업자등록번호   1390 non-null   object\n",
      " 1   종목코드      1390 non-null   int64 \n",
      " 2   회사명       1390 non-null   object\n",
      " 3   주요제품      1387 non-null   object\n",
      " 4   대표자명      1390 non-null   object\n",
      " 5   주소        1390 non-null   object\n",
      " 6   설립일       1390 non-null   int64 \n",
      " 7   ind_code  1390 non-null   object\n",
      "dtypes: int64(2), object(6)\n",
      "memory usage: 87.0+ KB\n"
     ]
    }
   ],
   "source": [
    "company_info.drop(['고유번호', '업종', '홈페이지', '지역', '업종코드', '상장일'], axis=1, inplace=True)\n",
    "company_info.info()"
   ]
  },
  {
   "cell_type": "code",
   "execution_count": 163,
   "id": "a7badcc5",
   "metadata": {},
   "outputs": [],
   "source": [
    "company_info.to_excel('company_info.xlsx', index=False)"
   ]
  },
  {
   "cell_type": "markdown",
   "id": "649900c2",
   "metadata": {},
   "source": [
    "## 3. 공시정보 전처리"
   ]
  },
  {
   "cell_type": "code",
   "execution_count": 198,
   "id": "444639a8",
   "metadata": {},
   "outputs": [],
   "source": [
    "temp1 = kosdaq.iloc[:,13:29]\n",
    "temp1.insert(0, '결산연도', 2021)\n",
    "temp1.columns = ['결산연도', '최대주주_성명', '최대주주_관계', '최대주주_주식종류', '최대주주_기초주식수', '최대주주_기초주식지분율', \n",
    "                 '최대주주_기말주식수', '최대주주_기말주식지분율', '소액주주수', '주주수', '소액주주비율', '소액주주_주식수',\n",
    "                 '총주식수', '소액주주_주식지분율', '감사의견', '감사의견_강조사항', '핵심감사사항']\n",
    "\n",
    "temp2 = kosdaq.iloc[:,29:]\n",
    "temp2.insert(0, '결산연도', 2020)\n",
    "temp2.columns = temp1.columns \n",
    "temp = pd.concat([temp1, temp2],ignore_index=True)"
   ]
  },
  {
   "cell_type": "code",
   "execution_count": 201,
   "id": "a6814615",
   "metadata": {},
   "outputs": [
    {
     "name": "stdout",
     "output_type": "stream",
     "text": [
      "<class 'pandas.core.frame.DataFrame'>\n",
      "RangeIndex: 2776 entries, 0 to 2775\n",
      "Data columns (total 18 columns):\n",
      " #   Column        Non-Null Count  Dtype \n",
      "---  ------        --------------  ----- \n",
      " 0   회사명           1388 non-null   object\n",
      " 1   결산연도          2776 non-null   int64 \n",
      " 2   최대주주_성명       2770 non-null   object\n",
      " 3   최대주주_관계       2770 non-null   object\n",
      " 4   최대주주_주식종류     2770 non-null   object\n",
      " 5   최대주주_기초주식수    2770 non-null   object\n",
      " 6   최대주주_기초주식지분율  2770 non-null   object\n",
      " 7   최대주주_기말주식수    2770 non-null   object\n",
      " 8   최대주주_기말주식지분율  2770 non-null   object\n",
      " 9   소액주주수         2770 non-null   object\n",
      " 10  주주수           2770 non-null   object\n",
      " 11  소액주주비율        2770 non-null   object\n",
      " 12  소액주주_주식수      2770 non-null   object\n",
      " 13  총주식수          2770 non-null   object\n",
      " 14  소액주주_주식지분율    2770 non-null   object\n",
      " 15  감사의견          2770 non-null   object\n",
      " 16  감사의견_강조사항     2770 non-null   object\n",
      " 17  핵심감사사항        2770 non-null   object\n",
      "dtypes: int64(1), object(17)\n",
      "memory usage: 390.5+ KB\n"
     ]
    }
   ],
   "source": [
    "dart = pd.concat([kosdaq['회사명'], temp], axis=1)\n",
    "dart.info()"
   ]
  },
  {
   "cell_type": "code",
   "execution_count": 202,
   "id": "25fcbf89",
   "metadata": {},
   "outputs": [],
   "source": [
    "dart.to_excel('dart_info.xlsx', index=False)"
   ]
  }
 ],
 "metadata": {
  "kernelspec": {
   "display_name": "Python 3 (ipykernel)",
   "language": "python",
   "name": "python3"
  },
  "language_info": {
   "codemirror_mode": {
    "name": "ipython",
    "version": 3
   },
   "file_extension": ".py",
   "mimetype": "text/x-python",
   "name": "python",
   "nbconvert_exporter": "python",
   "pygments_lexer": "ipython3",
   "version": "3.10.7"
  }
 },
 "nbformat": 4,
 "nbformat_minor": 5
}
