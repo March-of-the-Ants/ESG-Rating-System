{
 "cells": [
  {
   "cell_type": "markdown",
   "metadata": {},
   "source": [
    "## word2vec "
   ]
  },
  {
   "cell_type": "code",
   "execution_count": 1,
   "metadata": {},
   "outputs": [],
   "source": [
    "import gensim"
   ]
  },
  {
   "cell_type": "code",
   "execution_count": 13,
   "metadata": {},
   "outputs": [],
   "source": [
    "import pandas as pd\n",
    "from tqdm import tqdm\n",
    "import matplotlib.pyplot as plt\n",
    "from gensim.models.word2vec import Word2Vec"
   ]
  },
  {
   "cell_type": "code",
   "execution_count": 5,
   "metadata": {},
   "outputs": [
    {
     "data": {
      "text/plain": [
       "21761"
      ]
     },
     "execution_count": 5,
     "metadata": {},
     "output_type": "execute_result"
    }
   ],
   "source": [
    "# news data 불러오기\n",
    "import pandas as pd\n",
    "news=pd.read_csv('./news_tb.csv')\n",
    "len(news)"
   ]
  },
  {
   "cell_type": "code",
   "execution_count": 7,
   "metadata": {},
   "outputs": [
    {
     "data": {
      "text/html": [
       "<div>\n",
       "<style scoped>\n",
       "    .dataframe tbody tr th:only-of-type {\n",
       "        vertical-align: middle;\n",
       "    }\n",
       "\n",
       "    .dataframe tbody tr th {\n",
       "        vertical-align: top;\n",
       "    }\n",
       "\n",
       "    .dataframe thead th {\n",
       "        text-align: right;\n",
       "    }\n",
       "</style>\n",
       "<table border=\"1\" class=\"dataframe\">\n",
       "  <thead>\n",
       "    <tr style=\"text-align: right;\">\n",
       "      <th></th>\n",
       "      <th>Unnamed: 0</th>\n",
       "      <th>ID</th>\n",
       "      <th>CmpID</th>\n",
       "      <th>Year</th>\n",
       "      <th>Title</th>\n",
       "      <th>Content</th>\n",
       "    </tr>\n",
       "  </thead>\n",
       "  <tbody>\n",
       "    <tr>\n",
       "      <th>0</th>\n",
       "      <td>0</td>\n",
       "      <td>1</td>\n",
       "      <td>1129</td>\n",
       "      <td>2021</td>\n",
       "      <td>포스코ICT, 카카오워크 통해 RPA 서비스 시작</td>\n",
       "      <td>포스코 의 업무자동화 소프트웨어 로봇인 솔루션과 카카오워크간 연동 서비스가 시작된다...</td>\n",
       "    </tr>\n",
       "    <tr>\n",
       "      <th>1</th>\n",
       "      <td>1</td>\n",
       "      <td>2</td>\n",
       "      <td>218</td>\n",
       "      <td>2021</td>\n",
       "      <td>그리티, 특별관계자 지분변동</td>\n",
       "      <td>그리티는 문영우 및 특별관계자의 지분율이 에서 로 변동했다고 일 공시했다 한편 그리...</td>\n",
       "    </tr>\n",
       "    <tr>\n",
       "      <th>2</th>\n",
       "      <td>2</td>\n",
       "      <td>3</td>\n",
       "      <td>1129</td>\n",
       "      <td>2021</td>\n",
       "      <td>포스코ICT, 2021 기술 컨퍼런스 개최</td>\n",
       "      <td>포스코대표 정덕균가 지난 일 올해 추진된 기술개발 성과를 공유하고 최신 기술동향과 ...</td>\n",
       "    </tr>\n",
       "    <tr>\n",
       "      <th>3</th>\n",
       "      <td>3</td>\n",
       "      <td>4</td>\n",
       "      <td>2</td>\n",
       "      <td>2021</td>\n",
       "      <td>[코스닥 대표 인터뷰]임형섭 석경에이티 대표 \"25년 나노 소재 노하우로 5G 시장...</td>\n",
       "      <td>파이낸셜뉴스우리나라에서 년 처음 시작해 년 간 나노 소재를 하고 있습니다 등의 가치...</td>\n",
       "    </tr>\n",
       "    <tr>\n",
       "      <th>4</th>\n",
       "      <td>4</td>\n",
       "      <td>5</td>\n",
       "      <td>218</td>\n",
       "      <td>2021</td>\n",
       "      <td>그리티, 특별관계자 지분변동</td>\n",
       "      <td>그리티는 문영우 및 특별관계자의 지분율이 에서 로 변동했다고 일 공시했다 한편 그리...</td>\n",
       "    </tr>\n",
       "  </tbody>\n",
       "</table>\n",
       "</div>"
      ],
      "text/plain": [
       "   Unnamed: 0  ID  CmpID  Year  \\\n",
       "0           0   1   1129  2021   \n",
       "1           1   2    218  2021   \n",
       "2           2   3   1129  2021   \n",
       "3           3   4      2  2021   \n",
       "4           4   5    218  2021   \n",
       "\n",
       "                                               Title  \\\n",
       "0                        포스코ICT, 카카오워크 통해 RPA 서비스 시작   \n",
       "1                                    그리티, 특별관계자 지분변동   \n",
       "2                            포스코ICT, 2021 기술 컨퍼런스 개최   \n",
       "3  [코스닥 대표 인터뷰]임형섭 석경에이티 대표 \"25년 나노 소재 노하우로 5G 시장...   \n",
       "4                                    그리티, 특별관계자 지분변동   \n",
       "\n",
       "                                             Content  \n",
       "0  포스코 의 업무자동화 소프트웨어 로봇인 솔루션과 카카오워크간 연동 서비스가 시작된다...  \n",
       "1  그리티는 문영우 및 특별관계자의 지분율이 에서 로 변동했다고 일 공시했다 한편 그리...  \n",
       "2  포스코대표 정덕균가 지난 일 올해 추진된 기술개발 성과를 공유하고 최신 기술동향과 ...  \n",
       "3  파이낸셜뉴스우리나라에서 년 처음 시작해 년 간 나노 소재를 하고 있습니다 등의 가치...  \n",
       "4  그리티는 문영우 및 특별관계자의 지분율이 에서 로 변동했다고 일 공시했다 한편 그리...  "
      ]
     },
     "execution_count": 7,
     "metadata": {},
     "output_type": "execute_result"
    }
   ],
   "source": [
    "news.head()"
   ]
  },
  {
   "cell_type": "code",
   "execution_count": 6,
   "metadata": {},
   "outputs": [
    {
     "name": "stdout",
     "output_type": "stream",
     "text": [
      "False\n"
     ]
    }
   ],
   "source": [
    "print(news.isnull().values.any()) #결측값 없음, 숫자, 영어 제거된 상태"
   ]
  },
  {
   "cell_type": "code",
   "execution_count": 14,
   "metadata": {},
   "outputs": [
    {
     "name": "stderr",
     "output_type": "stream",
     "text": [
      "100%|██████████| 21761/21761 [25:02<00:00, 14.48it/s]  \n"
     ]
    }
   ],
   "source": [
    "#로컬에 저장한 mecab 파일 경로 지정해주기\n",
    "# 형태소분석기 okt 활용 토큰화 작업\n",
    " \n",
    "from konlpy.tag import Okt, Mecab\n",
    "\n",
    "okt = Okt()\n",
    "mecab = Mecab(dicpath=r\"C:\\mecab\\mecab-ko-dic\")\n",
    "\n",
    "tokenized_data = []\n",
    "for sentence in tqdm(news['Content']):\n",
    "    tokenized_sentence = okt.morphs(sentence, stem=True) # 토큰화\n",
    "    #stopwords_removed_sentence = [word for word in tokenized_sentence if not word in stopwords] # 불용어 제거\n",
    "    #tokenized_data.append(stopwords_removed_sentence)\n",
    "    tokenized_data.append(tokenized_sentence)"
   ]
  },
  {
   "cell_type": "code",
   "execution_count": 27,
   "metadata": {},
   "outputs": [],
   "source": [
    "# 토큰화된 뉴스 데이터 학습시키기\n",
    "#https://hoonzi-text.tistory.com/2 파라미터 정리 \n",
    "# size : 벡터 차원수 ,\n",
    "# window : 훈련시 앞 뒤로 고려하는 단어의 개수\n",
    "# min_count :최소빈도수 , 해당 빈도수보다 작게 등장한 단어 제외\n",
    "# worker : 병렬처리할 스레드 수 \n",
    "#sg : 분석방법론 , 1 = skip-gram, 0=cbow\n",
    "#iter 학습횟수\n",
    "\n",
    "from gensim.models import Word2Vec\n",
    "model=Word2Vec(tokenized_data, vector_size=100, window=3, min_count=5,workers=4, sg=0,epochs=100)"
   ]
  },
  {
   "cell_type": "code",
   "execution_count": 28,
   "metadata": {},
   "outputs": [
    {
     "data": {
      "text/plain": [
       "(27429, 100)"
      ]
     },
     "execution_count": 28,
     "metadata": {},
     "output_type": "execute_result"
    }
   ],
   "source": [
    "model.wv.vectors.shape"
   ]
  },
  {
   "cell_type": "code",
   "execution_count": null,
   "metadata": {},
   "outputs": [],
   "source": [
    "e_친환경=model.wv.most_similar(\"친환경\",topn=50)\n",
    "e_환경=model.wv.most_similar(\"환경\",topn=50)\n",
    "s_사회=model.wv.most_similar(\"사회\",topn=50)\n",
    "s_근로=model.wv.most_similar(\"근로\",topn=50)\n",
    "g_경영=model.wv.most_similar(\"경영\",topn=50)\n",
    "g_지배=model.wv.most_similar(\"지배\",topn=50)\n"
   ]
  },
  {
   "cell_type": "code",
   "execution_count": 48,
   "metadata": {},
   "outputs": [],
   "source": [
    "#e=e_친환경+e_환경\n",
    "#s=s_근로+s_사회\n",
    "#g=g_지배+g_경영\n",
    "\n",
    "def make_dict(df):\n",
    "    temp = []\n",
    "    for word, percent in df:\n",
    "        temp.append(word)\n",
    "    df = temp\n",
    "    return df\n",
    "\n",
    "e_친환경df=make_dict(e_친환경)\n",
    "e_환경df=make_dict(e_환경)\n",
    "s_근로df=make_dict(s_근로)\n",
    "s_사회df=make_dict(s_사회)\n",
    "g_지배df=make_dict(g_지배)\n",
    "g_경영df=make_dict(g_경영)"
   ]
  },
  {
   "cell_type": "code",
   "execution_count": 50,
   "metadata": {},
   "outputs": [],
   "source": [
    "esg_df=pd.DataFrame(zip(e_친환경df, e_환경df,s_근로df,s_사회df,g_지배df,g_경영df))\n",
    "esg_df.columns=['e_친환경','e_환경','s_근로','s_사회','g_지배','g_경영']\n",
    "esg_df.to_csv('./esg_dict_ver1.csv')"
   ]
  }
 ],
 "metadata": {
  "kernelspec": {
   "display_name": "base",
   "language": "python",
   "name": "python3"
  },
  "language_info": {
   "codemirror_mode": {
    "name": "ipython",
    "version": 3
   },
   "file_extension": ".py",
   "mimetype": "text/x-python",
   "name": "python",
   "nbconvert_exporter": "python",
   "pygments_lexer": "ipython3",
   "version": "3.7.3"
  },
  "orig_nbformat": 4,
  "vscode": {
   "interpreter": {
    "hash": "e4cce46d6be9934fbd27f9ca0432556941ea5bdf741d4f4d64c6cd7f8dfa8fba"
   }
  }
 },
 "nbformat": 4,
 "nbformat_minor": 2
}
