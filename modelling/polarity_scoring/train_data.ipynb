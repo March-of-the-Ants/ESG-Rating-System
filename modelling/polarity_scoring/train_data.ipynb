{
 "cells": [
  {
   "cell_type": "markdown",
   "id": "f83187ba",
   "metadata": {},
   "source": [
    "## 1. 라이브러리 및 데이터 불러오기"
   ]
  },
  {
   "cell_type": "code",
   "execution_count": 302,
   "id": "d1bcadb2",
   "metadata": {},
   "outputs": [],
   "source": [
    "import os\n",
    "import pandas as pd\n",
    "import re\n",
    "import requests\n",
    "from bs4 import BeautifulSoup as bs\n",
    "from tqdm.notebook import tqdm\n",
    "from string import punctuation\n",
    "import warnings\n",
    "warnings.filterwarnings('ignore')"
   ]
  },
  {
   "cell_type": "code",
   "execution_count": 303,
   "id": "ca8b1838",
   "metadata": {},
   "outputs": [],
   "source": [
    "path = 'C:/Users/hanah/Desktop/workspace/Project/ESG/modelling/polarity_scoring/통계청/'\n",
    "file_list = os.listdir(path)"
   ]
  },
  {
   "cell_type": "code",
   "execution_count": 304,
   "id": "3e550b35",
   "metadata": {},
   "outputs": [],
   "source": [
    "df = pd.DataFrame()\n",
    "for file in file_list:\n",
    "    data = pd.read_excel(path + file)\n",
    "    df = pd.concat([df, data])\n",
    "    \n",
    "df.reset_index(drop = True, inplace = True)"
   ]
  },
  {
   "cell_type": "markdown",
   "id": "1d0e7015",
   "metadata": {},
   "source": [
    "## 2. 라벨링 조정"
   ]
  },
  {
   "cell_type": "code",
   "execution_count": 305,
   "id": "1848afbb",
   "metadata": {},
   "outputs": [
    {
     "data": {
      "text/plain": [
       "1.0    4459\n",
       "0.0    3159\n",
       "Name: 라벨, dtype: int64"
      ]
     },
     "execution_count": 305,
     "metadata": {},
     "output_type": "execute_result"
    }
   ],
   "source": [
    "df['라벨'] = df.iloc[:, 3:9].mean(axis=1)\n",
    "df['라벨'][df['라벨'] <= 2.5] = 0\n",
    "df['라벨'][df['라벨'] > 2.5] = 1\n",
    "df['라벨'].value_counts()"
   ]
  },
  {
   "cell_type": "code",
   "execution_count": 306,
   "id": "4a408f30",
   "metadata": {},
   "outputs": [
    {
     "data": {
      "text/html": [
       "<div>\n",
       "<style scoped>\n",
       "    .dataframe tbody tr th:only-of-type {\n",
       "        vertical-align: middle;\n",
       "    }\n",
       "\n",
       "    .dataframe tbody tr th {\n",
       "        vertical-align: top;\n",
       "    }\n",
       "\n",
       "    .dataframe thead th {\n",
       "        text-align: right;\n",
       "    }\n",
       "</style>\n",
       "<table border=\"1\" class=\"dataframe\">\n",
       "  <thead>\n",
       "    <tr style=\"text-align: right;\">\n",
       "      <th></th>\n",
       "      <th>제목</th>\n",
       "      <th>URL</th>\n",
       "      <th>라벨</th>\n",
       "    </tr>\n",
       "  </thead>\n",
       "  <tbody>\n",
       "    <tr>\n",
       "      <th>0</th>\n",
       "      <td>[신년사]손경식 CJ회장_ \"해외사업 공격적 확장_ 성장 가속화\"</td>\n",
       "      <td>http://news.naver.com/main/read.nhn?mode=LSD&amp;m...</td>\n",
       "      <td>1.0</td>\n",
       "    </tr>\n",
       "    <tr>\n",
       "      <th>1</th>\n",
       "      <td>[취업과 창업]신입사원 연차 생기고 공공기관 채용 역대 최대</td>\n",
       "      <td>http://news.naver.com/main/read.nhn?mode=LSD&amp;m...</td>\n",
       "      <td>1.0</td>\n",
       "    </tr>\n",
       "    <tr>\n",
       "      <th>2</th>\n",
       "      <td>2018년 채용연계형 인턴채용 문 열렸다</td>\n",
       "      <td>http://news.naver.com/main/read.nhn?mode=LSD&amp;m...</td>\n",
       "      <td>1.0</td>\n",
       "    </tr>\n",
       "    <tr>\n",
       "      <th>3</th>\n",
       "      <td>무술년 채용연계형 인턴채용 스타트</td>\n",
       "      <td>http://news.naver.com/main/read.nhn?mode=LSD&amp;m...</td>\n",
       "      <td>1.0</td>\n",
       "    </tr>\n",
       "    <tr>\n",
       "      <th>4</th>\n",
       "      <td>그냥 쉬었다 청년_ 30만명 역대 최고치</td>\n",
       "      <td>http://news.naver.com/main/read.nhn?mode=LSD&amp;m...</td>\n",
       "      <td>0.0</td>\n",
       "    </tr>\n",
       "    <tr>\n",
       "      <th>...</th>\n",
       "      <td>...</td>\n",
       "      <td>...</td>\n",
       "      <td>...</td>\n",
       "    </tr>\n",
       "    <tr>\n",
       "      <th>7613</th>\n",
       "      <td>코로나 충격에 따른 근로 시간 감소_ 과거 위기의 5배</td>\n",
       "      <td>https://news.naver.com/main/read.nhn?mode=LSD&amp;...</td>\n",
       "      <td>0.0</td>\n",
       "    </tr>\n",
       "    <tr>\n",
       "      <th>7614</th>\n",
       "      <td>7월 사업체종사자 13만8천명 감소 코로나19 여파에 5개월째 감소</td>\n",
       "      <td>https://news.naver.com/main/read.nhn?mode=LSD&amp;...</td>\n",
       "      <td>0.0</td>\n",
       "    </tr>\n",
       "    <tr>\n",
       "      <th>7615</th>\n",
       "      <td>한치 앞도 안보인다..채용문 꽁꽁 닫는 카드사</td>\n",
       "      <td>https://news.naver.com/main/read.nhn?mode=LSD&amp;...</td>\n",
       "      <td>0.0</td>\n",
       "    </tr>\n",
       "    <tr>\n",
       "      <th>7616</th>\n",
       "      <td>토스_ 고객 상담직 신입 및 경력 30명 공개 채용</td>\n",
       "      <td>https://news.naver.com/main/read.nhn?mode=LSD&amp;...</td>\n",
       "      <td>1.0</td>\n",
       "    </tr>\n",
       "    <tr>\n",
       "      <th>7617</th>\n",
       "      <td>토스_ 연봉 3000만원 고객 상담직 공개채용</td>\n",
       "      <td>https://news.naver.com/main/read.nhn?mode=LSD&amp;...</td>\n",
       "      <td>1.0</td>\n",
       "    </tr>\n",
       "  </tbody>\n",
       "</table>\n",
       "<p>7618 rows × 3 columns</p>\n",
       "</div>"
      ],
      "text/plain": [
       "                                         제목  \\\n",
       "0      [신년사]손경식 CJ회장_ \"해외사업 공격적 확장_ 성장 가속화\"   \n",
       "1         [취업과 창업]신입사원 연차 생기고 공공기관 채용 역대 최대   \n",
       "2                    2018년 채용연계형 인턴채용 문 열렸다   \n",
       "3                        무술년 채용연계형 인턴채용 스타트   \n",
       "4                    그냥 쉬었다 청년_ 30만명 역대 최고치   \n",
       "...                                     ...   \n",
       "7613         코로나 충격에 따른 근로 시간 감소_ 과거 위기의 5배   \n",
       "7614  7월 사업체종사자 13만8천명 감소 코로나19 여파에 5개월째 감소   \n",
       "7615              한치 앞도 안보인다..채용문 꽁꽁 닫는 카드사   \n",
       "7616           토스_ 고객 상담직 신입 및 경력 30명 공개 채용   \n",
       "7617              토스_ 연봉 3000만원 고객 상담직 공개채용   \n",
       "\n",
       "                                                    URL   라벨  \n",
       "0     http://news.naver.com/main/read.nhn?mode=LSD&m...  1.0  \n",
       "1     http://news.naver.com/main/read.nhn?mode=LSD&m...  1.0  \n",
       "2     http://news.naver.com/main/read.nhn?mode=LSD&m...  1.0  \n",
       "3     http://news.naver.com/main/read.nhn?mode=LSD&m...  1.0  \n",
       "4     http://news.naver.com/main/read.nhn?mode=LSD&m...  0.0  \n",
       "...                                                 ...  ...  \n",
       "7613  https://news.naver.com/main/read.nhn?mode=LSD&...  0.0  \n",
       "7614  https://news.naver.com/main/read.nhn?mode=LSD&...  0.0  \n",
       "7615  https://news.naver.com/main/read.nhn?mode=LSD&...  0.0  \n",
       "7616  https://news.naver.com/main/read.nhn?mode=LSD&...  1.0  \n",
       "7617  https://news.naver.com/main/read.nhn?mode=LSD&...  1.0  \n",
       "\n",
       "[7618 rows x 3 columns]"
      ]
     },
     "execution_count": 306,
     "metadata": {},
     "output_type": "execute_result"
    }
   ],
   "source": [
    "df = df[['제목', 'URL', '라벨']]\n",
    "df"
   ]
  },
  {
   "cell_type": "markdown",
   "id": "42d112a4",
   "metadata": {},
   "source": [
    "## 3. 기사 본문 크롤링 후 전처리"
   ]
  },
  {
   "cell_type": "code",
   "execution_count": 297,
   "id": "b1292807",
   "metadata": {},
   "outputs": [
    {
     "data": {
      "text/html": [
       "<div>\n",
       "<style scoped>\n",
       "    .dataframe tbody tr th:only-of-type {\n",
       "        vertical-align: middle;\n",
       "    }\n",
       "\n",
       "    .dataframe tbody tr th {\n",
       "        vertical-align: top;\n",
       "    }\n",
       "\n",
       "    .dataframe thead th {\n",
       "        text-align: right;\n",
       "    }\n",
       "</style>\n",
       "<table border=\"1\" class=\"dataframe\">\n",
       "  <thead>\n",
       "    <tr style=\"text-align: right;\">\n",
       "      <th></th>\n",
       "      <th>기사</th>\n",
       "      <th>제목</th>\n",
       "    </tr>\n",
       "  </thead>\n",
       "  <tbody>\n",
       "    <tr>\n",
       "      <th>0</th>\n",
       "      <td>[이데일리 이성기 기자] CJ그룹은 무술년(戊戌年) 새해를 맞아 국내사업에서의 압도...</td>\n",
       "      <td>[신년사]손경식 CJ회장, \"해외사업 공격적 확장, 성장 가속화\"</td>\n",
       "    </tr>\n",
       "    <tr>\n",
       "      <th>1</th>\n",
       "      <td>[서울신문]청년 실업률이 치솟는 가운데 특별히 하는 일 없이 쉬는 청년이 지난해 3...</td>\n",
       "      <td>하는 일 없이 그냥 쉬는 청년들 30만명 넘었다</td>\n",
       "    </tr>\n",
       "    <tr>\n",
       "      <th>2</th>\n",
       "      <td>청년 실업률이 역대 최고 수준을 기록한 가운데 경제활동도 없이 쉬는 청년이 작년에 ...</td>\n",
       "      <td>청년 30만명 \"그냥 쉬었다\"...최악 취업난에 '니트족' 증가</td>\n",
       "    </tr>\n",
       "    <tr>\n",
       "      <th>3</th>\n",
       "      <td>계층 고착화로 청년 니트족(NEET: Not in education, employm...</td>\n",
       "      <td>일하기 포기한 청년 니트족, 역대 최고 수준 30만 돌파</td>\n",
       "    </tr>\n",
       "    <tr>\n",
       "      <th>4</th>\n",
       "      <td>[한겨레]최저임금 인상이 청년고용에 미치는 부정적 영향은 없거나 통계적으로 무의미할...</td>\n",
       "      <td>ILO “최저임금 올라도 청년고용 영향 적어”</td>\n",
       "    </tr>\n",
       "    <tr>\n",
       "      <th>...</th>\n",
       "      <td>...</td>\n",
       "      <td>...</td>\n",
       "    </tr>\n",
       "    <tr>\n",
       "      <th>1033</th>\n",
       "      <td>국토교통부 산하 한국철도시설공단(철도공단)이 13년 가까이 용역업체에서 일한 정보통...</td>\n",
       "      <td>철도공단, ‘예외 직종’ 내세워 전환에 난색</td>\n",
       "    </tr>\n",
       "    <tr>\n",
       "      <th>1034</th>\n",
       "      <td>[아이뉴스24 채송무 기자] 김성태 자유한국당 원내대표가 정부의 최저임금 인상 속도...</td>\n",
       "      <td>김성태 \"최저임금, 지금이라도 업종별 차등화 검토해야\"</td>\n",
       "    </tr>\n",
       "    <tr>\n",
       "      <th>1035</th>\n",
       "      <td>정부가 청년실업 해소를 위한 추가경정예산 편성을 검토하겠다고 밝히면서 그 규모에 관...</td>\n",
       "      <td>청년실업 해소 추경 규모는…20조 슈퍼추경 설도</td>\n",
       "    </tr>\n",
       "    <tr>\n",
       "      <th>1036</th>\n",
       "      <td>[이데일리 김정현 기자] 지난해 청년실업률은 9.9%. 지난 2000년 관련통계가 ...</td>\n",
       "      <td>[세모뉴스]경기 좋은 거 맞아? 청년실업은 왜 안 잡힐까요</td>\n",
       "    </tr>\n",
       "    <tr>\n",
       "      <th>1037</th>\n",
       "      <td>한국GM과 직·간접된 고용 규모가 16만명에 달하는 것으로 알려졌다. 한국GM이 철...</td>\n",
       "      <td>‘먹튀 논란’ 한국 GM 직간접 고용 규모 15만6000명 달해</td>\n",
       "    </tr>\n",
       "  </tbody>\n",
       "</table>\n",
       "<p>1038 rows × 2 columns</p>\n",
       "</div>"
      ],
      "text/plain": [
       "                                                     기사  \\\n",
       "0     [이데일리 이성기 기자] CJ그룹은 무술년(戊戌年) 새해를 맞아 국내사업에서의 압도...   \n",
       "1     [서울신문]청년 실업률이 치솟는 가운데 특별히 하는 일 없이 쉬는 청년이 지난해 3...   \n",
       "2     청년 실업률이 역대 최고 수준을 기록한 가운데 경제활동도 없이 쉬는 청년이 작년에 ...   \n",
       "3     계층 고착화로 청년 니트족(NEET: Not in education, employm...   \n",
       "4     [한겨레]최저임금 인상이 청년고용에 미치는 부정적 영향은 없거나 통계적으로 무의미할...   \n",
       "...                                                 ...   \n",
       "1033  국토교통부 산하 한국철도시설공단(철도공단)이 13년 가까이 용역업체에서 일한 정보통...   \n",
       "1034  [아이뉴스24 채송무 기자] 김성태 자유한국당 원내대표가 정부의 최저임금 인상 속도...   \n",
       "1035  정부가 청년실업 해소를 위한 추가경정예산 편성을 검토하겠다고 밝히면서 그 규모에 관...   \n",
       "1036  [이데일리 김정현 기자] 지난해 청년실업률은 9.9%. 지난 2000년 관련통계가 ...   \n",
       "1037  한국GM과 직·간접된 고용 규모가 16만명에 달하는 것으로 알려졌다. 한국GM이 철...   \n",
       "\n",
       "                                        제목  \n",
       "0     [신년사]손경식 CJ회장, \"해외사업 공격적 확장, 성장 가속화\"  \n",
       "1               하는 일 없이 그냥 쉬는 청년들 30만명 넘었다  \n",
       "2      청년 30만명 \"그냥 쉬었다\"...최악 취업난에 '니트족' 증가  \n",
       "3          일하기 포기한 청년 니트족, 역대 최고 수준 30만 돌파  \n",
       "4               ILO “최저임금 올라도 청년고용 영향 적어”   \n",
       "...                                    ...  \n",
       "1033              철도공단, ‘예외 직종’ 내세워 전환에 난색  \n",
       "1034        김성태 \"최저임금, 지금이라도 업종별 차등화 검토해야\"  \n",
       "1035            청년실업 해소 추경 규모는…20조 슈퍼추경 설도  \n",
       "1036      [세모뉴스]경기 좋은 거 맞아? 청년실업은 왜 안 잡힐까요  \n",
       "1037   ‘먹튀 논란’ 한국 GM 직간접 고용 규모 15만6000명 달해  \n",
       "\n",
       "[1038 rows x 2 columns]"
      ]
     },
     "execution_count": 297,
     "metadata": {},
     "output_type": "execute_result"
    }
   ],
   "source": [
    "temp = pd.read_csv('newsbot.csv')\n",
    "temp = temp.drop(['categories', 'dates'], axis=1)\n",
    "temp.columns = ['기사', '제목']\n",
    "temp"
   ]
  },
  {
   "cell_type": "code",
   "execution_count": 298,
   "id": "cd0a118a",
   "metadata": {},
   "outputs": [],
   "source": [
    "temp = temp.dropna(axis=0)\n",
    "temp = temp.loc[temp['기사'].str.len() > 100]\n",
    "temp.drop_duplicates(subset=['기사'], inplace=True)"
   ]
  },
  {
   "cell_type": "code",
   "execution_count": 299,
   "id": "b6298a05",
   "metadata": {},
   "outputs": [],
   "source": [
    "def clean_str(text):\n",
    "    text = re.sub('[a-zA-Z-一-龥]','', text) # 영어, 숫자 제거\n",
    "    text = re.sub('([ㄱ-ㅎㅏ-ㅣ]+)','', text)  # 자음, 모음 제거\n",
    "    text = re.sub('<[^>]*>', '', text) # HTML 태그 제거 \n",
    "    text = re.sub('(\\【(.*?)\\】)|(\\[(.*?)\\])|(\\((.*?)\\))', '', text) # 괄호안 글자 제거\n",
    "    text = re.sub('[^\\w\\s^%^~^!^?^.]', ' ', text)  # 특수기호 제거\n",
    "    pattern = '\\.([^\\.]*(?:기자|뉴스|특파원|교수|작가|대표|논설|주필|에세이|화백|사설|소장|단장|큐레이터|저작권|평론가|©|©|ⓒ|\\@|\\/|=|:앞쪽_화살표:|무단|전재|재배포|금지|\\[|\\]|\\(\\))[^\\.]*)'\n",
    "    text = re.sub(pattern, '', text) # 바이라인 제거    \n",
    "    text = re.sub(\"\\.+\\.\", '.', text)  # 다수의 점 (ex : ...) 점 한개로 대체\n",
    "    text = re.sub(' +', ' ', text)   # 다수의 공백 축소\n",
    "    text = re.sub('([a-zA-Z0-9_.+-]+@[a-zA-Z0-9-]+\\.[a-zA-Z0-9-.]+)', '', text) # 이메일 제거\n",
    "    text = re.sub('(http|ftp|https)://(?:[-\\w.]|(?:%[\\da-fA-F]{2}))+', '', text) # url 제거\n",
    "    text = re.sub('([가-힣]{2,3}뉴스|[가-힣]{2,3} 기자)', '', text) # 매체, 기자 이름 제거\n",
    "    text = text.replace('Copyrights', '').replace('무단전재 및 재배포 금지', '').replace('무단복제','').replace('무단배포','')\n",
    "    text = text.replace('재배포 금지','').replace('무단 전재','')\n",
    "    return text "
   ]
  },
  {
   "cell_type": "code",
   "execution_count": 300,
   "id": "a2cf566b",
   "metadata": {},
   "outputs": [],
   "source": [
    "temp['기사'] = temp['기사'].map(clean_str)"
   ]
  },
  {
   "cell_type": "code",
   "execution_count": 311,
   "id": "f1dea1f4",
   "metadata": {},
   "outputs": [],
   "source": [
    "temp.to_excel('temp_df.xlsx')"
   ]
  },
  {
   "cell_type": "code",
   "execution_count": 315,
   "id": "a604edff",
   "metadata": {},
   "outputs": [
    {
     "name": "stdout",
     "output_type": "stream",
     "text": [
      "<class 'pandas.core.frame.DataFrame'>\n",
      "RangeIndex: 7618 entries, 0 to 7617\n",
      "Data columns (total 3 columns):\n",
      " #   Column  Non-Null Count  Dtype  \n",
      "---  ------  --------------  -----  \n",
      " 0   제목      7618 non-null   object \n",
      " 1   URL     7606 non-null   object \n",
      " 2   라벨      7618 non-null   float64\n",
      "dtypes: float64(1), object(2)\n",
      "memory usage: 178.7+ KB\n"
     ]
    }
   ],
   "source": [
    "df.info()"
   ]
  },
  {
   "cell_type": "code",
   "execution_count": 317,
   "id": "6fb5d714",
   "metadata": {
    "scrolled": false
   },
   "outputs": [],
   "source": [
    "merge = pd.merge(df, temp, on='제목', how='left')"
   ]
  },
  {
   "cell_type": "code",
   "execution_count": 318,
   "id": "c548cb6a",
   "metadata": {},
   "outputs": [],
   "source": [
    "merge.to_excel('merge.xlsx')"
   ]
  },
  {
   "cell_type": "code",
   "execution_count": null,
   "id": "6e5b4845",
   "metadata": {},
   "outputs": [],
   "source": [
    "temp['제목'] = temp['제목'].map(clean_str)"
   ]
  }
 ],
 "metadata": {
  "kernelspec": {
   "display_name": "Python 3 (ipykernel)",
   "language": "python",
   "name": "python3"
  },
  "language_info": {
   "codemirror_mode": {
    "name": "ipython",
    "version": 3
   },
   "file_extension": ".py",
   "mimetype": "text/x-python",
   "name": "python",
   "nbconvert_exporter": "python",
   "pygments_lexer": "ipython3",
   "version": "3.10.7"
  }
 },
 "nbformat": 4,
 "nbformat_minor": 5
}
